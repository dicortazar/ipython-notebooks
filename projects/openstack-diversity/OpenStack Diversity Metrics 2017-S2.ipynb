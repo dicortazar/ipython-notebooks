{
 "cells": [
  {
   "cell_type": "code",
   "execution_count": 1,
   "metadata": {},
   "outputs": [
    {
     "data": {
      "text/html": [
       "<script>requirejs.config({paths: { 'plotly': ['https://cdn.plot.ly/plotly-latest.min']},});if(!window.Plotly) {{require(['plotly'],function(plotly) {window.Plotly=plotly;});}}</script>"
      ],
      "text/vnd.plotly.v1+html": [
       "<script>requirejs.config({paths: { 'plotly': ['https://cdn.plot.ly/plotly-latest.min']},});if(!window.Plotly) {{require(['plotly'],function(plotly) {window.Plotly=plotly;});}}</script>"
      ]
     },
     "metadata": {},
     "output_type": "display_data"
    }
   ],
   "source": [
    "import plotly\n",
    "import plotly.plotly as py\n",
    "from plotly.offline import download_plotlyjs, init_notebook_mode, plot, iplot\n",
    "\n",
    "import pandas\n",
    "\n",
    "from util import ESConnection\n",
    "from elasticsearch_dsl import Search, Q\n",
    "\n",
    "es_conn = ESConnection()\n",
    "\n",
    "init_notebook_mode(connected=True)\n",
    "\n",
    "\n",
    "INIT_DATE_4Y = '2013-10-01'\n",
    "INIT_DATE_1Y = '2016-10-01'\n",
    "END_DATE = '2017-10-01'"
   ]
  },
  {
   "cell_type": "markdown",
   "metadata": {},
   "source": [
    "## Basic metrics to be in the report:\n",
    "\n",
    "**Git**\n",
    "* Evolution and trends over time [per quarter] of commits by gender\n",
    "  * Commits by gender (columns: hash, gender)\n",
    "* Evolution and trends [per quarter] of developers over time by gender\n",
    "  * Developers by gender (columns: name, uuid, gender)\n",
    "* Evolution and trends of type of contributions (code or others) by gender over time\n",
    "  * Type of file touched by developers (columns: filetype, gender)\n",
    "\n",
    "**Gerrit**\n",
    "* Evolution of code reviews over time by gender\n",
    "  * Count votes by gender (vote, gender)\n",
    "* Evolution of code reviews developers over time by gender\n",
    "  * Count people voting (name, uuid, vote)\n",
    "* Evolution of core reviews over time by gender\n",
    "  * Votes +2 or -2 (vote +2/-2 and gender)\n",
    "* Evolution of core review developers over time by gender\n",
    "  * People voting +2 or -2 (name, uuid, vote +2/-2, gender)\n",
    "\n",
    "**Others**\n",
    "* Evolution of attracted developers over time by gender\n",
    "  * First commit by gender\n",
    "* Time working in the community by gender\n",
    "  * Time difference between the first and last contribution by all developers (so how long developers remain in OpenStack?)."
   ]
  },
  {
   "cell_type": "markdown",
   "metadata": {},
   "source": [
    "Some Functions\n",
    "========"
   ]
  },
  {
   "cell_type": "code",
   "execution_count": 2,
   "metadata": {
    "collapsed": true
   },
   "outputs": [],
   "source": [
    "def query_metric_over_time(index, metric_name, metric_field, filters = []):\n",
    "    \n",
    "    s = Search(using=es_conn, index=index)  # Index selection\n",
    "    for filtering in filters:\n",
    "        s = s.filter(filtering)\n",
    "    s.aggs.bucket('gender', 'terms', field='gender')\\\n",
    "          .bucket('time', 'date_histogram', field='date', interval='quarter')\\\n",
    "          .metric(metric_name, 'cardinality', field=metric_field, precision_threshold=10000)\n",
    "    result = s.execute()\n",
    "\n",
    "    value = result.to_dict()[\"aggregations\"]['gender']['buckets']\n",
    "    \n",
    "    df = pandas.DataFrame()\n",
    "    for i in value:\n",
    "        df2 = (pandas.DataFrame.from_dict(i[\"time\"][\"buckets\"]))\n",
    "        df2[\"gender\"] = i[\"key\"]\n",
    "        df2[metric_name] = df2[metric_name].apply(lambda row:row[\"value\"])\n",
    "        df = pandas.concat([df, df2])\n",
    "        \n",
    "    return df"
   ]
  },
  {
   "cell_type": "code",
   "execution_count": 3,
   "metadata": {
    "collapsed": true
   },
   "outputs": [],
   "source": [
    "def query_total_piechart(index, metric_name, metric_field, filters = []):\n",
    "    s = Search(using=es_conn, index=index)  # Index selection\n",
    "    for filtering in filters:\n",
    "        s = s.filter(filtering)\n",
    "    #s = s.filter('range', date={'gt': start_date, 'lt':'now/M'}) # filter date\n",
    "    s.aggs.bucket('gender', 'terms', field='gender')\\\n",
    "          .metric(metric_name, 'cardinality', field=metric_field, precision_threshold=1000000)\n",
    "    result = s.execute()\n",
    "    \n",
    "    buckets = result.to_dict()[\"aggregations\"][\"gender\"][\"buckets\"]\n",
    "    pie_chart_labels = []\n",
    "    pie_chart_values = []\n",
    "    pie_chart_count = []\n",
    "    for bucket in buckets:\n",
    "        pie_chart_labels.append(bucket[\"key\"])\n",
    "        pie_chart_values.append(bucket[metric_name][\"value\"])\n",
    "        pie_chart_count.append(bucket[\"doc_count\"])\n",
    "        \n",
    "    return pie_chart_labels, pie_chart_values, pie_chart_count"
   ]
  },
  {
   "cell_type": "code",
   "execution_count": 4,
   "metadata": {
    "collapsed": true
   },
   "outputs": [],
   "source": [
    "def draw_evolutionary_chart(label, values):\n",
    "    female_changesets = plotly.graph_objs.Scatter(\n",
    "    x = df[df[\"gender\"]==\"female\"][label],\n",
    "    y = df[df[\"gender\"]==\"female\"][values],\n",
    "    name = 'female'\n",
    "    )\n",
    "\n",
    "    male_changesets = plotly.graph_objs.Scatter(\n",
    "        x = df[df[\"gender\"]==\"male\"][label],\n",
    "        y = df[df[\"gender\"]==\"male\"][values],\n",
    "        name = 'male'\n",
    "    )\n",
    "\n",
    "    unknown_changesets = plotly.graph_objs.Scatter(\n",
    "        x = df[df[\"gender\"]==\"NotKnown\"][label],\n",
    "        y = df[df[\"gender\"]==\"NotKnown\"][values],\n",
    "        name = 'unknown'\n",
    "    )\n",
    "\n",
    "    iplot([female_changesets, male_changesets, unknown_changesets])\n",
    "    # Using only plot and not iplot creates and HTML page with JS to play with the chart"
   ]
  },
  {
   "cell_type": "code",
   "execution_count": 5,
   "metadata": {
    "collapsed": true
   },
   "outputs": [],
   "source": [
    "def draw_piechart(pie_chart_labels, pie_chart_values, title):\n",
    "            \n",
    "    fig = {\n",
    "    'data': [{'labels': pie_chart_labels,\n",
    "              'values': pie_chart_values,\n",
    "              'type': 'pie'}],\n",
    "    'layout': {'title': title}\n",
    "     }\n",
    "    iplot(fig)"
   ]
  },
  {
   "cell_type": "markdown",
   "metadata": {},
   "source": [
    "Gerrit\n",
    "====="
   ]
  },
  {
   "cell_type": "code",
   "execution_count": 8,
   "metadata": {
    "collapsed": true
   },
   "outputs": [],
   "source": [
    "INDEX = \"gerrit_openstack_gender_uuids\"\n",
    "filter_date_4y = Q('range', date={'gte': INIT_DATE_4Y, 'lt': END_DATE})\n",
    "filter_date_1y = Q('range', date={'gte': INIT_DATE_1Y, 'lt': END_DATE})"
   ]
  },
  {
   "cell_type": "markdown",
   "metadata": {},
   "source": [
    "## Changeset Submissions by Gender\n",
    "\n",
    "### Evolution of submissions sent over time by gender"
   ]
  },
  {
   "cell_type": "code",
   "execution_count": 13,
   "metadata": {
    "collapsed": true
   },
   "outputs": [],
   "source": [
    "METRIC_NAME = \"changesets\"\n",
    "METRIC_FIELD = \"id\"\n",
    "filter_changeset_submission = Q('term', eventtype='CHANGESET_SENT') # filter by event: vote a code review\n",
    "df = query_metric_over_time(INDEX, METRIC_NAME, METRIC_FIELD, [filter_date_4y, filter_changeset_submission])"
   ]
  },
  {
   "cell_type": "code",
   "execution_count": 14,
   "metadata": {},
   "outputs": [
    {
     "data": {
      "application/vnd.plotly.v1+json": {
       "data": [
        {
         "name": "female",
         "type": "scatter",
         "x": [
          "2013-10-01T00:00:00.000Z",
          "2014-01-01T00:00:00.000Z",
          "2014-04-01T00:00:00.000Z",
          "2014-07-01T00:00:00.000Z",
          "2014-10-01T00:00:00.000Z",
          "2015-01-01T00:00:00.000Z",
          "2015-04-01T00:00:00.000Z",
          "2015-07-01T00:00:00.000Z",
          "2015-10-01T00:00:00.000Z",
          "2016-01-01T00:00:00.000Z",
          "2016-04-01T00:00:00.000Z",
          "2016-07-01T00:00:00.000Z",
          "2016-10-01T00:00:00.000Z",
          "2017-01-01T00:00:00.000Z",
          "2017-04-01T00:00:00.000Z",
          "2017-07-01T00:00:00.000Z"
         ],
         "y": [
          1702,
          1943,
          1586,
          1893,
          1603,
          2158,
          2652,
          3172,
          2903,
          3209,
          2998,
          3580,
          2438,
          2936,
          1835,
          1953
         ]
        },
        {
         "name": "male",
         "type": "scatter",
         "x": [
          "2013-10-01T00:00:00.000Z",
          "2014-01-01T00:00:00.000Z",
          "2014-04-01T00:00:00.000Z",
          "2014-07-01T00:00:00.000Z",
          "2014-10-01T00:00:00.000Z",
          "2015-01-01T00:00:00.000Z",
          "2015-04-01T00:00:00.000Z",
          "2015-07-01T00:00:00.000Z",
          "2015-10-01T00:00:00.000Z",
          "2016-01-01T00:00:00.000Z",
          "2016-04-01T00:00:00.000Z",
          "2016-07-01T00:00:00.000Z",
          "2016-10-01T00:00:00.000Z",
          "2017-01-01T00:00:00.000Z",
          "2017-04-01T00:00:00.000Z",
          "2017-07-01T00:00:00.000Z"
         ],
         "y": [
          11646,
          14878,
          15121,
          16318,
          14421,
          18583,
          20718,
          23274,
          23418,
          27096,
          25643,
          31500,
          24127,
          24277,
          18137,
          17777
         ]
        },
        {
         "name": "unknown",
         "type": "scatter",
         "x": [
          "2013-10-01T00:00:00.000Z",
          "2014-01-01T00:00:00.000Z",
          "2014-04-01T00:00:00.000Z",
          "2014-07-01T00:00:00.000Z",
          "2014-10-01T00:00:00.000Z",
          "2015-01-01T00:00:00.000Z",
          "2015-04-01T00:00:00.000Z",
          "2015-07-01T00:00:00.000Z",
          "2015-10-01T00:00:00.000Z",
          "2016-01-01T00:00:00.000Z",
          "2016-04-01T00:00:00.000Z",
          "2016-07-01T00:00:00.000Z",
          "2016-10-01T00:00:00.000Z",
          "2017-01-01T00:00:00.000Z",
          "2017-04-01T00:00:00.000Z",
          "2017-07-01T00:00:00.000Z"
         ],
         "y": [
          2020,
          2650,
          2686,
          3086,
          3252,
          3912,
          4285,
          5661,
          6650,
          6709,
          7071,
          8991,
          8540,
          9050,
          6828,
          8802
         ]
        }
       ],
       "layout": {}
      },
      "text/html": [
       "<div id=\"4e0bd14a-9082-4bc2-88bc-cc3acb022e49\" style=\"height: 525px; width: 100%;\" class=\"plotly-graph-div\"></div><script type=\"text/javascript\">require([\"plotly\"], function(Plotly) { window.PLOTLYENV=window.PLOTLYENV || {};window.PLOTLYENV.BASE_URL=\"https://plot.ly\";Plotly.newPlot(\"4e0bd14a-9082-4bc2-88bc-cc3acb022e49\", [{\"y\": [1702, 1943, 1586, 1893, 1603, 2158, 2652, 3172, 2903, 3209, 2998, 3580, 2438, 2936, 1835, 1953], \"x\": [\"2013-10-01T00:00:00.000Z\", \"2014-01-01T00:00:00.000Z\", \"2014-04-01T00:00:00.000Z\", \"2014-07-01T00:00:00.000Z\", \"2014-10-01T00:00:00.000Z\", \"2015-01-01T00:00:00.000Z\", \"2015-04-01T00:00:00.000Z\", \"2015-07-01T00:00:00.000Z\", \"2015-10-01T00:00:00.000Z\", \"2016-01-01T00:00:00.000Z\", \"2016-04-01T00:00:00.000Z\", \"2016-07-01T00:00:00.000Z\", \"2016-10-01T00:00:00.000Z\", \"2017-01-01T00:00:00.000Z\", \"2017-04-01T00:00:00.000Z\", \"2017-07-01T00:00:00.000Z\"], \"type\": \"scatter\", \"name\": \"female\"}, {\"y\": [11646, 14878, 15121, 16318, 14421, 18583, 20718, 23274, 23418, 27096, 25643, 31500, 24127, 24277, 18137, 17777], \"x\": [\"2013-10-01T00:00:00.000Z\", \"2014-01-01T00:00:00.000Z\", \"2014-04-01T00:00:00.000Z\", \"2014-07-01T00:00:00.000Z\", \"2014-10-01T00:00:00.000Z\", \"2015-01-01T00:00:00.000Z\", \"2015-04-01T00:00:00.000Z\", \"2015-07-01T00:00:00.000Z\", \"2015-10-01T00:00:00.000Z\", \"2016-01-01T00:00:00.000Z\", \"2016-04-01T00:00:00.000Z\", \"2016-07-01T00:00:00.000Z\", \"2016-10-01T00:00:00.000Z\", \"2017-01-01T00:00:00.000Z\", \"2017-04-01T00:00:00.000Z\", \"2017-07-01T00:00:00.000Z\"], \"type\": \"scatter\", \"name\": \"male\"}, {\"y\": [2020, 2650, 2686, 3086, 3252, 3912, 4285, 5661, 6650, 6709, 7071, 8991, 8540, 9050, 6828, 8802], \"x\": [\"2013-10-01T00:00:00.000Z\", \"2014-01-01T00:00:00.000Z\", \"2014-04-01T00:00:00.000Z\", \"2014-07-01T00:00:00.000Z\", \"2014-10-01T00:00:00.000Z\", \"2015-01-01T00:00:00.000Z\", \"2015-04-01T00:00:00.000Z\", \"2015-07-01T00:00:00.000Z\", \"2015-10-01T00:00:00.000Z\", \"2016-01-01T00:00:00.000Z\", \"2016-04-01T00:00:00.000Z\", \"2016-07-01T00:00:00.000Z\", \"2016-10-01T00:00:00.000Z\", \"2017-01-01T00:00:00.000Z\", \"2017-04-01T00:00:00.000Z\", \"2017-07-01T00:00:00.000Z\"], \"type\": \"scatter\", \"name\": \"unknown\"}], {}, {\"showLink\": true, \"linkText\": \"Export to plot.ly\"})});</script>"
      ],
      "text/vnd.plotly.v1+html": [
       "<div id=\"4e0bd14a-9082-4bc2-88bc-cc3acb022e49\" style=\"height: 525px; width: 100%;\" class=\"plotly-graph-div\"></div><script type=\"text/javascript\">require([\"plotly\"], function(Plotly) { window.PLOTLYENV=window.PLOTLYENV || {};window.PLOTLYENV.BASE_URL=\"https://plot.ly\";Plotly.newPlot(\"4e0bd14a-9082-4bc2-88bc-cc3acb022e49\", [{\"y\": [1702, 1943, 1586, 1893, 1603, 2158, 2652, 3172, 2903, 3209, 2998, 3580, 2438, 2936, 1835, 1953], \"x\": [\"2013-10-01T00:00:00.000Z\", \"2014-01-01T00:00:00.000Z\", \"2014-04-01T00:00:00.000Z\", \"2014-07-01T00:00:00.000Z\", \"2014-10-01T00:00:00.000Z\", \"2015-01-01T00:00:00.000Z\", \"2015-04-01T00:00:00.000Z\", \"2015-07-01T00:00:00.000Z\", \"2015-10-01T00:00:00.000Z\", \"2016-01-01T00:00:00.000Z\", \"2016-04-01T00:00:00.000Z\", \"2016-07-01T00:00:00.000Z\", \"2016-10-01T00:00:00.000Z\", \"2017-01-01T00:00:00.000Z\", \"2017-04-01T00:00:00.000Z\", \"2017-07-01T00:00:00.000Z\"], \"type\": \"scatter\", \"name\": \"female\"}, {\"y\": [11646, 14878, 15121, 16318, 14421, 18583, 20718, 23274, 23418, 27096, 25643, 31500, 24127, 24277, 18137, 17777], \"x\": [\"2013-10-01T00:00:00.000Z\", \"2014-01-01T00:00:00.000Z\", \"2014-04-01T00:00:00.000Z\", \"2014-07-01T00:00:00.000Z\", \"2014-10-01T00:00:00.000Z\", \"2015-01-01T00:00:00.000Z\", \"2015-04-01T00:00:00.000Z\", \"2015-07-01T00:00:00.000Z\", \"2015-10-01T00:00:00.000Z\", \"2016-01-01T00:00:00.000Z\", \"2016-04-01T00:00:00.000Z\", \"2016-07-01T00:00:00.000Z\", \"2016-10-01T00:00:00.000Z\", \"2017-01-01T00:00:00.000Z\", \"2017-04-01T00:00:00.000Z\", \"2017-07-01T00:00:00.000Z\"], \"type\": \"scatter\", \"name\": \"male\"}, {\"y\": [2020, 2650, 2686, 3086, 3252, 3912, 4285, 5661, 6650, 6709, 7071, 8991, 8540, 9050, 6828, 8802], \"x\": [\"2013-10-01T00:00:00.000Z\", \"2014-01-01T00:00:00.000Z\", \"2014-04-01T00:00:00.000Z\", \"2014-07-01T00:00:00.000Z\", \"2014-10-01T00:00:00.000Z\", \"2015-01-01T00:00:00.000Z\", \"2015-04-01T00:00:00.000Z\", \"2015-07-01T00:00:00.000Z\", \"2015-10-01T00:00:00.000Z\", \"2016-01-01T00:00:00.000Z\", \"2016-04-01T00:00:00.000Z\", \"2016-07-01T00:00:00.000Z\", \"2016-10-01T00:00:00.000Z\", \"2017-01-01T00:00:00.000Z\", \"2017-04-01T00:00:00.000Z\", \"2017-07-01T00:00:00.000Z\"], \"type\": \"scatter\", \"name\": \"unknown\"}], {}, {\"showLink\": true, \"linkText\": \"Export to plot.ly\"})});</script>"
      ]
     },
     "metadata": {},
     "output_type": "display_data"
    }
   ],
   "source": [
    "draw_evolutionary_chart(\"key_as_string\", METRIC_NAME)"
   ]
  },
  {
   "cell_type": "markdown",
   "metadata": {},
   "source": [
    "### Aggregated changeset submissions by gender"
   ]
  },
  {
   "cell_type": "code",
   "execution_count": 15,
   "metadata": {
    "collapsed": true
   },
   "outputs": [],
   "source": [
    "pie_chart_labels, pie_chart_values, pie_chart_count = query_total_piechart(INDEX, METRIC_NAME, METRIC_FIELD, [filter_date_4y,\n",
    "                                                                                             filter_changeset_submission])"
   ]
  },
  {
   "cell_type": "code",
   "execution_count": 16,
   "metadata": {},
   "outputs": [
    {
     "data": {
      "application/vnd.plotly.v1+json": {
       "data": [
        {
         "labels": [
          "male",
          "NotKnown",
          "female",
          "Unknown"
         ],
         "type": "pie",
         "values": [
          326435,
          90300,
          38565,
          1
         ]
        }
       ],
       "layout": {
        "title": "Changeset Submissions by Gender (last 4 years)"
       }
      },
      "text/html": [
       "<div id=\"882142b6-d7de-44e5-a96d-bd8838b315f8\" style=\"height: 525px; width: 100%;\" class=\"plotly-graph-div\"></div><script type=\"text/javascript\">require([\"plotly\"], function(Plotly) { window.PLOTLYENV=window.PLOTLYENV || {};window.PLOTLYENV.BASE_URL=\"https://plot.ly\";Plotly.newPlot(\"882142b6-d7de-44e5-a96d-bd8838b315f8\", [{\"values\": [326435, 90300, 38565, 1], \"type\": \"pie\", \"labels\": [\"male\", \"NotKnown\", \"female\", \"Unknown\"]}], {\"title\": \"Changeset Submissions by Gender (last 4 years)\"}, {\"showLink\": true, \"linkText\": \"Export to plot.ly\"})});</script>"
      ],
      "text/vnd.plotly.v1+html": [
       "<div id=\"882142b6-d7de-44e5-a96d-bd8838b315f8\" style=\"height: 525px; width: 100%;\" class=\"plotly-graph-div\"></div><script type=\"text/javascript\">require([\"plotly\"], function(Plotly) { window.PLOTLYENV=window.PLOTLYENV || {};window.PLOTLYENV.BASE_URL=\"https://plot.ly\";Plotly.newPlot(\"882142b6-d7de-44e5-a96d-bd8838b315f8\", [{\"values\": [326435, 90300, 38565, 1], \"type\": \"pie\", \"labels\": [\"male\", \"NotKnown\", \"female\", \"Unknown\"]}], {\"title\": \"Changeset Submissions by Gender (last 4 years)\"}, {\"showLink\": true, \"linkText\": \"Export to plot.ly\"})});</script>"
      ]
     },
     "metadata": {},
     "output_type": "display_data"
    }
   ],
   "source": [
    "draw_piechart(pie_chart_labels, pie_chart_values, 'Changeset Submissions by Gender (last 4 years)')"
   ]
  },
  {
   "cell_type": "code",
   "execution_count": 17,
   "metadata": {
    "collapsed": true
   },
   "outputs": [],
   "source": [
    "pie_chart_labels, pie_chart_values, pie_chart_count = query_total_piechart(INDEX, METRIC_NAME, METRIC_FIELD, [filter_date_1y,\n",
    "                                                                                             filter_changeset_submission])\n"
   ]
  },
  {
   "cell_type": "code",
   "execution_count": 18,
   "metadata": {},
   "outputs": [
    {
     "data": {
      "application/vnd.plotly.v1+json": {
       "data": [
        {
         "labels": [
          "male",
          "NotKnown",
          "female"
         ],
         "type": "pie",
         "values": [
          84124,
          33219,
          9162
         ]
        }
       ],
       "layout": {
        "title": "Changeset Submissions by Gender (last year)"
       }
      },
      "text/html": [
       "<div id=\"42849fd8-c220-4358-9185-fa46fe63d232\" style=\"height: 525px; width: 100%;\" class=\"plotly-graph-div\"></div><script type=\"text/javascript\">require([\"plotly\"], function(Plotly) { window.PLOTLYENV=window.PLOTLYENV || {};window.PLOTLYENV.BASE_URL=\"https://plot.ly\";Plotly.newPlot(\"42849fd8-c220-4358-9185-fa46fe63d232\", [{\"values\": [84124, 33219, 9162], \"type\": \"pie\", \"labels\": [\"male\", \"NotKnown\", \"female\"]}], {\"title\": \"Changeset Submissions by Gender (last year)\"}, {\"showLink\": true, \"linkText\": \"Export to plot.ly\"})});</script>"
      ],
      "text/vnd.plotly.v1+html": [
       "<div id=\"42849fd8-c220-4358-9185-fa46fe63d232\" style=\"height: 525px; width: 100%;\" class=\"plotly-graph-div\"></div><script type=\"text/javascript\">require([\"plotly\"], function(Plotly) { window.PLOTLYENV=window.PLOTLYENV || {};window.PLOTLYENV.BASE_URL=\"https://plot.ly\";Plotly.newPlot(\"42849fd8-c220-4358-9185-fa46fe63d232\", [{\"values\": [84124, 33219, 9162], \"type\": \"pie\", \"labels\": [\"male\", \"NotKnown\", \"female\"]}], {\"title\": \"Changeset Submissions by Gender (last year)\"}, {\"showLink\": true, \"linkText\": \"Export to plot.ly\"})});</script>"
      ]
     },
     "metadata": {},
     "output_type": "display_data"
    }
   ],
   "source": [
    "draw_piechart(pie_chart_labels, pie_chart_values, 'Changeset Submissions by Gender (last year)')"
   ]
  },
  {
   "cell_type": "markdown",
   "metadata": {},
   "source": [
    "## Population of people submitting changesets\n",
    "### Evolution of submitters over time by gender\n",
    "  * Count people submitting (id, uuid)"
   ]
  },
  {
   "cell_type": "code",
   "execution_count": 19,
   "metadata": {},
   "outputs": [
    {
     "data": {
      "application/vnd.plotly.v1+json": {
       "data": [
        {
         "name": "female",
         "type": "scatter",
         "x": [
          "2013-10-01T00:00:00.000Z",
          "2014-01-01T00:00:00.000Z",
          "2014-04-01T00:00:00.000Z",
          "2014-07-01T00:00:00.000Z",
          "2014-10-01T00:00:00.000Z",
          "2015-01-01T00:00:00.000Z",
          "2015-04-01T00:00:00.000Z",
          "2015-07-01T00:00:00.000Z",
          "2015-10-01T00:00:00.000Z",
          "2016-01-01T00:00:00.000Z",
          "2016-04-01T00:00:00.000Z",
          "2016-07-01T00:00:00.000Z",
          "2016-10-01T00:00:00.000Z",
          "2017-01-01T00:00:00.000Z",
          "2017-04-01T00:00:00.000Z",
          "2017-07-01T00:00:00.000Z"
         ],
         "y": [
          117,
          155,
          171,
          201,
          175,
          245,
          229,
          285,
          285,
          336,
          307,
          288,
          252,
          237,
          201,
          177
         ]
        },
        {
         "name": "male",
         "type": "scatter",
         "x": [
          "2013-10-01T00:00:00.000Z",
          "2014-01-01T00:00:00.000Z",
          "2014-04-01T00:00:00.000Z",
          "2014-07-01T00:00:00.000Z",
          "2014-10-01T00:00:00.000Z",
          "2015-01-01T00:00:00.000Z",
          "2015-04-01T00:00:00.000Z",
          "2015-07-01T00:00:00.000Z",
          "2015-10-01T00:00:00.000Z",
          "2016-01-01T00:00:00.000Z",
          "2016-04-01T00:00:00.000Z",
          "2016-07-01T00:00:00.000Z",
          "2016-10-01T00:00:00.000Z",
          "2017-01-01T00:00:00.000Z",
          "2017-04-01T00:00:00.000Z",
          "2017-07-01T00:00:00.000Z"
         ],
         "y": [
          809,
          1028,
          1123,
          1254,
          1213,
          1406,
          1481,
          1644,
          1583,
          1746,
          1747,
          1796,
          1513,
          1433,
          1164,
          1013
         ]
        },
        {
         "name": "unknown",
         "type": "scatter",
         "x": [
          "2013-10-01T00:00:00.000Z",
          "2014-01-01T00:00:00.000Z",
          "2014-04-01T00:00:00.000Z",
          "2014-07-01T00:00:00.000Z",
          "2014-10-01T00:00:00.000Z",
          "2015-01-01T00:00:00.000Z",
          "2015-04-01T00:00:00.000Z",
          "2015-07-01T00:00:00.000Z",
          "2015-10-01T00:00:00.000Z",
          "2016-01-01T00:00:00.000Z",
          "2016-04-01T00:00:00.000Z",
          "2016-07-01T00:00:00.000Z",
          "2016-10-01T00:00:00.000Z",
          "2017-01-01T00:00:00.000Z",
          "2017-04-01T00:00:00.000Z",
          "2017-07-01T00:00:00.000Z"
         ],
         "y": [
          162,
          181,
          211,
          215,
          210,
          255,
          259,
          347,
          348,
          427,
          428,
          457,
          447,
          473,
          379,
          355
         ]
        }
       ],
       "layout": {}
      },
      "text/html": [
       "<div id=\"49210f15-65be-4665-815d-5e6e4abce7d5\" style=\"height: 525px; width: 100%;\" class=\"plotly-graph-div\"></div><script type=\"text/javascript\">require([\"plotly\"], function(Plotly) { window.PLOTLYENV=window.PLOTLYENV || {};window.PLOTLYENV.BASE_URL=\"https://plot.ly\";Plotly.newPlot(\"49210f15-65be-4665-815d-5e6e4abce7d5\", [{\"y\": [117, 155, 171, 201, 175, 245, 229, 285, 285, 336, 307, 288, 252, 237, 201, 177], \"x\": [\"2013-10-01T00:00:00.000Z\", \"2014-01-01T00:00:00.000Z\", \"2014-04-01T00:00:00.000Z\", \"2014-07-01T00:00:00.000Z\", \"2014-10-01T00:00:00.000Z\", \"2015-01-01T00:00:00.000Z\", \"2015-04-01T00:00:00.000Z\", \"2015-07-01T00:00:00.000Z\", \"2015-10-01T00:00:00.000Z\", \"2016-01-01T00:00:00.000Z\", \"2016-04-01T00:00:00.000Z\", \"2016-07-01T00:00:00.000Z\", \"2016-10-01T00:00:00.000Z\", \"2017-01-01T00:00:00.000Z\", \"2017-04-01T00:00:00.000Z\", \"2017-07-01T00:00:00.000Z\"], \"type\": \"scatter\", \"name\": \"female\"}, {\"y\": [809, 1028, 1123, 1254, 1213, 1406, 1481, 1644, 1583, 1746, 1747, 1796, 1513, 1433, 1164, 1013], \"x\": [\"2013-10-01T00:00:00.000Z\", \"2014-01-01T00:00:00.000Z\", \"2014-04-01T00:00:00.000Z\", \"2014-07-01T00:00:00.000Z\", \"2014-10-01T00:00:00.000Z\", \"2015-01-01T00:00:00.000Z\", \"2015-04-01T00:00:00.000Z\", \"2015-07-01T00:00:00.000Z\", \"2015-10-01T00:00:00.000Z\", \"2016-01-01T00:00:00.000Z\", \"2016-04-01T00:00:00.000Z\", \"2016-07-01T00:00:00.000Z\", \"2016-10-01T00:00:00.000Z\", \"2017-01-01T00:00:00.000Z\", \"2017-04-01T00:00:00.000Z\", \"2017-07-01T00:00:00.000Z\"], \"type\": \"scatter\", \"name\": \"male\"}, {\"y\": [162, 181, 211, 215, 210, 255, 259, 347, 348, 427, 428, 457, 447, 473, 379, 355], \"x\": [\"2013-10-01T00:00:00.000Z\", \"2014-01-01T00:00:00.000Z\", \"2014-04-01T00:00:00.000Z\", \"2014-07-01T00:00:00.000Z\", \"2014-10-01T00:00:00.000Z\", \"2015-01-01T00:00:00.000Z\", \"2015-04-01T00:00:00.000Z\", \"2015-07-01T00:00:00.000Z\", \"2015-10-01T00:00:00.000Z\", \"2016-01-01T00:00:00.000Z\", \"2016-04-01T00:00:00.000Z\", \"2016-07-01T00:00:00.000Z\", \"2016-10-01T00:00:00.000Z\", \"2017-01-01T00:00:00.000Z\", \"2017-04-01T00:00:00.000Z\", \"2017-07-01T00:00:00.000Z\"], \"type\": \"scatter\", \"name\": \"unknown\"}], {}, {\"showLink\": true, \"linkText\": \"Export to plot.ly\"})});</script>"
      ],
      "text/vnd.plotly.v1+html": [
       "<div id=\"49210f15-65be-4665-815d-5e6e4abce7d5\" style=\"height: 525px; width: 100%;\" class=\"plotly-graph-div\"></div><script type=\"text/javascript\">require([\"plotly\"], function(Plotly) { window.PLOTLYENV=window.PLOTLYENV || {};window.PLOTLYENV.BASE_URL=\"https://plot.ly\";Plotly.newPlot(\"49210f15-65be-4665-815d-5e6e4abce7d5\", [{\"y\": [117, 155, 171, 201, 175, 245, 229, 285, 285, 336, 307, 288, 252, 237, 201, 177], \"x\": [\"2013-10-01T00:00:00.000Z\", \"2014-01-01T00:00:00.000Z\", \"2014-04-01T00:00:00.000Z\", \"2014-07-01T00:00:00.000Z\", \"2014-10-01T00:00:00.000Z\", \"2015-01-01T00:00:00.000Z\", \"2015-04-01T00:00:00.000Z\", \"2015-07-01T00:00:00.000Z\", \"2015-10-01T00:00:00.000Z\", \"2016-01-01T00:00:00.000Z\", \"2016-04-01T00:00:00.000Z\", \"2016-07-01T00:00:00.000Z\", \"2016-10-01T00:00:00.000Z\", \"2017-01-01T00:00:00.000Z\", \"2017-04-01T00:00:00.000Z\", \"2017-07-01T00:00:00.000Z\"], \"type\": \"scatter\", \"name\": \"female\"}, {\"y\": [809, 1028, 1123, 1254, 1213, 1406, 1481, 1644, 1583, 1746, 1747, 1796, 1513, 1433, 1164, 1013], \"x\": [\"2013-10-01T00:00:00.000Z\", \"2014-01-01T00:00:00.000Z\", \"2014-04-01T00:00:00.000Z\", \"2014-07-01T00:00:00.000Z\", \"2014-10-01T00:00:00.000Z\", \"2015-01-01T00:00:00.000Z\", \"2015-04-01T00:00:00.000Z\", \"2015-07-01T00:00:00.000Z\", \"2015-10-01T00:00:00.000Z\", \"2016-01-01T00:00:00.000Z\", \"2016-04-01T00:00:00.000Z\", \"2016-07-01T00:00:00.000Z\", \"2016-10-01T00:00:00.000Z\", \"2017-01-01T00:00:00.000Z\", \"2017-04-01T00:00:00.000Z\", \"2017-07-01T00:00:00.000Z\"], \"type\": \"scatter\", \"name\": \"male\"}, {\"y\": [162, 181, 211, 215, 210, 255, 259, 347, 348, 427, 428, 457, 447, 473, 379, 355], \"x\": [\"2013-10-01T00:00:00.000Z\", \"2014-01-01T00:00:00.000Z\", \"2014-04-01T00:00:00.000Z\", \"2014-07-01T00:00:00.000Z\", \"2014-10-01T00:00:00.000Z\", \"2015-01-01T00:00:00.000Z\", \"2015-04-01T00:00:00.000Z\", \"2015-07-01T00:00:00.000Z\", \"2015-10-01T00:00:00.000Z\", \"2016-01-01T00:00:00.000Z\", \"2016-04-01T00:00:00.000Z\", \"2016-07-01T00:00:00.000Z\", \"2016-10-01T00:00:00.000Z\", \"2017-01-01T00:00:00.000Z\", \"2017-04-01T00:00:00.000Z\", \"2017-07-01T00:00:00.000Z\"], \"type\": \"scatter\", \"name\": \"unknown\"}], {}, {\"showLink\": true, \"linkText\": \"Export to plot.ly\"})});</script>"
      ]
     },
     "metadata": {},
     "output_type": "display_data"
    }
   ],
   "source": [
    "METRIC_NAME = \"submitters\"\n",
    "METRIC_FIELD = \"owner\"\n",
    "df = query_metric_over_time(INDEX, METRIC_NAME, METRIC_FIELD, [filter_date_4y, filter_changeset_submission])\n",
    "draw_evolutionary_chart(\"key_as_string\", METRIC_NAME)"
   ]
  },
  {
   "cell_type": "markdown",
   "metadata": {},
   "source": [
    "### Aggregated number of submitters\n"
   ]
  },
  {
   "cell_type": "code",
   "execution_count": 20,
   "metadata": {},
   "outputs": [
    {
     "data": {
      "application/vnd.plotly.v1+json": {
       "data": [
        {
         "labels": [
          "male",
          "NotKnown",
          "female",
          "Unknown"
         ],
         "type": "pie",
         "values": [
          5816,
          1770,
          1096,
          1
         ]
        }
       ],
       "layout": {
        "title": "Changeset Submitters by Gender (last 4 years)"
       }
      },
      "text/html": [
       "<div id=\"1d5997c8-9dc9-477d-9366-a3ef9bf22bf5\" style=\"height: 525px; width: 100%;\" class=\"plotly-graph-div\"></div><script type=\"text/javascript\">require([\"plotly\"], function(Plotly) { window.PLOTLYENV=window.PLOTLYENV || {};window.PLOTLYENV.BASE_URL=\"https://plot.ly\";Plotly.newPlot(\"1d5997c8-9dc9-477d-9366-a3ef9bf22bf5\", [{\"values\": [5816, 1770, 1096, 1], \"type\": \"pie\", \"labels\": [\"male\", \"NotKnown\", \"female\", \"Unknown\"]}], {\"title\": \"Changeset Submitters by Gender (last 4 years)\"}, {\"showLink\": true, \"linkText\": \"Export to plot.ly\"})});</script>"
      ],
      "text/vnd.plotly.v1+html": [
       "<div id=\"1d5997c8-9dc9-477d-9366-a3ef9bf22bf5\" style=\"height: 525px; width: 100%;\" class=\"plotly-graph-div\"></div><script type=\"text/javascript\">require([\"plotly\"], function(Plotly) { window.PLOTLYENV=window.PLOTLYENV || {};window.PLOTLYENV.BASE_URL=\"https://plot.ly\";Plotly.newPlot(\"1d5997c8-9dc9-477d-9366-a3ef9bf22bf5\", [{\"values\": [5816, 1770, 1096, 1], \"type\": \"pie\", \"labels\": [\"male\", \"NotKnown\", \"female\", \"Unknown\"]}], {\"title\": \"Changeset Submitters by Gender (last 4 years)\"}, {\"showLink\": true, \"linkText\": \"Export to plot.ly\"})});</script>"
      ]
     },
     "metadata": {},
     "output_type": "display_data"
    }
   ],
   "source": [
    "pie_chart_labels, pie_chart_values, pie_chart_count = query_total_piechart(INDEX, METRIC_NAME, METRIC_FIELD, [filter_date_4y,\n",
    "                                                                                             filter_changeset_submission])\n",
    "draw_piechart(pie_chart_labels, pie_chart_values, 'Changeset Submitters by Gender (last 4 years)')"
   ]
  },
  {
   "cell_type": "code",
   "execution_count": 21,
   "metadata": {},
   "outputs": [
    {
     "data": {
      "application/vnd.plotly.v1+json": {
       "data": [
        {
         "labels": [
          "male",
          "NotKnown",
          "female"
         ],
         "type": "pie",
         "values": [
          2439,
          874,
          439
         ]
        }
       ],
       "layout": {
        "title": "Changeset Submitters by Gender (last year)"
       }
      },
      "text/html": [
       "<div id=\"58c06e38-b588-4de5-bbd8-2c9a907a958e\" style=\"height: 525px; width: 100%;\" class=\"plotly-graph-div\"></div><script type=\"text/javascript\">require([\"plotly\"], function(Plotly) { window.PLOTLYENV=window.PLOTLYENV || {};window.PLOTLYENV.BASE_URL=\"https://plot.ly\";Plotly.newPlot(\"58c06e38-b588-4de5-bbd8-2c9a907a958e\", [{\"values\": [2439, 874, 439], \"type\": \"pie\", \"labels\": [\"male\", \"NotKnown\", \"female\"]}], {\"title\": \"Changeset Submitters by Gender (last year)\"}, {\"showLink\": true, \"linkText\": \"Export to plot.ly\"})});</script>"
      ],
      "text/vnd.plotly.v1+html": [
       "<div id=\"58c06e38-b588-4de5-bbd8-2c9a907a958e\" style=\"height: 525px; width: 100%;\" class=\"plotly-graph-div\"></div><script type=\"text/javascript\">require([\"plotly\"], function(Plotly) { window.PLOTLYENV=window.PLOTLYENV || {};window.PLOTLYENV.BASE_URL=\"https://plot.ly\";Plotly.newPlot(\"58c06e38-b588-4de5-bbd8-2c9a907a958e\", [{\"values\": [2439, 874, 439], \"type\": \"pie\", \"labels\": [\"male\", \"NotKnown\", \"female\"]}], {\"title\": \"Changeset Submitters by Gender (last year)\"}, {\"showLink\": true, \"linkText\": \"Export to plot.ly\"})});</script>"
      ]
     },
     "metadata": {},
     "output_type": "display_data"
    }
   ],
   "source": [
    "pie_chart_labels, pie_chart_values, pie_chart_count = query_total_piechart(INDEX, METRIC_NAME, METRIC_FIELD,  [filter_date_1y,\n",
    "                                                                                              filter_changeset_submission])\n",
    "draw_piechart(pie_chart_labels, pie_chart_values, 'Changeset Submitters by Gender (last year)')"
   ]
  },
  {
   "cell_type": "markdown",
   "metadata": {},
   "source": [
    "* Evolution of code reviews developers over time by gender\n",
    "  * Count people voting (name, uuid, vote)\n"
   ]
  },
  {
   "cell_type": "markdown",
   "metadata": {},
   "source": [
    "## Number of votes by gender"
   ]
  },
  {
   "cell_type": "code",
   "execution_count": 22,
   "metadata": {},
   "outputs": [
    {
     "data": {
      "application/vnd.plotly.v1+json": {
       "data": [
        {
         "name": "female",
         "type": "scatter",
         "x": [
          "2013-10-01T00:00:00.000Z",
          "2014-01-01T00:00:00.000Z",
          "2014-04-01T00:00:00.000Z",
          "2014-07-01T00:00:00.000Z",
          "2014-10-01T00:00:00.000Z",
          "2015-01-01T00:00:00.000Z",
          "2015-04-01T00:00:00.000Z",
          "2015-07-01T00:00:00.000Z",
          "2015-10-01T00:00:00.000Z",
          "2016-01-01T00:00:00.000Z",
          "2016-04-01T00:00:00.000Z",
          "2016-07-01T00:00:00.000Z",
          "2016-10-01T00:00:00.000Z",
          "2017-01-01T00:00:00.000Z",
          "2017-04-01T00:00:00.000Z",
          "2017-07-01T00:00:00.000Z"
         ],
         "y": [
          3993,
          6029,
          6798,
          9837,
          8810,
          11292,
          10821,
          14484,
          13695,
          13220,
          11245,
          12806,
          9484,
          10173,
          6663,
          8164
         ]
        },
        {
         "name": "male",
         "type": "scatter",
         "x": [
          "2013-10-01T00:00:00.000Z",
          "2014-01-01T00:00:00.000Z",
          "2014-04-01T00:00:00.000Z",
          "2014-07-01T00:00:00.000Z",
          "2014-10-01T00:00:00.000Z",
          "2015-01-01T00:00:00.000Z",
          "2015-04-01T00:00:00.000Z",
          "2015-07-01T00:00:00.000Z",
          "2015-10-01T00:00:00.000Z",
          "2016-01-01T00:00:00.000Z",
          "2016-04-01T00:00:00.000Z",
          "2016-07-01T00:00:00.000Z",
          "2016-10-01T00:00:00.000Z",
          "2017-01-01T00:00:00.000Z",
          "2017-04-01T00:00:00.000Z",
          "2017-07-01T00:00:00.000Z"
         ],
         "y": [
          45817,
          69696,
          72277,
          83858,
          71491,
          96130,
          92454,
          114682,
          109055,
          123967,
          106577,
          117384,
          84418,
          85835,
          66150,
          70959
         ]
        },
        {
         "name": "unknown",
         "type": "scatter",
         "x": [
          "2013-10-01T00:00:00.000Z",
          "2014-01-01T00:00:00.000Z",
          "2014-04-01T00:00:00.000Z",
          "2014-07-01T00:00:00.000Z",
          "2014-10-01T00:00:00.000Z",
          "2015-01-01T00:00:00.000Z",
          "2015-04-01T00:00:00.000Z",
          "2015-07-01T00:00:00.000Z",
          "2015-10-01T00:00:00.000Z",
          "2016-01-01T00:00:00.000Z",
          "2016-04-01T00:00:00.000Z",
          "2016-07-01T00:00:00.000Z",
          "2016-10-01T00:00:00.000Z",
          "2017-01-01T00:00:00.000Z",
          "2017-04-01T00:00:00.000Z",
          "2017-07-01T00:00:00.000Z"
         ],
         "y": [
          9184,
          11650,
          10536,
          12139,
          9933,
          14620,
          15372,
          22062,
          23965,
          21420,
          18726,
          20870,
          17673,
          17993,
          12932,
          15915
         ]
        }
       ],
       "layout": {}
      },
      "text/html": [
       "<div id=\"bbd10abd-5840-4947-b780-efb752c3cc30\" style=\"height: 525px; width: 100%;\" class=\"plotly-graph-div\"></div><script type=\"text/javascript\">require([\"plotly\"], function(Plotly) { window.PLOTLYENV=window.PLOTLYENV || {};window.PLOTLYENV.BASE_URL=\"https://plot.ly\";Plotly.newPlot(\"bbd10abd-5840-4947-b780-efb752c3cc30\", [{\"y\": [3993, 6029, 6798, 9837, 8810, 11292, 10821, 14484, 13695, 13220, 11245, 12806, 9484, 10173, 6663, 8164], \"x\": [\"2013-10-01T00:00:00.000Z\", \"2014-01-01T00:00:00.000Z\", \"2014-04-01T00:00:00.000Z\", \"2014-07-01T00:00:00.000Z\", \"2014-10-01T00:00:00.000Z\", \"2015-01-01T00:00:00.000Z\", \"2015-04-01T00:00:00.000Z\", \"2015-07-01T00:00:00.000Z\", \"2015-10-01T00:00:00.000Z\", \"2016-01-01T00:00:00.000Z\", \"2016-04-01T00:00:00.000Z\", \"2016-07-01T00:00:00.000Z\", \"2016-10-01T00:00:00.000Z\", \"2017-01-01T00:00:00.000Z\", \"2017-04-01T00:00:00.000Z\", \"2017-07-01T00:00:00.000Z\"], \"type\": \"scatter\", \"name\": \"female\"}, {\"y\": [45817, 69696, 72277, 83858, 71491, 96130, 92454, 114682, 109055, 123967, 106577, 117384, 84418, 85835, 66150, 70959], \"x\": [\"2013-10-01T00:00:00.000Z\", \"2014-01-01T00:00:00.000Z\", \"2014-04-01T00:00:00.000Z\", \"2014-07-01T00:00:00.000Z\", \"2014-10-01T00:00:00.000Z\", \"2015-01-01T00:00:00.000Z\", \"2015-04-01T00:00:00.000Z\", \"2015-07-01T00:00:00.000Z\", \"2015-10-01T00:00:00.000Z\", \"2016-01-01T00:00:00.000Z\", \"2016-04-01T00:00:00.000Z\", \"2016-07-01T00:00:00.000Z\", \"2016-10-01T00:00:00.000Z\", \"2017-01-01T00:00:00.000Z\", \"2017-04-01T00:00:00.000Z\", \"2017-07-01T00:00:00.000Z\"], \"type\": \"scatter\", \"name\": \"male\"}, {\"y\": [9184, 11650, 10536, 12139, 9933, 14620, 15372, 22062, 23965, 21420, 18726, 20870, 17673, 17993, 12932, 15915], \"x\": [\"2013-10-01T00:00:00.000Z\", \"2014-01-01T00:00:00.000Z\", \"2014-04-01T00:00:00.000Z\", \"2014-07-01T00:00:00.000Z\", \"2014-10-01T00:00:00.000Z\", \"2015-01-01T00:00:00.000Z\", \"2015-04-01T00:00:00.000Z\", \"2015-07-01T00:00:00.000Z\", \"2015-10-01T00:00:00.000Z\", \"2016-01-01T00:00:00.000Z\", \"2016-04-01T00:00:00.000Z\", \"2016-07-01T00:00:00.000Z\", \"2016-10-01T00:00:00.000Z\", \"2017-01-01T00:00:00.000Z\", \"2017-04-01T00:00:00.000Z\", \"2017-07-01T00:00:00.000Z\"], \"type\": \"scatter\", \"name\": \"unknown\"}], {}, {\"showLink\": true, \"linkText\": \"Export to plot.ly\"})});</script>"
      ],
      "text/vnd.plotly.v1+html": [
       "<div id=\"bbd10abd-5840-4947-b780-efb752c3cc30\" style=\"height: 525px; width: 100%;\" class=\"plotly-graph-div\"></div><script type=\"text/javascript\">require([\"plotly\"], function(Plotly) { window.PLOTLYENV=window.PLOTLYENV || {};window.PLOTLYENV.BASE_URL=\"https://plot.ly\";Plotly.newPlot(\"bbd10abd-5840-4947-b780-efb752c3cc30\", [{\"y\": [3993, 6029, 6798, 9837, 8810, 11292, 10821, 14484, 13695, 13220, 11245, 12806, 9484, 10173, 6663, 8164], \"x\": [\"2013-10-01T00:00:00.000Z\", \"2014-01-01T00:00:00.000Z\", \"2014-04-01T00:00:00.000Z\", \"2014-07-01T00:00:00.000Z\", \"2014-10-01T00:00:00.000Z\", \"2015-01-01T00:00:00.000Z\", \"2015-04-01T00:00:00.000Z\", \"2015-07-01T00:00:00.000Z\", \"2015-10-01T00:00:00.000Z\", \"2016-01-01T00:00:00.000Z\", \"2016-04-01T00:00:00.000Z\", \"2016-07-01T00:00:00.000Z\", \"2016-10-01T00:00:00.000Z\", \"2017-01-01T00:00:00.000Z\", \"2017-04-01T00:00:00.000Z\", \"2017-07-01T00:00:00.000Z\"], \"type\": \"scatter\", \"name\": \"female\"}, {\"y\": [45817, 69696, 72277, 83858, 71491, 96130, 92454, 114682, 109055, 123967, 106577, 117384, 84418, 85835, 66150, 70959], \"x\": [\"2013-10-01T00:00:00.000Z\", \"2014-01-01T00:00:00.000Z\", \"2014-04-01T00:00:00.000Z\", \"2014-07-01T00:00:00.000Z\", \"2014-10-01T00:00:00.000Z\", \"2015-01-01T00:00:00.000Z\", \"2015-04-01T00:00:00.000Z\", \"2015-07-01T00:00:00.000Z\", \"2015-10-01T00:00:00.000Z\", \"2016-01-01T00:00:00.000Z\", \"2016-04-01T00:00:00.000Z\", \"2016-07-01T00:00:00.000Z\", \"2016-10-01T00:00:00.000Z\", \"2017-01-01T00:00:00.000Z\", \"2017-04-01T00:00:00.000Z\", \"2017-07-01T00:00:00.000Z\"], \"type\": \"scatter\", \"name\": \"male\"}, {\"y\": [9184, 11650, 10536, 12139, 9933, 14620, 15372, 22062, 23965, 21420, 18726, 20870, 17673, 17993, 12932, 15915], \"x\": [\"2013-10-01T00:00:00.000Z\", \"2014-01-01T00:00:00.000Z\", \"2014-04-01T00:00:00.000Z\", \"2014-07-01T00:00:00.000Z\", \"2014-10-01T00:00:00.000Z\", \"2015-01-01T00:00:00.000Z\", \"2015-04-01T00:00:00.000Z\", \"2015-07-01T00:00:00.000Z\", \"2015-10-01T00:00:00.000Z\", \"2016-01-01T00:00:00.000Z\", \"2016-04-01T00:00:00.000Z\", \"2016-07-01T00:00:00.000Z\", \"2016-10-01T00:00:00.000Z\", \"2017-01-01T00:00:00.000Z\", \"2017-04-01T00:00:00.000Z\", \"2017-07-01T00:00:00.000Z\"], \"type\": \"scatter\", \"name\": \"unknown\"}], {}, {\"showLink\": true, \"linkText\": \"Export to plot.ly\"})});</script>"
      ]
     },
     "metadata": {},
     "output_type": "display_data"
    }
   ],
   "source": [
    "METRIC_NAME = \"reviewer\"\n",
    "METRIC_FIELD = \"owner\"\n",
    "filter_vote = Q('term', eventtype='CHANGESET_PATCHSET_APPROVAL_Code-Review') # filter by event: vote a code review\n",
    "\n",
    "df = query_metric_over_time(INDEX, METRIC_NAME, METRIC_FIELD, [filter_date_4y, filter_vote])\n",
    "draw_evolutionary_chart(\"key_as_string\", \"doc_count\")"
   ]
  },
  {
   "cell_type": "code",
   "execution_count": 23,
   "metadata": {},
   "outputs": [
    {
     "data": {
      "application/vnd.plotly.v1+json": {
       "data": [
        {
         "labels": [
          "male",
          "NotKnown",
          "female"
         ],
         "type": "pie",
         "values": [
          1410750,
          254990,
          157514
         ]
        }
       ],
       "layout": {
        "title": "Changeset votes by Gender (last 4 years)"
       }
      },
      "text/html": [
       "<div id=\"1bc485ae-36a8-4374-bc43-002f290041bd\" style=\"height: 525px; width: 100%;\" class=\"plotly-graph-div\"></div><script type=\"text/javascript\">require([\"plotly\"], function(Plotly) { window.PLOTLYENV=window.PLOTLYENV || {};window.PLOTLYENV.BASE_URL=\"https://plot.ly\";Plotly.newPlot(\"1bc485ae-36a8-4374-bc43-002f290041bd\", [{\"values\": [1410750, 254990, 157514], \"type\": \"pie\", \"labels\": [\"male\", \"NotKnown\", \"female\"]}], {\"title\": \"Changeset votes by Gender (last 4 years)\"}, {\"showLink\": true, \"linkText\": \"Export to plot.ly\"})});</script>"
      ],
      "text/vnd.plotly.v1+html": [
       "<div id=\"1bc485ae-36a8-4374-bc43-002f290041bd\" style=\"height: 525px; width: 100%;\" class=\"plotly-graph-div\"></div><script type=\"text/javascript\">require([\"plotly\"], function(Plotly) { window.PLOTLYENV=window.PLOTLYENV || {};window.PLOTLYENV.BASE_URL=\"https://plot.ly\";Plotly.newPlot(\"1bc485ae-36a8-4374-bc43-002f290041bd\", [{\"values\": [1410750, 254990, 157514], \"type\": \"pie\", \"labels\": [\"male\", \"NotKnown\", \"female\"]}], {\"title\": \"Changeset votes by Gender (last 4 years)\"}, {\"showLink\": true, \"linkText\": \"Export to plot.ly\"})});</script>"
      ]
     },
     "metadata": {},
     "output_type": "display_data"
    }
   ],
   "source": [
    "pie_chart_labels, pie_chart_values, pie_chart_count = query_total_piechart(INDEX, METRIC_NAME, METRIC_FIELD,  [filter_date_4y,\n",
    "                                                                                              filter_vote])\n",
    "draw_piechart(pie_chart_labels, pie_chart_count, 'Changeset votes by Gender (last 4 years)')"
   ]
  },
  {
   "cell_type": "code",
   "execution_count": 24,
   "metadata": {},
   "outputs": [
    {
     "data": {
      "application/vnd.plotly.v1+json": {
       "data": [
        {
         "labels": [
          "male",
          "NotKnown",
          "female"
         ],
         "type": "pie",
         "values": [
          307362,
          64513,
          34484
         ]
        }
       ],
       "layout": {
        "title": "Changeset votes by Gender (last year)"
       }
      },
      "text/html": [
       "<div id=\"8511357b-945e-4703-8b24-c53fc8a0331e\" style=\"height: 525px; width: 100%;\" class=\"plotly-graph-div\"></div><script type=\"text/javascript\">require([\"plotly\"], function(Plotly) { window.PLOTLYENV=window.PLOTLYENV || {};window.PLOTLYENV.BASE_URL=\"https://plot.ly\";Plotly.newPlot(\"8511357b-945e-4703-8b24-c53fc8a0331e\", [{\"values\": [307362, 64513, 34484], \"type\": \"pie\", \"labels\": [\"male\", \"NotKnown\", \"female\"]}], {\"title\": \"Changeset votes by Gender (last year)\"}, {\"showLink\": true, \"linkText\": \"Export to plot.ly\"})});</script>"
      ],
      "text/vnd.plotly.v1+html": [
       "<div id=\"8511357b-945e-4703-8b24-c53fc8a0331e\" style=\"height: 525px; width: 100%;\" class=\"plotly-graph-div\"></div><script type=\"text/javascript\">require([\"plotly\"], function(Plotly) { window.PLOTLYENV=window.PLOTLYENV || {};window.PLOTLYENV.BASE_URL=\"https://plot.ly\";Plotly.newPlot(\"8511357b-945e-4703-8b24-c53fc8a0331e\", [{\"values\": [307362, 64513, 34484], \"type\": \"pie\", \"labels\": [\"male\", \"NotKnown\", \"female\"]}], {\"title\": \"Changeset votes by Gender (last year)\"}, {\"showLink\": true, \"linkText\": \"Export to plot.ly\"})});</script>"
      ]
     },
     "metadata": {},
     "output_type": "display_data"
    }
   ],
   "source": [
    "pie_chart_labels, pie_chart_values, pie_chart_count = query_total_piechart(INDEX, METRIC_NAME, METRIC_FIELD,  [filter_date_1y,\n",
    "                                                                                              filter_vote])\n",
    "draw_piechart(pie_chart_labels, pie_chart_count, 'Changeset votes by Gender (last year)')"
   ]
  },
  {
   "cell_type": "markdown",
   "metadata": {},
   "source": [
    "## Number of people voting"
   ]
  },
  {
   "cell_type": "code",
   "execution_count": 25,
   "metadata": {},
   "outputs": [
    {
     "data": {
      "application/vnd.plotly.v1+json": {
       "data": [
        {
         "name": "female",
         "type": "scatter",
         "x": [
          "2013-10-01T00:00:00.000Z",
          "2014-01-01T00:00:00.000Z",
          "2014-04-01T00:00:00.000Z",
          "2014-07-01T00:00:00.000Z",
          "2014-10-01T00:00:00.000Z",
          "2015-01-01T00:00:00.000Z",
          "2015-04-01T00:00:00.000Z",
          "2015-07-01T00:00:00.000Z",
          "2015-10-01T00:00:00.000Z",
          "2016-01-01T00:00:00.000Z",
          "2016-04-01T00:00:00.000Z",
          "2016-07-01T00:00:00.000Z",
          "2016-10-01T00:00:00.000Z",
          "2017-01-01T00:00:00.000Z",
          "2017-04-01T00:00:00.000Z",
          "2017-07-01T00:00:00.000Z"
         ],
         "y": [
          94,
          118,
          139,
          160,
          158,
          198,
          223,
          247,
          252,
          278,
          263,
          286,
          230,
          224,
          189,
          152
         ]
        },
        {
         "name": "male",
         "type": "scatter",
         "x": [
          "2013-10-01T00:00:00.000Z",
          "2014-01-01T00:00:00.000Z",
          "2014-04-01T00:00:00.000Z",
          "2014-07-01T00:00:00.000Z",
          "2014-10-01T00:00:00.000Z",
          "2015-01-01T00:00:00.000Z",
          "2015-04-01T00:00:00.000Z",
          "2015-07-01T00:00:00.000Z",
          "2015-10-01T00:00:00.000Z",
          "2016-01-01T00:00:00.000Z",
          "2016-04-01T00:00:00.000Z",
          "2016-07-01T00:00:00.000Z",
          "2016-10-01T00:00:00.000Z",
          "2017-01-01T00:00:00.000Z",
          "2017-04-01T00:00:00.000Z",
          "2017-07-01T00:00:00.000Z"
         ],
         "y": [
          737,
          946,
          1041,
          1189,
          1217,
          1354,
          1405,
          1533,
          1572,
          1668,
          1631,
          1649,
          1518,
          1383,
          1177,
          1001
         ]
        },
        {
         "name": "unknown",
         "type": "scatter",
         "x": [
          "2013-10-01T00:00:00.000Z",
          "2014-01-01T00:00:00.000Z",
          "2014-04-01T00:00:00.000Z",
          "2014-07-01T00:00:00.000Z",
          "2014-10-01T00:00:00.000Z",
          "2015-01-01T00:00:00.000Z",
          "2015-04-01T00:00:00.000Z",
          "2015-07-01T00:00:00.000Z",
          "2015-10-01T00:00:00.000Z",
          "2016-01-01T00:00:00.000Z",
          "2016-04-01T00:00:00.000Z",
          "2016-07-01T00:00:00.000Z",
          "2016-10-01T00:00:00.000Z",
          "2017-01-01T00:00:00.000Z",
          "2017-04-01T00:00:00.000Z",
          "2017-07-01T00:00:00.000Z"
         ],
         "y": [
          132,
          173,
          177,
          173,
          198,
          222,
          242,
          327,
          315,
          358,
          391,
          420,
          427,
          399,
          341,
          301
         ]
        }
       ],
       "layout": {}
      },
      "text/html": [
       "<div id=\"045ee22e-5b20-4854-b58d-e7e956cd7e66\" style=\"height: 525px; width: 100%;\" class=\"plotly-graph-div\"></div><script type=\"text/javascript\">require([\"plotly\"], function(Plotly) { window.PLOTLYENV=window.PLOTLYENV || {};window.PLOTLYENV.BASE_URL=\"https://plot.ly\";Plotly.newPlot(\"045ee22e-5b20-4854-b58d-e7e956cd7e66\", [{\"y\": [94, 118, 139, 160, 158, 198, 223, 247, 252, 278, 263, 286, 230, 224, 189, 152], \"x\": [\"2013-10-01T00:00:00.000Z\", \"2014-01-01T00:00:00.000Z\", \"2014-04-01T00:00:00.000Z\", \"2014-07-01T00:00:00.000Z\", \"2014-10-01T00:00:00.000Z\", \"2015-01-01T00:00:00.000Z\", \"2015-04-01T00:00:00.000Z\", \"2015-07-01T00:00:00.000Z\", \"2015-10-01T00:00:00.000Z\", \"2016-01-01T00:00:00.000Z\", \"2016-04-01T00:00:00.000Z\", \"2016-07-01T00:00:00.000Z\", \"2016-10-01T00:00:00.000Z\", \"2017-01-01T00:00:00.000Z\", \"2017-04-01T00:00:00.000Z\", \"2017-07-01T00:00:00.000Z\"], \"type\": \"scatter\", \"name\": \"female\"}, {\"y\": [737, 946, 1041, 1189, 1217, 1354, 1405, 1533, 1572, 1668, 1631, 1649, 1518, 1383, 1177, 1001], \"x\": [\"2013-10-01T00:00:00.000Z\", \"2014-01-01T00:00:00.000Z\", \"2014-04-01T00:00:00.000Z\", \"2014-07-01T00:00:00.000Z\", \"2014-10-01T00:00:00.000Z\", \"2015-01-01T00:00:00.000Z\", \"2015-04-01T00:00:00.000Z\", \"2015-07-01T00:00:00.000Z\", \"2015-10-01T00:00:00.000Z\", \"2016-01-01T00:00:00.000Z\", \"2016-04-01T00:00:00.000Z\", \"2016-07-01T00:00:00.000Z\", \"2016-10-01T00:00:00.000Z\", \"2017-01-01T00:00:00.000Z\", \"2017-04-01T00:00:00.000Z\", \"2017-07-01T00:00:00.000Z\"], \"type\": \"scatter\", \"name\": \"male\"}, {\"y\": [132, 173, 177, 173, 198, 222, 242, 327, 315, 358, 391, 420, 427, 399, 341, 301], \"x\": [\"2013-10-01T00:00:00.000Z\", \"2014-01-01T00:00:00.000Z\", \"2014-04-01T00:00:00.000Z\", \"2014-07-01T00:00:00.000Z\", \"2014-10-01T00:00:00.000Z\", \"2015-01-01T00:00:00.000Z\", \"2015-04-01T00:00:00.000Z\", \"2015-07-01T00:00:00.000Z\", \"2015-10-01T00:00:00.000Z\", \"2016-01-01T00:00:00.000Z\", \"2016-04-01T00:00:00.000Z\", \"2016-07-01T00:00:00.000Z\", \"2016-10-01T00:00:00.000Z\", \"2017-01-01T00:00:00.000Z\", \"2017-04-01T00:00:00.000Z\", \"2017-07-01T00:00:00.000Z\"], \"type\": \"scatter\", \"name\": \"unknown\"}], {}, {\"showLink\": true, \"linkText\": \"Export to plot.ly\"})});</script>"
      ],
      "text/vnd.plotly.v1+html": [
       "<div id=\"045ee22e-5b20-4854-b58d-e7e956cd7e66\" style=\"height: 525px; width: 100%;\" class=\"plotly-graph-div\"></div><script type=\"text/javascript\">require([\"plotly\"], function(Plotly) { window.PLOTLYENV=window.PLOTLYENV || {};window.PLOTLYENV.BASE_URL=\"https://plot.ly\";Plotly.newPlot(\"045ee22e-5b20-4854-b58d-e7e956cd7e66\", [{\"y\": [94, 118, 139, 160, 158, 198, 223, 247, 252, 278, 263, 286, 230, 224, 189, 152], \"x\": [\"2013-10-01T00:00:00.000Z\", \"2014-01-01T00:00:00.000Z\", \"2014-04-01T00:00:00.000Z\", \"2014-07-01T00:00:00.000Z\", \"2014-10-01T00:00:00.000Z\", \"2015-01-01T00:00:00.000Z\", \"2015-04-01T00:00:00.000Z\", \"2015-07-01T00:00:00.000Z\", \"2015-10-01T00:00:00.000Z\", \"2016-01-01T00:00:00.000Z\", \"2016-04-01T00:00:00.000Z\", \"2016-07-01T00:00:00.000Z\", \"2016-10-01T00:00:00.000Z\", \"2017-01-01T00:00:00.000Z\", \"2017-04-01T00:00:00.000Z\", \"2017-07-01T00:00:00.000Z\"], \"type\": \"scatter\", \"name\": \"female\"}, {\"y\": [737, 946, 1041, 1189, 1217, 1354, 1405, 1533, 1572, 1668, 1631, 1649, 1518, 1383, 1177, 1001], \"x\": [\"2013-10-01T00:00:00.000Z\", \"2014-01-01T00:00:00.000Z\", \"2014-04-01T00:00:00.000Z\", \"2014-07-01T00:00:00.000Z\", \"2014-10-01T00:00:00.000Z\", \"2015-01-01T00:00:00.000Z\", \"2015-04-01T00:00:00.000Z\", \"2015-07-01T00:00:00.000Z\", \"2015-10-01T00:00:00.000Z\", \"2016-01-01T00:00:00.000Z\", \"2016-04-01T00:00:00.000Z\", \"2016-07-01T00:00:00.000Z\", \"2016-10-01T00:00:00.000Z\", \"2017-01-01T00:00:00.000Z\", \"2017-04-01T00:00:00.000Z\", \"2017-07-01T00:00:00.000Z\"], \"type\": \"scatter\", \"name\": \"male\"}, {\"y\": [132, 173, 177, 173, 198, 222, 242, 327, 315, 358, 391, 420, 427, 399, 341, 301], \"x\": [\"2013-10-01T00:00:00.000Z\", \"2014-01-01T00:00:00.000Z\", \"2014-04-01T00:00:00.000Z\", \"2014-07-01T00:00:00.000Z\", \"2014-10-01T00:00:00.000Z\", \"2015-01-01T00:00:00.000Z\", \"2015-04-01T00:00:00.000Z\", \"2015-07-01T00:00:00.000Z\", \"2015-10-01T00:00:00.000Z\", \"2016-01-01T00:00:00.000Z\", \"2016-04-01T00:00:00.000Z\", \"2016-07-01T00:00:00.000Z\", \"2016-10-01T00:00:00.000Z\", \"2017-01-01T00:00:00.000Z\", \"2017-04-01T00:00:00.000Z\", \"2017-07-01T00:00:00.000Z\"], \"type\": \"scatter\", \"name\": \"unknown\"}], {}, {\"showLink\": true, \"linkText\": \"Export to plot.ly\"})});</script>"
      ]
     },
     "metadata": {},
     "output_type": "display_data"
    }
   ],
   "source": [
    "draw_evolutionary_chart(\"key_as_string\", METRIC_NAME)"
   ]
  },
  {
   "cell_type": "code",
   "execution_count": 26,
   "metadata": {},
   "outputs": [
    {
     "data": {
      "application/vnd.plotly.v1+json": {
       "data": [
        {
         "labels": [
          "male",
          "NotKnown",
          "female"
         ],
         "type": "pie",
         "values": [
          4564,
          1388,
          780
         ]
        }
       ],
       "layout": {
        "title": "People voting by Gender (last 4 years)"
       }
      },
      "text/html": [
       "<div id=\"c81d1bf6-cb3b-4c90-b094-cc71c2e0ec04\" style=\"height: 525px; width: 100%;\" class=\"plotly-graph-div\"></div><script type=\"text/javascript\">require([\"plotly\"], function(Plotly) { window.PLOTLYENV=window.PLOTLYENV || {};window.PLOTLYENV.BASE_URL=\"https://plot.ly\";Plotly.newPlot(\"c81d1bf6-cb3b-4c90-b094-cc71c2e0ec04\", [{\"values\": [4564, 1388, 780], \"type\": \"pie\", \"labels\": [\"male\", \"NotKnown\", \"female\"]}], {\"title\": \"People voting by Gender (last 4 years)\"}, {\"showLink\": true, \"linkText\": \"Export to plot.ly\"})});</script>"
      ],
      "text/vnd.plotly.v1+html": [
       "<div id=\"c81d1bf6-cb3b-4c90-b094-cc71c2e0ec04\" style=\"height: 525px; width: 100%;\" class=\"plotly-graph-div\"></div><script type=\"text/javascript\">require([\"plotly\"], function(Plotly) { window.PLOTLYENV=window.PLOTLYENV || {};window.PLOTLYENV.BASE_URL=\"https://plot.ly\";Plotly.newPlot(\"c81d1bf6-cb3b-4c90-b094-cc71c2e0ec04\", [{\"values\": [4564, 1388, 780], \"type\": \"pie\", \"labels\": [\"male\", \"NotKnown\", \"female\"]}], {\"title\": \"People voting by Gender (last 4 years)\"}, {\"showLink\": true, \"linkText\": \"Export to plot.ly\"})});</script>"
      ]
     },
     "metadata": {},
     "output_type": "display_data"
    }
   ],
   "source": [
    "pie_chart_labels, pie_chart_values, pie_chart_count = query_total_piechart(INDEX, METRIC_NAME, METRIC_FIELD,  [filter_date_4y,\n",
    "                                                                                              filter_vote])\n",
    "draw_piechart(pie_chart_labels, pie_chart_values, 'People voting by Gender (last 4 years)')"
   ]
  },
  {
   "cell_type": "code",
   "execution_count": 27,
   "metadata": {},
   "outputs": [
    {
     "data": {
      "application/vnd.plotly.v1+json": {
       "data": [
        {
         "labels": [
          "male",
          "NotKnown",
          "female"
         ],
         "type": "pie",
         "values": [
          2155,
          750,
          355
         ]
        }
       ],
       "layout": {
        "title": "People voting by Gender (last year)"
       }
      },
      "text/html": [
       "<div id=\"8f0d4f1c-4eec-46d2-8606-0f0035d86117\" style=\"height: 525px; width: 100%;\" class=\"plotly-graph-div\"></div><script type=\"text/javascript\">require([\"plotly\"], function(Plotly) { window.PLOTLYENV=window.PLOTLYENV || {};window.PLOTLYENV.BASE_URL=\"https://plot.ly\";Plotly.newPlot(\"8f0d4f1c-4eec-46d2-8606-0f0035d86117\", [{\"values\": [2155, 750, 355], \"type\": \"pie\", \"labels\": [\"male\", \"NotKnown\", \"female\"]}], {\"title\": \"People voting by Gender (last year)\"}, {\"showLink\": true, \"linkText\": \"Export to plot.ly\"})});</script>"
      ],
      "text/vnd.plotly.v1+html": [
       "<div id=\"8f0d4f1c-4eec-46d2-8606-0f0035d86117\" style=\"height: 525px; width: 100%;\" class=\"plotly-graph-div\"></div><script type=\"text/javascript\">require([\"plotly\"], function(Plotly) { window.PLOTLYENV=window.PLOTLYENV || {};window.PLOTLYENV.BASE_URL=\"https://plot.ly\";Plotly.newPlot(\"8f0d4f1c-4eec-46d2-8606-0f0035d86117\", [{\"values\": [2155, 750, 355], \"type\": \"pie\", \"labels\": [\"male\", \"NotKnown\", \"female\"]}], {\"title\": \"People voting by Gender (last year)\"}, {\"showLink\": true, \"linkText\": \"Export to plot.ly\"})});</script>"
      ]
     },
     "metadata": {},
     "output_type": "display_data"
    }
   ],
   "source": [
    "pie_chart_labels, pie_chart_values, pie_chart_count = query_total_piechart(INDEX, METRIC_NAME, METRIC_FIELD,  [filter_date_1y,\n",
    "                                                                                              filter_vote])\n",
    "draw_piechart(pie_chart_labels, pie_chart_values, 'People voting by Gender (last year)')"
   ]
  },
  {
   "cell_type": "markdown",
   "metadata": {},
   "source": [
    "## Number of core reviews (-2 OR +2) by gender"
   ]
  },
  {
   "cell_type": "code",
   "execution_count": 28,
   "metadata": {},
   "outputs": [
    {
     "data": {
      "application/vnd.plotly.v1+json": {
       "data": [
        {
         "name": "female",
         "type": "scatter",
         "x": [
          "2013-10-01T00:00:00.000Z",
          "2014-01-01T00:00:00.000Z",
          "2014-04-01T00:00:00.000Z",
          "2014-07-01T00:00:00.000Z",
          "2014-10-01T00:00:00.000Z",
          "2015-01-01T00:00:00.000Z",
          "2015-04-01T00:00:00.000Z",
          "2015-07-01T00:00:00.000Z",
          "2015-10-01T00:00:00.000Z",
          "2016-01-01T00:00:00.000Z",
          "2016-04-01T00:00:00.000Z",
          "2016-07-01T00:00:00.000Z",
          "2016-10-01T00:00:00.000Z",
          "2017-01-01T00:00:00.000Z",
          "2017-04-01T00:00:00.000Z",
          "2017-07-01T00:00:00.000Z"
         ],
         "y": [
          1310,
          1881,
          1958,
          2707,
          2397,
          3640,
          4257,
          5620,
          5863,
          5404,
          5045,
          5436,
          4592,
          4931,
          3028,
          4164
         ]
        },
        {
         "name": "male",
         "type": "scatter",
         "x": [
          "2013-10-01T00:00:00.000Z",
          "2014-01-01T00:00:00.000Z",
          "2014-04-01T00:00:00.000Z",
          "2014-07-01T00:00:00.000Z",
          "2014-10-01T00:00:00.000Z",
          "2015-01-01T00:00:00.000Z",
          "2015-04-01T00:00:00.000Z",
          "2015-07-01T00:00:00.000Z",
          "2015-10-01T00:00:00.000Z",
          "2016-01-01T00:00:00.000Z",
          "2016-04-01T00:00:00.000Z",
          "2016-07-01T00:00:00.000Z",
          "2016-10-01T00:00:00.000Z",
          "2017-01-01T00:00:00.000Z",
          "2017-04-01T00:00:00.000Z",
          "2017-07-01T00:00:00.000Z"
         ],
         "y": [
          21709,
          32822,
          30949,
          35296,
          29119,
          39403,
          40611,
          48535,
          45180,
          55803,
          49309,
          62689,
          46448,
          50091,
          38631,
          44969
         ]
        },
        {
         "name": "unknown",
         "type": "scatter",
         "x": [
          "2013-10-01T00:00:00.000Z",
          "2014-01-01T00:00:00.000Z",
          "2014-04-01T00:00:00.000Z",
          "2014-07-01T00:00:00.000Z",
          "2014-10-01T00:00:00.000Z",
          "2015-01-01T00:00:00.000Z",
          "2015-04-01T00:00:00.000Z",
          "2015-07-01T00:00:00.000Z",
          "2015-10-01T00:00:00.000Z",
          "2016-01-01T00:00:00.000Z",
          "2016-04-01T00:00:00.000Z",
          "2016-07-01T00:00:00.000Z",
          "2016-10-01T00:00:00.000Z",
          "2017-01-01T00:00:00.000Z",
          "2017-04-01T00:00:00.000Z",
          "2017-07-01T00:00:00.000Z"
         ],
         "y": [
          2697,
          3821,
          2959,
          4121,
          2865,
          4615,
          4538,
          6532,
          7286,
          7858,
          6610,
          6925,
          5943,
          7429,
          5890,
          7257
         ]
        }
       ],
       "layout": {}
      },
      "text/html": [
       "<div id=\"d641362b-3acd-49b9-a185-820516c9e1db\" style=\"height: 525px; width: 100%;\" class=\"plotly-graph-div\"></div><script type=\"text/javascript\">require([\"plotly\"], function(Plotly) { window.PLOTLYENV=window.PLOTLYENV || {};window.PLOTLYENV.BASE_URL=\"https://plot.ly\";Plotly.newPlot(\"d641362b-3acd-49b9-a185-820516c9e1db\", [{\"y\": [1310, 1881, 1958, 2707, 2397, 3640, 4257, 5620, 5863, 5404, 5045, 5436, 4592, 4931, 3028, 4164], \"x\": [\"2013-10-01T00:00:00.000Z\", \"2014-01-01T00:00:00.000Z\", \"2014-04-01T00:00:00.000Z\", \"2014-07-01T00:00:00.000Z\", \"2014-10-01T00:00:00.000Z\", \"2015-01-01T00:00:00.000Z\", \"2015-04-01T00:00:00.000Z\", \"2015-07-01T00:00:00.000Z\", \"2015-10-01T00:00:00.000Z\", \"2016-01-01T00:00:00.000Z\", \"2016-04-01T00:00:00.000Z\", \"2016-07-01T00:00:00.000Z\", \"2016-10-01T00:00:00.000Z\", \"2017-01-01T00:00:00.000Z\", \"2017-04-01T00:00:00.000Z\", \"2017-07-01T00:00:00.000Z\"], \"type\": \"scatter\", \"name\": \"female\"}, {\"y\": [21709, 32822, 30949, 35296, 29119, 39403, 40611, 48535, 45180, 55803, 49309, 62689, 46448, 50091, 38631, 44969], \"x\": [\"2013-10-01T00:00:00.000Z\", \"2014-01-01T00:00:00.000Z\", \"2014-04-01T00:00:00.000Z\", \"2014-07-01T00:00:00.000Z\", \"2014-10-01T00:00:00.000Z\", \"2015-01-01T00:00:00.000Z\", \"2015-04-01T00:00:00.000Z\", \"2015-07-01T00:00:00.000Z\", \"2015-10-01T00:00:00.000Z\", \"2016-01-01T00:00:00.000Z\", \"2016-04-01T00:00:00.000Z\", \"2016-07-01T00:00:00.000Z\", \"2016-10-01T00:00:00.000Z\", \"2017-01-01T00:00:00.000Z\", \"2017-04-01T00:00:00.000Z\", \"2017-07-01T00:00:00.000Z\"], \"type\": \"scatter\", \"name\": \"male\"}, {\"y\": [2697, 3821, 2959, 4121, 2865, 4615, 4538, 6532, 7286, 7858, 6610, 6925, 5943, 7429, 5890, 7257], \"x\": [\"2013-10-01T00:00:00.000Z\", \"2014-01-01T00:00:00.000Z\", \"2014-04-01T00:00:00.000Z\", \"2014-07-01T00:00:00.000Z\", \"2014-10-01T00:00:00.000Z\", \"2015-01-01T00:00:00.000Z\", \"2015-04-01T00:00:00.000Z\", \"2015-07-01T00:00:00.000Z\", \"2015-10-01T00:00:00.000Z\", \"2016-01-01T00:00:00.000Z\", \"2016-04-01T00:00:00.000Z\", \"2016-07-01T00:00:00.000Z\", \"2016-10-01T00:00:00.000Z\", \"2017-01-01T00:00:00.000Z\", \"2017-04-01T00:00:00.000Z\", \"2017-07-01T00:00:00.000Z\"], \"type\": \"scatter\", \"name\": \"unknown\"}], {}, {\"showLink\": true, \"linkText\": \"Export to plot.ly\"})});</script>"
      ],
      "text/vnd.plotly.v1+html": [
       "<div id=\"d641362b-3acd-49b9-a185-820516c9e1db\" style=\"height: 525px; width: 100%;\" class=\"plotly-graph-div\"></div><script type=\"text/javascript\">require([\"plotly\"], function(Plotly) { window.PLOTLYENV=window.PLOTLYENV || {};window.PLOTLYENV.BASE_URL=\"https://plot.ly\";Plotly.newPlot(\"d641362b-3acd-49b9-a185-820516c9e1db\", [{\"y\": [1310, 1881, 1958, 2707, 2397, 3640, 4257, 5620, 5863, 5404, 5045, 5436, 4592, 4931, 3028, 4164], \"x\": [\"2013-10-01T00:00:00.000Z\", \"2014-01-01T00:00:00.000Z\", \"2014-04-01T00:00:00.000Z\", \"2014-07-01T00:00:00.000Z\", \"2014-10-01T00:00:00.000Z\", \"2015-01-01T00:00:00.000Z\", \"2015-04-01T00:00:00.000Z\", \"2015-07-01T00:00:00.000Z\", \"2015-10-01T00:00:00.000Z\", \"2016-01-01T00:00:00.000Z\", \"2016-04-01T00:00:00.000Z\", \"2016-07-01T00:00:00.000Z\", \"2016-10-01T00:00:00.000Z\", \"2017-01-01T00:00:00.000Z\", \"2017-04-01T00:00:00.000Z\", \"2017-07-01T00:00:00.000Z\"], \"type\": \"scatter\", \"name\": \"female\"}, {\"y\": [21709, 32822, 30949, 35296, 29119, 39403, 40611, 48535, 45180, 55803, 49309, 62689, 46448, 50091, 38631, 44969], \"x\": [\"2013-10-01T00:00:00.000Z\", \"2014-01-01T00:00:00.000Z\", \"2014-04-01T00:00:00.000Z\", \"2014-07-01T00:00:00.000Z\", \"2014-10-01T00:00:00.000Z\", \"2015-01-01T00:00:00.000Z\", \"2015-04-01T00:00:00.000Z\", \"2015-07-01T00:00:00.000Z\", \"2015-10-01T00:00:00.000Z\", \"2016-01-01T00:00:00.000Z\", \"2016-04-01T00:00:00.000Z\", \"2016-07-01T00:00:00.000Z\", \"2016-10-01T00:00:00.000Z\", \"2017-01-01T00:00:00.000Z\", \"2017-04-01T00:00:00.000Z\", \"2017-07-01T00:00:00.000Z\"], \"type\": \"scatter\", \"name\": \"male\"}, {\"y\": [2697, 3821, 2959, 4121, 2865, 4615, 4538, 6532, 7286, 7858, 6610, 6925, 5943, 7429, 5890, 7257], \"x\": [\"2013-10-01T00:00:00.000Z\", \"2014-01-01T00:00:00.000Z\", \"2014-04-01T00:00:00.000Z\", \"2014-07-01T00:00:00.000Z\", \"2014-10-01T00:00:00.000Z\", \"2015-01-01T00:00:00.000Z\", \"2015-04-01T00:00:00.000Z\", \"2015-07-01T00:00:00.000Z\", \"2015-10-01T00:00:00.000Z\", \"2016-01-01T00:00:00.000Z\", \"2016-04-01T00:00:00.000Z\", \"2016-07-01T00:00:00.000Z\", \"2016-10-01T00:00:00.000Z\", \"2017-01-01T00:00:00.000Z\", \"2017-04-01T00:00:00.000Z\", \"2017-07-01T00:00:00.000Z\"], \"type\": \"scatter\", \"name\": \"unknown\"}], {}, {\"showLink\": true, \"linkText\": \"Export to plot.ly\"})});</script>"
      ]
     },
     "metadata": {},
     "output_type": "display_data"
    }
   ],
   "source": [
    "METRIC_NAME = \"core_reviewers\"\n",
    "METRIC_FIELD = \"owner\"\n",
    "\n",
    "filter_core_vote = Q('terms', value=[\"2\", \"-2\"])\n",
    "filter_vote = Q('term', eventtype='CHANGESET_PATCHSET_APPROVAL_Code-Review') # filter by event: vote a code review\n",
    "df = query_metric_over_time(INDEX, METRIC_NAME, METRIC_FIELD, [filter_core_vote, filter_date_4y, filter_vote])\n",
    "draw_evolutionary_chart(\"key_as_string\", \"doc_count\")"
   ]
  },
  {
   "cell_type": "code",
   "execution_count": 29,
   "metadata": {},
   "outputs": [
    {
     "data": {
      "application/vnd.plotly.v1+json": {
       "data": [
        {
         "labels": [
          "male",
          "NotKnown",
          "female"
         ],
         "type": "pie",
         "values": [
          671564,
          87346,
          62233
         ]
        }
       ],
       "layout": {
        "title": "Core Reviews by Gender (last 4 years)"
       }
      },
      "text/html": [
       "<div id=\"099d0257-3742-4ad1-9585-0842ebf91ecf\" style=\"height: 525px; width: 100%;\" class=\"plotly-graph-div\"></div><script type=\"text/javascript\">require([\"plotly\"], function(Plotly) { window.PLOTLYENV=window.PLOTLYENV || {};window.PLOTLYENV.BASE_URL=\"https://plot.ly\";Plotly.newPlot(\"099d0257-3742-4ad1-9585-0842ebf91ecf\", [{\"values\": [671564, 87346, 62233], \"type\": \"pie\", \"labels\": [\"male\", \"NotKnown\", \"female\"]}], {\"title\": \"Core Reviews by Gender (last 4 years)\"}, {\"showLink\": true, \"linkText\": \"Export to plot.ly\"})});</script>"
      ],
      "text/vnd.plotly.v1+html": [
       "<div id=\"099d0257-3742-4ad1-9585-0842ebf91ecf\" style=\"height: 525px; width: 100%;\" class=\"plotly-graph-div\"></div><script type=\"text/javascript\">require([\"plotly\"], function(Plotly) { window.PLOTLYENV=window.PLOTLYENV || {};window.PLOTLYENV.BASE_URL=\"https://plot.ly\";Plotly.newPlot(\"099d0257-3742-4ad1-9585-0842ebf91ecf\", [{\"values\": [671564, 87346, 62233], \"type\": \"pie\", \"labels\": [\"male\", \"NotKnown\", \"female\"]}], {\"title\": \"Core Reviews by Gender (last 4 years)\"}, {\"showLink\": true, \"linkText\": \"Export to plot.ly\"})});</script>"
      ]
     },
     "metadata": {},
     "output_type": "display_data"
    }
   ],
   "source": [
    "pie_chart_labels, pie_chart_values, pie_chart_count = query_total_piechart(INDEX, METRIC_NAME, METRIC_FIELD,  [filter_date_4y,\n",
    "                                                                                              filter_vote, filter_core_vote])\n",
    "draw_piechart(pie_chart_labels, pie_chart_count, 'Core Reviews by Gender (last 4 years)')"
   ]
  },
  {
   "cell_type": "code",
   "execution_count": 30,
   "metadata": {},
   "outputs": [
    {
     "data": {
      "application/vnd.plotly.v1+json": {
       "data": [
        {
         "labels": [
          "male",
          "NotKnown",
          "female"
         ],
         "type": "pie",
         "values": [
          180139,
          26519,
          16715
         ]
        }
       ],
       "layout": {
        "title": "Core Reviews by Gender (last year)"
       }
      },
      "text/html": [
       "<div id=\"4f9f4d95-40f2-4158-bdea-8bab72f56393\" style=\"height: 525px; width: 100%;\" class=\"plotly-graph-div\"></div><script type=\"text/javascript\">require([\"plotly\"], function(Plotly) { window.PLOTLYENV=window.PLOTLYENV || {};window.PLOTLYENV.BASE_URL=\"https://plot.ly\";Plotly.newPlot(\"4f9f4d95-40f2-4158-bdea-8bab72f56393\", [{\"values\": [180139, 26519, 16715], \"type\": \"pie\", \"labels\": [\"male\", \"NotKnown\", \"female\"]}], {\"title\": \"Core Reviews by Gender (last year)\"}, {\"showLink\": true, \"linkText\": \"Export to plot.ly\"})});</script>"
      ],
      "text/vnd.plotly.v1+html": [
       "<div id=\"4f9f4d95-40f2-4158-bdea-8bab72f56393\" style=\"height: 525px; width: 100%;\" class=\"plotly-graph-div\"></div><script type=\"text/javascript\">require([\"plotly\"], function(Plotly) { window.PLOTLYENV=window.PLOTLYENV || {};window.PLOTLYENV.BASE_URL=\"https://plot.ly\";Plotly.newPlot(\"4f9f4d95-40f2-4158-bdea-8bab72f56393\", [{\"values\": [180139, 26519, 16715], \"type\": \"pie\", \"labels\": [\"male\", \"NotKnown\", \"female\"]}], {\"title\": \"Core Reviews by Gender (last year)\"}, {\"showLink\": true, \"linkText\": \"Export to plot.ly\"})});</script>"
      ]
     },
     "metadata": {},
     "output_type": "display_data"
    }
   ],
   "source": [
    "pie_chart_labels, pie_chart_values, pie_chart_count = query_total_piechart(INDEX, METRIC_NAME, METRIC_FIELD,  [filter_date_1y,\n",
    "                                                                                              filter_vote, filter_core_vote])\n",
    "draw_piechart(pie_chart_labels, pie_chart_count, 'Core Reviews by Gender (last year)')"
   ]
  },
  {
   "cell_type": "markdown",
   "metadata": {},
   "source": [
    "## Number of people acting as core reviewers (-2 OR +2) by gender"
   ]
  },
  {
   "cell_type": "code",
   "execution_count": 31,
   "metadata": {},
   "outputs": [
    {
     "data": {
      "application/vnd.plotly.v1+json": {
       "data": [
        {
         "name": "female",
         "type": "scatter",
         "x": [
          "2013-10-01T00:00:00.000Z",
          "2014-01-01T00:00:00.000Z",
          "2014-04-01T00:00:00.000Z",
          "2014-07-01T00:00:00.000Z",
          "2014-10-01T00:00:00.000Z",
          "2015-01-01T00:00:00.000Z",
          "2015-04-01T00:00:00.000Z",
          "2015-07-01T00:00:00.000Z",
          "2015-10-01T00:00:00.000Z",
          "2016-01-01T00:00:00.000Z",
          "2016-04-01T00:00:00.000Z",
          "2016-07-01T00:00:00.000Z",
          "2016-10-01T00:00:00.000Z",
          "2017-01-01T00:00:00.000Z",
          "2017-04-01T00:00:00.000Z",
          "2017-07-01T00:00:00.000Z"
         ],
         "y": [
          20,
          28,
          33,
          40,
          41,
          60,
          63,
          83,
          97,
          102,
          104,
          101,
          92,
          89,
          81,
          75
         ]
        },
        {
         "name": "male",
         "type": "scatter",
         "x": [
          "2013-10-01T00:00:00.000Z",
          "2014-01-01T00:00:00.000Z",
          "2014-04-01T00:00:00.000Z",
          "2014-07-01T00:00:00.000Z",
          "2014-10-01T00:00:00.000Z",
          "2015-01-01T00:00:00.000Z",
          "2015-04-01T00:00:00.000Z",
          "2015-07-01T00:00:00.000Z",
          "2015-10-01T00:00:00.000Z",
          "2016-01-01T00:00:00.000Z",
          "2016-04-01T00:00:00.000Z",
          "2016-07-01T00:00:00.000Z",
          "2016-10-01T00:00:00.000Z",
          "2017-01-01T00:00:00.000Z",
          "2017-04-01T00:00:00.000Z",
          "2017-07-01T00:00:00.000Z"
         ],
         "y": [
          219,
          281,
          296,
          344,
          360,
          419,
          492,
          543,
          582,
          601,
          652,
          686,
          678,
          624,
          533,
          476
         ]
        },
        {
         "name": "unknown",
         "type": "scatter",
         "x": [
          "2013-10-01T00:00:00.000Z",
          "2014-01-01T00:00:00.000Z",
          "2014-04-01T00:00:00.000Z",
          "2014-07-01T00:00:00.000Z",
          "2014-10-01T00:00:00.000Z",
          "2015-01-01T00:00:00.000Z",
          "2015-04-01T00:00:00.000Z",
          "2015-07-01T00:00:00.000Z",
          "2015-10-01T00:00:00.000Z",
          "2016-01-01T00:00:00.000Z",
          "2016-04-01T00:00:00.000Z",
          "2016-07-01T00:00:00.000Z",
          "2016-10-01T00:00:00.000Z",
          "2017-01-01T00:00:00.000Z",
          "2017-04-01T00:00:00.000Z",
          "2017-07-01T00:00:00.000Z"
         ],
         "y": [
          28,
          34,
          38,
          39,
          41,
          47,
          56,
          79,
          95,
          102,
          109,
          118,
          109,
          119,
          102,
          87
         ]
        }
       ],
       "layout": {}
      },
      "text/html": [
       "<div id=\"48efb5bb-17ef-4931-be48-92ada611d1dd\" style=\"height: 525px; width: 100%;\" class=\"plotly-graph-div\"></div><script type=\"text/javascript\">require([\"plotly\"], function(Plotly) { window.PLOTLYENV=window.PLOTLYENV || {};window.PLOTLYENV.BASE_URL=\"https://plot.ly\";Plotly.newPlot(\"48efb5bb-17ef-4931-be48-92ada611d1dd\", [{\"y\": [20, 28, 33, 40, 41, 60, 63, 83, 97, 102, 104, 101, 92, 89, 81, 75], \"x\": [\"2013-10-01T00:00:00.000Z\", \"2014-01-01T00:00:00.000Z\", \"2014-04-01T00:00:00.000Z\", \"2014-07-01T00:00:00.000Z\", \"2014-10-01T00:00:00.000Z\", \"2015-01-01T00:00:00.000Z\", \"2015-04-01T00:00:00.000Z\", \"2015-07-01T00:00:00.000Z\", \"2015-10-01T00:00:00.000Z\", \"2016-01-01T00:00:00.000Z\", \"2016-04-01T00:00:00.000Z\", \"2016-07-01T00:00:00.000Z\", \"2016-10-01T00:00:00.000Z\", \"2017-01-01T00:00:00.000Z\", \"2017-04-01T00:00:00.000Z\", \"2017-07-01T00:00:00.000Z\"], \"type\": \"scatter\", \"name\": \"female\"}, {\"y\": [219, 281, 296, 344, 360, 419, 492, 543, 582, 601, 652, 686, 678, 624, 533, 476], \"x\": [\"2013-10-01T00:00:00.000Z\", \"2014-01-01T00:00:00.000Z\", \"2014-04-01T00:00:00.000Z\", \"2014-07-01T00:00:00.000Z\", \"2014-10-01T00:00:00.000Z\", \"2015-01-01T00:00:00.000Z\", \"2015-04-01T00:00:00.000Z\", \"2015-07-01T00:00:00.000Z\", \"2015-10-01T00:00:00.000Z\", \"2016-01-01T00:00:00.000Z\", \"2016-04-01T00:00:00.000Z\", \"2016-07-01T00:00:00.000Z\", \"2016-10-01T00:00:00.000Z\", \"2017-01-01T00:00:00.000Z\", \"2017-04-01T00:00:00.000Z\", \"2017-07-01T00:00:00.000Z\"], \"type\": \"scatter\", \"name\": \"male\"}, {\"y\": [28, 34, 38, 39, 41, 47, 56, 79, 95, 102, 109, 118, 109, 119, 102, 87], \"x\": [\"2013-10-01T00:00:00.000Z\", \"2014-01-01T00:00:00.000Z\", \"2014-04-01T00:00:00.000Z\", \"2014-07-01T00:00:00.000Z\", \"2014-10-01T00:00:00.000Z\", \"2015-01-01T00:00:00.000Z\", \"2015-04-01T00:00:00.000Z\", \"2015-07-01T00:00:00.000Z\", \"2015-10-01T00:00:00.000Z\", \"2016-01-01T00:00:00.000Z\", \"2016-04-01T00:00:00.000Z\", \"2016-07-01T00:00:00.000Z\", \"2016-10-01T00:00:00.000Z\", \"2017-01-01T00:00:00.000Z\", \"2017-04-01T00:00:00.000Z\", \"2017-07-01T00:00:00.000Z\"], \"type\": \"scatter\", \"name\": \"unknown\"}], {}, {\"showLink\": true, \"linkText\": \"Export to plot.ly\"})});</script>"
      ],
      "text/vnd.plotly.v1+html": [
       "<div id=\"48efb5bb-17ef-4931-be48-92ada611d1dd\" style=\"height: 525px; width: 100%;\" class=\"plotly-graph-div\"></div><script type=\"text/javascript\">require([\"plotly\"], function(Plotly) { window.PLOTLYENV=window.PLOTLYENV || {};window.PLOTLYENV.BASE_URL=\"https://plot.ly\";Plotly.newPlot(\"48efb5bb-17ef-4931-be48-92ada611d1dd\", [{\"y\": [20, 28, 33, 40, 41, 60, 63, 83, 97, 102, 104, 101, 92, 89, 81, 75], \"x\": [\"2013-10-01T00:00:00.000Z\", \"2014-01-01T00:00:00.000Z\", \"2014-04-01T00:00:00.000Z\", \"2014-07-01T00:00:00.000Z\", \"2014-10-01T00:00:00.000Z\", \"2015-01-01T00:00:00.000Z\", \"2015-04-01T00:00:00.000Z\", \"2015-07-01T00:00:00.000Z\", \"2015-10-01T00:00:00.000Z\", \"2016-01-01T00:00:00.000Z\", \"2016-04-01T00:00:00.000Z\", \"2016-07-01T00:00:00.000Z\", \"2016-10-01T00:00:00.000Z\", \"2017-01-01T00:00:00.000Z\", \"2017-04-01T00:00:00.000Z\", \"2017-07-01T00:00:00.000Z\"], \"type\": \"scatter\", \"name\": \"female\"}, {\"y\": [219, 281, 296, 344, 360, 419, 492, 543, 582, 601, 652, 686, 678, 624, 533, 476], \"x\": [\"2013-10-01T00:00:00.000Z\", \"2014-01-01T00:00:00.000Z\", \"2014-04-01T00:00:00.000Z\", \"2014-07-01T00:00:00.000Z\", \"2014-10-01T00:00:00.000Z\", \"2015-01-01T00:00:00.000Z\", \"2015-04-01T00:00:00.000Z\", \"2015-07-01T00:00:00.000Z\", \"2015-10-01T00:00:00.000Z\", \"2016-01-01T00:00:00.000Z\", \"2016-04-01T00:00:00.000Z\", \"2016-07-01T00:00:00.000Z\", \"2016-10-01T00:00:00.000Z\", \"2017-01-01T00:00:00.000Z\", \"2017-04-01T00:00:00.000Z\", \"2017-07-01T00:00:00.000Z\"], \"type\": \"scatter\", \"name\": \"male\"}, {\"y\": [28, 34, 38, 39, 41, 47, 56, 79, 95, 102, 109, 118, 109, 119, 102, 87], \"x\": [\"2013-10-01T00:00:00.000Z\", \"2014-01-01T00:00:00.000Z\", \"2014-04-01T00:00:00.000Z\", \"2014-07-01T00:00:00.000Z\", \"2014-10-01T00:00:00.000Z\", \"2015-01-01T00:00:00.000Z\", \"2015-04-01T00:00:00.000Z\", \"2015-07-01T00:00:00.000Z\", \"2015-10-01T00:00:00.000Z\", \"2016-01-01T00:00:00.000Z\", \"2016-04-01T00:00:00.000Z\", \"2016-07-01T00:00:00.000Z\", \"2016-10-01T00:00:00.000Z\", \"2017-01-01T00:00:00.000Z\", \"2017-04-01T00:00:00.000Z\", \"2017-07-01T00:00:00.000Z\"], \"type\": \"scatter\", \"name\": \"unknown\"}], {}, {\"showLink\": true, \"linkText\": \"Export to plot.ly\"})});</script>"
      ]
     },
     "metadata": {},
     "output_type": "display_data"
    }
   ],
   "source": [
    "draw_evolutionary_chart(\"key_as_string\", METRIC_NAME)"
   ]
  },
  {
   "cell_type": "code",
   "execution_count": 32,
   "metadata": {},
   "outputs": [
    {
     "data": {
      "application/vnd.plotly.v1+json": {
       "data": [
        {
         "labels": [
          "male",
          "NotKnown",
          "female"
         ],
         "type": "pie",
         "values": [
          1371,
          280,
          223
         ]
        }
       ],
       "layout": {
        "title": "Core Reviewers by Gender (last 4 years)"
       }
      },
      "text/html": [
       "<div id=\"a9db8255-f8bf-492e-b834-8415ddaed4f2\" style=\"height: 525px; width: 100%;\" class=\"plotly-graph-div\"></div><script type=\"text/javascript\">require([\"plotly\"], function(Plotly) { window.PLOTLYENV=window.PLOTLYENV || {};window.PLOTLYENV.BASE_URL=\"https://plot.ly\";Plotly.newPlot(\"a9db8255-f8bf-492e-b834-8415ddaed4f2\", [{\"values\": [1371, 280, 223], \"type\": \"pie\", \"labels\": [\"male\", \"NotKnown\", \"female\"]}], {\"title\": \"Core Reviewers by Gender (last 4 years)\"}, {\"showLink\": true, \"linkText\": \"Export to plot.ly\"})});</script>"
      ],
      "text/vnd.plotly.v1+html": [
       "<div id=\"a9db8255-f8bf-492e-b834-8415ddaed4f2\" style=\"height: 525px; width: 100%;\" class=\"plotly-graph-div\"></div><script type=\"text/javascript\">require([\"plotly\"], function(Plotly) { window.PLOTLYENV=window.PLOTLYENV || {};window.PLOTLYENV.BASE_URL=\"https://plot.ly\";Plotly.newPlot(\"a9db8255-f8bf-492e-b834-8415ddaed4f2\", [{\"values\": [1371, 280, 223], \"type\": \"pie\", \"labels\": [\"male\", \"NotKnown\", \"female\"]}], {\"title\": \"Core Reviewers by Gender (last 4 years)\"}, {\"showLink\": true, \"linkText\": \"Export to plot.ly\"})});</script>"
      ]
     },
     "metadata": {},
     "output_type": "display_data"
    }
   ],
   "source": [
    "pie_chart_labels, pie_chart_values, pie_chart_count = query_total_piechart(INDEX, METRIC_NAME, METRIC_FIELD,  [filter_date_4y,\n",
    "                                                                                              filter_vote, filter_core_vote])\n",
    "draw_piechart(pie_chart_labels, pie_chart_values, 'Core Reviewers by Gender (last 4 years)')"
   ]
  },
  {
   "cell_type": "code",
   "execution_count": 33,
   "metadata": {},
   "outputs": [
    {
     "data": {
      "application/vnd.plotly.v1+json": {
       "data": [
        {
         "labels": [
          "male",
          "NotKnown",
          "female"
         ],
         "type": "pie",
         "values": [
          847,
          178,
          125
         ]
        }
       ],
       "layout": {
        "title": "Core Reviewers by Gender (last year)"
       }
      },
      "text/html": [
       "<div id=\"677fcb61-e2e7-4ade-9062-b99ffadd6346\" style=\"height: 525px; width: 100%;\" class=\"plotly-graph-div\"></div><script type=\"text/javascript\">require([\"plotly\"], function(Plotly) { window.PLOTLYENV=window.PLOTLYENV || {};window.PLOTLYENV.BASE_URL=\"https://plot.ly\";Plotly.newPlot(\"677fcb61-e2e7-4ade-9062-b99ffadd6346\", [{\"values\": [847, 178, 125], \"type\": \"pie\", \"labels\": [\"male\", \"NotKnown\", \"female\"]}], {\"title\": \"Core Reviewers by Gender (last year)\"}, {\"showLink\": true, \"linkText\": \"Export to plot.ly\"})});</script>"
      ],
      "text/vnd.plotly.v1+html": [
       "<div id=\"677fcb61-e2e7-4ade-9062-b99ffadd6346\" style=\"height: 525px; width: 100%;\" class=\"plotly-graph-div\"></div><script type=\"text/javascript\">require([\"plotly\"], function(Plotly) { window.PLOTLYENV=window.PLOTLYENV || {};window.PLOTLYENV.BASE_URL=\"https://plot.ly\";Plotly.newPlot(\"677fcb61-e2e7-4ade-9062-b99ffadd6346\", [{\"values\": [847, 178, 125], \"type\": \"pie\", \"labels\": [\"male\", \"NotKnown\", \"female\"]}], {\"title\": \"Core Reviewers by Gender (last year)\"}, {\"showLink\": true, \"linkText\": \"Export to plot.ly\"})});</script>"
      ]
     },
     "metadata": {},
     "output_type": "display_data"
    }
   ],
   "source": [
    "pie_chart_labels, pie_chart_values, pie_chart_count = query_total_piechart(INDEX, METRIC_NAME, METRIC_FIELD,  [filter_date_1y,\n",
    "                                                                                              filter_vote, filter_core_vote])\n",
    "draw_piechart(pie_chart_labels, pie_chart_values, 'Core Reviewers by Gender (last year)')"
   ]
  },
  {
   "cell_type": "markdown",
   "metadata": {},
   "source": [
    "# GIT"
   ]
  },
  {
   "cell_type": "code",
   "execution_count": 34,
   "metadata": {
    "collapsed": true
   },
   "outputs": [],
   "source": [
    "INDEX = \"git_openstack_gender_uuids_fielddata\"\n",
    "#filter_merges_addedlines = Q('range', addedlines={'gt': 0})\n",
    "filter_merges_addedlines = Q('range', num_added_lines={'gt': 0})\n",
    "#filter_merges_removedlines = Q('range', removedlines={'gt': 0})\n",
    "filter_merges_removedlines = Q('range', num_removed_lines={'gt': 0})\n",
    "filter_bots = Q('bool', must_not=[Q('match', gender_analyzed_name='Jenkins')])"
   ]
  },
  {
   "cell_type": "code",
   "execution_count": 35,
   "metadata": {
    "collapsed": true
   },
   "outputs": [],
   "source": [
    "git_filter = Q('bool',\n",
    "    must_not=[Q('match', gender_analyzed_name='Jenkins')],\n",
    "    should=[filter_merges_addedlines, filter_merges_removedlines]\n",
    ")"
   ]
  },
  {
   "cell_type": "markdown",
   "metadata": {},
   "source": [
    "* Evolution and trends over time [per quarter] of commits by gender\n",
    "  * Commits by gender (columns: hash, gender)"
   ]
  },
  {
   "cell_type": "code",
   "execution_count": 36,
   "metadata": {
    "collapsed": true
   },
   "outputs": [],
   "source": [
    "METRIC_NAME = \"commits\"\n",
    "METRIC_FIELD = \"id\"\n",
    "#df = query_metric_over_time(INDEX, METRIC_NAME, METRIC_FIELD, [filter_date_4y, filter_merges_addedlines,\n",
    "#                                                               filter_merges_removedlines, filter_bots])\n",
    "df = query_metric_over_time(INDEX, METRIC_NAME, METRIC_FIELD, [filter_date_4y, git_filter])"
   ]
  },
  {
   "cell_type": "code",
   "execution_count": 37,
   "metadata": {},
   "outputs": [
    {
     "data": {
      "application/vnd.plotly.v1+json": {
       "data": [
        {
         "name": "female",
         "type": "scatter",
         "x": [
          "2013-10-01T00:00:00.000Z",
          "2014-01-01T00:00:00.000Z",
          "2014-04-01T00:00:00.000Z",
          "2014-07-01T00:00:00.000Z",
          "2014-10-01T00:00:00.000Z",
          "2015-01-01T00:00:00.000Z",
          "2015-04-01T00:00:00.000Z",
          "2015-07-01T00:00:00.000Z",
          "2015-10-01T00:00:00.000Z",
          "2016-01-01T00:00:00.000Z",
          "2016-04-01T00:00:00.000Z",
          "2016-07-01T00:00:00.000Z",
          "2016-10-01T00:00:00.000Z",
          "2017-01-01T00:00:00.000Z",
          "2017-04-01T00:00:00.000Z",
          "2017-07-01T00:00:00.000Z"
         ],
         "y": [
          974,
          1213,
          1345,
          2040,
          1427,
          1918,
          1952,
          2186,
          2259,
          2327,
          2060,
          2505,
          1653,
          1571,
          644,
          457
         ]
        },
        {
         "name": "male",
         "type": "scatter",
         "x": [
          "2013-10-01T00:00:00.000Z",
          "2014-01-01T00:00:00.000Z",
          "2014-04-01T00:00:00.000Z",
          "2014-07-01T00:00:00.000Z",
          "2014-10-01T00:00:00.000Z",
          "2015-01-01T00:00:00.000Z",
          "2015-04-01T00:00:00.000Z",
          "2015-07-01T00:00:00.000Z",
          "2015-10-01T00:00:00.000Z",
          "2016-01-01T00:00:00.000Z",
          "2016-04-01T00:00:00.000Z",
          "2016-07-01T00:00:00.000Z",
          "2016-10-01T00:00:00.000Z",
          "2017-01-01T00:00:00.000Z",
          "2017-04-01T00:00:00.000Z",
          "2017-07-01T00:00:00.000Z"
         ],
         "y": [
          15581,
          19814,
          18148,
          19358,
          17387,
          20473,
          21582,
          22955,
          20258,
          24185,
          20952,
          23746,
          16358,
          14188,
          6709,
          5139
         ]
        },
        {
         "name": "unknown",
         "type": "scatter",
         "x": [
          "2013-10-01T00:00:00.000Z",
          "2014-01-01T00:00:00.000Z",
          "2014-04-01T00:00:00.000Z",
          "2014-07-01T00:00:00.000Z",
          "2014-10-01T00:00:00.000Z",
          "2015-01-01T00:00:00.000Z",
          "2015-04-01T00:00:00.000Z",
          "2015-07-01T00:00:00.000Z",
          "2015-10-01T00:00:00.000Z",
          "2016-01-01T00:00:00.000Z",
          "2016-04-01T00:00:00.000Z",
          "2016-07-01T00:00:00.000Z",
          "2016-10-01T00:00:00.000Z",
          "2017-01-01T00:00:00.000Z",
          "2017-04-01T00:00:00.000Z",
          "2017-07-01T00:00:00.000Z"
         ],
         "y": [
          3014,
          4116,
          2987,
          3428,
          3563,
          5239,
          4308,
          6138,
          6129,
          5902,
          6228,
          7011,
          6645,
          6535,
          3567,
          3787
         ]
        }
       ],
       "layout": {}
      },
      "text/html": [
       "<div id=\"82c84ec8-a6a9-4275-b24b-59ca1c709ed4\" style=\"height: 525px; width: 100%;\" class=\"plotly-graph-div\"></div><script type=\"text/javascript\">require([\"plotly\"], function(Plotly) { window.PLOTLYENV=window.PLOTLYENV || {};window.PLOTLYENV.BASE_URL=\"https://plot.ly\";Plotly.newPlot(\"82c84ec8-a6a9-4275-b24b-59ca1c709ed4\", [{\"y\": [974, 1213, 1345, 2040, 1427, 1918, 1952, 2186, 2259, 2327, 2060, 2505, 1653, 1571, 644, 457], \"x\": [\"2013-10-01T00:00:00.000Z\", \"2014-01-01T00:00:00.000Z\", \"2014-04-01T00:00:00.000Z\", \"2014-07-01T00:00:00.000Z\", \"2014-10-01T00:00:00.000Z\", \"2015-01-01T00:00:00.000Z\", \"2015-04-01T00:00:00.000Z\", \"2015-07-01T00:00:00.000Z\", \"2015-10-01T00:00:00.000Z\", \"2016-01-01T00:00:00.000Z\", \"2016-04-01T00:00:00.000Z\", \"2016-07-01T00:00:00.000Z\", \"2016-10-01T00:00:00.000Z\", \"2017-01-01T00:00:00.000Z\", \"2017-04-01T00:00:00.000Z\", \"2017-07-01T00:00:00.000Z\"], \"type\": \"scatter\", \"name\": \"female\"}, {\"y\": [15581, 19814, 18148, 19358, 17387, 20473, 21582, 22955, 20258, 24185, 20952, 23746, 16358, 14188, 6709, 5139], \"x\": [\"2013-10-01T00:00:00.000Z\", \"2014-01-01T00:00:00.000Z\", \"2014-04-01T00:00:00.000Z\", \"2014-07-01T00:00:00.000Z\", \"2014-10-01T00:00:00.000Z\", \"2015-01-01T00:00:00.000Z\", \"2015-04-01T00:00:00.000Z\", \"2015-07-01T00:00:00.000Z\", \"2015-10-01T00:00:00.000Z\", \"2016-01-01T00:00:00.000Z\", \"2016-04-01T00:00:00.000Z\", \"2016-07-01T00:00:00.000Z\", \"2016-10-01T00:00:00.000Z\", \"2017-01-01T00:00:00.000Z\", \"2017-04-01T00:00:00.000Z\", \"2017-07-01T00:00:00.000Z\"], \"type\": \"scatter\", \"name\": \"male\"}, {\"y\": [3014, 4116, 2987, 3428, 3563, 5239, 4308, 6138, 6129, 5902, 6228, 7011, 6645, 6535, 3567, 3787], \"x\": [\"2013-10-01T00:00:00.000Z\", \"2014-01-01T00:00:00.000Z\", \"2014-04-01T00:00:00.000Z\", \"2014-07-01T00:00:00.000Z\", \"2014-10-01T00:00:00.000Z\", \"2015-01-01T00:00:00.000Z\", \"2015-04-01T00:00:00.000Z\", \"2015-07-01T00:00:00.000Z\", \"2015-10-01T00:00:00.000Z\", \"2016-01-01T00:00:00.000Z\", \"2016-04-01T00:00:00.000Z\", \"2016-07-01T00:00:00.000Z\", \"2016-10-01T00:00:00.000Z\", \"2017-01-01T00:00:00.000Z\", \"2017-04-01T00:00:00.000Z\", \"2017-07-01T00:00:00.000Z\"], \"type\": \"scatter\", \"name\": \"unknown\"}], {}, {\"showLink\": true, \"linkText\": \"Export to plot.ly\"})});</script>"
      ],
      "text/vnd.plotly.v1+html": [
       "<div id=\"82c84ec8-a6a9-4275-b24b-59ca1c709ed4\" style=\"height: 525px; width: 100%;\" class=\"plotly-graph-div\"></div><script type=\"text/javascript\">require([\"plotly\"], function(Plotly) { window.PLOTLYENV=window.PLOTLYENV || {};window.PLOTLYENV.BASE_URL=\"https://plot.ly\";Plotly.newPlot(\"82c84ec8-a6a9-4275-b24b-59ca1c709ed4\", [{\"y\": [974, 1213, 1345, 2040, 1427, 1918, 1952, 2186, 2259, 2327, 2060, 2505, 1653, 1571, 644, 457], \"x\": [\"2013-10-01T00:00:00.000Z\", \"2014-01-01T00:00:00.000Z\", \"2014-04-01T00:00:00.000Z\", \"2014-07-01T00:00:00.000Z\", \"2014-10-01T00:00:00.000Z\", \"2015-01-01T00:00:00.000Z\", \"2015-04-01T00:00:00.000Z\", \"2015-07-01T00:00:00.000Z\", \"2015-10-01T00:00:00.000Z\", \"2016-01-01T00:00:00.000Z\", \"2016-04-01T00:00:00.000Z\", \"2016-07-01T00:00:00.000Z\", \"2016-10-01T00:00:00.000Z\", \"2017-01-01T00:00:00.000Z\", \"2017-04-01T00:00:00.000Z\", \"2017-07-01T00:00:00.000Z\"], \"type\": \"scatter\", \"name\": \"female\"}, {\"y\": [15581, 19814, 18148, 19358, 17387, 20473, 21582, 22955, 20258, 24185, 20952, 23746, 16358, 14188, 6709, 5139], \"x\": [\"2013-10-01T00:00:00.000Z\", \"2014-01-01T00:00:00.000Z\", \"2014-04-01T00:00:00.000Z\", \"2014-07-01T00:00:00.000Z\", \"2014-10-01T00:00:00.000Z\", \"2015-01-01T00:00:00.000Z\", \"2015-04-01T00:00:00.000Z\", \"2015-07-01T00:00:00.000Z\", \"2015-10-01T00:00:00.000Z\", \"2016-01-01T00:00:00.000Z\", \"2016-04-01T00:00:00.000Z\", \"2016-07-01T00:00:00.000Z\", \"2016-10-01T00:00:00.000Z\", \"2017-01-01T00:00:00.000Z\", \"2017-04-01T00:00:00.000Z\", \"2017-07-01T00:00:00.000Z\"], \"type\": \"scatter\", \"name\": \"male\"}, {\"y\": [3014, 4116, 2987, 3428, 3563, 5239, 4308, 6138, 6129, 5902, 6228, 7011, 6645, 6535, 3567, 3787], \"x\": [\"2013-10-01T00:00:00.000Z\", \"2014-01-01T00:00:00.000Z\", \"2014-04-01T00:00:00.000Z\", \"2014-07-01T00:00:00.000Z\", \"2014-10-01T00:00:00.000Z\", \"2015-01-01T00:00:00.000Z\", \"2015-04-01T00:00:00.000Z\", \"2015-07-01T00:00:00.000Z\", \"2015-10-01T00:00:00.000Z\", \"2016-01-01T00:00:00.000Z\", \"2016-04-01T00:00:00.000Z\", \"2016-07-01T00:00:00.000Z\", \"2016-10-01T00:00:00.000Z\", \"2017-01-01T00:00:00.000Z\", \"2017-04-01T00:00:00.000Z\", \"2017-07-01T00:00:00.000Z\"], \"type\": \"scatter\", \"name\": \"unknown\"}], {}, {\"showLink\": true, \"linkText\": \"Export to plot.ly\"})});</script>"
      ]
     },
     "metadata": {},
     "output_type": "display_data"
    }
   ],
   "source": [
    "draw_evolutionary_chart(\"key_as_string\", METRIC_NAME)"
   ]
  },
  {
   "cell_type": "code",
   "execution_count": 38,
   "metadata": {},
   "outputs": [
    {
     "data": {
      "application/vnd.plotly.v1+json": {
       "data": [
        {
         "labels": [
          "male",
          "NotKnown",
          "female"
         ],
         "type": "pie",
         "values": [
          287016,
          78334,
          26526
         ]
        }
       ],
       "layout": {
        "title": "Commits by Gender (last 4 years)"
       }
      },
      "text/html": [
       "<div id=\"5ca8a4b3-21d9-4d6f-b44f-70fbf9d985d2\" style=\"height: 525px; width: 100%;\" class=\"plotly-graph-div\"></div><script type=\"text/javascript\">require([\"plotly\"], function(Plotly) { window.PLOTLYENV=window.PLOTLYENV || {};window.PLOTLYENV.BASE_URL=\"https://plot.ly\";Plotly.newPlot(\"5ca8a4b3-21d9-4d6f-b44f-70fbf9d985d2\", [{\"values\": [287016, 78334, 26526], \"type\": \"pie\", \"labels\": [\"male\", \"NotKnown\", \"female\"]}], {\"title\": \"Commits by Gender (last 4 years)\"}, {\"showLink\": true, \"linkText\": \"Export to plot.ly\"})});</script>"
      ],
      "text/vnd.plotly.v1+html": [
       "<div id=\"5ca8a4b3-21d9-4d6f-b44f-70fbf9d985d2\" style=\"height: 525px; width: 100%;\" class=\"plotly-graph-div\"></div><script type=\"text/javascript\">require([\"plotly\"], function(Plotly) { window.PLOTLYENV=window.PLOTLYENV || {};window.PLOTLYENV.BASE_URL=\"https://plot.ly\";Plotly.newPlot(\"5ca8a4b3-21d9-4d6f-b44f-70fbf9d985d2\", [{\"values\": [287016, 78334, 26526], \"type\": \"pie\", \"labels\": [\"male\", \"NotKnown\", \"female\"]}], {\"title\": \"Commits by Gender (last 4 years)\"}, {\"showLink\": true, \"linkText\": \"Export to plot.ly\"})});</script>"
      ]
     },
     "metadata": {},
     "output_type": "display_data"
    }
   ],
   "source": [
    "#pie_chart_labels, pie_chart_values = query_total_piechart(INDEX, METRIC_NAME, METRIC_FIELD, \n",
    "#                                                            [filter_date_4y, filter_merges_addedlines,\n",
    "#                                                             filter_merges_removedlines, filter_bots])\n",
    "\n",
    "pie_chart_labels, pie_chart_values, pie_chart_count = query_total_piechart(INDEX, METRIC_NAME, METRIC_FIELD, \n",
    "                                                            [filter_date_4y, git_filter])\n",
    "\n",
    "draw_piechart(pie_chart_labels, pie_chart_values, 'Commits by Gender (last 4 years)')"
   ]
  },
  {
   "cell_type": "code",
   "execution_count": 39,
   "metadata": {},
   "outputs": [
    {
     "data": {
      "application/vnd.plotly.v1+json": {
       "data": [
        {
         "labels": [
          "male",
          "NotKnown",
          "female"
         ],
         "type": "pie",
         "values": [
          42473,
          20537,
          4325
         ]
        }
       ],
       "layout": {
        "title": "Commits by Gender (last year)"
       }
      },
      "text/html": [
       "<div id=\"9a516634-14d7-41cb-8945-9ceeb6a30d77\" style=\"height: 525px; width: 100%;\" class=\"plotly-graph-div\"></div><script type=\"text/javascript\">require([\"plotly\"], function(Plotly) { window.PLOTLYENV=window.PLOTLYENV || {};window.PLOTLYENV.BASE_URL=\"https://plot.ly\";Plotly.newPlot(\"9a516634-14d7-41cb-8945-9ceeb6a30d77\", [{\"values\": [42473, 20537, 4325], \"type\": \"pie\", \"labels\": [\"male\", \"NotKnown\", \"female\"]}], {\"title\": \"Commits by Gender (last year)\"}, {\"showLink\": true, \"linkText\": \"Export to plot.ly\"})});</script>"
      ],
      "text/vnd.plotly.v1+html": [
       "<div id=\"9a516634-14d7-41cb-8945-9ceeb6a30d77\" style=\"height: 525px; width: 100%;\" class=\"plotly-graph-div\"></div><script type=\"text/javascript\">require([\"plotly\"], function(Plotly) { window.PLOTLYENV=window.PLOTLYENV || {};window.PLOTLYENV.BASE_URL=\"https://plot.ly\";Plotly.newPlot(\"9a516634-14d7-41cb-8945-9ceeb6a30d77\", [{\"values\": [42473, 20537, 4325], \"type\": \"pie\", \"labels\": [\"male\", \"NotKnown\", \"female\"]}], {\"title\": \"Commits by Gender (last year)\"}, {\"showLink\": true, \"linkText\": \"Export to plot.ly\"})});</script>"
      ]
     },
     "metadata": {},
     "output_type": "display_data"
    }
   ],
   "source": [
    "#pie_chart_labels, pie_chart_values = query_total_piechart(INDEX, METRIC_NAME, METRIC_FIELD, \n",
    "#                                                            [filter_date_1y, filter_merges_addedlines,\n",
    "#                                                             filter_merges_removedlines, filter_bots])\n",
    "\n",
    "pie_chart_labels, pie_chart_values, pie_chart_count = query_total_piechart(INDEX, METRIC_NAME, METRIC_FIELD, \n",
    "                                                            [filter_date_1y, git_filter])\n",
    "\n",
    "draw_piechart(pie_chart_labels, pie_chart_values, 'Commits by Gender (last year)')"
   ]
  },
  {
   "cell_type": "markdown",
   "metadata": {},
   "source": [
    "\n",
    "* Evolution and trends [per quarter] of developers over time by gender\n",
    "  * Developers by gender (columns: name, uuid, gender)"
   ]
  },
  {
   "cell_type": "code",
   "execution_count": 40,
   "metadata": {},
   "outputs": [
    {
     "data": {
      "application/vnd.plotly.v1+json": {
       "data": [
        {
         "name": "female",
         "type": "scatter",
         "x": [
          "2013-10-01T00:00:00.000Z",
          "2014-01-01T00:00:00.000Z",
          "2014-04-01T00:00:00.000Z",
          "2014-07-01T00:00:00.000Z",
          "2014-10-01T00:00:00.000Z",
          "2015-01-01T00:00:00.000Z",
          "2015-04-01T00:00:00.000Z",
          "2015-07-01T00:00:00.000Z",
          "2015-10-01T00:00:00.000Z",
          "2016-01-01T00:00:00.000Z",
          "2016-04-01T00:00:00.000Z",
          "2016-07-01T00:00:00.000Z",
          "2016-10-01T00:00:00.000Z",
          "2017-01-01T00:00:00.000Z",
          "2017-04-01T00:00:00.000Z",
          "2017-07-01T00:00:00.000Z"
         ],
         "y": [
          90,
          123,
          125,
          163,
          140,
          183,
          168,
          221,
          205,
          263,
          230,
          216,
          179,
          159,
          89,
          72
         ]
        },
        {
         "name": "male",
         "type": "scatter",
         "x": [
          "2013-10-01T00:00:00.000Z",
          "2014-01-01T00:00:00.000Z",
          "2014-04-01T00:00:00.000Z",
          "2014-07-01T00:00:00.000Z",
          "2014-10-01T00:00:00.000Z",
          "2015-01-01T00:00:00.000Z",
          "2015-04-01T00:00:00.000Z",
          "2015-07-01T00:00:00.000Z",
          "2015-10-01T00:00:00.000Z",
          "2016-01-01T00:00:00.000Z",
          "2016-04-01T00:00:00.000Z",
          "2016-07-01T00:00:00.000Z",
          "2016-10-01T00:00:00.000Z",
          "2017-01-01T00:00:00.000Z",
          "2017-04-01T00:00:00.000Z",
          "2017-07-01T00:00:00.000Z"
         ],
         "y": [
          809,
          1011,
          1052,
          1137,
          1121,
          1268,
          1259,
          1431,
          1311,
          1483,
          1398,
          1391,
          1135,
          987,
          660,
          473
         ]
        },
        {
         "name": "unknown",
         "type": "scatter",
         "x": [
          "2013-10-01T00:00:00.000Z",
          "2014-01-01T00:00:00.000Z",
          "2014-04-01T00:00:00.000Z",
          "2014-07-01T00:00:00.000Z",
          "2014-10-01T00:00:00.000Z",
          "2015-01-01T00:00:00.000Z",
          "2015-04-01T00:00:00.000Z",
          "2015-07-01T00:00:00.000Z",
          "2015-10-01T00:00:00.000Z",
          "2016-01-01T00:00:00.000Z",
          "2016-04-01T00:00:00.000Z",
          "2016-07-01T00:00:00.000Z",
          "2016-10-01T00:00:00.000Z",
          "2017-01-01T00:00:00.000Z",
          "2017-04-01T00:00:00.000Z",
          "2017-07-01T00:00:00.000Z"
         ],
         "y": [
          242,
          249,
          256,
          279,
          256,
          330,
          324,
          416,
          384,
          456,
          436,
          494,
          407,
          411,
          277,
          213
         ]
        }
       ],
       "layout": {}
      },
      "text/html": [
       "<div id=\"57bad3cf-b94c-4d6b-abd9-6fed14756e11\" style=\"height: 525px; width: 100%;\" class=\"plotly-graph-div\"></div><script type=\"text/javascript\">require([\"plotly\"], function(Plotly) { window.PLOTLYENV=window.PLOTLYENV || {};window.PLOTLYENV.BASE_URL=\"https://plot.ly\";Plotly.newPlot(\"57bad3cf-b94c-4d6b-abd9-6fed14756e11\", [{\"y\": [90, 123, 125, 163, 140, 183, 168, 221, 205, 263, 230, 216, 179, 159, 89, 72], \"x\": [\"2013-10-01T00:00:00.000Z\", \"2014-01-01T00:00:00.000Z\", \"2014-04-01T00:00:00.000Z\", \"2014-07-01T00:00:00.000Z\", \"2014-10-01T00:00:00.000Z\", \"2015-01-01T00:00:00.000Z\", \"2015-04-01T00:00:00.000Z\", \"2015-07-01T00:00:00.000Z\", \"2015-10-01T00:00:00.000Z\", \"2016-01-01T00:00:00.000Z\", \"2016-04-01T00:00:00.000Z\", \"2016-07-01T00:00:00.000Z\", \"2016-10-01T00:00:00.000Z\", \"2017-01-01T00:00:00.000Z\", \"2017-04-01T00:00:00.000Z\", \"2017-07-01T00:00:00.000Z\"], \"type\": \"scatter\", \"name\": \"female\"}, {\"y\": [809, 1011, 1052, 1137, 1121, 1268, 1259, 1431, 1311, 1483, 1398, 1391, 1135, 987, 660, 473], \"x\": [\"2013-10-01T00:00:00.000Z\", \"2014-01-01T00:00:00.000Z\", \"2014-04-01T00:00:00.000Z\", \"2014-07-01T00:00:00.000Z\", \"2014-10-01T00:00:00.000Z\", \"2015-01-01T00:00:00.000Z\", \"2015-04-01T00:00:00.000Z\", \"2015-07-01T00:00:00.000Z\", \"2015-10-01T00:00:00.000Z\", \"2016-01-01T00:00:00.000Z\", \"2016-04-01T00:00:00.000Z\", \"2016-07-01T00:00:00.000Z\", \"2016-10-01T00:00:00.000Z\", \"2017-01-01T00:00:00.000Z\", \"2017-04-01T00:00:00.000Z\", \"2017-07-01T00:00:00.000Z\"], \"type\": \"scatter\", \"name\": \"male\"}, {\"y\": [242, 249, 256, 279, 256, 330, 324, 416, 384, 456, 436, 494, 407, 411, 277, 213], \"x\": [\"2013-10-01T00:00:00.000Z\", \"2014-01-01T00:00:00.000Z\", \"2014-04-01T00:00:00.000Z\", \"2014-07-01T00:00:00.000Z\", \"2014-10-01T00:00:00.000Z\", \"2015-01-01T00:00:00.000Z\", \"2015-04-01T00:00:00.000Z\", \"2015-07-01T00:00:00.000Z\", \"2015-10-01T00:00:00.000Z\", \"2016-01-01T00:00:00.000Z\", \"2016-04-01T00:00:00.000Z\", \"2016-07-01T00:00:00.000Z\", \"2016-10-01T00:00:00.000Z\", \"2017-01-01T00:00:00.000Z\", \"2017-04-01T00:00:00.000Z\", \"2017-07-01T00:00:00.000Z\"], \"type\": \"scatter\", \"name\": \"unknown\"}], {}, {\"showLink\": true, \"linkText\": \"Export to plot.ly\"})});</script>"
      ],
      "text/vnd.plotly.v1+html": [
       "<div id=\"57bad3cf-b94c-4d6b-abd9-6fed14756e11\" style=\"height: 525px; width: 100%;\" class=\"plotly-graph-div\"></div><script type=\"text/javascript\">require([\"plotly\"], function(Plotly) { window.PLOTLYENV=window.PLOTLYENV || {};window.PLOTLYENV.BASE_URL=\"https://plot.ly\";Plotly.newPlot(\"57bad3cf-b94c-4d6b-abd9-6fed14756e11\", [{\"y\": [90, 123, 125, 163, 140, 183, 168, 221, 205, 263, 230, 216, 179, 159, 89, 72], \"x\": [\"2013-10-01T00:00:00.000Z\", \"2014-01-01T00:00:00.000Z\", \"2014-04-01T00:00:00.000Z\", \"2014-07-01T00:00:00.000Z\", \"2014-10-01T00:00:00.000Z\", \"2015-01-01T00:00:00.000Z\", \"2015-04-01T00:00:00.000Z\", \"2015-07-01T00:00:00.000Z\", \"2015-10-01T00:00:00.000Z\", \"2016-01-01T00:00:00.000Z\", \"2016-04-01T00:00:00.000Z\", \"2016-07-01T00:00:00.000Z\", \"2016-10-01T00:00:00.000Z\", \"2017-01-01T00:00:00.000Z\", \"2017-04-01T00:00:00.000Z\", \"2017-07-01T00:00:00.000Z\"], \"type\": \"scatter\", \"name\": \"female\"}, {\"y\": [809, 1011, 1052, 1137, 1121, 1268, 1259, 1431, 1311, 1483, 1398, 1391, 1135, 987, 660, 473], \"x\": [\"2013-10-01T00:00:00.000Z\", \"2014-01-01T00:00:00.000Z\", \"2014-04-01T00:00:00.000Z\", \"2014-07-01T00:00:00.000Z\", \"2014-10-01T00:00:00.000Z\", \"2015-01-01T00:00:00.000Z\", \"2015-04-01T00:00:00.000Z\", \"2015-07-01T00:00:00.000Z\", \"2015-10-01T00:00:00.000Z\", \"2016-01-01T00:00:00.000Z\", \"2016-04-01T00:00:00.000Z\", \"2016-07-01T00:00:00.000Z\", \"2016-10-01T00:00:00.000Z\", \"2017-01-01T00:00:00.000Z\", \"2017-04-01T00:00:00.000Z\", \"2017-07-01T00:00:00.000Z\"], \"type\": \"scatter\", \"name\": \"male\"}, {\"y\": [242, 249, 256, 279, 256, 330, 324, 416, 384, 456, 436, 494, 407, 411, 277, 213], \"x\": [\"2013-10-01T00:00:00.000Z\", \"2014-01-01T00:00:00.000Z\", \"2014-04-01T00:00:00.000Z\", \"2014-07-01T00:00:00.000Z\", \"2014-10-01T00:00:00.000Z\", \"2015-01-01T00:00:00.000Z\", \"2015-04-01T00:00:00.000Z\", \"2015-07-01T00:00:00.000Z\", \"2015-10-01T00:00:00.000Z\", \"2016-01-01T00:00:00.000Z\", \"2016-04-01T00:00:00.000Z\", \"2016-07-01T00:00:00.000Z\", \"2016-10-01T00:00:00.000Z\", \"2017-01-01T00:00:00.000Z\", \"2017-04-01T00:00:00.000Z\", \"2017-07-01T00:00:00.000Z\"], \"type\": \"scatter\", \"name\": \"unknown\"}], {}, {\"showLink\": true, \"linkText\": \"Export to plot.ly\"})});</script>"
      ]
     },
     "metadata": {},
     "output_type": "display_data"
    }
   ],
   "source": [
    "METRIC_NAME = \"authors\"\n",
    "METRIC_FIELD = \"uuid\"\n",
    "\n",
    "df = query_metric_over_time(INDEX, METRIC_NAME, METRIC_FIELD, [filter_date_4y, git_filter])\n",
    "\n",
    "draw_evolutionary_chart(\"key_as_string\", METRIC_NAME)"
   ]
  },
  {
   "cell_type": "code",
   "execution_count": 41,
   "metadata": {},
   "outputs": [
    {
     "data": {
      "application/vnd.plotly.v1+json": {
       "data": [
        {
         "labels": [
          "male",
          "NotKnown",
          "female"
         ],
         "type": "pie",
         "values": [
          5418,
          2353,
          864
         ]
        }
       ],
       "layout": {
        "title": "Authors by Gender (last 4 years)"
       }
      },
      "text/html": [
       "<div id=\"34cf3737-ab6d-4d36-98be-598cb5a8a665\" style=\"height: 525px; width: 100%;\" class=\"plotly-graph-div\"></div><script type=\"text/javascript\">require([\"plotly\"], function(Plotly) { window.PLOTLYENV=window.PLOTLYENV || {};window.PLOTLYENV.BASE_URL=\"https://plot.ly\";Plotly.newPlot(\"34cf3737-ab6d-4d36-98be-598cb5a8a665\", [{\"values\": [5418, 2353, 864], \"type\": \"pie\", \"labels\": [\"male\", \"NotKnown\", \"female\"]}], {\"title\": \"Authors by Gender (last 4 years)\"}, {\"showLink\": true, \"linkText\": \"Export to plot.ly\"})});</script>"
      ],
      "text/vnd.plotly.v1+html": [
       "<div id=\"34cf3737-ab6d-4d36-98be-598cb5a8a665\" style=\"height: 525px; width: 100%;\" class=\"plotly-graph-div\"></div><script type=\"text/javascript\">require([\"plotly\"], function(Plotly) { window.PLOTLYENV=window.PLOTLYENV || {};window.PLOTLYENV.BASE_URL=\"https://plot.ly\";Plotly.newPlot(\"34cf3737-ab6d-4d36-98be-598cb5a8a665\", [{\"values\": [5418, 2353, 864], \"type\": \"pie\", \"labels\": [\"male\", \"NotKnown\", \"female\"]}], {\"title\": \"Authors by Gender (last 4 years)\"}, {\"showLink\": true, \"linkText\": \"Export to plot.ly\"})});</script>"
      ]
     },
     "metadata": {},
     "output_type": "display_data"
    }
   ],
   "source": [
    "pie_chart_labels, pie_chart_values, pie_chart_count = query_total_piechart(INDEX, METRIC_NAME, METRIC_FIELD, \n",
    "                                                            [filter_date_4y, git_filter])\n",
    "draw_piechart(pie_chart_labels, pie_chart_values, 'Authors by Gender (last 4 years)')"
   ]
  },
  {
   "cell_type": "code",
   "execution_count": 42,
   "metadata": {},
   "outputs": [
    {
     "data": {
      "application/vnd.plotly.v1+json": {
       "data": [
        {
         "labels": [
          "male",
          "NotKnown",
          "female"
         ],
         "type": "pie",
         "values": [
          1697,
          750,
          268
         ]
        }
       ],
       "layout": {
        "title": "Authors by Gender (last year)"
       }
      },
      "text/html": [
       "<div id=\"ddbed565-30f1-4695-916f-4a597253065c\" style=\"height: 525px; width: 100%;\" class=\"plotly-graph-div\"></div><script type=\"text/javascript\">require([\"plotly\"], function(Plotly) { window.PLOTLYENV=window.PLOTLYENV || {};window.PLOTLYENV.BASE_URL=\"https://plot.ly\";Plotly.newPlot(\"ddbed565-30f1-4695-916f-4a597253065c\", [{\"values\": [1697, 750, 268], \"type\": \"pie\", \"labels\": [\"male\", \"NotKnown\", \"female\"]}], {\"title\": \"Authors by Gender (last year)\"}, {\"showLink\": true, \"linkText\": \"Export to plot.ly\"})});</script>"
      ],
      "text/vnd.plotly.v1+html": [
       "<div id=\"ddbed565-30f1-4695-916f-4a597253065c\" style=\"height: 525px; width: 100%;\" class=\"plotly-graph-div\"></div><script type=\"text/javascript\">require([\"plotly\"], function(Plotly) { window.PLOTLYENV=window.PLOTLYENV || {};window.PLOTLYENV.BASE_URL=\"https://plot.ly\";Plotly.newPlot(\"ddbed565-30f1-4695-916f-4a597253065c\", [{\"values\": [1697, 750, 268], \"type\": \"pie\", \"labels\": [\"male\", \"NotKnown\", \"female\"]}], {\"title\": \"Authors by Gender (last year)\"}, {\"showLink\": true, \"linkText\": \"Export to plot.ly\"})});</script>"
      ]
     },
     "metadata": {},
     "output_type": "display_data"
    }
   ],
   "source": [
    "pie_chart_labels, pie_chart_values, pie_chart_count = query_total_piechart(INDEX, METRIC_NAME, METRIC_FIELD, \n",
    "                                                            [filter_date_1y, git_filter])\n",
    "draw_piechart(pie_chart_labels, pie_chart_values, 'Authors by Gender (last year)')"
   ]
  },
  {
   "cell_type": "markdown",
   "metadata": {},
   "source": [
    "# Top Projects by women activity and women population"
   ]
  },
  {
   "cell_type": "code",
   "execution_count": 43,
   "metadata": {
    "collapsed": true
   },
   "outputs": [],
   "source": [
    "METRIC_NAME = \"commits\"\n",
    "METRIC_FIELD = \"id\"\n",
    "\n",
    "filters = [filter_date_4y, git_filter]\n",
    "\n",
    "s = Search(using=es_conn, index=INDEX)  # Index selection\n",
    "for filtering in filters:\n",
    "    s = s.filter(filtering)\n",
    "s.aggs.bucket('project', 'terms', field='projects', size=1000)\\\n",
    "      .bucket('gender', 'terms', field='gender')\\\n",
    "      .metric(METRIC_NAME, 'cardinality', field=METRIC_FIELD, precision_threshold=10000)\\\n",
    "      .metric('authors', 'cardinality', field='uuid')\n",
    "result = s.execute()\n",
    "\n",
    "values = result.to_dict()"
   ]
  },
  {
   "cell_type": "code",
   "execution_count": 44,
   "metadata": {},
   "outputs": [
    {
     "name": "stdout",
     "output_type": "stream",
     "text": [
      "[{'gender': {'sum_other_doc_count': 0, 'buckets': [{'commits': {'value': 129770}, 'key': 'male', 'authors': {'value': 3981}, 'doc_count': 140299}, {'commits': {'value': 45003}, 'key': 'NotKnown', 'authors': {'value': 1757}, 'doc_count': 49149}, {'commits': {'value': 11950}, 'key': 'female', 'authors': {'value': 587}, 'doc_count': 13088}], 'doc_count_error_upper_bound': 0}, 'key': 'Packaging-deb', 'doc_count': 202536}, {'gender': {'sum_other_doc_count': 0, 'buckets': [{'commits': {'value': 45262}, 'key': 'male', 'authors': {'value': 1229}, 'doc_count': 46607}, {'commits': {'value': 3100}, 'key': 'NotKnown', 'authors': {'value': 283}, 'doc_count': 3293}, {'commits': {'value': 2638}, 'key': 'female', 'authors': {'value': 145}, 'doc_count': 2813}], 'doc_count_error_upper_bound': 0}, 'key': 'Infrastructure', 'doc_count': 52713}, {'gender': {'sum_other_doc_count': 0, 'buckets': [{'commits': {'value': 28813}, 'key': 'male', 'authors': {'value': 888}, 'doc_count': 30536}, {'commits': {'value': 6605}, 'key': 'NotKnown', 'authors': {'value': 332}, 'doc_count': 6864}, {'commits': {'value': 4150}, 'key': 'female', 'authors': {'value': 149}, 'doc_count': 4206}], 'doc_count_error_upper_bound': 0}, 'key': 'notavailable', 'doc_count': 41606}, {'gender': {'sum_other_doc_count': 0, 'buckets': [{'commits': {'value': 17488}, 'key': 'male', 'authors': {'value': 109}, 'doc_count': 18516}, {'commits': {'value': 2108}, 'key': 'NotKnown', 'authors': {'value': 31}, 'doc_count': 2178}, {'commits': {'value': 637}, 'key': 'female', 'authors': {'value': 8}, 'doc_count': 671}], 'doc_count_error_upper_bound': 0}, 'key': 'OpenStack Charms', 'doc_count': 21365}, {'gender': {'sum_other_doc_count': 0, 'buckets': [{'commits': {'value': 10141}, 'key': 'male', 'authors': {'value': 555}, 'doc_count': 12866}, {'commits': {'value': 4102}, 'key': 'NotKnown', 'authors': {'value': 264}, 'doc_count': 5322}, {'commits': {'value': 706}, 'key': 'female', 'authors': {'value': 89}, 'doc_count': 988}], 'doc_count_error_upper_bound': 0}, 'key': 'neutron', 'doc_count': 19176}, {'gender': {'sum_other_doc_count': 0, 'buckets': [{'commits': {'value': 11776}, 'key': 'male', 'authors': {'value': 174}, 'doc_count': 13121}, {'commits': {'value': 1990}, 'key': 'NotKnown', 'authors': {'value': 58}, 'doc_count': 2669}, {'commits': {'value': 350}, 'key': 'female', 'authors': {'value': 26}, 'doc_count': 379}], 'doc_count_error_upper_bound': 0}, 'key': 'OpenStackAnsible', 'doc_count': 16169}, {'gender': {'sum_other_doc_count': 0, 'buckets': [{'commits': {'value': 10306}, 'key': 'male', 'authors': {'value': 599}, 'doc_count': 10394}, {'commits': {'value': 3104}, 'key': 'NotKnown', 'authors': {'value': 298}, 'doc_count': 3143}, {'commits': {'value': 766}, 'key': 'female', 'authors': {'value': 97}, 'doc_count': 771}], 'doc_count_error_upper_bound': 0}, 'key': 'nova', 'doc_count': 14308}, {'gender': {'sum_other_doc_count': 0, 'buckets': [{'commits': {'value': 6788}, 'key': 'male', 'authors': {'value': 543}, 'doc_count': 6932}, {'commits': {'value': 4257}, 'key': 'NotKnown', 'authors': {'value': 253}, 'doc_count': 4311}, {'commits': {'value': 2266}, 'key': 'female', 'authors': {'value': 119}, 'doc_count': 2285}], 'doc_count_error_upper_bound': 0}, 'key': 'Documentation', 'doc_count': 13528}, {'gender': {'sum_other_doc_count': 0, 'buckets': [{'commits': {'value': 11797}, 'key': 'male', 'authors': {'value': 276}, 'doc_count': 12126}, {'commits': {'value': 644}, 'key': 'NotKnown', 'authors': {'value': 72}, 'doc_count': 709}, {'commits': {'value': 596}, 'key': 'female', 'authors': {'value': 35}, 'doc_count': 614}], 'doc_count_error_upper_bound': 0}, 'key': 'tripleo', 'doc_count': 13449}, {'gender': {'sum_other_doc_count': 0, 'buckets': [{'commits': {'value': 7973}, 'key': 'male', 'authors': {'value': 332}, 'doc_count': 8211}, {'commits': {'value': 1860}, 'key': 'NotKnown', 'authors': {'value': 85}, 'doc_count': 2077}, {'commits': {'value': 868}, 'key': 'female', 'authors': {'value': 32}, 'doc_count': 870}], 'doc_count_error_upper_bound': 0}, 'key': 'Puppet OpenStack', 'doc_count': 11158}, {'gender': {'sum_other_doc_count': 0, 'buckets': [{'commits': {'value': 6930}, 'key': 'male', 'authors': {'value': 634}, 'doc_count': 7129}, {'commits': {'value': 2051}, 'key': 'NotKnown', 'authors': {'value': 231}, 'doc_count': 2097}, {'commits': {'value': 577}, 'key': 'female', 'authors': {'value': 89}, 'doc_count': 589}], 'doc_count_error_upper_bound': 0}, 'key': 'Quality Assurance', 'doc_count': 9815}, {'gender': {'sum_other_doc_count': 0, 'buckets': [{'commits': {'value': 5336}, 'key': 'male', 'authors': {'value': 289}, 'doc_count': 5381}, {'commits': {'value': 2604}, 'key': 'NotKnown', 'authors': {'value': 138}, 'doc_count': 2698}, {'commits': {'value': 1341}, 'key': 'female', 'authors': {'value': 43}, 'doc_count': 1385}], 'doc_count_error_upper_bound': 0}, 'key': 'ironic', 'doc_count': 9464}, {'gender': {'sum_other_doc_count': 0, 'buckets': [{'commits': {'value': 5219}, 'key': 'male', 'authors': {'value': 396}, 'doc_count': 5303}, {'commits': {'value': 3136}, 'key': 'NotKnown', 'authors': {'value': 161}, 'doc_count': 3317}, {'commits': {'value': 244}, 'key': 'female', 'authors': {'value': 52}, 'doc_count': 246}], 'doc_count_error_upper_bound': 0}, 'key': 'oslo', 'doc_count': 8866}, {'gender': {'sum_other_doc_count': 0, 'buckets': [{'commits': {'value': 5550}, 'key': 'male', 'authors': {'value': 311}, 'doc_count': 5665}, {'commits': {'value': 2168}, 'key': 'NotKnown', 'authors': {'value': 151}, 'doc_count': 2304}, {'commits': {'value': 206}, 'key': 'female', 'authors': {'value': 51}, 'doc_count': 211}], 'doc_count_error_upper_bound': 0}, 'key': 'heat', 'doc_count': 8180}, {'gender': {'sum_other_doc_count': 0, 'buckets': [{'commits': {'value': 5340}, 'key': 'male', 'authors': {'value': 288}, 'doc_count': 5387}, {'commits': {'value': 1747}, 'key': 'NotKnown', 'authors': {'value': 148}, 'doc_count': 1774}, {'commits': {'value': 572}, 'key': 'female', 'authors': {'value': 52}, 'doc_count': 575}], 'doc_count_error_upper_bound': 0}, 'key': 'keystone', 'doc_count': 7736}, {'gender': {'sum_other_doc_count': 0, 'buckets': [{'commits': {'value': 2948}, 'key': 'male', 'authors': {'value': 225}, 'doc_count': 5209}, {'commits': {'value': 1228}, 'key': 'NotKnown', 'authors': {'value': 166}, 'doc_count': 1962}, {'commits': {'value': 224}, 'key': 'female', 'authors': {'value': 51}, 'doc_count': 474}], 'doc_count_error_upper_bound': 0}, 'key': 'Telemetry', 'doc_count': 7645}, {'gender': {'sum_other_doc_count': 0, 'buckets': [{'commits': {'value': 4764}, 'key': 'male', 'authors': {'value': 465}, 'doc_count': 4810}, {'commits': {'value': 1877}, 'key': 'NotKnown', 'authors': {'value': 279}, 'doc_count': 1921}, {'commits': {'value': 489}, 'key': 'female', 'authors': {'value': 69}, 'doc_count': 494}], 'doc_count_error_upper_bound': 0}, 'key': 'cinder', 'doc_count': 7225}, {'gender': {'sum_other_doc_count': 0, 'buckets': [{'commits': {'value': 3646}, 'key': 'male', 'authors': {'value': 203}, 'doc_count': 5207}, {'commits': {'value': 1077}, 'key': 'NotKnown', 'authors': {'value': 115}, 'doc_count': 1536}, {'commits': {'value': 141}, 'key': 'female', 'authors': {'value': 31}, 'doc_count': 207}], 'doc_count_error_upper_bound': 0}, 'key': 'kolla', 'doc_count': 6950}, {'gender': {'sum_other_doc_count': 0, 'buckets': [{'commits': {'value': 3361}, 'key': 'male', 'authors': {'value': 354}, 'doc_count': 3394}, {'commits': {'value': 2256}, 'key': 'NotKnown', 'authors': {'value': 166}, 'doc_count': 2315}, {'commits': {'value': 780}, 'key': 'female', 'authors': {'value': 83}, 'doc_count': 789}], 'doc_count_error_upper_bound': 0}, 'key': 'horizon', 'doc_count': 6498}, {'gender': {'sum_other_doc_count': 0, 'buckets': [{'commits': {'value': 4856}, 'key': 'NotKnown', 'authors': {'value': 65}, 'doc_count': 4918}, {'commits': {'value': 314}, 'key': 'male', 'authors': {'value': 51}, 'doc_count': 318}, {'commits': {'value': 201}, 'key': 'female', 'authors': {'value': 18}, 'doc_count': 213}], 'doc_count_error_upper_bound': 0}, 'key': 'senlin', 'doc_count': 5449}, {'gender': {'sum_other_doc_count': 0, 'buckets': [{'commits': {'value': 2838}, 'key': 'male', 'authors': {'value': 149}, 'doc_count': 2860}, {'commits': {'value': 1245}, 'key': 'NotKnown', 'authors': {'value': 99}, 'doc_count': 1303}, {'commits': {'value': 844}, 'key': 'female', 'authors': {'value': 35}, 'doc_count': 848}], 'doc_count_error_upper_bound': 0}, 'key': 'murano', 'doc_count': 5011}, {'gender': {'sum_other_doc_count': 0, 'buckets': [{'commits': {'value': 2867}, 'key': 'male', 'authors': {'value': 314}, 'doc_count': 2959}, {'commits': {'value': 1408}, 'key': 'NotKnown', 'authors': {'value': 130}, 'doc_count': 1460}, {'commits': {'value': 250}, 'key': 'female', 'authors': {'value': 40}, 'doc_count': 258}], 'doc_count_error_upper_bound': 0}, 'key': 'octavia', 'doc_count': 4677}, {'gender': {'sum_other_doc_count': 0, 'buckets': [{'commits': {'value': 3602}, 'key': 'male', 'authors': {'value': 135}, 'doc_count': 3772}, {'commits': {'value': 640}, 'key': 'NotKnown', 'authors': {'value': 79}, 'doc_count': 682}, {'commits': {'value': 179}, 'key': 'female', 'authors': {'value': 21}, 'doc_count': 180}], 'doc_count_error_upper_bound': 0}, 'key': 'monasca', 'doc_count': 4634}, {'gender': {'sum_other_doc_count': 0, 'buckets': [{'commits': {'value': 3172}, 'key': 'male', 'authors': {'value': 155}, 'doc_count': 3222}, {'commits': {'value': 979}, 'key': 'NotKnown', 'authors': {'value': 96}, 'doc_count': 1029}, {'commits': {'value': 201}, 'key': 'female', 'authors': {'value': 25}, 'doc_count': 209}], 'doc_count_error_upper_bound': 0}, 'key': 'sahara', 'doc_count': 4460}, {'gender': {'sum_other_doc_count': 0, 'buckets': [{'commits': {'value': 3186}, 'key': 'male', 'authors': {'value': 161}, 'doc_count': 3329}, {'commits': {'value': 253}, 'key': 'NotKnown', 'authors': {'value': 42}, 'doc_count': 271}, {'commits': {'value': 58}, 'key': 'female', 'authors': {'value': 19}, 'doc_count': 60}], 'doc_count_error_upper_bound': 0}, 'key': 'Release Management', 'doc_count': 3660}, {'gender': {'sum_other_doc_count': 0, 'buckets': [{'commits': {'value': 2054}, 'key': 'male', 'authors': {'value': 316}, 'doc_count': 2086}, {'commits': {'value': 1173}, 'key': 'NotKnown', 'authors': {'value': 77}, 'doc_count': 1268}, {'commits': {'value': 103}, 'key': 'female', 'authors': {'value': 40}, 'doc_count': 106}], 'doc_count_error_upper_bound': 0}, 'key': 'requirements', 'doc_count': 3460}, {'gender': {'sum_other_doc_count': 0, 'buckets': [{'commits': {'value': 1835}, 'key': 'male', 'authors': {'value': 183}, 'doc_count': 1867}, {'commits': {'value': 1140}, 'key': 'NotKnown', 'authors': {'value': 105}, 'doc_count': 1169}, {'commits': {'value': 386}, 'key': 'female', 'authors': {'value': 37}, 'doc_count': 387}], 'doc_count_error_upper_bound': 0}, 'key': 'OpenStackClient', 'doc_count': 3423}, {'gender': {'sum_other_doc_count': 0, 'buckets': [{'commits': {'value': 1889}, 'key': 'male', 'authors': {'value': 151}, 'doc_count': 1920}, {'commits': {'value': 995}, 'key': 'NotKnown', 'authors': {'value': 99}, 'doc_count': 1054}, {'commits': {'value': 215}, 'key': 'female', 'authors': {'value': 25}, 'doc_count': 216}], 'doc_count_error_upper_bound': 0}, 'key': 'manila', 'doc_count': 3190}, {'gender': {'sum_other_doc_count': 0, 'buckets': [{'commits': {'value': 1467}, 'key': 'male', 'authors': {'value': 144}, 'doc_count': 1489}, {'commits': {'value': 1305}, 'key': 'NotKnown', 'authors': {'value': 99}, 'doc_count': 1338}, {'commits': {'value': 334}, 'key': 'female', 'authors': {'value': 27}, 'doc_count': 342}], 'doc_count_error_upper_bound': 0}, 'key': 'magnum', 'doc_count': 3169}, {'gender': {'sum_other_doc_count': 0, 'buckets': [{'commits': {'value': 1985}, 'key': 'male', 'authors': {'value': 245}, 'doc_count': 2013}, {'commits': {'value': 858}, 'key': 'NotKnown', 'authors': {'value': 126}, 'doc_count': 885}, {'commits': {'value': 217}, 'key': 'female', 'authors': {'value': 49}, 'doc_count': 217}], 'doc_count_error_upper_bound': 0}, 'key': 'glance', 'doc_count': 3115}, {'gender': {'sum_other_doc_count': 0, 'buckets': [{'commits': {'value': 2113}, 'key': 'male', 'authors': {'value': 203}, 'doc_count': 2159}, {'commits': {'value': 655}, 'key': 'NotKnown', 'authors': {'value': 127}, 'doc_count': 669}, {'commits': {'value': 191}, 'key': 'female', 'authors': {'value': 32}, 'doc_count': 198}], 'doc_count_error_upper_bound': 0}, 'key': 'rally', 'doc_count': 3026}, {'gender': {'sum_other_doc_count': 0, 'buckets': [{'commits': {'value': 2335}, 'key': 'male', 'authors': {'value': 192}, 'doc_count': 2371}, {'commits': {'value': 352}, 'key': 'NotKnown', 'authors': {'value': 81}, 'doc_count': 359}, {'commits': {'value': 202}, 'key': 'female', 'authors': {'value': 35}, 'doc_count': 205}], 'doc_count_error_upper_bound': 0}, 'key': 'swift', 'doc_count': 2935}, {'gender': {'sum_other_doc_count': 0, 'buckets': [{'commits': {'value': 1528}, 'key': 'male', 'authors': {'value': 112}, 'doc_count': 1533}, {'commits': {'value': 951}, 'key': 'NotKnown', 'authors': {'value': 61}, 'doc_count': 971}, {'commits': {'value': 119}, 'key': 'female', 'authors': {'value': 27}, 'doc_count': 119}], 'doc_count_error_upper_bound': 0}, 'key': 'Security', 'doc_count': 2623}, {'gender': {'sum_other_doc_count': 0, 'buckets': [{'commits': {'value': 1288}, 'key': 'NotKnown', 'authors': {'value': 64}, 'doc_count': 1309}, {'commits': {'value': 1131}, 'key': 'male', 'authors': {'value': 123}, 'doc_count': 1147}, {'commits': {'value': 58}, 'key': 'female', 'authors': {'value': 12}, 'doc_count': 58}], 'doc_count_error_upper_bound': 0}, 'key': 'designate', 'doc_count': 2514}, {'gender': {'sum_other_doc_count': 0, 'buckets': [{'commits': {'value': 1594}, 'key': 'male', 'authors': {'value': 142}, 'doc_count': 1597}, {'commits': {'value': 634}, 'key': 'NotKnown', 'authors': {'value': 86}, 'doc_count': 639}, {'commits': {'value': 201}, 'key': 'female', 'authors': {'value': 30}, 'doc_count': 201}], 'doc_count_error_upper_bound': 0}, 'key': 'trove', 'doc_count': 2437}, {'gender': {'sum_other_doc_count': 0, 'buckets': [{'commits': {'value': 1521}, 'key': 'male', 'authors': {'value': 99}, 'doc_count': 1576}, {'commits': {'value': 630}, 'key': 'NotKnown', 'authors': {'value': 57}, 'doc_count': 688}, {'commits': {'value': 127}, 'key': 'female', 'authors': {'value': 13}, 'doc_count': 128}], 'doc_count_error_upper_bound': 0}, 'key': 'mistral', 'doc_count': 2392}, {'gender': {'sum_other_doc_count': 0, 'buckets': [{'commits': {'value': 1920}, 'key': 'male', 'authors': {'value': 87}, 'doc_count': 1960}, {'commits': {'value': 381}, 'key': 'NotKnown', 'authors': {'value': 40}, 'doc_count': 382}, {'commits': {'value': 49}, 'key': 'female', 'authors': {'value': 17}, 'doc_count': 49}], 'doc_count_error_upper_bound': 0}, 'key': 'Chef OpenStack', 'doc_count': 2391}, {'gender': {'sum_other_doc_count': 0, 'buckets': [{'commits': {'value': 1221}, 'key': 'male', 'authors': {'value': 129}, 'doc_count': 1229}, {'commits': {'value': 511}, 'key': 'NotKnown', 'authors': {'value': 50}, 'doc_count': 521}, {'commits': {'value': 110}, 'key': 'female', 'authors': {'value': 26}, 'doc_count': 111}], 'doc_count_error_upper_bound': 0}, 'key': 'barbican', 'doc_count': 1861}, {'gender': {'sum_other_doc_count': 0, 'buckets': [{'commits': {'value': 1209}, 'key': 'male', 'authors': {'value': 76}, 'doc_count': 1429}, {'commits': {'value': 111}, 'key': 'NotKnown', 'authors': {'value': 24}, 'doc_count': 200}, {'commits': {'value': 103}, 'key': 'female', 'authors': {'value': 13}, 'doc_count': 116}], 'doc_count_error_upper_bound': 0}, 'key': 'shade', 'doc_count': 1745}, {'gender': {'sum_other_doc_count': 0, 'buckets': [{'commits': {'value': 1004}, 'key': 'male', 'authors': {'value': 77}, 'doc_count': 1012}, {'commits': {'value': 426}, 'key': 'NotKnown', 'authors': {'value': 48}, 'doc_count': 443}, {'commits': {'value': 251}, 'key': 'female', 'authors': {'value': 10}, 'doc_count': 254}], 'doc_count_error_upper_bound': 0}, 'key': 'congress', 'doc_count': 1709}, {'gender': {'sum_other_doc_count': 0, 'buckets': [{'commits': {'value': 836}, 'key': 'male', 'authors': {'value': 93}, 'doc_count': 840}, {'commits': {'value': 603}, 'key': 'NotKnown', 'authors': {'value': 67}, 'doc_count': 645}, {'commits': {'value': 173}, 'key': 'female', 'authors': {'value': 19}, 'doc_count': 178}], 'doc_count_error_upper_bound': 0}, 'key': 'zaqar', 'doc_count': 1663}, {'gender': {'sum_other_doc_count': 0, 'buckets': [{'commits': {'value': 829}, 'key': 'male', 'authors': {'value': 52}, 'doc_count': 831}, {'commits': {'value': 721}, 'key': 'NotKnown', 'authors': {'value': 39}, 'doc_count': 752}, {'commits': {'value': 45}, 'key': 'female', 'authors': {'value': 6}, 'doc_count': 45}], 'doc_count_error_upper_bound': 0}, 'key': 'solum', 'doc_count': 1628}, {'gender': {'sum_other_doc_count': 0, 'buckets': [{'commits': {'value': 960}, 'key': 'male', 'authors': {'value': 39}, 'doc_count': 994}, {'commits': {'value': 325}, 'key': 'NotKnown', 'authors': {'value': 38}, 'doc_count': 335}, {'commits': {'value': 237}, 'key': 'female', 'authors': {'value': 13}, 'doc_count': 240}], 'doc_count_error_upper_bound': 0}, 'key': 'dragonflow', 'doc_count': 1569}, {'gender': {'sum_other_doc_count': 0, 'buckets': [{'commits': {'value': 935}, 'key': 'male', 'authors': {'value': 31}, 'doc_count': 993}, {'commits': {'value': 439}, 'key': 'NotKnown', 'authors': {'value': 19}, 'doc_count': 512}, {'commits': {'value': 28}, 'key': 'female', 'authors': {'value': 2}, 'doc_count': 30}], 'doc_count_error_upper_bound': 0}, 'key': 'Packaging-rpm', 'doc_count': 1535}, {'gender': {'sum_other_doc_count': 0, 'buckets': [{'commits': {'value': 741}, 'key': 'male', 'authors': {'value': 118}, 'doc_count': 751}, {'commits': {'value': 542}, 'key': 'NotKnown', 'authors': {'value': 64}, 'doc_count': 568}, {'commits': {'value': 152}, 'key': 'female', 'authors': {'value': 28}, 'doc_count': 153}], 'doc_count_error_upper_bound': 0}, 'key': 'tacker', 'doc_count': 1472}, {'gender': {'sum_other_doc_count': 0, 'buckets': [{'commits': {'value': 889}, 'key': 'male', 'authors': {'value': 56}, 'doc_count': 916}, {'commits': {'value': 308}, 'key': 'NotKnown', 'authors': {'value': 50}, 'doc_count': 336}, {'commits': {'value': 14}, 'key': 'female', 'authors': {'value': 7}, 'doc_count': 15}], 'doc_count_error_upper_bound': 0}, 'key': 'freezer', 'doc_count': 1267}, {'gender': {'sum_other_doc_count': 0, 'buckets': [{'commits': {'value': 659}, 'key': 'male', 'authors': {'value': 26}, 'doc_count': 688}, {'commits': {'value': 270}, 'key': 'NotKnown', 'authors': {'value': 33}, 'doc_count': 289}, {'commits': {'value': 198}, 'key': 'female', 'authors': {'value': 12}, 'doc_count': 218}], 'doc_count_error_upper_bound': 0}, 'key': 'vitrage', 'doc_count': 1195}, {'gender': {'sum_other_doc_count': 0, 'buckets': [{'commits': {'value': 375}, 'key': 'male', 'authors': {'value': 49}, 'doc_count': 562}, {'commits': {'value': 297}, 'key': 'NotKnown', 'authors': {'value': 46}, 'doc_count': 348}, {'commits': {'value': 109}, 'key': 'female', 'authors': {'value': 10}, 'doc_count': 153}], 'doc_count_error_upper_bound': 0}, 'key': 'kuryr', 'doc_count': 1063}, {'gender': {'sum_other_doc_count': 0, 'buckets': [{'commits': {'value': 480}, 'key': 'male', 'authors': {'value': 58}, 'doc_count': 501}, {'commits': {'value': 379}, 'key': 'NotKnown', 'authors': {'value': 65}, 'doc_count': 420}, {'commits': {'value': 44}, 'key': 'female', 'authors': {'value': 12}, 'doc_count': 45}], 'doc_count_error_upper_bound': 0}, 'key': 'watcher', 'doc_count': 966}, {'gender': {'sum_other_doc_count': 0, 'buckets': [{'commits': {'value': 398}, 'key': 'NotKnown', 'authors': {'value': 49}, 'doc_count': 467}, {'commits': {'value': 258}, 'key': 'male', 'authors': {'value': 33}, 'doc_count': 278}, {'commits': {'value': 132}, 'key': 'female', 'authors': {'value': 13}, 'doc_count': 141}], 'doc_count_error_upper_bound': 0}, 'key': 'zun', 'doc_count': 886}, {'gender': {'sum_other_doc_count': 0, 'buckets': [{'commits': {'value': 588}, 'key': 'NotKnown', 'authors': {'value': 54}, 'doc_count': 636}, {'commits': {'value': 201}, 'key': 'male', 'authors': {'value': 22}, 'doc_count': 218}, {'commits': {'value': 12}, 'key': 'female', 'authors': {'value': 8}, 'doc_count': 12}], 'doc_count_error_upper_bound': 0}, 'key': 'karbor', 'doc_count': 866}, {'gender': {'sum_other_doc_count': 0, 'buckets': [{'commits': {'value': 413}, 'key': 'NotKnown', 'authors': {'value': 17}, 'doc_count': 423}, {'commits': {'value': 288}, 'key': 'male', 'authors': {'value': 17}, 'doc_count': 292}, {'commits': {'value': 5}, 'key': 'female', 'authors': {'value': 2}, 'doc_count': 5}], 'doc_count_error_upper_bound': 0}, 'key': 'ec2-api', 'doc_count': 720}, {'gender': {'sum_other_doc_count': 0, 'buckets': [{'commits': {'value': 389}, 'key': 'male', 'authors': {'value': 42}, 'doc_count': 392}, {'commits': {'value': 252}, 'key': 'NotKnown', 'authors': {'value': 38}, 'doc_count': 271}, {'commits': {'value': 35}, 'key': 'female', 'authors': {'value': 7}, 'doc_count': 35}], 'doc_count_error_upper_bound': 0}, 'key': 'searchlight', 'doc_count': 698}, {'gender': {'sum_other_doc_count': 0, 'buckets': [{'commits': {'value': 461}, 'key': 'male', 'authors': {'value': 38}, 'doc_count': 487}, {'commits': {'value': 82}, 'key': 'NotKnown', 'authors': {'value': 14}, 'doc_count': 89}, {'commits': {'value': 33}, 'key': 'female', 'authors': {'value': 5}, 'doc_count': 33}], 'doc_count_error_upper_bound': 0}, 'key': 'winstackers', 'doc_count': 609}, {'gender': {'sum_other_doc_count': 0, 'buckets': [{'commits': {'value': 393}, 'key': 'male', 'authors': {'value': 37}, 'doc_count': 396}, {'commits': {'value': 105}, 'key': 'NotKnown', 'authors': {'value': 11}, 'doc_count': 105}, {'commits': {'value': 66}, 'key': 'female', 'authors': {'value': 7}, 'doc_count': 72}], 'doc_count_error_upper_bound': 0}, 'key': 'RefStack', 'doc_count': 573}, {'gender': {'sum_other_doc_count': 0, 'buckets': [{'commits': {'value': 321}, 'key': 'male', 'authors': {'value': 36}, 'doc_count': 326}, {'commits': {'value': 194}, 'key': 'NotKnown', 'authors': {'value': 38}, 'doc_count': 198}, {'commits': {'value': 6}, 'key': 'female', 'authors': {'value': 4}, 'doc_count': 6}], 'doc_count_error_upper_bound': 0}, 'key': 'cloudkitty', 'doc_count': 530}, {'gender': {'sum_other_doc_count': 0, 'buckets': [{'commits': {'value': 408}, 'key': 'NotKnown', 'authors': {'value': 35}, 'doc_count': 432}, {'commits': {'value': 44}, 'key': 'female', 'authors': {'value': 8}, 'doc_count': 46}, {'commits': {'value': 38}, 'key': 'male', 'authors': {'value': 12}, 'doc_count': 40}], 'doc_count_error_upper_bound': 0}, 'key': 'tricircle', 'doc_count': 518}, {'gender': {'sum_other_doc_count': 0, 'buckets': [{'commits': {'value': 291}, 'key': 'male', 'authors': {'value': 18}, 'doc_count': 293}, {'commits': {'value': 54}, 'key': 'NotKnown', 'authors': {'value': 4}, 'doc_count': 54}, {'commits': {'value': 53}, 'key': 'female', 'authors': {'value': 3}, 'doc_count': 53}], 'doc_count_error_upper_bound': 0}, 'key': 'storlets', 'doc_count': 400}, {'gender': {'sum_other_doc_count': 0, 'buckets': [{'commits': {'value': 107}, 'key': 'male', 'authors': {'value': 13}, 'doc_count': 112}, {'commits': {'value': 63}, 'key': 'NotKnown', 'authors': {'value': 16}, 'doc_count': 87}, {'commits': {'value': 18}, 'key': 'female', 'authors': {'value': 1}, 'doc_count': 18}], 'doc_count_error_upper_bound': 0}, 'key': 'I18n', 'doc_count': 217}, {'gender': {'sum_other_doc_count': 0, 'buckets': [{'commits': {'value': 57}, 'key': 'male', 'authors': {'value': 22}, 'doc_count': 104}, {'commits': {'value': 21}, 'key': 'NotKnown', 'authors': {'value': 6}, 'doc_count': 39}, {'commits': {'value': 9}, 'key': 'female', 'authors': {'value': 2}, 'doc_count': 17}], 'doc_count_error_upper_bound': 0}, 'key': 'blazar', 'doc_count': 160}, {'gender': {'sum_other_doc_count': 0, 'buckets': [{'commits': {'value': 5}, 'key': 'NotKnown', 'authors': {'value': 3}, 'doc_count': 5}, {'commits': {'value': 3}, 'key': 'male', 'authors': {'value': 3}, 'doc_count': 3}], 'doc_count_error_upper_bound': 0}, 'key': 'cyborg', 'doc_count': 8}]\n"
     ]
    },
    {
     "ename": "TypeError",
     "evalue": "cannot convert the series to <class 'int'>",
     "output_type": "error",
     "traceback": [
      "\u001b[0;31m---------------------------------------------------------------------------\u001b[0m",
      "\u001b[0;31mTypeError\u001b[0m                                 Traceback (most recent call last)",
      "\u001b[0;32m<ipython-input-44-ded2b9823d5e>\u001b[0m in \u001b[0;36m<module>\u001b[0;34m()\u001b[0m\n\u001b[1;32m     14\u001b[0m \u001b[0;34m\u001b[0m\u001b[0m\n\u001b[1;32m     15\u001b[0m     \u001b[0mdf_summary2\u001b[0m\u001b[0;34m[\u001b[0m\u001b[0;34m\"project\"\u001b[0m\u001b[0;34m]\u001b[0m \u001b[0;34m=\u001b[0m \u001b[0;34m[\u001b[0m\u001b[0mi\u001b[0m\u001b[0;34m[\u001b[0m\u001b[0;34m\"key\"\u001b[0m\u001b[0;34m]\u001b[0m\u001b[0;34m]\u001b[0m\u001b[0;34m\u001b[0m\u001b[0m\n\u001b[0;32m---> 16\u001b[0;31m     \u001b[0mdf_summary2\u001b[0m\u001b[0;34m[\u001b[0m\u001b[0;34m\"commits\"\u001b[0m\u001b[0;34m]\u001b[0m \u001b[0;34m=\u001b[0m \u001b[0;34m[\u001b[0m\u001b[0mint\u001b[0m\u001b[0;34m(\u001b[0m\u001b[0mdf2\u001b[0m\u001b[0;34m[\u001b[0m\u001b[0mdf2\u001b[0m\u001b[0;34m[\u001b[0m\u001b[0;34m\"key\"\u001b[0m\u001b[0;34m]\u001b[0m\u001b[0;34m==\u001b[0m\u001b[0;34m\"female\"\u001b[0m\u001b[0;34m]\u001b[0m\u001b[0;34m[\u001b[0m\u001b[0;34m\"commits\"\u001b[0m\u001b[0;34m]\u001b[0m\u001b[0;34m)\u001b[0m\u001b[0;34m]\u001b[0m\u001b[0;34m\u001b[0m\u001b[0m\n\u001b[0m\u001b[1;32m     17\u001b[0m     \u001b[0mdf_summary2\u001b[0m\u001b[0;34m[\u001b[0m\u001b[0;34m\"authors\"\u001b[0m\u001b[0;34m]\u001b[0m \u001b[0;34m=\u001b[0m \u001b[0;34m[\u001b[0m\u001b[0mint\u001b[0m\u001b[0;34m(\u001b[0m\u001b[0mdf2\u001b[0m\u001b[0;34m[\u001b[0m\u001b[0mdf2\u001b[0m\u001b[0;34m[\u001b[0m\u001b[0;34m\"key\"\u001b[0m\u001b[0;34m]\u001b[0m\u001b[0;34m==\u001b[0m\u001b[0;34m\"female\"\u001b[0m\u001b[0;34m]\u001b[0m\u001b[0;34m[\u001b[0m\u001b[0;34m\"authors\"\u001b[0m\u001b[0;34m]\u001b[0m\u001b[0;34m)\u001b[0m\u001b[0;34m]\u001b[0m\u001b[0;34m\u001b[0m\u001b[0m\n\u001b[1;32m     18\u001b[0m     \u001b[0mdf_summary2\u001b[0m\u001b[0;34m[\u001b[0m\u001b[0;34m\"ratio_commits\"\u001b[0m\u001b[0;34m]\u001b[0m \u001b[0;34m=\u001b[0m \u001b[0;34m[\u001b[0m\u001b[0mfloat\u001b[0m\u001b[0;34m(\u001b[0m\u001b[0mdf2\u001b[0m\u001b[0;34m[\u001b[0m\u001b[0mdf2\u001b[0m\u001b[0;34m[\u001b[0m\u001b[0;34m\"key\"\u001b[0m\u001b[0;34m]\u001b[0m\u001b[0;34m==\u001b[0m\u001b[0;34m\"female\"\u001b[0m\u001b[0;34m]\u001b[0m\u001b[0;34m[\u001b[0m\u001b[0;34m\"commits\"\u001b[0m\u001b[0;34m]\u001b[0m\u001b[0;34m)\u001b[0m \u001b[0;34m/\u001b[0m \u001b[0mfloat\u001b[0m\u001b[0;34m(\u001b[0m\u001b[0mdf2\u001b[0m\u001b[0;34m[\u001b[0m\u001b[0mdf2\u001b[0m\u001b[0;34m[\u001b[0m\u001b[0;34m\"key\"\u001b[0m\u001b[0;34m]\u001b[0m\u001b[0;34m==\u001b[0m\u001b[0;34m\"male\"\u001b[0m\u001b[0;34m]\u001b[0m\u001b[0;34m[\u001b[0m\u001b[0;34m\"commits\"\u001b[0m\u001b[0;34m]\u001b[0m\u001b[0;34m)\u001b[0m\u001b[0;34m*\u001b[0m\u001b[0;36m100\u001b[0m\u001b[0;34m]\u001b[0m\u001b[0;34m\u001b[0m\u001b[0m\n",
      "\u001b[0;32m/usr/local/lib/python3.5/dist-packages/pandas/core/series.py\u001b[0m in \u001b[0;36mwrapper\u001b[0;34m(self)\u001b[0m\n\u001b[1;32m     91\u001b[0m             \u001b[0;32mreturn\u001b[0m \u001b[0mconverter\u001b[0m\u001b[0;34m(\u001b[0m\u001b[0mself\u001b[0m\u001b[0;34m.\u001b[0m\u001b[0miloc\u001b[0m\u001b[0;34m[\u001b[0m\u001b[0;36m0\u001b[0m\u001b[0;34m]\u001b[0m\u001b[0;34m)\u001b[0m\u001b[0;34m\u001b[0m\u001b[0m\n\u001b[1;32m     92\u001b[0m         raise TypeError(\"cannot convert the series to \"\n\u001b[0;32m---> 93\u001b[0;31m                         \"{0}\".format(str(converter)))\n\u001b[0m\u001b[1;32m     94\u001b[0m \u001b[0;34m\u001b[0m\u001b[0m\n\u001b[1;32m     95\u001b[0m     \u001b[0;32mreturn\u001b[0m \u001b[0mwrapper\u001b[0m\u001b[0;34m\u001b[0m\u001b[0m\n",
      "\u001b[0;31mTypeError\u001b[0m: cannot convert the series to <class 'int'>"
     ]
    }
   ],
   "source": [
    "value = result.to_dict()[\"aggregations\"]['project']['buckets']\n",
    "print(value)\n",
    "df = pandas.DataFrame()\n",
    "df_summary = pandas.DataFrame(columns=[\"project\", \"commits\", \"authors\", \"ratio_commits\", \"ratio_authors\"])\n",
    "for i in value:\n",
    "    df2 = (pandas.DataFrame.from_dict(i[\"gender\"][\"buckets\"]))\n",
    "    df2[\"project\"] = i[\"key\"]\n",
    "    \n",
    "    df2[METRIC_NAME] = df2[METRIC_NAME].apply(lambda row:row[\"value\"])\n",
    "    df2['authors'] = df2['authors'].apply(lambda row:row['value'])\n",
    "    df = pandas.concat([df, df2])\n",
    "    \n",
    "    df_summary2 = pandas.DataFrame(columns=[\"ratio_authors\", \"ratio_commits\", \"authors\", \"commits\", \"project\"])\n",
    "\n",
    "    df_summary2[\"project\"] = [i[\"key\"]]\n",
    "    df_summary2[\"commits\"] = [int(df2[df2[\"key\"]==\"female\"][\"commits\"])]\n",
    "    df_summary2[\"authors\"] = [int(df2[df2[\"key\"]==\"female\"][\"authors\"])]\n",
    "    df_summary2[\"ratio_commits\"] = [float(df2[df2[\"key\"]==\"female\"][\"commits\"]) / float(df2[df2[\"key\"]==\"male\"][\"commits\"])*100]\n",
    "    df_summary2[\"ratio_authors\"] = [float(df2[df2[\"key\"]==\"female\"][\"authors\"]) / float(df2[df2[\"key\"]==\"male\"][\"authors\"])*100]\n",
    "\n",
    "\n",
    "    df_summary = pandas.concat([df_summary, df_summary2])\n",
    "\n",
    "df_summary = df_summary[[\"project\", \"authors\", \"commits\", \"ratio_authors\", \"ratio_commits\"]]\n",
    "#df_summary.columns = [\"project\", \"authors\", \"commits\", \"ratio_authors\", \"ratio_commits\"]\n",
    "    "
   ]
  },
  {
   "cell_type": "code",
   "execution_count": 45,
   "metadata": {},
   "outputs": [
    {
     "name": "stdout",
     "output_type": "stream",
     "text": [
      "   authors  commits             project  ratio_authors  ratio_commits\n",
      "0    587.0  11950.0       Packaging-deb      14.745039       9.208600\n",
      "0    145.0   2638.0      Infrastructure      11.798210       5.828289\n",
      "0    149.0   4150.0        notavailable      16.779279      14.403221\n",
      "0      8.0    637.0    OpenStack Charms       7.339450       3.642498\n",
      "0     89.0    706.0             neutron      16.036036       6.961838\n",
      "0     26.0    350.0    OpenStackAnsible      14.942529       2.972147\n",
      "0     97.0    766.0                nova      16.193656       7.432564\n",
      "0    119.0   2266.0       Documentation      21.915285      33.382440\n",
      "0     35.0    596.0             tripleo      12.681159       5.052132\n",
      "0     32.0    868.0    Puppet OpenStack       9.638554      10.886743\n",
      "0     89.0    577.0   Quality Assurance      14.037855       8.326118\n",
      "0     43.0   1341.0              ironic      14.878893      25.131184\n",
      "0     52.0    244.0                oslo      13.131313       4.675225\n",
      "0     51.0    206.0                heat      16.398714       3.711712\n",
      "0     52.0    572.0            keystone      18.055556      10.711610\n",
      "0     51.0    224.0           Telemetry      22.666667       7.598372\n",
      "0     69.0    489.0              cinder      14.838710      10.264484\n",
      "0     31.0    141.0               kolla      15.270936       3.867252\n",
      "0     83.0    780.0             horizon      23.446328      23.207379\n",
      "0     18.0    201.0              senlin      35.294118      64.012739\n",
      "0     35.0    844.0              murano      23.489933      29.739253\n",
      "0     40.0    250.0             octavia      12.738854       8.719916\n",
      "0     21.0    179.0             monasca      15.555556       4.969461\n",
      "0     25.0    201.0              sahara      16.129032       6.336696\n",
      "0     19.0     58.0  Release Management      11.801242       1.820465\n",
      "0     40.0    103.0        requirements      12.658228       5.014606\n",
      "0     37.0    386.0     OpenStackClient      20.218579      21.035422\n",
      "0     25.0    215.0              manila      16.556291      11.381683\n",
      "0     27.0    334.0              magnum      18.750000      22.767553\n",
      "0     49.0    217.0              glance      20.000000      10.931990\n",
      "0     32.0    191.0               rally      15.763547       9.039281\n",
      "0     35.0    202.0               swift      18.229167       8.650964\n",
      "0     27.0    119.0            Security      24.107143       7.787958\n",
      "0     12.0     58.0           designate       9.756098       5.128205\n",
      "0     30.0    201.0               trove      21.126761      12.609787\n",
      "0     13.0    127.0             mistral      13.131313       8.349770\n",
      "0     17.0     49.0      Chef OpenStack      19.540230       2.552083\n",
      "0     26.0    110.0            barbican      20.155039       9.009009\n",
      "0     13.0    103.0               shade      17.105263       8.519438\n",
      "0     10.0    251.0            congress      12.987013      25.000000\n",
      "0     19.0    173.0               zaqar      20.430108      20.693780\n",
      "0      6.0     45.0               solum      11.538462       5.428227\n",
      "0     13.0    237.0          dragonflow      33.333333      24.687500\n",
      "0      2.0     28.0       Packaging-rpm       6.451613       2.994652\n",
      "0     28.0    152.0              tacker      23.728814      20.512821\n",
      "0      7.0     14.0             freezer      12.500000       1.574803\n",
      "0     12.0    198.0             vitrage      46.153846      30.045524\n",
      "0     10.0    109.0               kuryr      20.408163      29.066667\n",
      "0     12.0     44.0             watcher      20.689655       9.166667\n",
      "0     13.0    132.0                 zun      39.393939      51.162791\n",
      "0      8.0     12.0              karbor      36.363636       5.970149\n",
      "0      2.0      5.0             ec2-api      11.764706       1.736111\n",
      "0      7.0     35.0         searchlight      16.666667       8.997429\n",
      "0      5.0     33.0         winstackers      13.157895       7.158351\n",
      "0      7.0     66.0            RefStack      18.918919      16.793893\n",
      "0      4.0      6.0          cloudkitty      11.111111       1.869159\n",
      "0      8.0     44.0           tricircle      66.666667     115.789474\n",
      "0      3.0     53.0            storlets      16.666667      18.213058\n",
      "0      1.0     18.0                I18n       7.692308      16.822430\n",
      "0      2.0      9.0              blazar       9.090909      15.789474\n"
     ]
    }
   ],
   "source": [
    "print(df_summary)"
   ]
  },
  {
   "cell_type": "code",
   "execution_count": 46,
   "metadata": {},
   "outputs": [
    {
     "name": "stdout",
     "output_type": "stream",
     "text": [
      "   authors  commits             project  ratio_authors  ratio_commits\n",
      "0      8.0     44.0           tricircle      66.666667     115.789474\n",
      "0     18.0    201.0              senlin      35.294118      64.012739\n",
      "0     13.0    132.0                 zun      39.393939      51.162791\n",
      "0    119.0   2266.0       Documentation      21.915285      33.382440\n",
      "0     12.0    198.0             vitrage      46.153846      30.045524\n",
      "0     35.0    844.0              murano      23.489933      29.739253\n",
      "0     10.0    109.0               kuryr      20.408163      29.066667\n",
      "0     43.0   1341.0              ironic      14.878893      25.131184\n",
      "0     10.0    251.0            congress      12.987013      25.000000\n",
      "0     13.0    237.0          dragonflow      33.333333      24.687500\n",
      "0     83.0    780.0             horizon      23.446328      23.207379\n",
      "0     27.0    334.0              magnum      18.750000      22.767553\n",
      "0     37.0    386.0     OpenStackClient      20.218579      21.035422\n",
      "0     19.0    173.0               zaqar      20.430108      20.693780\n",
      "0     28.0    152.0              tacker      23.728814      20.512821\n",
      "0      3.0     53.0            storlets      16.666667      18.213058\n",
      "0      1.0     18.0                I18n       7.692308      16.822430\n",
      "0      7.0     66.0            RefStack      18.918919      16.793893\n",
      "0      2.0      9.0              blazar       9.090909      15.789474\n",
      "0    149.0   4150.0        notavailable      16.779279      14.403221\n",
      "0     30.0    201.0               trove      21.126761      12.609787\n",
      "0     25.0    215.0              manila      16.556291      11.381683\n",
      "0     49.0    217.0              glance      20.000000      10.931990\n",
      "0     32.0    868.0    Puppet OpenStack       9.638554      10.886743\n",
      "0     52.0    572.0            keystone      18.055556      10.711610\n",
      "0     69.0    489.0              cinder      14.838710      10.264484\n",
      "0    587.0  11950.0       Packaging-deb      14.745039       9.208600\n",
      "0     12.0     44.0             watcher      20.689655       9.166667\n",
      "0     32.0    191.0               rally      15.763547       9.039281\n",
      "0     26.0    110.0            barbican      20.155039       9.009009\n",
      "0      7.0     35.0         searchlight      16.666667       8.997429\n",
      "0     40.0    250.0             octavia      12.738854       8.719916\n",
      "0     35.0    202.0               swift      18.229167       8.650964\n",
      "0     13.0    103.0               shade      17.105263       8.519438\n",
      "0     13.0    127.0             mistral      13.131313       8.349770\n",
      "0     89.0    577.0   Quality Assurance      14.037855       8.326118\n",
      "0     27.0    119.0            Security      24.107143       7.787958\n",
      "0     51.0    224.0           Telemetry      22.666667       7.598372\n",
      "0     97.0    766.0                nova      16.193656       7.432564\n",
      "0      5.0     33.0         winstackers      13.157895       7.158351\n",
      "0     89.0    706.0             neutron      16.036036       6.961838\n",
      "0     25.0    201.0              sahara      16.129032       6.336696\n",
      "0      8.0     12.0              karbor      36.363636       5.970149\n",
      "0    145.0   2638.0      Infrastructure      11.798210       5.828289\n",
      "0      6.0     45.0               solum      11.538462       5.428227\n",
      "0     12.0     58.0           designate       9.756098       5.128205\n",
      "0     35.0    596.0             tripleo      12.681159       5.052132\n",
      "0     40.0    103.0        requirements      12.658228       5.014606\n",
      "0     21.0    179.0             monasca      15.555556       4.969461\n",
      "0     52.0    244.0                oslo      13.131313       4.675225\n",
      "0     31.0    141.0               kolla      15.270936       3.867252\n",
      "0     51.0    206.0                heat      16.398714       3.711712\n",
      "0      8.0    637.0    OpenStack Charms       7.339450       3.642498\n",
      "0      2.0     28.0       Packaging-rpm       6.451613       2.994652\n",
      "0     26.0    350.0    OpenStackAnsible      14.942529       2.972147\n",
      "0     17.0     49.0      Chef OpenStack      19.540230       2.552083\n",
      "0      4.0      6.0          cloudkitty      11.111111       1.869159\n",
      "0     19.0     58.0  Release Management      11.801242       1.820465\n",
      "0      2.0      5.0             ec2-api      11.764706       1.736111\n",
      "0      7.0     14.0             freezer      12.500000       1.574803\n"
     ]
    }
   ],
   "source": [
    "print(df_summary.sort_values(\"ratio_commits\", ascending=False))"
   ]
  },
  {
   "cell_type": "code",
   "execution_count": 47,
   "metadata": {},
   "outputs": [
    {
     "data": {
      "text/html": [
       "<div>\n",
       "<table border=\"1\" class=\"dataframe\">\n",
       "  <thead>\n",
       "    <tr style=\"text-align: right;\">\n",
       "      <th></th>\n",
       "      <th>authors</th>\n",
       "      <th>commits</th>\n",
       "      <th>project</th>\n",
       "      <th>ratio_authors</th>\n",
       "      <th>ratio_commits</th>\n",
       "    </tr>\n",
       "  </thead>\n",
       "  <tbody>\n",
       "    <tr>\n",
       "      <th>0</th>\n",
       "      <td>8.0</td>\n",
       "      <td>44.0</td>\n",
       "      <td>tricircle</td>\n",
       "      <td>66.666667</td>\n",
       "      <td>115.789474</td>\n",
       "    </tr>\n",
       "    <tr>\n",
       "      <th>0</th>\n",
       "      <td>12.0</td>\n",
       "      <td>198.0</td>\n",
       "      <td>vitrage</td>\n",
       "      <td>46.153846</td>\n",
       "      <td>30.045524</td>\n",
       "    </tr>\n",
       "    <tr>\n",
       "      <th>0</th>\n",
       "      <td>13.0</td>\n",
       "      <td>132.0</td>\n",
       "      <td>zun</td>\n",
       "      <td>39.393939</td>\n",
       "      <td>51.162791</td>\n",
       "    </tr>\n",
       "    <tr>\n",
       "      <th>0</th>\n",
       "      <td>8.0</td>\n",
       "      <td>12.0</td>\n",
       "      <td>karbor</td>\n",
       "      <td>36.363636</td>\n",
       "      <td>5.970149</td>\n",
       "    </tr>\n",
       "    <tr>\n",
       "      <th>0</th>\n",
       "      <td>18.0</td>\n",
       "      <td>201.0</td>\n",
       "      <td>senlin</td>\n",
       "      <td>35.294118</td>\n",
       "      <td>64.012739</td>\n",
       "    </tr>\n",
       "    <tr>\n",
       "      <th>0</th>\n",
       "      <td>13.0</td>\n",
       "      <td>237.0</td>\n",
       "      <td>dragonflow</td>\n",
       "      <td>33.333333</td>\n",
       "      <td>24.687500</td>\n",
       "    </tr>\n",
       "    <tr>\n",
       "      <th>0</th>\n",
       "      <td>27.0</td>\n",
       "      <td>119.0</td>\n",
       "      <td>Security</td>\n",
       "      <td>24.107143</td>\n",
       "      <td>7.787958</td>\n",
       "    </tr>\n",
       "    <tr>\n",
       "      <th>0</th>\n",
       "      <td>28.0</td>\n",
       "      <td>152.0</td>\n",
       "      <td>tacker</td>\n",
       "      <td>23.728814</td>\n",
       "      <td>20.512821</td>\n",
       "    </tr>\n",
       "    <tr>\n",
       "      <th>0</th>\n",
       "      <td>35.0</td>\n",
       "      <td>844.0</td>\n",
       "      <td>murano</td>\n",
       "      <td>23.489933</td>\n",
       "      <td>29.739253</td>\n",
       "    </tr>\n",
       "    <tr>\n",
       "      <th>0</th>\n",
       "      <td>83.0</td>\n",
       "      <td>780.0</td>\n",
       "      <td>horizon</td>\n",
       "      <td>23.446328</td>\n",
       "      <td>23.207379</td>\n",
       "    </tr>\n",
       "    <tr>\n",
       "      <th>0</th>\n",
       "      <td>51.0</td>\n",
       "      <td>224.0</td>\n",
       "      <td>Telemetry</td>\n",
       "      <td>22.666667</td>\n",
       "      <td>7.598372</td>\n",
       "    </tr>\n",
       "    <tr>\n",
       "      <th>0</th>\n",
       "      <td>119.0</td>\n",
       "      <td>2266.0</td>\n",
       "      <td>Documentation</td>\n",
       "      <td>21.915285</td>\n",
       "      <td>33.382440</td>\n",
       "    </tr>\n",
       "    <tr>\n",
       "      <th>0</th>\n",
       "      <td>30.0</td>\n",
       "      <td>201.0</td>\n",
       "      <td>trove</td>\n",
       "      <td>21.126761</td>\n",
       "      <td>12.609787</td>\n",
       "    </tr>\n",
       "    <tr>\n",
       "      <th>0</th>\n",
       "      <td>12.0</td>\n",
       "      <td>44.0</td>\n",
       "      <td>watcher</td>\n",
       "      <td>20.689655</td>\n",
       "      <td>9.166667</td>\n",
       "    </tr>\n",
       "    <tr>\n",
       "      <th>0</th>\n",
       "      <td>19.0</td>\n",
       "      <td>173.0</td>\n",
       "      <td>zaqar</td>\n",
       "      <td>20.430108</td>\n",
       "      <td>20.693780</td>\n",
       "    </tr>\n",
       "    <tr>\n",
       "      <th>0</th>\n",
       "      <td>10.0</td>\n",
       "      <td>109.0</td>\n",
       "      <td>kuryr</td>\n",
       "      <td>20.408163</td>\n",
       "      <td>29.066667</td>\n",
       "    </tr>\n",
       "    <tr>\n",
       "      <th>0</th>\n",
       "      <td>37.0</td>\n",
       "      <td>386.0</td>\n",
       "      <td>OpenStackClient</td>\n",
       "      <td>20.218579</td>\n",
       "      <td>21.035422</td>\n",
       "    </tr>\n",
       "    <tr>\n",
       "      <th>0</th>\n",
       "      <td>26.0</td>\n",
       "      <td>110.0</td>\n",
       "      <td>barbican</td>\n",
       "      <td>20.155039</td>\n",
       "      <td>9.009009</td>\n",
       "    </tr>\n",
       "    <tr>\n",
       "      <th>0</th>\n",
       "      <td>49.0</td>\n",
       "      <td>217.0</td>\n",
       "      <td>glance</td>\n",
       "      <td>20.000000</td>\n",
       "      <td>10.931990</td>\n",
       "    </tr>\n",
       "    <tr>\n",
       "      <th>0</th>\n",
       "      <td>17.0</td>\n",
       "      <td>49.0</td>\n",
       "      <td>Chef OpenStack</td>\n",
       "      <td>19.540230</td>\n",
       "      <td>2.552083</td>\n",
       "    </tr>\n",
       "    <tr>\n",
       "      <th>0</th>\n",
       "      <td>7.0</td>\n",
       "      <td>66.0</td>\n",
       "      <td>RefStack</td>\n",
       "      <td>18.918919</td>\n",
       "      <td>16.793893</td>\n",
       "    </tr>\n",
       "    <tr>\n",
       "      <th>0</th>\n",
       "      <td>27.0</td>\n",
       "      <td>334.0</td>\n",
       "      <td>magnum</td>\n",
       "      <td>18.750000</td>\n",
       "      <td>22.767553</td>\n",
       "    </tr>\n",
       "    <tr>\n",
       "      <th>0</th>\n",
       "      <td>35.0</td>\n",
       "      <td>202.0</td>\n",
       "      <td>swift</td>\n",
       "      <td>18.229167</td>\n",
       "      <td>8.650964</td>\n",
       "    </tr>\n",
       "    <tr>\n",
       "      <th>0</th>\n",
       "      <td>52.0</td>\n",
       "      <td>572.0</td>\n",
       "      <td>keystone</td>\n",
       "      <td>18.055556</td>\n",
       "      <td>10.711610</td>\n",
       "    </tr>\n",
       "    <tr>\n",
       "      <th>0</th>\n",
       "      <td>13.0</td>\n",
       "      <td>103.0</td>\n",
       "      <td>shade</td>\n",
       "      <td>17.105263</td>\n",
       "      <td>8.519438</td>\n",
       "    </tr>\n",
       "    <tr>\n",
       "      <th>0</th>\n",
       "      <td>149.0</td>\n",
       "      <td>4150.0</td>\n",
       "      <td>notavailable</td>\n",
       "      <td>16.779279</td>\n",
       "      <td>14.403221</td>\n",
       "    </tr>\n",
       "    <tr>\n",
       "      <th>0</th>\n",
       "      <td>7.0</td>\n",
       "      <td>35.0</td>\n",
       "      <td>searchlight</td>\n",
       "      <td>16.666667</td>\n",
       "      <td>8.997429</td>\n",
       "    </tr>\n",
       "    <tr>\n",
       "      <th>0</th>\n",
       "      <td>3.0</td>\n",
       "      <td>53.0</td>\n",
       "      <td>storlets</td>\n",
       "      <td>16.666667</td>\n",
       "      <td>18.213058</td>\n",
       "    </tr>\n",
       "    <tr>\n",
       "      <th>0</th>\n",
       "      <td>25.0</td>\n",
       "      <td>215.0</td>\n",
       "      <td>manila</td>\n",
       "      <td>16.556291</td>\n",
       "      <td>11.381683</td>\n",
       "    </tr>\n",
       "    <tr>\n",
       "      <th>0</th>\n",
       "      <td>51.0</td>\n",
       "      <td>206.0</td>\n",
       "      <td>heat</td>\n",
       "      <td>16.398714</td>\n",
       "      <td>3.711712</td>\n",
       "    </tr>\n",
       "    <tr>\n",
       "      <th>0</th>\n",
       "      <td>97.0</td>\n",
       "      <td>766.0</td>\n",
       "      <td>nova</td>\n",
       "      <td>16.193656</td>\n",
       "      <td>7.432564</td>\n",
       "    </tr>\n",
       "    <tr>\n",
       "      <th>0</th>\n",
       "      <td>25.0</td>\n",
       "      <td>201.0</td>\n",
       "      <td>sahara</td>\n",
       "      <td>16.129032</td>\n",
       "      <td>6.336696</td>\n",
       "    </tr>\n",
       "    <tr>\n",
       "      <th>0</th>\n",
       "      <td>89.0</td>\n",
       "      <td>706.0</td>\n",
       "      <td>neutron</td>\n",
       "      <td>16.036036</td>\n",
       "      <td>6.961838</td>\n",
       "    </tr>\n",
       "    <tr>\n",
       "      <th>0</th>\n",
       "      <td>32.0</td>\n",
       "      <td>191.0</td>\n",
       "      <td>rally</td>\n",
       "      <td>15.763547</td>\n",
       "      <td>9.039281</td>\n",
       "    </tr>\n",
       "    <tr>\n",
       "      <th>0</th>\n",
       "      <td>21.0</td>\n",
       "      <td>179.0</td>\n",
       "      <td>monasca</td>\n",
       "      <td>15.555556</td>\n",
       "      <td>4.969461</td>\n",
       "    </tr>\n",
       "    <tr>\n",
       "      <th>0</th>\n",
       "      <td>31.0</td>\n",
       "      <td>141.0</td>\n",
       "      <td>kolla</td>\n",
       "      <td>15.270936</td>\n",
       "      <td>3.867252</td>\n",
       "    </tr>\n",
       "    <tr>\n",
       "      <th>0</th>\n",
       "      <td>26.0</td>\n",
       "      <td>350.0</td>\n",
       "      <td>OpenStackAnsible</td>\n",
       "      <td>14.942529</td>\n",
       "      <td>2.972147</td>\n",
       "    </tr>\n",
       "    <tr>\n",
       "      <th>0</th>\n",
       "      <td>43.0</td>\n",
       "      <td>1341.0</td>\n",
       "      <td>ironic</td>\n",
       "      <td>14.878893</td>\n",
       "      <td>25.131184</td>\n",
       "    </tr>\n",
       "    <tr>\n",
       "      <th>0</th>\n",
       "      <td>69.0</td>\n",
       "      <td>489.0</td>\n",
       "      <td>cinder</td>\n",
       "      <td>14.838710</td>\n",
       "      <td>10.264484</td>\n",
       "    </tr>\n",
       "    <tr>\n",
       "      <th>0</th>\n",
       "      <td>587.0</td>\n",
       "      <td>11950.0</td>\n",
       "      <td>Packaging-deb</td>\n",
       "      <td>14.745039</td>\n",
       "      <td>9.208600</td>\n",
       "    </tr>\n",
       "    <tr>\n",
       "      <th>0</th>\n",
       "      <td>89.0</td>\n",
       "      <td>577.0</td>\n",
       "      <td>Quality Assurance</td>\n",
       "      <td>14.037855</td>\n",
       "      <td>8.326118</td>\n",
       "    </tr>\n",
       "    <tr>\n",
       "      <th>0</th>\n",
       "      <td>5.0</td>\n",
       "      <td>33.0</td>\n",
       "      <td>winstackers</td>\n",
       "      <td>13.157895</td>\n",
       "      <td>7.158351</td>\n",
       "    </tr>\n",
       "    <tr>\n",
       "      <th>0</th>\n",
       "      <td>52.0</td>\n",
       "      <td>244.0</td>\n",
       "      <td>oslo</td>\n",
       "      <td>13.131313</td>\n",
       "      <td>4.675225</td>\n",
       "    </tr>\n",
       "    <tr>\n",
       "      <th>0</th>\n",
       "      <td>13.0</td>\n",
       "      <td>127.0</td>\n",
       "      <td>mistral</td>\n",
       "      <td>13.131313</td>\n",
       "      <td>8.349770</td>\n",
       "    </tr>\n",
       "    <tr>\n",
       "      <th>0</th>\n",
       "      <td>10.0</td>\n",
       "      <td>251.0</td>\n",
       "      <td>congress</td>\n",
       "      <td>12.987013</td>\n",
       "      <td>25.000000</td>\n",
       "    </tr>\n",
       "    <tr>\n",
       "      <th>0</th>\n",
       "      <td>40.0</td>\n",
       "      <td>250.0</td>\n",
       "      <td>octavia</td>\n",
       "      <td>12.738854</td>\n",
       "      <td>8.719916</td>\n",
       "    </tr>\n",
       "    <tr>\n",
       "      <th>0</th>\n",
       "      <td>35.0</td>\n",
       "      <td>596.0</td>\n",
       "      <td>tripleo</td>\n",
       "      <td>12.681159</td>\n",
       "      <td>5.052132</td>\n",
       "    </tr>\n",
       "    <tr>\n",
       "      <th>0</th>\n",
       "      <td>40.0</td>\n",
       "      <td>103.0</td>\n",
       "      <td>requirements</td>\n",
       "      <td>12.658228</td>\n",
       "      <td>5.014606</td>\n",
       "    </tr>\n",
       "    <tr>\n",
       "      <th>0</th>\n",
       "      <td>7.0</td>\n",
       "      <td>14.0</td>\n",
       "      <td>freezer</td>\n",
       "      <td>12.500000</td>\n",
       "      <td>1.574803</td>\n",
       "    </tr>\n",
       "    <tr>\n",
       "      <th>0</th>\n",
       "      <td>19.0</td>\n",
       "      <td>58.0</td>\n",
       "      <td>Release Management</td>\n",
       "      <td>11.801242</td>\n",
       "      <td>1.820465</td>\n",
       "    </tr>\n",
       "    <tr>\n",
       "      <th>0</th>\n",
       "      <td>145.0</td>\n",
       "      <td>2638.0</td>\n",
       "      <td>Infrastructure</td>\n",
       "      <td>11.798210</td>\n",
       "      <td>5.828289</td>\n",
       "    </tr>\n",
       "    <tr>\n",
       "      <th>0</th>\n",
       "      <td>2.0</td>\n",
       "      <td>5.0</td>\n",
       "      <td>ec2-api</td>\n",
       "      <td>11.764706</td>\n",
       "      <td>1.736111</td>\n",
       "    </tr>\n",
       "    <tr>\n",
       "      <th>0</th>\n",
       "      <td>6.0</td>\n",
       "      <td>45.0</td>\n",
       "      <td>solum</td>\n",
       "      <td>11.538462</td>\n",
       "      <td>5.428227</td>\n",
       "    </tr>\n",
       "    <tr>\n",
       "      <th>0</th>\n",
       "      <td>4.0</td>\n",
       "      <td>6.0</td>\n",
       "      <td>cloudkitty</td>\n",
       "      <td>11.111111</td>\n",
       "      <td>1.869159</td>\n",
       "    </tr>\n",
       "    <tr>\n",
       "      <th>0</th>\n",
       "      <td>12.0</td>\n",
       "      <td>58.0</td>\n",
       "      <td>designate</td>\n",
       "      <td>9.756098</td>\n",
       "      <td>5.128205</td>\n",
       "    </tr>\n",
       "    <tr>\n",
       "      <th>0</th>\n",
       "      <td>32.0</td>\n",
       "      <td>868.0</td>\n",
       "      <td>Puppet OpenStack</td>\n",
       "      <td>9.638554</td>\n",
       "      <td>10.886743</td>\n",
       "    </tr>\n",
       "    <tr>\n",
       "      <th>0</th>\n",
       "      <td>2.0</td>\n",
       "      <td>9.0</td>\n",
       "      <td>blazar</td>\n",
       "      <td>9.090909</td>\n",
       "      <td>15.789474</td>\n",
       "    </tr>\n",
       "    <tr>\n",
       "      <th>0</th>\n",
       "      <td>1.0</td>\n",
       "      <td>18.0</td>\n",
       "      <td>I18n</td>\n",
       "      <td>7.692308</td>\n",
       "      <td>16.822430</td>\n",
       "    </tr>\n",
       "    <tr>\n",
       "      <th>0</th>\n",
       "      <td>8.0</td>\n",
       "      <td>637.0</td>\n",
       "      <td>OpenStack Charms</td>\n",
       "      <td>7.339450</td>\n",
       "      <td>3.642498</td>\n",
       "    </tr>\n",
       "    <tr>\n",
       "      <th>0</th>\n",
       "      <td>2.0</td>\n",
       "      <td>28.0</td>\n",
       "      <td>Packaging-rpm</td>\n",
       "      <td>6.451613</td>\n",
       "      <td>2.994652</td>\n",
       "    </tr>\n",
       "  </tbody>\n",
       "</table>\n",
       "</div>"
      ],
      "text/plain": [
       "   authors  commits             project  ratio_authors  ratio_commits\n",
       "0      8.0     44.0           tricircle      66.666667     115.789474\n",
       "0     12.0    198.0             vitrage      46.153846      30.045524\n",
       "0     13.0    132.0                 zun      39.393939      51.162791\n",
       "0      8.0     12.0              karbor      36.363636       5.970149\n",
       "0     18.0    201.0              senlin      35.294118      64.012739\n",
       "0     13.0    237.0          dragonflow      33.333333      24.687500\n",
       "0     27.0    119.0            Security      24.107143       7.787958\n",
       "0     28.0    152.0              tacker      23.728814      20.512821\n",
       "0     35.0    844.0              murano      23.489933      29.739253\n",
       "0     83.0    780.0             horizon      23.446328      23.207379\n",
       "0     51.0    224.0           Telemetry      22.666667       7.598372\n",
       "0    119.0   2266.0       Documentation      21.915285      33.382440\n",
       "0     30.0    201.0               trove      21.126761      12.609787\n",
       "0     12.0     44.0             watcher      20.689655       9.166667\n",
       "0     19.0    173.0               zaqar      20.430108      20.693780\n",
       "0     10.0    109.0               kuryr      20.408163      29.066667\n",
       "0     37.0    386.0     OpenStackClient      20.218579      21.035422\n",
       "0     26.0    110.0            barbican      20.155039       9.009009\n",
       "0     49.0    217.0              glance      20.000000      10.931990\n",
       "0     17.0     49.0      Chef OpenStack      19.540230       2.552083\n",
       "0      7.0     66.0            RefStack      18.918919      16.793893\n",
       "0     27.0    334.0              magnum      18.750000      22.767553\n",
       "0     35.0    202.0               swift      18.229167       8.650964\n",
       "0     52.0    572.0            keystone      18.055556      10.711610\n",
       "0     13.0    103.0               shade      17.105263       8.519438\n",
       "0    149.0   4150.0        notavailable      16.779279      14.403221\n",
       "0      7.0     35.0         searchlight      16.666667       8.997429\n",
       "0      3.0     53.0            storlets      16.666667      18.213058\n",
       "0     25.0    215.0              manila      16.556291      11.381683\n",
       "0     51.0    206.0                heat      16.398714       3.711712\n",
       "0     97.0    766.0                nova      16.193656       7.432564\n",
       "0     25.0    201.0              sahara      16.129032       6.336696\n",
       "0     89.0    706.0             neutron      16.036036       6.961838\n",
       "0     32.0    191.0               rally      15.763547       9.039281\n",
       "0     21.0    179.0             monasca      15.555556       4.969461\n",
       "0     31.0    141.0               kolla      15.270936       3.867252\n",
       "0     26.0    350.0    OpenStackAnsible      14.942529       2.972147\n",
       "0     43.0   1341.0              ironic      14.878893      25.131184\n",
       "0     69.0    489.0              cinder      14.838710      10.264484\n",
       "0    587.0  11950.0       Packaging-deb      14.745039       9.208600\n",
       "0     89.0    577.0   Quality Assurance      14.037855       8.326118\n",
       "0      5.0     33.0         winstackers      13.157895       7.158351\n",
       "0     52.0    244.0                oslo      13.131313       4.675225\n",
       "0     13.0    127.0             mistral      13.131313       8.349770\n",
       "0     10.0    251.0            congress      12.987013      25.000000\n",
       "0     40.0    250.0             octavia      12.738854       8.719916\n",
       "0     35.0    596.0             tripleo      12.681159       5.052132\n",
       "0     40.0    103.0        requirements      12.658228       5.014606\n",
       "0      7.0     14.0             freezer      12.500000       1.574803\n",
       "0     19.0     58.0  Release Management      11.801242       1.820465\n",
       "0    145.0   2638.0      Infrastructure      11.798210       5.828289\n",
       "0      2.0      5.0             ec2-api      11.764706       1.736111\n",
       "0      6.0     45.0               solum      11.538462       5.428227\n",
       "0      4.0      6.0          cloudkitty      11.111111       1.869159\n",
       "0     12.0     58.0           designate       9.756098       5.128205\n",
       "0     32.0    868.0    Puppet OpenStack       9.638554      10.886743\n",
       "0      2.0      9.0              blazar       9.090909      15.789474\n",
       "0      1.0     18.0                I18n       7.692308      16.822430\n",
       "0      8.0    637.0    OpenStack Charms       7.339450       3.642498\n",
       "0      2.0     28.0       Packaging-rpm       6.451613       2.994652"
      ]
     },
     "execution_count": 47,
     "metadata": {},
     "output_type": "execute_result"
    }
   ],
   "source": [
    "df_summary.sort_values(\"ratio_authors\", ascending=False)\n"
   ]
  },
  {
   "cell_type": "code",
   "execution_count": 48,
   "metadata": {},
   "outputs": [
    {
     "name": "stdout",
     "output_type": "stream",
     "text": [
      "   authors  commits             project  ratio_authors  ratio_commits\n",
      "0    587.0  11950.0       Packaging-deb      14.745039       9.208600\n",
      "0    149.0   4150.0        notavailable      16.779279      14.403221\n",
      "0    145.0   2638.0      Infrastructure      11.798210       5.828289\n",
      "0    119.0   2266.0       Documentation      21.915285      33.382440\n",
      "0     97.0    766.0                nova      16.193656       7.432564\n",
      "0     89.0    577.0   Quality Assurance      14.037855       8.326118\n",
      "0     89.0    706.0             neutron      16.036036       6.961838\n",
      "0     83.0    780.0             horizon      23.446328      23.207379\n",
      "0     69.0    489.0              cinder      14.838710      10.264484\n",
      "0     52.0    244.0                oslo      13.131313       4.675225\n",
      "0     52.0    572.0            keystone      18.055556      10.711610\n",
      "0     51.0    206.0                heat      16.398714       3.711712\n",
      "0     51.0    224.0           Telemetry      22.666667       7.598372\n",
      "0     49.0    217.0              glance      20.000000      10.931990\n",
      "0     43.0   1341.0              ironic      14.878893      25.131184\n",
      "0     40.0    250.0             octavia      12.738854       8.719916\n",
      "0     40.0    103.0        requirements      12.658228       5.014606\n",
      "0     37.0    386.0     OpenStackClient      20.218579      21.035422\n",
      "0     35.0    202.0               swift      18.229167       8.650964\n",
      "0     35.0    596.0             tripleo      12.681159       5.052132\n",
      "0     35.0    844.0              murano      23.489933      29.739253\n",
      "0     32.0    191.0               rally      15.763547       9.039281\n",
      "0     32.0    868.0    Puppet OpenStack       9.638554      10.886743\n",
      "0     31.0    141.0               kolla      15.270936       3.867252\n",
      "0     30.0    201.0               trove      21.126761      12.609787\n",
      "0     28.0    152.0              tacker      23.728814      20.512821\n",
      "0     27.0    119.0            Security      24.107143       7.787958\n",
      "0     27.0    334.0              magnum      18.750000      22.767553\n",
      "0     26.0    110.0            barbican      20.155039       9.009009\n",
      "0     26.0    350.0    OpenStackAnsible      14.942529       2.972147\n",
      "0     25.0    201.0              sahara      16.129032       6.336696\n",
      "0     25.0    215.0              manila      16.556291      11.381683\n",
      "0     21.0    179.0             monasca      15.555556       4.969461\n",
      "0     19.0     58.0  Release Management      11.801242       1.820465\n",
      "0     19.0    173.0               zaqar      20.430108      20.693780\n",
      "0     18.0    201.0              senlin      35.294118      64.012739\n",
      "0     17.0     49.0      Chef OpenStack      19.540230       2.552083\n",
      "0     13.0    237.0          dragonflow      33.333333      24.687500\n",
      "0     13.0    127.0             mistral      13.131313       8.349770\n",
      "0     13.0    132.0                 zun      39.393939      51.162791\n",
      "0     13.0    103.0               shade      17.105263       8.519438\n",
      "0     12.0     44.0             watcher      20.689655       9.166667\n",
      "0     12.0    198.0             vitrage      46.153846      30.045524\n",
      "0     12.0     58.0           designate       9.756098       5.128205\n",
      "0     10.0    109.0               kuryr      20.408163      29.066667\n",
      "0     10.0    251.0            congress      12.987013      25.000000\n",
      "0      8.0     44.0           tricircle      66.666667     115.789474\n",
      "0      8.0    637.0    OpenStack Charms       7.339450       3.642498\n",
      "0      8.0     12.0              karbor      36.363636       5.970149\n",
      "0      7.0     14.0             freezer      12.500000       1.574803\n",
      "0      7.0     35.0         searchlight      16.666667       8.997429\n",
      "0      7.0     66.0            RefStack      18.918919      16.793893\n",
      "0      6.0     45.0               solum      11.538462       5.428227\n",
      "0      5.0     33.0         winstackers      13.157895       7.158351\n",
      "0      4.0      6.0          cloudkitty      11.111111       1.869159\n",
      "0      3.0     53.0            storlets      16.666667      18.213058\n",
      "0      2.0      5.0             ec2-api      11.764706       1.736111\n",
      "0      2.0     28.0       Packaging-rpm       6.451613       2.994652\n",
      "0      2.0      9.0              blazar       9.090909      15.789474\n",
      "0      1.0     18.0                I18n       7.692308      16.822430\n"
     ]
    }
   ],
   "source": [
    "print(df_summary.sort_values(\"authors\", ascending=False))\n"
   ]
  },
  {
   "cell_type": "code",
   "execution_count": 49,
   "metadata": {},
   "outputs": [
    {
     "name": "stdout",
     "output_type": "stream",
     "text": [
      "   authors  commits             project  ratio_authors  ratio_commits\n",
      "0    587.0  11950.0       Packaging-deb      14.745039       9.208600\n",
      "0    149.0   4150.0        notavailable      16.779279      14.403221\n",
      "0    145.0   2638.0      Infrastructure      11.798210       5.828289\n",
      "0    119.0   2266.0       Documentation      21.915285      33.382440\n",
      "0     43.0   1341.0              ironic      14.878893      25.131184\n",
      "0     32.0    868.0    Puppet OpenStack       9.638554      10.886743\n",
      "0     35.0    844.0              murano      23.489933      29.739253\n",
      "0     83.0    780.0             horizon      23.446328      23.207379\n",
      "0     97.0    766.0                nova      16.193656       7.432564\n",
      "0     89.0    706.0             neutron      16.036036       6.961838\n",
      "0      8.0    637.0    OpenStack Charms       7.339450       3.642498\n",
      "0     35.0    596.0             tripleo      12.681159       5.052132\n",
      "0     89.0    577.0   Quality Assurance      14.037855       8.326118\n",
      "0     52.0    572.0            keystone      18.055556      10.711610\n",
      "0     69.0    489.0              cinder      14.838710      10.264484\n",
      "0     37.0    386.0     OpenStackClient      20.218579      21.035422\n",
      "0     26.0    350.0    OpenStackAnsible      14.942529       2.972147\n",
      "0     27.0    334.0              magnum      18.750000      22.767553\n",
      "0     10.0    251.0            congress      12.987013      25.000000\n",
      "0     40.0    250.0             octavia      12.738854       8.719916\n",
      "0     52.0    244.0                oslo      13.131313       4.675225\n",
      "0     13.0    237.0          dragonflow      33.333333      24.687500\n",
      "0     51.0    224.0           Telemetry      22.666667       7.598372\n",
      "0     49.0    217.0              glance      20.000000      10.931990\n",
      "0     25.0    215.0              manila      16.556291      11.381683\n",
      "0     51.0    206.0                heat      16.398714       3.711712\n",
      "0     35.0    202.0               swift      18.229167       8.650964\n",
      "0     25.0    201.0              sahara      16.129032       6.336696\n",
      "0     18.0    201.0              senlin      35.294118      64.012739\n",
      "0     30.0    201.0               trove      21.126761      12.609787\n",
      "0     12.0    198.0             vitrage      46.153846      30.045524\n",
      "0     32.0    191.0               rally      15.763547       9.039281\n",
      "0     21.0    179.0             monasca      15.555556       4.969461\n",
      "0     19.0    173.0               zaqar      20.430108      20.693780\n",
      "0     28.0    152.0              tacker      23.728814      20.512821\n",
      "0     31.0    141.0               kolla      15.270936       3.867252\n",
      "0     13.0    132.0                 zun      39.393939      51.162791\n",
      "0     13.0    127.0             mistral      13.131313       8.349770\n",
      "0     27.0    119.0            Security      24.107143       7.787958\n",
      "0     26.0    110.0            barbican      20.155039       9.009009\n",
      "0     10.0    109.0               kuryr      20.408163      29.066667\n",
      "0     40.0    103.0        requirements      12.658228       5.014606\n",
      "0     13.0    103.0               shade      17.105263       8.519438\n",
      "0      7.0     66.0            RefStack      18.918919      16.793893\n",
      "0     12.0     58.0           designate       9.756098       5.128205\n",
      "0     19.0     58.0  Release Management      11.801242       1.820465\n",
      "0      3.0     53.0            storlets      16.666667      18.213058\n",
      "0     17.0     49.0      Chef OpenStack      19.540230       2.552083\n",
      "0      6.0     45.0               solum      11.538462       5.428227\n",
      "0     12.0     44.0             watcher      20.689655       9.166667\n",
      "0      8.0     44.0           tricircle      66.666667     115.789474\n",
      "0      7.0     35.0         searchlight      16.666667       8.997429\n",
      "0      5.0     33.0         winstackers      13.157895       7.158351\n",
      "0      2.0     28.0       Packaging-rpm       6.451613       2.994652\n",
      "0      1.0     18.0                I18n       7.692308      16.822430\n",
      "0      7.0     14.0             freezer      12.500000       1.574803\n",
      "0      8.0     12.0              karbor      36.363636       5.970149\n",
      "0      2.0      9.0              blazar       9.090909      15.789474\n",
      "0      4.0      6.0          cloudkitty      11.111111       1.869159\n",
      "0      2.0      5.0             ec2-api      11.764706       1.736111\n"
     ]
    }
   ],
   "source": [
    "print(df_summary.sort_values(\"commits\", ascending=False))\n"
   ]
  },
  {
   "cell_type": "code",
   "execution_count": 50,
   "metadata": {},
   "outputs": [
    {
     "data": {
      "text/html": [
       "<div>\n",
       "<table border=\"1\" class=\"dataframe\">\n",
       "  <thead>\n",
       "    <tr style=\"text-align: right;\">\n",
       "      <th></th>\n",
       "      <th>authors</th>\n",
       "      <th>commits</th>\n",
       "      <th>project</th>\n",
       "      <th>ratio_authors</th>\n",
       "      <th>ratio_commits</th>\n",
       "    </tr>\n",
       "  </thead>\n",
       "  <tbody>\n",
       "    <tr>\n",
       "      <th>0</th>\n",
       "      <td>17.0</td>\n",
       "      <td>49.0</td>\n",
       "      <td>Chef OpenStack</td>\n",
       "      <td>19.540230</td>\n",
       "      <td>2.552083</td>\n",
       "    </tr>\n",
       "    <tr>\n",
       "      <th>0</th>\n",
       "      <td>119.0</td>\n",
       "      <td>2266.0</td>\n",
       "      <td>Documentation</td>\n",
       "      <td>21.915285</td>\n",
       "      <td>33.382440</td>\n",
       "    </tr>\n",
       "    <tr>\n",
       "      <th>0</th>\n",
       "      <td>1.0</td>\n",
       "      <td>18.0</td>\n",
       "      <td>I18n</td>\n",
       "      <td>7.692308</td>\n",
       "      <td>16.822430</td>\n",
       "    </tr>\n",
       "    <tr>\n",
       "      <th>0</th>\n",
       "      <td>145.0</td>\n",
       "      <td>2638.0</td>\n",
       "      <td>Infrastructure</td>\n",
       "      <td>11.798210</td>\n",
       "      <td>5.828289</td>\n",
       "    </tr>\n",
       "    <tr>\n",
       "      <th>0</th>\n",
       "      <td>8.0</td>\n",
       "      <td>637.0</td>\n",
       "      <td>OpenStack Charms</td>\n",
       "      <td>7.339450</td>\n",
       "      <td>3.642498</td>\n",
       "    </tr>\n",
       "    <tr>\n",
       "      <th>0</th>\n",
       "      <td>26.0</td>\n",
       "      <td>350.0</td>\n",
       "      <td>OpenStackAnsible</td>\n",
       "      <td>14.942529</td>\n",
       "      <td>2.972147</td>\n",
       "    </tr>\n",
       "    <tr>\n",
       "      <th>0</th>\n",
       "      <td>37.0</td>\n",
       "      <td>386.0</td>\n",
       "      <td>OpenStackClient</td>\n",
       "      <td>20.218579</td>\n",
       "      <td>21.035422</td>\n",
       "    </tr>\n",
       "    <tr>\n",
       "      <th>0</th>\n",
       "      <td>587.0</td>\n",
       "      <td>11950.0</td>\n",
       "      <td>Packaging-deb</td>\n",
       "      <td>14.745039</td>\n",
       "      <td>9.208600</td>\n",
       "    </tr>\n",
       "    <tr>\n",
       "      <th>0</th>\n",
       "      <td>2.0</td>\n",
       "      <td>28.0</td>\n",
       "      <td>Packaging-rpm</td>\n",
       "      <td>6.451613</td>\n",
       "      <td>2.994652</td>\n",
       "    </tr>\n",
       "    <tr>\n",
       "      <th>0</th>\n",
       "      <td>32.0</td>\n",
       "      <td>868.0</td>\n",
       "      <td>Puppet OpenStack</td>\n",
       "      <td>9.638554</td>\n",
       "      <td>10.886743</td>\n",
       "    </tr>\n",
       "    <tr>\n",
       "      <th>0</th>\n",
       "      <td>89.0</td>\n",
       "      <td>577.0</td>\n",
       "      <td>Quality Assurance</td>\n",
       "      <td>14.037855</td>\n",
       "      <td>8.326118</td>\n",
       "    </tr>\n",
       "    <tr>\n",
       "      <th>0</th>\n",
       "      <td>7.0</td>\n",
       "      <td>66.0</td>\n",
       "      <td>RefStack</td>\n",
       "      <td>18.918919</td>\n",
       "      <td>16.793893</td>\n",
       "    </tr>\n",
       "    <tr>\n",
       "      <th>0</th>\n",
       "      <td>19.0</td>\n",
       "      <td>58.0</td>\n",
       "      <td>Release Management</td>\n",
       "      <td>11.801242</td>\n",
       "      <td>1.820465</td>\n",
       "    </tr>\n",
       "    <tr>\n",
       "      <th>0</th>\n",
       "      <td>27.0</td>\n",
       "      <td>119.0</td>\n",
       "      <td>Security</td>\n",
       "      <td>24.107143</td>\n",
       "      <td>7.787958</td>\n",
       "    </tr>\n",
       "    <tr>\n",
       "      <th>0</th>\n",
       "      <td>51.0</td>\n",
       "      <td>224.0</td>\n",
       "      <td>Telemetry</td>\n",
       "      <td>22.666667</td>\n",
       "      <td>7.598372</td>\n",
       "    </tr>\n",
       "    <tr>\n",
       "      <th>0</th>\n",
       "      <td>26.0</td>\n",
       "      <td>110.0</td>\n",
       "      <td>barbican</td>\n",
       "      <td>20.155039</td>\n",
       "      <td>9.009009</td>\n",
       "    </tr>\n",
       "    <tr>\n",
       "      <th>0</th>\n",
       "      <td>2.0</td>\n",
       "      <td>9.0</td>\n",
       "      <td>blazar</td>\n",
       "      <td>9.090909</td>\n",
       "      <td>15.789474</td>\n",
       "    </tr>\n",
       "    <tr>\n",
       "      <th>0</th>\n",
       "      <td>69.0</td>\n",
       "      <td>489.0</td>\n",
       "      <td>cinder</td>\n",
       "      <td>14.838710</td>\n",
       "      <td>10.264484</td>\n",
       "    </tr>\n",
       "    <tr>\n",
       "      <th>0</th>\n",
       "      <td>4.0</td>\n",
       "      <td>6.0</td>\n",
       "      <td>cloudkitty</td>\n",
       "      <td>11.111111</td>\n",
       "      <td>1.869159</td>\n",
       "    </tr>\n",
       "    <tr>\n",
       "      <th>0</th>\n",
       "      <td>10.0</td>\n",
       "      <td>251.0</td>\n",
       "      <td>congress</td>\n",
       "      <td>12.987013</td>\n",
       "      <td>25.000000</td>\n",
       "    </tr>\n",
       "    <tr>\n",
       "      <th>0</th>\n",
       "      <td>12.0</td>\n",
       "      <td>58.0</td>\n",
       "      <td>designate</td>\n",
       "      <td>9.756098</td>\n",
       "      <td>5.128205</td>\n",
       "    </tr>\n",
       "    <tr>\n",
       "      <th>0</th>\n",
       "      <td>13.0</td>\n",
       "      <td>237.0</td>\n",
       "      <td>dragonflow</td>\n",
       "      <td>33.333333</td>\n",
       "      <td>24.687500</td>\n",
       "    </tr>\n",
       "    <tr>\n",
       "      <th>0</th>\n",
       "      <td>2.0</td>\n",
       "      <td>5.0</td>\n",
       "      <td>ec2-api</td>\n",
       "      <td>11.764706</td>\n",
       "      <td>1.736111</td>\n",
       "    </tr>\n",
       "    <tr>\n",
       "      <th>0</th>\n",
       "      <td>7.0</td>\n",
       "      <td>14.0</td>\n",
       "      <td>freezer</td>\n",
       "      <td>12.500000</td>\n",
       "      <td>1.574803</td>\n",
       "    </tr>\n",
       "    <tr>\n",
       "      <th>0</th>\n",
       "      <td>49.0</td>\n",
       "      <td>217.0</td>\n",
       "      <td>glance</td>\n",
       "      <td>20.000000</td>\n",
       "      <td>10.931990</td>\n",
       "    </tr>\n",
       "    <tr>\n",
       "      <th>0</th>\n",
       "      <td>51.0</td>\n",
       "      <td>206.0</td>\n",
       "      <td>heat</td>\n",
       "      <td>16.398714</td>\n",
       "      <td>3.711712</td>\n",
       "    </tr>\n",
       "    <tr>\n",
       "      <th>0</th>\n",
       "      <td>83.0</td>\n",
       "      <td>780.0</td>\n",
       "      <td>horizon</td>\n",
       "      <td>23.446328</td>\n",
       "      <td>23.207379</td>\n",
       "    </tr>\n",
       "    <tr>\n",
       "      <th>0</th>\n",
       "      <td>43.0</td>\n",
       "      <td>1341.0</td>\n",
       "      <td>ironic</td>\n",
       "      <td>14.878893</td>\n",
       "      <td>25.131184</td>\n",
       "    </tr>\n",
       "    <tr>\n",
       "      <th>0</th>\n",
       "      <td>8.0</td>\n",
       "      <td>12.0</td>\n",
       "      <td>karbor</td>\n",
       "      <td>36.363636</td>\n",
       "      <td>5.970149</td>\n",
       "    </tr>\n",
       "    <tr>\n",
       "      <th>0</th>\n",
       "      <td>52.0</td>\n",
       "      <td>572.0</td>\n",
       "      <td>keystone</td>\n",
       "      <td>18.055556</td>\n",
       "      <td>10.711610</td>\n",
       "    </tr>\n",
       "    <tr>\n",
       "      <th>0</th>\n",
       "      <td>31.0</td>\n",
       "      <td>141.0</td>\n",
       "      <td>kolla</td>\n",
       "      <td>15.270936</td>\n",
       "      <td>3.867252</td>\n",
       "    </tr>\n",
       "    <tr>\n",
       "      <th>0</th>\n",
       "      <td>10.0</td>\n",
       "      <td>109.0</td>\n",
       "      <td>kuryr</td>\n",
       "      <td>20.408163</td>\n",
       "      <td>29.066667</td>\n",
       "    </tr>\n",
       "    <tr>\n",
       "      <th>0</th>\n",
       "      <td>27.0</td>\n",
       "      <td>334.0</td>\n",
       "      <td>magnum</td>\n",
       "      <td>18.750000</td>\n",
       "      <td>22.767553</td>\n",
       "    </tr>\n",
       "    <tr>\n",
       "      <th>0</th>\n",
       "      <td>25.0</td>\n",
       "      <td>215.0</td>\n",
       "      <td>manila</td>\n",
       "      <td>16.556291</td>\n",
       "      <td>11.381683</td>\n",
       "    </tr>\n",
       "    <tr>\n",
       "      <th>0</th>\n",
       "      <td>13.0</td>\n",
       "      <td>127.0</td>\n",
       "      <td>mistral</td>\n",
       "      <td>13.131313</td>\n",
       "      <td>8.349770</td>\n",
       "    </tr>\n",
       "    <tr>\n",
       "      <th>0</th>\n",
       "      <td>21.0</td>\n",
       "      <td>179.0</td>\n",
       "      <td>monasca</td>\n",
       "      <td>15.555556</td>\n",
       "      <td>4.969461</td>\n",
       "    </tr>\n",
       "    <tr>\n",
       "      <th>0</th>\n",
       "      <td>35.0</td>\n",
       "      <td>844.0</td>\n",
       "      <td>murano</td>\n",
       "      <td>23.489933</td>\n",
       "      <td>29.739253</td>\n",
       "    </tr>\n",
       "    <tr>\n",
       "      <th>0</th>\n",
       "      <td>89.0</td>\n",
       "      <td>706.0</td>\n",
       "      <td>neutron</td>\n",
       "      <td>16.036036</td>\n",
       "      <td>6.961838</td>\n",
       "    </tr>\n",
       "    <tr>\n",
       "      <th>0</th>\n",
       "      <td>149.0</td>\n",
       "      <td>4150.0</td>\n",
       "      <td>notavailable</td>\n",
       "      <td>16.779279</td>\n",
       "      <td>14.403221</td>\n",
       "    </tr>\n",
       "    <tr>\n",
       "      <th>0</th>\n",
       "      <td>97.0</td>\n",
       "      <td>766.0</td>\n",
       "      <td>nova</td>\n",
       "      <td>16.193656</td>\n",
       "      <td>7.432564</td>\n",
       "    </tr>\n",
       "    <tr>\n",
       "      <th>0</th>\n",
       "      <td>40.0</td>\n",
       "      <td>250.0</td>\n",
       "      <td>octavia</td>\n",
       "      <td>12.738854</td>\n",
       "      <td>8.719916</td>\n",
       "    </tr>\n",
       "    <tr>\n",
       "      <th>0</th>\n",
       "      <td>52.0</td>\n",
       "      <td>244.0</td>\n",
       "      <td>oslo</td>\n",
       "      <td>13.131313</td>\n",
       "      <td>4.675225</td>\n",
       "    </tr>\n",
       "    <tr>\n",
       "      <th>0</th>\n",
       "      <td>32.0</td>\n",
       "      <td>191.0</td>\n",
       "      <td>rally</td>\n",
       "      <td>15.763547</td>\n",
       "      <td>9.039281</td>\n",
       "    </tr>\n",
       "    <tr>\n",
       "      <th>0</th>\n",
       "      <td>40.0</td>\n",
       "      <td>103.0</td>\n",
       "      <td>requirements</td>\n",
       "      <td>12.658228</td>\n",
       "      <td>5.014606</td>\n",
       "    </tr>\n",
       "    <tr>\n",
       "      <th>0</th>\n",
       "      <td>25.0</td>\n",
       "      <td>201.0</td>\n",
       "      <td>sahara</td>\n",
       "      <td>16.129032</td>\n",
       "      <td>6.336696</td>\n",
       "    </tr>\n",
       "    <tr>\n",
       "      <th>0</th>\n",
       "      <td>7.0</td>\n",
       "      <td>35.0</td>\n",
       "      <td>searchlight</td>\n",
       "      <td>16.666667</td>\n",
       "      <td>8.997429</td>\n",
       "    </tr>\n",
       "    <tr>\n",
       "      <th>0</th>\n",
       "      <td>18.0</td>\n",
       "      <td>201.0</td>\n",
       "      <td>senlin</td>\n",
       "      <td>35.294118</td>\n",
       "      <td>64.012739</td>\n",
       "    </tr>\n",
       "    <tr>\n",
       "      <th>0</th>\n",
       "      <td>13.0</td>\n",
       "      <td>103.0</td>\n",
       "      <td>shade</td>\n",
       "      <td>17.105263</td>\n",
       "      <td>8.519438</td>\n",
       "    </tr>\n",
       "    <tr>\n",
       "      <th>0</th>\n",
       "      <td>6.0</td>\n",
       "      <td>45.0</td>\n",
       "      <td>solum</td>\n",
       "      <td>11.538462</td>\n",
       "      <td>5.428227</td>\n",
       "    </tr>\n",
       "    <tr>\n",
       "      <th>0</th>\n",
       "      <td>3.0</td>\n",
       "      <td>53.0</td>\n",
       "      <td>storlets</td>\n",
       "      <td>16.666667</td>\n",
       "      <td>18.213058</td>\n",
       "    </tr>\n",
       "    <tr>\n",
       "      <th>0</th>\n",
       "      <td>35.0</td>\n",
       "      <td>202.0</td>\n",
       "      <td>swift</td>\n",
       "      <td>18.229167</td>\n",
       "      <td>8.650964</td>\n",
       "    </tr>\n",
       "    <tr>\n",
       "      <th>0</th>\n",
       "      <td>28.0</td>\n",
       "      <td>152.0</td>\n",
       "      <td>tacker</td>\n",
       "      <td>23.728814</td>\n",
       "      <td>20.512821</td>\n",
       "    </tr>\n",
       "    <tr>\n",
       "      <th>0</th>\n",
       "      <td>8.0</td>\n",
       "      <td>44.0</td>\n",
       "      <td>tricircle</td>\n",
       "      <td>66.666667</td>\n",
       "      <td>115.789474</td>\n",
       "    </tr>\n",
       "    <tr>\n",
       "      <th>0</th>\n",
       "      <td>35.0</td>\n",
       "      <td>596.0</td>\n",
       "      <td>tripleo</td>\n",
       "      <td>12.681159</td>\n",
       "      <td>5.052132</td>\n",
       "    </tr>\n",
       "    <tr>\n",
       "      <th>0</th>\n",
       "      <td>30.0</td>\n",
       "      <td>201.0</td>\n",
       "      <td>trove</td>\n",
       "      <td>21.126761</td>\n",
       "      <td>12.609787</td>\n",
       "    </tr>\n",
       "    <tr>\n",
       "      <th>0</th>\n",
       "      <td>12.0</td>\n",
       "      <td>198.0</td>\n",
       "      <td>vitrage</td>\n",
       "      <td>46.153846</td>\n",
       "      <td>30.045524</td>\n",
       "    </tr>\n",
       "    <tr>\n",
       "      <th>0</th>\n",
       "      <td>12.0</td>\n",
       "      <td>44.0</td>\n",
       "      <td>watcher</td>\n",
       "      <td>20.689655</td>\n",
       "      <td>9.166667</td>\n",
       "    </tr>\n",
       "    <tr>\n",
       "      <th>0</th>\n",
       "      <td>5.0</td>\n",
       "      <td>33.0</td>\n",
       "      <td>winstackers</td>\n",
       "      <td>13.157895</td>\n",
       "      <td>7.158351</td>\n",
       "    </tr>\n",
       "    <tr>\n",
       "      <th>0</th>\n",
       "      <td>19.0</td>\n",
       "      <td>173.0</td>\n",
       "      <td>zaqar</td>\n",
       "      <td>20.430108</td>\n",
       "      <td>20.693780</td>\n",
       "    </tr>\n",
       "    <tr>\n",
       "      <th>0</th>\n",
       "      <td>13.0</td>\n",
       "      <td>132.0</td>\n",
       "      <td>zun</td>\n",
       "      <td>39.393939</td>\n",
       "      <td>51.162791</td>\n",
       "    </tr>\n",
       "  </tbody>\n",
       "</table>\n",
       "</div>"
      ],
      "text/plain": [
       "   authors  commits             project  ratio_authors  ratio_commits\n",
       "0     17.0     49.0      Chef OpenStack      19.540230       2.552083\n",
       "0    119.0   2266.0       Documentation      21.915285      33.382440\n",
       "0      1.0     18.0                I18n       7.692308      16.822430\n",
       "0    145.0   2638.0      Infrastructure      11.798210       5.828289\n",
       "0      8.0    637.0    OpenStack Charms       7.339450       3.642498\n",
       "0     26.0    350.0    OpenStackAnsible      14.942529       2.972147\n",
       "0     37.0    386.0     OpenStackClient      20.218579      21.035422\n",
       "0    587.0  11950.0       Packaging-deb      14.745039       9.208600\n",
       "0      2.0     28.0       Packaging-rpm       6.451613       2.994652\n",
       "0     32.0    868.0    Puppet OpenStack       9.638554      10.886743\n",
       "0     89.0    577.0   Quality Assurance      14.037855       8.326118\n",
       "0      7.0     66.0            RefStack      18.918919      16.793893\n",
       "0     19.0     58.0  Release Management      11.801242       1.820465\n",
       "0     27.0    119.0            Security      24.107143       7.787958\n",
       "0     51.0    224.0           Telemetry      22.666667       7.598372\n",
       "0     26.0    110.0            barbican      20.155039       9.009009\n",
       "0      2.0      9.0              blazar       9.090909      15.789474\n",
       "0     69.0    489.0              cinder      14.838710      10.264484\n",
       "0      4.0      6.0          cloudkitty      11.111111       1.869159\n",
       "0     10.0    251.0            congress      12.987013      25.000000\n",
       "0     12.0     58.0           designate       9.756098       5.128205\n",
       "0     13.0    237.0          dragonflow      33.333333      24.687500\n",
       "0      2.0      5.0             ec2-api      11.764706       1.736111\n",
       "0      7.0     14.0             freezer      12.500000       1.574803\n",
       "0     49.0    217.0              glance      20.000000      10.931990\n",
       "0     51.0    206.0                heat      16.398714       3.711712\n",
       "0     83.0    780.0             horizon      23.446328      23.207379\n",
       "0     43.0   1341.0              ironic      14.878893      25.131184\n",
       "0      8.0     12.0              karbor      36.363636       5.970149\n",
       "0     52.0    572.0            keystone      18.055556      10.711610\n",
       "0     31.0    141.0               kolla      15.270936       3.867252\n",
       "0     10.0    109.0               kuryr      20.408163      29.066667\n",
       "0     27.0    334.0              magnum      18.750000      22.767553\n",
       "0     25.0    215.0              manila      16.556291      11.381683\n",
       "0     13.0    127.0             mistral      13.131313       8.349770\n",
       "0     21.0    179.0             monasca      15.555556       4.969461\n",
       "0     35.0    844.0              murano      23.489933      29.739253\n",
       "0     89.0    706.0             neutron      16.036036       6.961838\n",
       "0    149.0   4150.0        notavailable      16.779279      14.403221\n",
       "0     97.0    766.0                nova      16.193656       7.432564\n",
       "0     40.0    250.0             octavia      12.738854       8.719916\n",
       "0     52.0    244.0                oslo      13.131313       4.675225\n",
       "0     32.0    191.0               rally      15.763547       9.039281\n",
       "0     40.0    103.0        requirements      12.658228       5.014606\n",
       "0     25.0    201.0              sahara      16.129032       6.336696\n",
       "0      7.0     35.0         searchlight      16.666667       8.997429\n",
       "0     18.0    201.0              senlin      35.294118      64.012739\n",
       "0     13.0    103.0               shade      17.105263       8.519438\n",
       "0      6.0     45.0               solum      11.538462       5.428227\n",
       "0      3.0     53.0            storlets      16.666667      18.213058\n",
       "0     35.0    202.0               swift      18.229167       8.650964\n",
       "0     28.0    152.0              tacker      23.728814      20.512821\n",
       "0      8.0     44.0           tricircle      66.666667     115.789474\n",
       "0     35.0    596.0             tripleo      12.681159       5.052132\n",
       "0     30.0    201.0               trove      21.126761      12.609787\n",
       "0     12.0    198.0             vitrage      46.153846      30.045524\n",
       "0     12.0     44.0             watcher      20.689655       9.166667\n",
       "0      5.0     33.0         winstackers      13.157895       7.158351\n",
       "0     19.0    173.0               zaqar      20.430108      20.693780\n",
       "0     13.0    132.0                 zun      39.393939      51.162791"
      ]
     },
     "execution_count": 50,
     "metadata": {},
     "output_type": "execute_result"
    }
   ],
   "source": [
    "df_summary.sort_values(\"project\", ascending=True)\n"
   ]
  },
  {
   "cell_type": "code",
   "execution_count": 51,
   "metadata": {},
   "outputs": [
    {
     "data": {
      "text/html": [
       "<div>\n",
       "<table border=\"1\" class=\"dataframe\">\n",
       "  <thead>\n",
       "    <tr style=\"text-align: right;\">\n",
       "      <th></th>\n",
       "      <th>project</th>\n",
       "      <th>authors</th>\n",
       "      <th>commits</th>\n",
       "      <th>ratio_authors</th>\n",
       "      <th>ratio_commits</th>\n",
       "    </tr>\n",
       "  </thead>\n",
       "  <tbody>\n",
       "    <tr>\n",
       "      <th>0</th>\n",
       "      <td>587.0</td>\n",
       "      <td>11950.0</td>\n",
       "      <td>Packaging-deb</td>\n",
       "      <td>14.745039</td>\n",
       "      <td>9.208600</td>\n",
       "    </tr>\n",
       "    <tr>\n",
       "      <th>0</th>\n",
       "      <td>145.0</td>\n",
       "      <td>2638.0</td>\n",
       "      <td>Infrastructure</td>\n",
       "      <td>11.798210</td>\n",
       "      <td>5.828289</td>\n",
       "    </tr>\n",
       "    <tr>\n",
       "      <th>0</th>\n",
       "      <td>149.0</td>\n",
       "      <td>4150.0</td>\n",
       "      <td>notavailable</td>\n",
       "      <td>16.779279</td>\n",
       "      <td>14.403221</td>\n",
       "    </tr>\n",
       "    <tr>\n",
       "      <th>0</th>\n",
       "      <td>8.0</td>\n",
       "      <td>637.0</td>\n",
       "      <td>OpenStack Charms</td>\n",
       "      <td>7.339450</td>\n",
       "      <td>3.642498</td>\n",
       "    </tr>\n",
       "    <tr>\n",
       "      <th>0</th>\n",
       "      <td>89.0</td>\n",
       "      <td>706.0</td>\n",
       "      <td>neutron</td>\n",
       "      <td>16.036036</td>\n",
       "      <td>6.961838</td>\n",
       "    </tr>\n",
       "    <tr>\n",
       "      <th>0</th>\n",
       "      <td>26.0</td>\n",
       "      <td>350.0</td>\n",
       "      <td>OpenStackAnsible</td>\n",
       "      <td>14.942529</td>\n",
       "      <td>2.972147</td>\n",
       "    </tr>\n",
       "    <tr>\n",
       "      <th>0</th>\n",
       "      <td>97.0</td>\n",
       "      <td>766.0</td>\n",
       "      <td>nova</td>\n",
       "      <td>16.193656</td>\n",
       "      <td>7.432564</td>\n",
       "    </tr>\n",
       "    <tr>\n",
       "      <th>0</th>\n",
       "      <td>119.0</td>\n",
       "      <td>2266.0</td>\n",
       "      <td>Documentation</td>\n",
       "      <td>21.915285</td>\n",
       "      <td>33.382440</td>\n",
       "    </tr>\n",
       "    <tr>\n",
       "      <th>0</th>\n",
       "      <td>35.0</td>\n",
       "      <td>596.0</td>\n",
       "      <td>tripleo</td>\n",
       "      <td>12.681159</td>\n",
       "      <td>5.052132</td>\n",
       "    </tr>\n",
       "    <tr>\n",
       "      <th>0</th>\n",
       "      <td>32.0</td>\n",
       "      <td>868.0</td>\n",
       "      <td>Puppet OpenStack</td>\n",
       "      <td>9.638554</td>\n",
       "      <td>10.886743</td>\n",
       "    </tr>\n",
       "    <tr>\n",
       "      <th>0</th>\n",
       "      <td>89.0</td>\n",
       "      <td>577.0</td>\n",
       "      <td>Quality Assurance</td>\n",
       "      <td>14.037855</td>\n",
       "      <td>8.326118</td>\n",
       "    </tr>\n",
       "    <tr>\n",
       "      <th>0</th>\n",
       "      <td>43.0</td>\n",
       "      <td>1341.0</td>\n",
       "      <td>ironic</td>\n",
       "      <td>14.878893</td>\n",
       "      <td>25.131184</td>\n",
       "    </tr>\n",
       "    <tr>\n",
       "      <th>0</th>\n",
       "      <td>52.0</td>\n",
       "      <td>244.0</td>\n",
       "      <td>oslo</td>\n",
       "      <td>13.131313</td>\n",
       "      <td>4.675225</td>\n",
       "    </tr>\n",
       "    <tr>\n",
       "      <th>0</th>\n",
       "      <td>51.0</td>\n",
       "      <td>206.0</td>\n",
       "      <td>heat</td>\n",
       "      <td>16.398714</td>\n",
       "      <td>3.711712</td>\n",
       "    </tr>\n",
       "    <tr>\n",
       "      <th>0</th>\n",
       "      <td>52.0</td>\n",
       "      <td>572.0</td>\n",
       "      <td>keystone</td>\n",
       "      <td>18.055556</td>\n",
       "      <td>10.711610</td>\n",
       "    </tr>\n",
       "    <tr>\n",
       "      <th>0</th>\n",
       "      <td>51.0</td>\n",
       "      <td>224.0</td>\n",
       "      <td>Telemetry</td>\n",
       "      <td>22.666667</td>\n",
       "      <td>7.598372</td>\n",
       "    </tr>\n",
       "    <tr>\n",
       "      <th>0</th>\n",
       "      <td>69.0</td>\n",
       "      <td>489.0</td>\n",
       "      <td>cinder</td>\n",
       "      <td>14.838710</td>\n",
       "      <td>10.264484</td>\n",
       "    </tr>\n",
       "    <tr>\n",
       "      <th>0</th>\n",
       "      <td>31.0</td>\n",
       "      <td>141.0</td>\n",
       "      <td>kolla</td>\n",
       "      <td>15.270936</td>\n",
       "      <td>3.867252</td>\n",
       "    </tr>\n",
       "    <tr>\n",
       "      <th>0</th>\n",
       "      <td>83.0</td>\n",
       "      <td>780.0</td>\n",
       "      <td>horizon</td>\n",
       "      <td>23.446328</td>\n",
       "      <td>23.207379</td>\n",
       "    </tr>\n",
       "    <tr>\n",
       "      <th>0</th>\n",
       "      <td>18.0</td>\n",
       "      <td>201.0</td>\n",
       "      <td>senlin</td>\n",
       "      <td>35.294118</td>\n",
       "      <td>64.012739</td>\n",
       "    </tr>\n",
       "    <tr>\n",
       "      <th>0</th>\n",
       "      <td>35.0</td>\n",
       "      <td>844.0</td>\n",
       "      <td>murano</td>\n",
       "      <td>23.489933</td>\n",
       "      <td>29.739253</td>\n",
       "    </tr>\n",
       "    <tr>\n",
       "      <th>0</th>\n",
       "      <td>40.0</td>\n",
       "      <td>250.0</td>\n",
       "      <td>octavia</td>\n",
       "      <td>12.738854</td>\n",
       "      <td>8.719916</td>\n",
       "    </tr>\n",
       "    <tr>\n",
       "      <th>0</th>\n",
       "      <td>21.0</td>\n",
       "      <td>179.0</td>\n",
       "      <td>monasca</td>\n",
       "      <td>15.555556</td>\n",
       "      <td>4.969461</td>\n",
       "    </tr>\n",
       "    <tr>\n",
       "      <th>0</th>\n",
       "      <td>25.0</td>\n",
       "      <td>201.0</td>\n",
       "      <td>sahara</td>\n",
       "      <td>16.129032</td>\n",
       "      <td>6.336696</td>\n",
       "    </tr>\n",
       "    <tr>\n",
       "      <th>0</th>\n",
       "      <td>19.0</td>\n",
       "      <td>58.0</td>\n",
       "      <td>Release Management</td>\n",
       "      <td>11.801242</td>\n",
       "      <td>1.820465</td>\n",
       "    </tr>\n",
       "    <tr>\n",
       "      <th>0</th>\n",
       "      <td>40.0</td>\n",
       "      <td>103.0</td>\n",
       "      <td>requirements</td>\n",
       "      <td>12.658228</td>\n",
       "      <td>5.014606</td>\n",
       "    </tr>\n",
       "    <tr>\n",
       "      <th>0</th>\n",
       "      <td>37.0</td>\n",
       "      <td>386.0</td>\n",
       "      <td>OpenStackClient</td>\n",
       "      <td>20.218579</td>\n",
       "      <td>21.035422</td>\n",
       "    </tr>\n",
       "    <tr>\n",
       "      <th>0</th>\n",
       "      <td>25.0</td>\n",
       "      <td>215.0</td>\n",
       "      <td>manila</td>\n",
       "      <td>16.556291</td>\n",
       "      <td>11.381683</td>\n",
       "    </tr>\n",
       "    <tr>\n",
       "      <th>0</th>\n",
       "      <td>27.0</td>\n",
       "      <td>334.0</td>\n",
       "      <td>magnum</td>\n",
       "      <td>18.750000</td>\n",
       "      <td>22.767553</td>\n",
       "    </tr>\n",
       "    <tr>\n",
       "      <th>0</th>\n",
       "      <td>49.0</td>\n",
       "      <td>217.0</td>\n",
       "      <td>glance</td>\n",
       "      <td>20.000000</td>\n",
       "      <td>10.931990</td>\n",
       "    </tr>\n",
       "    <tr>\n",
       "      <th>0</th>\n",
       "      <td>32.0</td>\n",
       "      <td>191.0</td>\n",
       "      <td>rally</td>\n",
       "      <td>15.763547</td>\n",
       "      <td>9.039281</td>\n",
       "    </tr>\n",
       "    <tr>\n",
       "      <th>0</th>\n",
       "      <td>35.0</td>\n",
       "      <td>202.0</td>\n",
       "      <td>swift</td>\n",
       "      <td>18.229167</td>\n",
       "      <td>8.650964</td>\n",
       "    </tr>\n",
       "    <tr>\n",
       "      <th>0</th>\n",
       "      <td>27.0</td>\n",
       "      <td>119.0</td>\n",
       "      <td>Security</td>\n",
       "      <td>24.107143</td>\n",
       "      <td>7.787958</td>\n",
       "    </tr>\n",
       "    <tr>\n",
       "      <th>0</th>\n",
       "      <td>12.0</td>\n",
       "      <td>58.0</td>\n",
       "      <td>designate</td>\n",
       "      <td>9.756098</td>\n",
       "      <td>5.128205</td>\n",
       "    </tr>\n",
       "    <tr>\n",
       "      <th>0</th>\n",
       "      <td>30.0</td>\n",
       "      <td>201.0</td>\n",
       "      <td>trove</td>\n",
       "      <td>21.126761</td>\n",
       "      <td>12.609787</td>\n",
       "    </tr>\n",
       "    <tr>\n",
       "      <th>0</th>\n",
       "      <td>13.0</td>\n",
       "      <td>127.0</td>\n",
       "      <td>mistral</td>\n",
       "      <td>13.131313</td>\n",
       "      <td>8.349770</td>\n",
       "    </tr>\n",
       "    <tr>\n",
       "      <th>0</th>\n",
       "      <td>17.0</td>\n",
       "      <td>49.0</td>\n",
       "      <td>Chef OpenStack</td>\n",
       "      <td>19.540230</td>\n",
       "      <td>2.552083</td>\n",
       "    </tr>\n",
       "    <tr>\n",
       "      <th>0</th>\n",
       "      <td>26.0</td>\n",
       "      <td>110.0</td>\n",
       "      <td>barbican</td>\n",
       "      <td>20.155039</td>\n",
       "      <td>9.009009</td>\n",
       "    </tr>\n",
       "    <tr>\n",
       "      <th>0</th>\n",
       "      <td>13.0</td>\n",
       "      <td>103.0</td>\n",
       "      <td>shade</td>\n",
       "      <td>17.105263</td>\n",
       "      <td>8.519438</td>\n",
       "    </tr>\n",
       "    <tr>\n",
       "      <th>0</th>\n",
       "      <td>10.0</td>\n",
       "      <td>251.0</td>\n",
       "      <td>congress</td>\n",
       "      <td>12.987013</td>\n",
       "      <td>25.000000</td>\n",
       "    </tr>\n",
       "    <tr>\n",
       "      <th>0</th>\n",
       "      <td>19.0</td>\n",
       "      <td>173.0</td>\n",
       "      <td>zaqar</td>\n",
       "      <td>20.430108</td>\n",
       "      <td>20.693780</td>\n",
       "    </tr>\n",
       "    <tr>\n",
       "      <th>0</th>\n",
       "      <td>6.0</td>\n",
       "      <td>45.0</td>\n",
       "      <td>solum</td>\n",
       "      <td>11.538462</td>\n",
       "      <td>5.428227</td>\n",
       "    </tr>\n",
       "    <tr>\n",
       "      <th>0</th>\n",
       "      <td>13.0</td>\n",
       "      <td>237.0</td>\n",
       "      <td>dragonflow</td>\n",
       "      <td>33.333333</td>\n",
       "      <td>24.687500</td>\n",
       "    </tr>\n",
       "    <tr>\n",
       "      <th>0</th>\n",
       "      <td>2.0</td>\n",
       "      <td>28.0</td>\n",
       "      <td>Packaging-rpm</td>\n",
       "      <td>6.451613</td>\n",
       "      <td>2.994652</td>\n",
       "    </tr>\n",
       "    <tr>\n",
       "      <th>0</th>\n",
       "      <td>28.0</td>\n",
       "      <td>152.0</td>\n",
       "      <td>tacker</td>\n",
       "      <td>23.728814</td>\n",
       "      <td>20.512821</td>\n",
       "    </tr>\n",
       "    <tr>\n",
       "      <th>0</th>\n",
       "      <td>7.0</td>\n",
       "      <td>14.0</td>\n",
       "      <td>freezer</td>\n",
       "      <td>12.500000</td>\n",
       "      <td>1.574803</td>\n",
       "    </tr>\n",
       "    <tr>\n",
       "      <th>0</th>\n",
       "      <td>12.0</td>\n",
       "      <td>198.0</td>\n",
       "      <td>vitrage</td>\n",
       "      <td>46.153846</td>\n",
       "      <td>30.045524</td>\n",
       "    </tr>\n",
       "    <tr>\n",
       "      <th>0</th>\n",
       "      <td>10.0</td>\n",
       "      <td>109.0</td>\n",
       "      <td>kuryr</td>\n",
       "      <td>20.408163</td>\n",
       "      <td>29.066667</td>\n",
       "    </tr>\n",
       "    <tr>\n",
       "      <th>0</th>\n",
       "      <td>12.0</td>\n",
       "      <td>44.0</td>\n",
       "      <td>watcher</td>\n",
       "      <td>20.689655</td>\n",
       "      <td>9.166667</td>\n",
       "    </tr>\n",
       "    <tr>\n",
       "      <th>0</th>\n",
       "      <td>13.0</td>\n",
       "      <td>132.0</td>\n",
       "      <td>zun</td>\n",
       "      <td>39.393939</td>\n",
       "      <td>51.162791</td>\n",
       "    </tr>\n",
       "    <tr>\n",
       "      <th>0</th>\n",
       "      <td>8.0</td>\n",
       "      <td>12.0</td>\n",
       "      <td>karbor</td>\n",
       "      <td>36.363636</td>\n",
       "      <td>5.970149</td>\n",
       "    </tr>\n",
       "    <tr>\n",
       "      <th>0</th>\n",
       "      <td>2.0</td>\n",
       "      <td>5.0</td>\n",
       "      <td>ec2-api</td>\n",
       "      <td>11.764706</td>\n",
       "      <td>1.736111</td>\n",
       "    </tr>\n",
       "    <tr>\n",
       "      <th>0</th>\n",
       "      <td>7.0</td>\n",
       "      <td>35.0</td>\n",
       "      <td>searchlight</td>\n",
       "      <td>16.666667</td>\n",
       "      <td>8.997429</td>\n",
       "    </tr>\n",
       "    <tr>\n",
       "      <th>0</th>\n",
       "      <td>5.0</td>\n",
       "      <td>33.0</td>\n",
       "      <td>winstackers</td>\n",
       "      <td>13.157895</td>\n",
       "      <td>7.158351</td>\n",
       "    </tr>\n",
       "    <tr>\n",
       "      <th>0</th>\n",
       "      <td>7.0</td>\n",
       "      <td>66.0</td>\n",
       "      <td>RefStack</td>\n",
       "      <td>18.918919</td>\n",
       "      <td>16.793893</td>\n",
       "    </tr>\n",
       "    <tr>\n",
       "      <th>0</th>\n",
       "      <td>4.0</td>\n",
       "      <td>6.0</td>\n",
       "      <td>cloudkitty</td>\n",
       "      <td>11.111111</td>\n",
       "      <td>1.869159</td>\n",
       "    </tr>\n",
       "    <tr>\n",
       "      <th>0</th>\n",
       "      <td>8.0</td>\n",
       "      <td>44.0</td>\n",
       "      <td>tricircle</td>\n",
       "      <td>66.666667</td>\n",
       "      <td>115.789474</td>\n",
       "    </tr>\n",
       "    <tr>\n",
       "      <th>0</th>\n",
       "      <td>3.0</td>\n",
       "      <td>53.0</td>\n",
       "      <td>storlets</td>\n",
       "      <td>16.666667</td>\n",
       "      <td>18.213058</td>\n",
       "    </tr>\n",
       "    <tr>\n",
       "      <th>0</th>\n",
       "      <td>1.0</td>\n",
       "      <td>18.0</td>\n",
       "      <td>I18n</td>\n",
       "      <td>7.692308</td>\n",
       "      <td>16.822430</td>\n",
       "    </tr>\n",
       "    <tr>\n",
       "      <th>0</th>\n",
       "      <td>2.0</td>\n",
       "      <td>9.0</td>\n",
       "      <td>blazar</td>\n",
       "      <td>9.090909</td>\n",
       "      <td>15.789474</td>\n",
       "    </tr>\n",
       "  </tbody>\n",
       "</table>\n",
       "</div>"
      ],
      "text/plain": [
       "   project  authors             commits  ratio_authors  ratio_commits\n",
       "0    587.0  11950.0       Packaging-deb      14.745039       9.208600\n",
       "0    145.0   2638.0      Infrastructure      11.798210       5.828289\n",
       "0    149.0   4150.0        notavailable      16.779279      14.403221\n",
       "0      8.0    637.0    OpenStack Charms       7.339450       3.642498\n",
       "0     89.0    706.0             neutron      16.036036       6.961838\n",
       "0     26.0    350.0    OpenStackAnsible      14.942529       2.972147\n",
       "0     97.0    766.0                nova      16.193656       7.432564\n",
       "0    119.0   2266.0       Documentation      21.915285      33.382440\n",
       "0     35.0    596.0             tripleo      12.681159       5.052132\n",
       "0     32.0    868.0    Puppet OpenStack       9.638554      10.886743\n",
       "0     89.0    577.0   Quality Assurance      14.037855       8.326118\n",
       "0     43.0   1341.0              ironic      14.878893      25.131184\n",
       "0     52.0    244.0                oslo      13.131313       4.675225\n",
       "0     51.0    206.0                heat      16.398714       3.711712\n",
       "0     52.0    572.0            keystone      18.055556      10.711610\n",
       "0     51.0    224.0           Telemetry      22.666667       7.598372\n",
       "0     69.0    489.0              cinder      14.838710      10.264484\n",
       "0     31.0    141.0               kolla      15.270936       3.867252\n",
       "0     83.0    780.0             horizon      23.446328      23.207379\n",
       "0     18.0    201.0              senlin      35.294118      64.012739\n",
       "0     35.0    844.0              murano      23.489933      29.739253\n",
       "0     40.0    250.0             octavia      12.738854       8.719916\n",
       "0     21.0    179.0             monasca      15.555556       4.969461\n",
       "0     25.0    201.0              sahara      16.129032       6.336696\n",
       "0     19.0     58.0  Release Management      11.801242       1.820465\n",
       "0     40.0    103.0        requirements      12.658228       5.014606\n",
       "0     37.0    386.0     OpenStackClient      20.218579      21.035422\n",
       "0     25.0    215.0              manila      16.556291      11.381683\n",
       "0     27.0    334.0              magnum      18.750000      22.767553\n",
       "0     49.0    217.0              glance      20.000000      10.931990\n",
       "0     32.0    191.0               rally      15.763547       9.039281\n",
       "0     35.0    202.0               swift      18.229167       8.650964\n",
       "0     27.0    119.0            Security      24.107143       7.787958\n",
       "0     12.0     58.0           designate       9.756098       5.128205\n",
       "0     30.0    201.0               trove      21.126761      12.609787\n",
       "0     13.0    127.0             mistral      13.131313       8.349770\n",
       "0     17.0     49.0      Chef OpenStack      19.540230       2.552083\n",
       "0     26.0    110.0            barbican      20.155039       9.009009\n",
       "0     13.0    103.0               shade      17.105263       8.519438\n",
       "0     10.0    251.0            congress      12.987013      25.000000\n",
       "0     19.0    173.0               zaqar      20.430108      20.693780\n",
       "0      6.0     45.0               solum      11.538462       5.428227\n",
       "0     13.0    237.0          dragonflow      33.333333      24.687500\n",
       "0      2.0     28.0       Packaging-rpm       6.451613       2.994652\n",
       "0     28.0    152.0              tacker      23.728814      20.512821\n",
       "0      7.0     14.0             freezer      12.500000       1.574803\n",
       "0     12.0    198.0             vitrage      46.153846      30.045524\n",
       "0     10.0    109.0               kuryr      20.408163      29.066667\n",
       "0     12.0     44.0             watcher      20.689655       9.166667\n",
       "0     13.0    132.0                 zun      39.393939      51.162791\n",
       "0      8.0     12.0              karbor      36.363636       5.970149\n",
       "0      2.0      5.0             ec2-api      11.764706       1.736111\n",
       "0      7.0     35.0         searchlight      16.666667       8.997429\n",
       "0      5.0     33.0         winstackers      13.157895       7.158351\n",
       "0      7.0     66.0            RefStack      18.918919      16.793893\n",
       "0      4.0      6.0          cloudkitty      11.111111       1.869159\n",
       "0      8.0     44.0           tricircle      66.666667     115.789474\n",
       "0      3.0     53.0            storlets      16.666667      18.213058\n",
       "0      1.0     18.0                I18n       7.692308      16.822430\n",
       "0      2.0      9.0              blazar       9.090909      15.789474"
      ]
     },
     "execution_count": 51,
     "metadata": {},
     "output_type": "execute_result"
    }
   ],
   "source": [
    "df_summary.columns\n",
    "df_summary.columns = [\"project\", \"authors\", \"commits\", \"ratio_authors\", \"ratio_commits\"]\n",
    "df_summary"
   ]
  },
  {
   "cell_type": "markdown",
   "metadata": {
    "collapsed": true
   },
   "source": [
    "# Mailing Lists"
   ]
  },
  {
   "cell_type": "code",
   "execution_count": 28,
   "metadata": {
    "collapsed": true
   },
   "outputs": [],
   "source": [
    "INDEX = \"mbox_openstack_gender_uuids_fielddata\"\n"
   ]
  },
  {
   "cell_type": "code",
   "execution_count": 29,
   "metadata": {},
   "outputs": [],
   "source": [
    "METRIC_NAME = \"emails\"\n",
    "METRIC_FIELD = \"id\"\n",
    "\n",
    "df = query_metric_over_time(INDEX, METRIC_NAME, METRIC_FIELD, [filter_date_4y])"
   ]
  },
  {
   "cell_type": "code",
   "execution_count": 30,
   "metadata": {},
   "outputs": [
    {
     "data": {
      "application/vnd.plotly.v1+json": {
       "data": [
        {
         "name": "female",
         "type": "scatter",
         "x": [
          "2013-10-01T00:00:00.000Z",
          "2014-01-01T00:00:00.000Z",
          "2014-04-01T00:00:00.000Z",
          "2014-07-01T00:00:00.000Z",
          "2014-10-01T00:00:00.000Z",
          "2015-01-01T00:00:00.000Z",
          "2015-04-01T00:00:00.000Z",
          "2015-07-01T00:00:00.000Z",
          "2015-10-01T00:00:00.000Z",
          "2016-01-01T00:00:00.000Z",
          "2016-04-01T00:00:00.000Z",
          "2016-07-01T00:00:00.000Z",
          "2016-10-01T00:00:00.000Z",
          "2017-01-01T00:00:00.000Z",
          "2017-04-01T00:00:00.000Z",
          "2017-07-01T00:00:00.000Z"
         ],
         "y": [
          1108,
          1300,
          906,
          1189,
          749,
          788,
          1238,
          1122,
          963,
          1115,
          1066,
          857,
          649,
          835,
          442,
          413
         ]
        },
        {
         "name": "male",
         "type": "scatter",
         "x": [
          "2013-10-01T00:00:00.000Z",
          "2014-01-01T00:00:00.000Z",
          "2014-04-01T00:00:00.000Z",
          "2014-07-01T00:00:00.000Z",
          "2014-10-01T00:00:00.000Z",
          "2015-01-01T00:00:00.000Z",
          "2015-04-01T00:00:00.000Z",
          "2015-07-01T00:00:00.000Z",
          "2015-10-01T00:00:00.000Z",
          "2016-01-01T00:00:00.000Z",
          "2016-04-01T00:00:00.000Z",
          "2016-07-01T00:00:00.000Z",
          "2016-10-01T00:00:00.000Z",
          "2017-01-01T00:00:00.000Z",
          "2017-04-01T00:00:00.000Z",
          "2017-07-01T00:00:00.000Z"
         ],
         "y": [
          9147,
          9522,
          8704,
          9772,
          7392,
          8145,
          9257,
          8811,
          6522,
          9021,
          8207,
          6975,
          5339,
          6369,
          5234,
          4158
         ]
        },
        {
         "name": "unknown",
         "type": "scatter",
         "x": [
          "2013-10-01T00:00:00.000Z",
          "2014-01-01T00:00:00.000Z",
          "2014-04-01T00:00:00.000Z",
          "2014-07-01T00:00:00.000Z",
          "2014-10-01T00:00:00.000Z",
          "2015-01-01T00:00:00.000Z",
          "2015-04-01T00:00:00.000Z",
          "2015-07-01T00:00:00.000Z",
          "2015-10-01T00:00:00.000Z",
          "2016-01-01T00:00:00.000Z",
          "2016-04-01T00:00:00.000Z",
          "2016-07-01T00:00:00.000Z",
          "2016-10-01T00:00:00.000Z",
          "2017-01-01T00:00:00.000Z",
          "2017-04-01T00:00:00.000Z",
          "2017-07-01T00:00:00.000Z"
         ],
         "y": [
          2477,
          2286,
          2331,
          1986,
          1463,
          1695,
          2094,
          2082,
          1617,
          2119,
          2441,
          2360,
          1768,
          2300,
          2026,
          1686
         ]
        }
       ],
       "layout": {}
      },
      "text/html": [
       "<div id=\"bb1a954a-789d-425b-8fca-38e3772fa271\" style=\"height: 525px; width: 100%;\" class=\"plotly-graph-div\"></div><script type=\"text/javascript\">require([\"plotly\"], function(Plotly) { window.PLOTLYENV=window.PLOTLYENV || {};window.PLOTLYENV.BASE_URL=\"https://plot.ly\";Plotly.newPlot(\"bb1a954a-789d-425b-8fca-38e3772fa271\", [{\"x\": [\"2013-10-01T00:00:00.000Z\", \"2014-01-01T00:00:00.000Z\", \"2014-04-01T00:00:00.000Z\", \"2014-07-01T00:00:00.000Z\", \"2014-10-01T00:00:00.000Z\", \"2015-01-01T00:00:00.000Z\", \"2015-04-01T00:00:00.000Z\", \"2015-07-01T00:00:00.000Z\", \"2015-10-01T00:00:00.000Z\", \"2016-01-01T00:00:00.000Z\", \"2016-04-01T00:00:00.000Z\", \"2016-07-01T00:00:00.000Z\", \"2016-10-01T00:00:00.000Z\", \"2017-01-01T00:00:00.000Z\", \"2017-04-01T00:00:00.000Z\", \"2017-07-01T00:00:00.000Z\"], \"name\": \"female\", \"type\": \"scatter\", \"y\": [1108, 1300, 906, 1189, 749, 788, 1238, 1122, 963, 1115, 1066, 857, 649, 835, 442, 413]}, {\"x\": [\"2013-10-01T00:00:00.000Z\", \"2014-01-01T00:00:00.000Z\", \"2014-04-01T00:00:00.000Z\", \"2014-07-01T00:00:00.000Z\", \"2014-10-01T00:00:00.000Z\", \"2015-01-01T00:00:00.000Z\", \"2015-04-01T00:00:00.000Z\", \"2015-07-01T00:00:00.000Z\", \"2015-10-01T00:00:00.000Z\", \"2016-01-01T00:00:00.000Z\", \"2016-04-01T00:00:00.000Z\", \"2016-07-01T00:00:00.000Z\", \"2016-10-01T00:00:00.000Z\", \"2017-01-01T00:00:00.000Z\", \"2017-04-01T00:00:00.000Z\", \"2017-07-01T00:00:00.000Z\"], \"name\": \"male\", \"type\": \"scatter\", \"y\": [9147, 9522, 8704, 9772, 7392, 8145, 9257, 8811, 6522, 9021, 8207, 6975, 5339, 6369, 5234, 4158]}, {\"x\": [\"2013-10-01T00:00:00.000Z\", \"2014-01-01T00:00:00.000Z\", \"2014-04-01T00:00:00.000Z\", \"2014-07-01T00:00:00.000Z\", \"2014-10-01T00:00:00.000Z\", \"2015-01-01T00:00:00.000Z\", \"2015-04-01T00:00:00.000Z\", \"2015-07-01T00:00:00.000Z\", \"2015-10-01T00:00:00.000Z\", \"2016-01-01T00:00:00.000Z\", \"2016-04-01T00:00:00.000Z\", \"2016-07-01T00:00:00.000Z\", \"2016-10-01T00:00:00.000Z\", \"2017-01-01T00:00:00.000Z\", \"2017-04-01T00:00:00.000Z\", \"2017-07-01T00:00:00.000Z\"], \"name\": \"unknown\", \"type\": \"scatter\", \"y\": [2477, 2286, 2331, 1986, 1463, 1695, 2094, 2082, 1617, 2119, 2441, 2360, 1768, 2300, 2026, 1686]}], {}, {\"showLink\": true, \"linkText\": \"Export to plot.ly\"})});</script>"
      ],
      "text/vnd.plotly.v1+html": [
       "<div id=\"bb1a954a-789d-425b-8fca-38e3772fa271\" style=\"height: 525px; width: 100%;\" class=\"plotly-graph-div\"></div><script type=\"text/javascript\">require([\"plotly\"], function(Plotly) { window.PLOTLYENV=window.PLOTLYENV || {};window.PLOTLYENV.BASE_URL=\"https://plot.ly\";Plotly.newPlot(\"bb1a954a-789d-425b-8fca-38e3772fa271\", [{\"x\": [\"2013-10-01T00:00:00.000Z\", \"2014-01-01T00:00:00.000Z\", \"2014-04-01T00:00:00.000Z\", \"2014-07-01T00:00:00.000Z\", \"2014-10-01T00:00:00.000Z\", \"2015-01-01T00:00:00.000Z\", \"2015-04-01T00:00:00.000Z\", \"2015-07-01T00:00:00.000Z\", \"2015-10-01T00:00:00.000Z\", \"2016-01-01T00:00:00.000Z\", \"2016-04-01T00:00:00.000Z\", \"2016-07-01T00:00:00.000Z\", \"2016-10-01T00:00:00.000Z\", \"2017-01-01T00:00:00.000Z\", \"2017-04-01T00:00:00.000Z\", \"2017-07-01T00:00:00.000Z\"], \"name\": \"female\", \"type\": \"scatter\", \"y\": [1108, 1300, 906, 1189, 749, 788, 1238, 1122, 963, 1115, 1066, 857, 649, 835, 442, 413]}, {\"x\": [\"2013-10-01T00:00:00.000Z\", \"2014-01-01T00:00:00.000Z\", \"2014-04-01T00:00:00.000Z\", \"2014-07-01T00:00:00.000Z\", \"2014-10-01T00:00:00.000Z\", \"2015-01-01T00:00:00.000Z\", \"2015-04-01T00:00:00.000Z\", \"2015-07-01T00:00:00.000Z\", \"2015-10-01T00:00:00.000Z\", \"2016-01-01T00:00:00.000Z\", \"2016-04-01T00:00:00.000Z\", \"2016-07-01T00:00:00.000Z\", \"2016-10-01T00:00:00.000Z\", \"2017-01-01T00:00:00.000Z\", \"2017-04-01T00:00:00.000Z\", \"2017-07-01T00:00:00.000Z\"], \"name\": \"male\", \"type\": \"scatter\", \"y\": [9147, 9522, 8704, 9772, 7392, 8145, 9257, 8811, 6522, 9021, 8207, 6975, 5339, 6369, 5234, 4158]}, {\"x\": [\"2013-10-01T00:00:00.000Z\", \"2014-01-01T00:00:00.000Z\", \"2014-04-01T00:00:00.000Z\", \"2014-07-01T00:00:00.000Z\", \"2014-10-01T00:00:00.000Z\", \"2015-01-01T00:00:00.000Z\", \"2015-04-01T00:00:00.000Z\", \"2015-07-01T00:00:00.000Z\", \"2015-10-01T00:00:00.000Z\", \"2016-01-01T00:00:00.000Z\", \"2016-04-01T00:00:00.000Z\", \"2016-07-01T00:00:00.000Z\", \"2016-10-01T00:00:00.000Z\", \"2017-01-01T00:00:00.000Z\", \"2017-04-01T00:00:00.000Z\", \"2017-07-01T00:00:00.000Z\"], \"name\": \"unknown\", \"type\": \"scatter\", \"y\": [2477, 2286, 2331, 1986, 1463, 1695, 2094, 2082, 1617, 2119, 2441, 2360, 1768, 2300, 2026, 1686]}], {}, {\"showLink\": true, \"linkText\": \"Export to plot.ly\"})});</script>"
      ]
     },
     "metadata": {},
     "output_type": "display_data"
    }
   ],
   "source": [
    "draw_evolutionary_chart(\"key_as_string\", METRIC_NAME)"
   ]
  },
  {
   "cell_type": "code",
   "execution_count": 31,
   "metadata": {},
   "outputs": [
    {
     "data": {
      "application/vnd.plotly.v1+json": {
       "data": [
        {
         "labels": [
          "male",
          "NotKnown",
          "female",
          "Unknown"
         ],
         "type": "pie",
         "values": [
          122573,
          32731,
          14742,
          16
         ]
        }
       ],
       "layout": {
        "title": "Emails by Gender (last 4 years)"
       }
      },
      "text/html": [
       "<div id=\"9754d2f9-6f69-447e-bccb-9c47cb34ec4e\" style=\"height: 525px; width: 100%;\" class=\"plotly-graph-div\"></div><script type=\"text/javascript\">require([\"plotly\"], function(Plotly) { window.PLOTLYENV=window.PLOTLYENV || {};window.PLOTLYENV.BASE_URL=\"https://plot.ly\";Plotly.newPlot(\"9754d2f9-6f69-447e-bccb-9c47cb34ec4e\", [{\"values\": [122573, 32731, 14742, 16], \"labels\": [\"male\", \"NotKnown\", \"female\", \"Unknown\"], \"type\": \"pie\"}], {\"title\": \"Emails by Gender (last 4 years)\"}, {\"showLink\": true, \"linkText\": \"Export to plot.ly\"})});</script>"
      ],
      "text/vnd.plotly.v1+html": [
       "<div id=\"9754d2f9-6f69-447e-bccb-9c47cb34ec4e\" style=\"height: 525px; width: 100%;\" class=\"plotly-graph-div\"></div><script type=\"text/javascript\">require([\"plotly\"], function(Plotly) { window.PLOTLYENV=window.PLOTLYENV || {};window.PLOTLYENV.BASE_URL=\"https://plot.ly\";Plotly.newPlot(\"9754d2f9-6f69-447e-bccb-9c47cb34ec4e\", [{\"values\": [122573, 32731, 14742, 16], \"labels\": [\"male\", \"NotKnown\", \"female\", \"Unknown\"], \"type\": \"pie\"}], {\"title\": \"Emails by Gender (last 4 years)\"}, {\"showLink\": true, \"linkText\": \"Export to plot.ly\"})});</script>"
      ]
     },
     "metadata": {},
     "output_type": "display_data"
    }
   ],
   "source": [
    "pie_chart_labels, pie_chart_values, pie_chart_count = query_total_piechart(INDEX, METRIC_NAME, METRIC_FIELD, \n",
    "                                                            [filter_date_4y])\n",
    "\n",
    "draw_piechart(pie_chart_labels, pie_chart_values, 'Emails by Gender (last 4 years)')"
   ]
  },
  {
   "cell_type": "code",
   "execution_count": 32,
   "metadata": {},
   "outputs": [
    {
     "data": {
      "application/vnd.plotly.v1+json": {
       "data": [
        {
         "labels": [
          "male",
          "NotKnown",
          "female"
         ],
         "type": "pie",
         "values": [
          21105,
          7781,
          2339
         ]
        }
       ],
       "layout": {
        "title": "Emails by Gender (last year)"
       }
      },
      "text/html": [
       "<div id=\"8b6c1a27-7ba3-4ffe-be2b-36ee29949816\" style=\"height: 525px; width: 100%;\" class=\"plotly-graph-div\"></div><script type=\"text/javascript\">require([\"plotly\"], function(Plotly) { window.PLOTLYENV=window.PLOTLYENV || {};window.PLOTLYENV.BASE_URL=\"https://plot.ly\";Plotly.newPlot(\"8b6c1a27-7ba3-4ffe-be2b-36ee29949816\", [{\"values\": [21105, 7781, 2339], \"labels\": [\"male\", \"NotKnown\", \"female\"], \"type\": \"pie\"}], {\"title\": \"Emails by Gender (last year)\"}, {\"showLink\": true, \"linkText\": \"Export to plot.ly\"})});</script>"
      ],
      "text/vnd.plotly.v1+html": [
       "<div id=\"8b6c1a27-7ba3-4ffe-be2b-36ee29949816\" style=\"height: 525px; width: 100%;\" class=\"plotly-graph-div\"></div><script type=\"text/javascript\">require([\"plotly\"], function(Plotly) { window.PLOTLYENV=window.PLOTLYENV || {};window.PLOTLYENV.BASE_URL=\"https://plot.ly\";Plotly.newPlot(\"8b6c1a27-7ba3-4ffe-be2b-36ee29949816\", [{\"values\": [21105, 7781, 2339], \"labels\": [\"male\", \"NotKnown\", \"female\"], \"type\": \"pie\"}], {\"title\": \"Emails by Gender (last year)\"}, {\"showLink\": true, \"linkText\": \"Export to plot.ly\"})});</script>"
      ]
     },
     "metadata": {},
     "output_type": "display_data"
    }
   ],
   "source": [
    "pie_chart_labels, pie_chart_values, pie_chart_count = query_total_piechart(INDEX, METRIC_NAME, METRIC_FIELD, \n",
    "                                                            [filter_date_1y])\n",
    "\n",
    "draw_piechart(pie_chart_labels, pie_chart_values, 'Emails by Gender (last year)')"
   ]
  },
  {
   "cell_type": "code",
   "execution_count": 53,
   "metadata": {},
   "outputs": [],
   "source": [
    "i18n_mailing_lists = [\"http://lists.openstack.org/pipermail/openstack-ir/\",\n",
    "\"http://lists.openstack.org/pipermail/openstack-de/\",\n",
    "\"http://lists.openstack.org/pipermail/openstack-i18n-fr/\",\n",
    "\"http://lists.openstack.org/pipermail/openstack-i18n/\",\n",
    "\"http://lists.openstack.org/pipermail/openstack-el/\",\n",
    "\"http://lists.openstack.org/pipermail/openstack-it/\",\n",
    "\"http://lists.openstack.org/pipermail/openstack-zh/\",\n",
    "\"http://lists.openstack.org/pipermail/openstack-es/\",\n",
    "\"http://lists.openstack.org/pipermail/openstack-vi/\",\n",
    "\"http://lists.openstack.org/pipermail/openstack-i18n-de/\"]\n",
    "\n",
    "dev_mailinglist = [\"http://lists.openstack.org/pipermail/openstack-dev/\"]\n",
    "\n",
    "others_mls =[\"http://lists.openstack.org/pipermail/openstack/\",\n",
    "             \"http://lists.openstack.org/pipermail/openstack-operators/\",\n",
    "             \"http://lists.openstack.org/pipermail/openstack-docs/\",\n",
    "             \"http://lists.openstack.org/pipermail/openstack-stable-maint/\",\n",
    "             \"http://lists.openstack.org/pipermail/openstack-infra/\",\n",
    "             \"http://lists.openstack.org/pipermail/openstack-security/\",\n",
    "             \"http://lists.openstack.org/pipermail/openstack-announce/\",\n",
    "             \"http://lists.openstack.org/pipermail/user-committee/\",\n",
    "             \"http://lists.openstack.org/pipermail/openstack-announce/\",\n",
    "             \"http://lists.openstack.org/pipermail/foundation/\",\n",
    "             \"http://lists.openstack.org/pipermail/community/\",\n",
    "             \"http://lists.openstack.org/pipermail/openstack-tc/\",\n",
    "             \"http://lists.openstack.org/pipermail/women-of-openstack/\",\n",
    "             \"http://lists.openstack.org/pipermail/openstrack-track-chairs/\",\n",
    "             \"http://lists.openstack.org/pipermail/release-job-failures/\",\n",
    "             \"http://lists.openstack.org/pipermail/enterprise-wg/\",\n",
    "             \"http://lists.openstack.org/pipermail/legal-discuss/\",\n",
    "             \"http://lists.openstack.org/pipermail/foundation-board/\",\n",
    "             \"http://lists.openstack.org/pipermail/third-party-announce/\",\n",
    "             \"http://lists.openstack.org/pipermail/openstack-personas/\",\n",
    "             \"http://lists.openstack.org/pipermail/openstack-hpc/\",\n",
    "             \"http://lists.openstack.org/pipermail/interop-wg/\",\n",
    "             \"http://lists.openstack.org/pipermail/openstack-internships/\",\n",
    "             \"http://lists.openstack.org/pipermail/openstack-sigs/\",\n",
    "             \"http://lists.openstack.org/pipermail/elections-committer/\",\n",
    "             \"http://lists.openstack.org/pipermail/transparency/\",\n",
    "             \"http://lists.openstack.org/pipermail/foundation-testing-standards/\",\n",
    "             \"http://lists.openstack.org/pipermail/openstack-content/\",\n",
    "             \"http://lists.openstack.org/pipermail/openstack-api-consumer/\",\n",
    "             \"http://lists.openstack.org/pipermail/openstack-sos/\",\n",
    "             \"http://lists.openstack.org/pipermail/superuser/\",\n",
    "             \"http://lists.openstack.org/pipermail/tax-affairs/\"\n",
    "]\n",
    "\n",
    "filter_mls_languages = Q('terms', mailinglist__keyword=i18n_mailing_lists)\n",
    "filter_mls_dev = Q('terms', mailinglist__keyword=dev_mailinglist)\n",
    "filter_mls_others = Q('terms', mailinglist__keyword=others_mls)\n",
    "\n"
   ]
  },
  {
   "cell_type": "code",
   "execution_count": 45,
   "metadata": {},
   "outputs": [
    {
     "data": {
      "application/vnd.plotly.v1+json": {
       "data": [
        {
         "name": "female",
         "type": "scatter",
         "x": [
          "2013-10-01T00:00:00.000Z",
          "2014-01-01T00:00:00.000Z",
          "2014-04-01T00:00:00.000Z",
          "2014-07-01T00:00:00.000Z",
          "2014-10-01T00:00:00.000Z",
          "2015-01-01T00:00:00.000Z",
          "2015-04-01T00:00:00.000Z",
          "2015-07-01T00:00:00.000Z",
          "2015-10-01T00:00:00.000Z",
          "2016-01-01T00:00:00.000Z",
          "2016-04-01T00:00:00.000Z",
          "2016-07-01T00:00:00.000Z",
          "2016-10-01T00:00:00.000Z",
          "2017-01-01T00:00:00.000Z",
          "2017-04-01T00:00:00.000Z",
          "2017-07-01T00:00:00.000Z"
         ],
         "y": [
          499,
          484,
          453,
          508,
          370,
          365,
          503,
          463,
          374,
          536,
          556,
          346,
          234,
          344,
          216,
          179
         ]
        },
        {
         "name": "male",
         "type": "scatter",
         "x": [
          "2013-10-01T00:00:00.000Z",
          "2014-01-01T00:00:00.000Z",
          "2014-04-01T00:00:00.000Z",
          "2014-07-01T00:00:00.000Z",
          "2014-10-01T00:00:00.000Z",
          "2015-01-01T00:00:00.000Z",
          "2015-04-01T00:00:00.000Z",
          "2015-07-01T00:00:00.000Z",
          "2015-10-01T00:00:00.000Z",
          "2016-01-01T00:00:00.000Z",
          "2016-04-01T00:00:00.000Z",
          "2016-07-01T00:00:00.000Z",
          "2016-10-01T00:00:00.000Z",
          "2017-01-01T00:00:00.000Z",
          "2017-04-01T00:00:00.000Z",
          "2017-07-01T00:00:00.000Z"
         ],
         "y": [
          5932,
          6459,
          5812,
          6955,
          5019,
          5437,
          6352,
          5926,
          3910,
          6063,
          5404,
          4681,
          3553,
          4052,
          3421,
          2557
         ]
        },
        {
         "name": "unknown",
         "type": "scatter",
         "x": [
          "2013-10-01T00:00:00.000Z",
          "2014-01-01T00:00:00.000Z",
          "2014-04-01T00:00:00.000Z",
          "2014-07-01T00:00:00.000Z",
          "2014-10-01T00:00:00.000Z",
          "2015-01-01T00:00:00.000Z",
          "2015-04-01T00:00:00.000Z",
          "2015-07-01T00:00:00.000Z",
          "2015-10-01T00:00:00.000Z",
          "2016-01-01T00:00:00.000Z",
          "2016-04-01T00:00:00.000Z",
          "2016-07-01T00:00:00.000Z",
          "2016-10-01T00:00:00.000Z",
          "2017-01-01T00:00:00.000Z",
          "2017-04-01T00:00:00.000Z",
          "2017-07-01T00:00:00.000Z"
         ],
         "y": [
          991,
          1291,
          1283,
          1026,
          754,
          858,
          1187,
          1158,
          814,
          1310,
          1512,
          1268,
          827,
          932,
          710,
          653
         ]
        }
       ],
       "layout": {}
      },
      "text/html": [
       "<div id=\"4b0df39d-c468-471f-b4d0-5118aa80891c\" style=\"height: 525px; width: 100%;\" class=\"plotly-graph-div\"></div><script type=\"text/javascript\">require([\"plotly\"], function(Plotly) { window.PLOTLYENV=window.PLOTLYENV || {};window.PLOTLYENV.BASE_URL=\"https://plot.ly\";Plotly.newPlot(\"4b0df39d-c468-471f-b4d0-5118aa80891c\", [{\"x\": [\"2013-10-01T00:00:00.000Z\", \"2014-01-01T00:00:00.000Z\", \"2014-04-01T00:00:00.000Z\", \"2014-07-01T00:00:00.000Z\", \"2014-10-01T00:00:00.000Z\", \"2015-01-01T00:00:00.000Z\", \"2015-04-01T00:00:00.000Z\", \"2015-07-01T00:00:00.000Z\", \"2015-10-01T00:00:00.000Z\", \"2016-01-01T00:00:00.000Z\", \"2016-04-01T00:00:00.000Z\", \"2016-07-01T00:00:00.000Z\", \"2016-10-01T00:00:00.000Z\", \"2017-01-01T00:00:00.000Z\", \"2017-04-01T00:00:00.000Z\", \"2017-07-01T00:00:00.000Z\"], \"name\": \"female\", \"type\": \"scatter\", \"y\": [499, 484, 453, 508, 370, 365, 503, 463, 374, 536, 556, 346, 234, 344, 216, 179]}, {\"x\": [\"2013-10-01T00:00:00.000Z\", \"2014-01-01T00:00:00.000Z\", \"2014-04-01T00:00:00.000Z\", \"2014-07-01T00:00:00.000Z\", \"2014-10-01T00:00:00.000Z\", \"2015-01-01T00:00:00.000Z\", \"2015-04-01T00:00:00.000Z\", \"2015-07-01T00:00:00.000Z\", \"2015-10-01T00:00:00.000Z\", \"2016-01-01T00:00:00.000Z\", \"2016-04-01T00:00:00.000Z\", \"2016-07-01T00:00:00.000Z\", \"2016-10-01T00:00:00.000Z\", \"2017-01-01T00:00:00.000Z\", \"2017-04-01T00:00:00.000Z\", \"2017-07-01T00:00:00.000Z\"], \"name\": \"male\", \"type\": \"scatter\", \"y\": [5932, 6459, 5812, 6955, 5019, 5437, 6352, 5926, 3910, 6063, 5404, 4681, 3553, 4052, 3421, 2557]}, {\"x\": [\"2013-10-01T00:00:00.000Z\", \"2014-01-01T00:00:00.000Z\", \"2014-04-01T00:00:00.000Z\", \"2014-07-01T00:00:00.000Z\", \"2014-10-01T00:00:00.000Z\", \"2015-01-01T00:00:00.000Z\", \"2015-04-01T00:00:00.000Z\", \"2015-07-01T00:00:00.000Z\", \"2015-10-01T00:00:00.000Z\", \"2016-01-01T00:00:00.000Z\", \"2016-04-01T00:00:00.000Z\", \"2016-07-01T00:00:00.000Z\", \"2016-10-01T00:00:00.000Z\", \"2017-01-01T00:00:00.000Z\", \"2017-04-01T00:00:00.000Z\", \"2017-07-01T00:00:00.000Z\"], \"name\": \"unknown\", \"type\": \"scatter\", \"y\": [991, 1291, 1283, 1026, 754, 858, 1187, 1158, 814, 1310, 1512, 1268, 827, 932, 710, 653]}], {}, {\"showLink\": true, \"linkText\": \"Export to plot.ly\"})});</script>"
      ],
      "text/vnd.plotly.v1+html": [
       "<div id=\"4b0df39d-c468-471f-b4d0-5118aa80891c\" style=\"height: 525px; width: 100%;\" class=\"plotly-graph-div\"></div><script type=\"text/javascript\">require([\"plotly\"], function(Plotly) { window.PLOTLYENV=window.PLOTLYENV || {};window.PLOTLYENV.BASE_URL=\"https://plot.ly\";Plotly.newPlot(\"4b0df39d-c468-471f-b4d0-5118aa80891c\", [{\"x\": [\"2013-10-01T00:00:00.000Z\", \"2014-01-01T00:00:00.000Z\", \"2014-04-01T00:00:00.000Z\", \"2014-07-01T00:00:00.000Z\", \"2014-10-01T00:00:00.000Z\", \"2015-01-01T00:00:00.000Z\", \"2015-04-01T00:00:00.000Z\", \"2015-07-01T00:00:00.000Z\", \"2015-10-01T00:00:00.000Z\", \"2016-01-01T00:00:00.000Z\", \"2016-04-01T00:00:00.000Z\", \"2016-07-01T00:00:00.000Z\", \"2016-10-01T00:00:00.000Z\", \"2017-01-01T00:00:00.000Z\", \"2017-04-01T00:00:00.000Z\", \"2017-07-01T00:00:00.000Z\"], \"name\": \"female\", \"type\": \"scatter\", \"y\": [499, 484, 453, 508, 370, 365, 503, 463, 374, 536, 556, 346, 234, 344, 216, 179]}, {\"x\": [\"2013-10-01T00:00:00.000Z\", \"2014-01-01T00:00:00.000Z\", \"2014-04-01T00:00:00.000Z\", \"2014-07-01T00:00:00.000Z\", \"2014-10-01T00:00:00.000Z\", \"2015-01-01T00:00:00.000Z\", \"2015-04-01T00:00:00.000Z\", \"2015-07-01T00:00:00.000Z\", \"2015-10-01T00:00:00.000Z\", \"2016-01-01T00:00:00.000Z\", \"2016-04-01T00:00:00.000Z\", \"2016-07-01T00:00:00.000Z\", \"2016-10-01T00:00:00.000Z\", \"2017-01-01T00:00:00.000Z\", \"2017-04-01T00:00:00.000Z\", \"2017-07-01T00:00:00.000Z\"], \"name\": \"male\", \"type\": \"scatter\", \"y\": [5932, 6459, 5812, 6955, 5019, 5437, 6352, 5926, 3910, 6063, 5404, 4681, 3553, 4052, 3421, 2557]}, {\"x\": [\"2013-10-01T00:00:00.000Z\", \"2014-01-01T00:00:00.000Z\", \"2014-04-01T00:00:00.000Z\", \"2014-07-01T00:00:00.000Z\", \"2014-10-01T00:00:00.000Z\", \"2015-01-01T00:00:00.000Z\", \"2015-04-01T00:00:00.000Z\", \"2015-07-01T00:00:00.000Z\", \"2015-10-01T00:00:00.000Z\", \"2016-01-01T00:00:00.000Z\", \"2016-04-01T00:00:00.000Z\", \"2016-07-01T00:00:00.000Z\", \"2016-10-01T00:00:00.000Z\", \"2017-01-01T00:00:00.000Z\", \"2017-04-01T00:00:00.000Z\", \"2017-07-01T00:00:00.000Z\"], \"name\": \"unknown\", \"type\": \"scatter\", \"y\": [991, 1291, 1283, 1026, 754, 858, 1187, 1158, 814, 1310, 1512, 1268, 827, 932, 710, 653]}], {}, {\"showLink\": true, \"linkText\": \"Export to plot.ly\"})});</script>"
      ]
     },
     "metadata": {},
     "output_type": "display_data"
    }
   ],
   "source": [
    "df = query_metric_over_time(INDEX, METRIC_NAME, METRIC_FIELD, [filter_date_4y, filter_mls_dev])\n",
    "draw_evolutionary_chart(\"key_as_string\", METRIC_NAME)"
   ]
  },
  {
   "cell_type": "code",
   "execution_count": 48,
   "metadata": {},
   "outputs": [
    {
     "data": {
      "application/vnd.plotly.v1+json": {
       "data": [
        {
         "labels": [
          "male",
          "NotKnown",
          "female",
          "Unknown"
         ],
         "type": "pie",
         "values": [
          81551,
          16575,
          6430,
          2
         ]
        }
       ],
       "layout": {
        "title": "Openstack-Dev Emails by Gender (last 4 years)"
       }
      },
      "text/html": [
       "<div id=\"33dc64a1-0cb5-4683-b974-7d1ece1114b8\" style=\"height: 525px; width: 100%;\" class=\"plotly-graph-div\"></div><script type=\"text/javascript\">require([\"plotly\"], function(Plotly) { window.PLOTLYENV=window.PLOTLYENV || {};window.PLOTLYENV.BASE_URL=\"https://plot.ly\";Plotly.newPlot(\"33dc64a1-0cb5-4683-b974-7d1ece1114b8\", [{\"values\": [81551, 16575, 6430, 2], \"labels\": [\"male\", \"NotKnown\", \"female\", \"Unknown\"], \"type\": \"pie\"}], {\"title\": \"Openstack-Dev Emails by Gender (last 4 years)\"}, {\"showLink\": true, \"linkText\": \"Export to plot.ly\"})});</script>"
      ],
      "text/vnd.plotly.v1+html": [
       "<div id=\"33dc64a1-0cb5-4683-b974-7d1ece1114b8\" style=\"height: 525px; width: 100%;\" class=\"plotly-graph-div\"></div><script type=\"text/javascript\">require([\"plotly\"], function(Plotly) { window.PLOTLYENV=window.PLOTLYENV || {};window.PLOTLYENV.BASE_URL=\"https://plot.ly\";Plotly.newPlot(\"33dc64a1-0cb5-4683-b974-7d1ece1114b8\", [{\"values\": [81551, 16575, 6430, 2], \"labels\": [\"male\", \"NotKnown\", \"female\", \"Unknown\"], \"type\": \"pie\"}], {\"title\": \"Openstack-Dev Emails by Gender (last 4 years)\"}, {\"showLink\": true, \"linkText\": \"Export to plot.ly\"})});</script>"
      ]
     },
     "metadata": {},
     "output_type": "display_data"
    }
   ],
   "source": [
    "pie_chart_labels, pie_chart_values, pie_chart_count = query_total_piechart(INDEX, METRIC_NAME, METRIC_FIELD, \n",
    "                                                            [filter_date_4y, filter_mls_dev])\n",
    "\n",
    "draw_piechart(pie_chart_labels, pie_chart_values, 'Openstack-Dev Emails by Gender (last 4 years)')"
   ]
  },
  {
   "cell_type": "code",
   "execution_count": 49,
   "metadata": {},
   "outputs": [
    {
     "data": {
      "application/vnd.plotly.v1+json": {
       "data": [
        {
         "labels": [
          "male",
          "NotKnown",
          "female"
         ],
         "type": "pie",
         "values": [
          13586,
          3122,
          973
         ]
        }
       ],
       "layout": {
        "title": "OpenStack-Dev Emails by Gender (last year)"
       }
      },
      "text/html": [
       "<div id=\"55108d6b-ed97-4171-962e-e9d5d5106727\" style=\"height: 525px; width: 100%;\" class=\"plotly-graph-div\"></div><script type=\"text/javascript\">require([\"plotly\"], function(Plotly) { window.PLOTLYENV=window.PLOTLYENV || {};window.PLOTLYENV.BASE_URL=\"https://plot.ly\";Plotly.newPlot(\"55108d6b-ed97-4171-962e-e9d5d5106727\", [{\"values\": [13586, 3122, 973], \"labels\": [\"male\", \"NotKnown\", \"female\"], \"type\": \"pie\"}], {\"title\": \"OpenStack-Dev Emails by Gender (last year)\"}, {\"showLink\": true, \"linkText\": \"Export to plot.ly\"})});</script>"
      ],
      "text/vnd.plotly.v1+html": [
       "<div id=\"55108d6b-ed97-4171-962e-e9d5d5106727\" style=\"height: 525px; width: 100%;\" class=\"plotly-graph-div\"></div><script type=\"text/javascript\">require([\"plotly\"], function(Plotly) { window.PLOTLYENV=window.PLOTLYENV || {};window.PLOTLYENV.BASE_URL=\"https://plot.ly\";Plotly.newPlot(\"55108d6b-ed97-4171-962e-e9d5d5106727\", [{\"values\": [13586, 3122, 973], \"labels\": [\"male\", \"NotKnown\", \"female\"], \"type\": \"pie\"}], {\"title\": \"OpenStack-Dev Emails by Gender (last year)\"}, {\"showLink\": true, \"linkText\": \"Export to plot.ly\"})});</script>"
      ]
     },
     "metadata": {},
     "output_type": "display_data"
    }
   ],
   "source": [
    "pie_chart_labels, pie_chart_values, pie_chart_count = query_total_piechart(INDEX, METRIC_NAME, METRIC_FIELD, \n",
    "                                                            [filter_date_1y, filter_mls_dev])\n",
    "\n",
    "draw_piechart(pie_chart_labels, pie_chart_values, 'OpenStack-Dev Emails by Gender (last year)')"
   ]
  },
  {
   "cell_type": "code",
   "execution_count": 50,
   "metadata": {},
   "outputs": [
    {
     "data": {
      "application/vnd.plotly.v1+json": {
       "data": [
        {
         "name": "female",
         "type": "scatter",
         "x": [
          "2013-10-01T00:00:00.000Z",
          "2014-01-01T00:00:00.000Z",
          "2014-04-01T00:00:00.000Z",
          "2014-07-01T00:00:00.000Z",
          "2014-10-01T00:00:00.000Z",
          "2015-01-01T00:00:00.000Z",
          "2015-04-01T00:00:00.000Z",
          "2015-07-01T00:00:00.000Z",
          "2015-10-01T00:00:00.000Z",
          "2016-01-01T00:00:00.000Z",
          "2016-04-01T00:00:00.000Z",
          "2016-07-01T00:00:00.000Z",
          "2016-10-01T00:00:00.000Z",
          "2017-01-01T00:00:00.000Z",
          "2017-04-01T00:00:00.000Z",
          "2017-07-01T00:00:00.000Z"
         ],
         "y": [
          68,
          35,
          35,
          48,
          39,
          36,
          70,
          121,
          108,
          140,
          40,
          30,
          5,
          27,
          9,
          6
         ]
        },
        {
         "name": "male",
         "type": "scatter",
         "x": [
          "2013-10-01T00:00:00.000Z",
          "2014-01-01T00:00:00.000Z",
          "2014-04-01T00:00:00.000Z",
          "2014-07-01T00:00:00.000Z",
          "2014-10-01T00:00:00.000Z",
          "2015-01-01T00:00:00.000Z",
          "2015-04-01T00:00:00.000Z",
          "2015-07-01T00:00:00.000Z",
          "2015-10-01T00:00:00.000Z",
          "2016-01-01T00:00:00.000Z",
          "2016-04-01T00:00:00.000Z",
          "2016-07-01T00:00:00.000Z",
          "2016-10-01T00:00:00.000Z",
          "2017-01-01T00:00:00.000Z",
          "2017-04-01T00:00:00.000Z",
          "2017-07-01T00:00:00.000Z"
         ],
         "y": [
          156,
          77,
          179,
          78,
          92,
          65,
          107,
          174,
          136,
          273,
          149,
          168,
          183,
          209,
          89,
          123
         ]
        },
        {
         "name": "unknown",
         "type": "scatter",
         "x": [
          "2013-10-01T00:00:00.000Z",
          "2014-01-01T00:00:00.000Z",
          "2014-04-01T00:00:00.000Z",
          "2014-07-01T00:00:00.000Z",
          "2014-10-01T00:00:00.000Z",
          "2015-01-01T00:00:00.000Z",
          "2015-04-01T00:00:00.000Z",
          "2015-07-01T00:00:00.000Z",
          "2015-10-01T00:00:00.000Z",
          "2016-01-01T00:00:00.000Z",
          "2016-04-01T00:00:00.000Z",
          "2016-07-01T00:00:00.000Z",
          "2016-10-01T00:00:00.000Z",
          "2017-01-01T00:00:00.000Z",
          "2017-04-01T00:00:00.000Z",
          "2017-07-01T00:00:00.000Z"
         ],
         "y": [
          41,
          32,
          56,
          26,
          10,
          7,
          24,
          17,
          9,
          42,
          37,
          78,
          17,
          35,
          14,
          15
         ]
        }
       ],
       "layout": {}
      },
      "text/html": [
       "<div id=\"931ef007-582f-4fda-aa37-cc4dc8236a6e\" style=\"height: 525px; width: 100%;\" class=\"plotly-graph-div\"></div><script type=\"text/javascript\">require([\"plotly\"], function(Plotly) { window.PLOTLYENV=window.PLOTLYENV || {};window.PLOTLYENV.BASE_URL=\"https://plot.ly\";Plotly.newPlot(\"931ef007-582f-4fda-aa37-cc4dc8236a6e\", [{\"x\": [\"2013-10-01T00:00:00.000Z\", \"2014-01-01T00:00:00.000Z\", \"2014-04-01T00:00:00.000Z\", \"2014-07-01T00:00:00.000Z\", \"2014-10-01T00:00:00.000Z\", \"2015-01-01T00:00:00.000Z\", \"2015-04-01T00:00:00.000Z\", \"2015-07-01T00:00:00.000Z\", \"2015-10-01T00:00:00.000Z\", \"2016-01-01T00:00:00.000Z\", \"2016-04-01T00:00:00.000Z\", \"2016-07-01T00:00:00.000Z\", \"2016-10-01T00:00:00.000Z\", \"2017-01-01T00:00:00.000Z\", \"2017-04-01T00:00:00.000Z\", \"2017-07-01T00:00:00.000Z\"], \"name\": \"female\", \"type\": \"scatter\", \"y\": [68, 35, 35, 48, 39, 36, 70, 121, 108, 140, 40, 30, 5, 27, 9, 6]}, {\"x\": [\"2013-10-01T00:00:00.000Z\", \"2014-01-01T00:00:00.000Z\", \"2014-04-01T00:00:00.000Z\", \"2014-07-01T00:00:00.000Z\", \"2014-10-01T00:00:00.000Z\", \"2015-01-01T00:00:00.000Z\", \"2015-04-01T00:00:00.000Z\", \"2015-07-01T00:00:00.000Z\", \"2015-10-01T00:00:00.000Z\", \"2016-01-01T00:00:00.000Z\", \"2016-04-01T00:00:00.000Z\", \"2016-07-01T00:00:00.000Z\", \"2016-10-01T00:00:00.000Z\", \"2017-01-01T00:00:00.000Z\", \"2017-04-01T00:00:00.000Z\", \"2017-07-01T00:00:00.000Z\"], \"name\": \"male\", \"type\": \"scatter\", \"y\": [156, 77, 179, 78, 92, 65, 107, 174, 136, 273, 149, 168, 183, 209, 89, 123]}, {\"x\": [\"2013-10-01T00:00:00.000Z\", \"2014-01-01T00:00:00.000Z\", \"2014-04-01T00:00:00.000Z\", \"2014-07-01T00:00:00.000Z\", \"2014-10-01T00:00:00.000Z\", \"2015-01-01T00:00:00.000Z\", \"2015-04-01T00:00:00.000Z\", \"2015-07-01T00:00:00.000Z\", \"2015-10-01T00:00:00.000Z\", \"2016-01-01T00:00:00.000Z\", \"2016-04-01T00:00:00.000Z\", \"2016-07-01T00:00:00.000Z\", \"2016-10-01T00:00:00.000Z\", \"2017-01-01T00:00:00.000Z\", \"2017-04-01T00:00:00.000Z\", \"2017-07-01T00:00:00.000Z\"], \"name\": \"unknown\", \"type\": \"scatter\", \"y\": [41, 32, 56, 26, 10, 7, 24, 17, 9, 42, 37, 78, 17, 35, 14, 15]}], {}, {\"showLink\": true, \"linkText\": \"Export to plot.ly\"})});</script>"
      ],
      "text/vnd.plotly.v1+html": [
       "<div id=\"931ef007-582f-4fda-aa37-cc4dc8236a6e\" style=\"height: 525px; width: 100%;\" class=\"plotly-graph-div\"></div><script type=\"text/javascript\">require([\"plotly\"], function(Plotly) { window.PLOTLYENV=window.PLOTLYENV || {};window.PLOTLYENV.BASE_URL=\"https://plot.ly\";Plotly.newPlot(\"931ef007-582f-4fda-aa37-cc4dc8236a6e\", [{\"x\": [\"2013-10-01T00:00:00.000Z\", \"2014-01-01T00:00:00.000Z\", \"2014-04-01T00:00:00.000Z\", \"2014-07-01T00:00:00.000Z\", \"2014-10-01T00:00:00.000Z\", \"2015-01-01T00:00:00.000Z\", \"2015-04-01T00:00:00.000Z\", \"2015-07-01T00:00:00.000Z\", \"2015-10-01T00:00:00.000Z\", \"2016-01-01T00:00:00.000Z\", \"2016-04-01T00:00:00.000Z\", \"2016-07-01T00:00:00.000Z\", \"2016-10-01T00:00:00.000Z\", \"2017-01-01T00:00:00.000Z\", \"2017-04-01T00:00:00.000Z\", \"2017-07-01T00:00:00.000Z\"], \"name\": \"female\", \"type\": \"scatter\", \"y\": [68, 35, 35, 48, 39, 36, 70, 121, 108, 140, 40, 30, 5, 27, 9, 6]}, {\"x\": [\"2013-10-01T00:00:00.000Z\", \"2014-01-01T00:00:00.000Z\", \"2014-04-01T00:00:00.000Z\", \"2014-07-01T00:00:00.000Z\", \"2014-10-01T00:00:00.000Z\", \"2015-01-01T00:00:00.000Z\", \"2015-04-01T00:00:00.000Z\", \"2015-07-01T00:00:00.000Z\", \"2015-10-01T00:00:00.000Z\", \"2016-01-01T00:00:00.000Z\", \"2016-04-01T00:00:00.000Z\", \"2016-07-01T00:00:00.000Z\", \"2016-10-01T00:00:00.000Z\", \"2017-01-01T00:00:00.000Z\", \"2017-04-01T00:00:00.000Z\", \"2017-07-01T00:00:00.000Z\"], \"name\": \"male\", \"type\": \"scatter\", \"y\": [156, 77, 179, 78, 92, 65, 107, 174, 136, 273, 149, 168, 183, 209, 89, 123]}, {\"x\": [\"2013-10-01T00:00:00.000Z\", \"2014-01-01T00:00:00.000Z\", \"2014-04-01T00:00:00.000Z\", \"2014-07-01T00:00:00.000Z\", \"2014-10-01T00:00:00.000Z\", \"2015-01-01T00:00:00.000Z\", \"2015-04-01T00:00:00.000Z\", \"2015-07-01T00:00:00.000Z\", \"2015-10-01T00:00:00.000Z\", \"2016-01-01T00:00:00.000Z\", \"2016-04-01T00:00:00.000Z\", \"2016-07-01T00:00:00.000Z\", \"2016-10-01T00:00:00.000Z\", \"2017-01-01T00:00:00.000Z\", \"2017-04-01T00:00:00.000Z\", \"2017-07-01T00:00:00.000Z\"], \"name\": \"unknown\", \"type\": \"scatter\", \"y\": [41, 32, 56, 26, 10, 7, 24, 17, 9, 42, 37, 78, 17, 35, 14, 15]}], {}, {\"showLink\": true, \"linkText\": \"Export to plot.ly\"})});</script>"
      ]
     },
     "metadata": {},
     "output_type": "display_data"
    }
   ],
   "source": [
    "df = query_metric_over_time(INDEX, METRIC_NAME, METRIC_FIELD, [filter_date_4y, filter_mls_languages])\n",
    "draw_evolutionary_chart(\"key_as_string\", METRIC_NAME)"
   ]
  },
  {
   "cell_type": "code",
   "execution_count": 51,
   "metadata": {},
   "outputs": [
    {
     "data": {
      "application/vnd.plotly.v1+json": {
       "data": [
        {
         "labels": [
          "male",
          "female",
          "NotKnown"
         ],
         "type": "pie",
         "values": [
          2257,
          817,
          460
         ]
        }
       ],
       "layout": {
        "title": "Lang-focused Emails by Gender (last 4 years)"
       }
      },
      "text/html": [
       "<div id=\"a0d45416-7f4c-4e7f-b5eb-2bb770fc4e94\" style=\"height: 525px; width: 100%;\" class=\"plotly-graph-div\"></div><script type=\"text/javascript\">require([\"plotly\"], function(Plotly) { window.PLOTLYENV=window.PLOTLYENV || {};window.PLOTLYENV.BASE_URL=\"https://plot.ly\";Plotly.newPlot(\"a0d45416-7f4c-4e7f-b5eb-2bb770fc4e94\", [{\"values\": [2257, 817, 460], \"labels\": [\"male\", \"female\", \"NotKnown\"], \"type\": \"pie\"}], {\"title\": \"Lang-focused Emails by Gender (last 4 years)\"}, {\"showLink\": true, \"linkText\": \"Export to plot.ly\"})});</script>"
      ],
      "text/vnd.plotly.v1+html": [
       "<div id=\"a0d45416-7f4c-4e7f-b5eb-2bb770fc4e94\" style=\"height: 525px; width: 100%;\" class=\"plotly-graph-div\"></div><script type=\"text/javascript\">require([\"plotly\"], function(Plotly) { window.PLOTLYENV=window.PLOTLYENV || {};window.PLOTLYENV.BASE_URL=\"https://plot.ly\";Plotly.newPlot(\"a0d45416-7f4c-4e7f-b5eb-2bb770fc4e94\", [{\"values\": [2257, 817, 460], \"labels\": [\"male\", \"female\", \"NotKnown\"], \"type\": \"pie\"}], {\"title\": \"Lang-focused Emails by Gender (last 4 years)\"}, {\"showLink\": true, \"linkText\": \"Export to plot.ly\"})});</script>"
      ]
     },
     "metadata": {},
     "output_type": "display_data"
    }
   ],
   "source": [
    "pie_chart_labels, pie_chart_values, pie_chart_count = query_total_piechart(INDEX, METRIC_NAME, METRIC_FIELD, \n",
    "                                                            [filter_date_4y, filter_mls_languages])\n",
    "\n",
    "draw_piechart(pie_chart_labels, pie_chart_values, 'Lang-focused Emails by Gender (last 4 years)')"
   ]
  },
  {
   "cell_type": "code",
   "execution_count": 52,
   "metadata": {},
   "outputs": [
    {
     "data": {
      "application/vnd.plotly.v1+json": {
       "data": [
        {
         "labels": [
          "male",
          "NotKnown",
          "female"
         ],
         "type": "pie",
         "values": [
          604,
          81,
          47
         ]
        }
       ],
       "layout": {
        "title": "Lang-focused Emails by Gender (last year)"
       }
      },
      "text/html": [
       "<div id=\"ae3e837a-b76d-404d-9ff4-0bb66dd7fc39\" style=\"height: 525px; width: 100%;\" class=\"plotly-graph-div\"></div><script type=\"text/javascript\">require([\"plotly\"], function(Plotly) { window.PLOTLYENV=window.PLOTLYENV || {};window.PLOTLYENV.BASE_URL=\"https://plot.ly\";Plotly.newPlot(\"ae3e837a-b76d-404d-9ff4-0bb66dd7fc39\", [{\"values\": [604, 81, 47], \"labels\": [\"male\", \"NotKnown\", \"female\"], \"type\": \"pie\"}], {\"title\": \"Lang-focused Emails by Gender (last year)\"}, {\"showLink\": true, \"linkText\": \"Export to plot.ly\"})});</script>"
      ],
      "text/vnd.plotly.v1+html": [
       "<div id=\"ae3e837a-b76d-404d-9ff4-0bb66dd7fc39\" style=\"height: 525px; width: 100%;\" class=\"plotly-graph-div\"></div><script type=\"text/javascript\">require([\"plotly\"], function(Plotly) { window.PLOTLYENV=window.PLOTLYENV || {};window.PLOTLYENV.BASE_URL=\"https://plot.ly\";Plotly.newPlot(\"ae3e837a-b76d-404d-9ff4-0bb66dd7fc39\", [{\"values\": [604, 81, 47], \"labels\": [\"male\", \"NotKnown\", \"female\"], \"type\": \"pie\"}], {\"title\": \"Lang-focused Emails by Gender (last year)\"}, {\"showLink\": true, \"linkText\": \"Export to plot.ly\"})});</script>"
      ]
     },
     "metadata": {},
     "output_type": "display_data"
    }
   ],
   "source": [
    "pie_chart_labels, pie_chart_values, pie_chart_count = query_total_piechart(INDEX, METRIC_NAME, METRIC_FIELD, \n",
    "                                                            [filter_date_1y, filter_mls_languages])\n",
    "\n",
    "draw_piechart(pie_chart_labels, pie_chart_values, 'Lang-focused Emails by Gender (last year)')"
   ]
  },
  {
   "cell_type": "code",
   "execution_count": 54,
   "metadata": {},
   "outputs": [
    {
     "data": {
      "application/vnd.plotly.v1+json": {
       "data": [
        {
         "name": "female",
         "type": "scatter",
         "x": [
          "2013-10-01T00:00:00.000Z",
          "2014-01-01T00:00:00.000Z",
          "2014-04-01T00:00:00.000Z",
          "2014-07-01T00:00:00.000Z",
          "2014-10-01T00:00:00.000Z",
          "2015-01-01T00:00:00.000Z",
          "2015-04-01T00:00:00.000Z",
          "2015-07-01T00:00:00.000Z",
          "2015-10-01T00:00:00.000Z",
          "2016-01-01T00:00:00.000Z",
          "2016-04-01T00:00:00.000Z",
          "2016-07-01T00:00:00.000Z",
          "2016-10-01T00:00:00.000Z",
          "2017-01-01T00:00:00.000Z",
          "2017-04-01T00:00:00.000Z",
          "2017-07-01T00:00:00.000Z"
         ],
         "y": [
          581,
          804,
          470,
          675,
          381,
          417,
          655,
          530,
          522,
          442,
          502,
          512,
          436,
          525,
          254,
          254
         ]
        },
        {
         "name": "male",
         "type": "scatter",
         "x": [
          "2013-10-01T00:00:00.000Z",
          "2014-01-01T00:00:00.000Z",
          "2014-04-01T00:00:00.000Z",
          "2014-07-01T00:00:00.000Z",
          "2014-10-01T00:00:00.000Z",
          "2015-01-01T00:00:00.000Z",
          "2015-04-01T00:00:00.000Z",
          "2015-07-01T00:00:00.000Z",
          "2015-10-01T00:00:00.000Z",
          "2016-01-01T00:00:00.000Z",
          "2016-04-01T00:00:00.000Z",
          "2016-07-01T00:00:00.000Z",
          "2016-10-01T00:00:00.000Z",
          "2017-01-01T00:00:00.000Z",
          "2017-04-01T00:00:00.000Z",
          "2017-07-01T00:00:00.000Z"
         ],
         "y": [
          3106,
          3068,
          2790,
          2852,
          2385,
          2746,
          2825,
          2644,
          2571,
          2455,
          2778,
          2065,
          1706,
          2152,
          1861,
          1532
         ]
        },
        {
         "name": "unknown",
         "type": "scatter",
         "x": [
          "2013-10-01T00:00:00.000Z",
          "2014-01-01T00:00:00.000Z",
          "2014-04-01T00:00:00.000Z",
          "2014-07-01T00:00:00.000Z",
          "2014-10-01T00:00:00.000Z",
          "2015-01-01T00:00:00.000Z",
          "2015-04-01T00:00:00.000Z",
          "2015-07-01T00:00:00.000Z",
          "2015-10-01T00:00:00.000Z",
          "2016-01-01T00:00:00.000Z",
          "2016-04-01T00:00:00.000Z",
          "2016-07-01T00:00:00.000Z",
          "2016-10-01T00:00:00.000Z",
          "2017-01-01T00:00:00.000Z",
          "2017-04-01T00:00:00.000Z",
          "2017-07-01T00:00:00.000Z"
         ],
         "y": [
          1443,
          975,
          1026,
          953,
          714,
          805,
          806,
          864,
          787,
          673,
          926,
          988,
          657,
          536,
          403,
          291
         ]
        }
       ],
       "layout": {}
      },
      "text/html": [
       "<div id=\"41bd9a1a-56b9-478c-8395-abf8bfbabfc2\" style=\"height: 525px; width: 100%;\" class=\"plotly-graph-div\"></div><script type=\"text/javascript\">require([\"plotly\"], function(Plotly) { window.PLOTLYENV=window.PLOTLYENV || {};window.PLOTLYENV.BASE_URL=\"https://plot.ly\";Plotly.newPlot(\"41bd9a1a-56b9-478c-8395-abf8bfbabfc2\", [{\"x\": [\"2013-10-01T00:00:00.000Z\", \"2014-01-01T00:00:00.000Z\", \"2014-04-01T00:00:00.000Z\", \"2014-07-01T00:00:00.000Z\", \"2014-10-01T00:00:00.000Z\", \"2015-01-01T00:00:00.000Z\", \"2015-04-01T00:00:00.000Z\", \"2015-07-01T00:00:00.000Z\", \"2015-10-01T00:00:00.000Z\", \"2016-01-01T00:00:00.000Z\", \"2016-04-01T00:00:00.000Z\", \"2016-07-01T00:00:00.000Z\", \"2016-10-01T00:00:00.000Z\", \"2017-01-01T00:00:00.000Z\", \"2017-04-01T00:00:00.000Z\", \"2017-07-01T00:00:00.000Z\"], \"name\": \"female\", \"type\": \"scatter\", \"y\": [581, 804, 470, 675, 381, 417, 655, 530, 522, 442, 502, 512, 436, 525, 254, 254]}, {\"x\": [\"2013-10-01T00:00:00.000Z\", \"2014-01-01T00:00:00.000Z\", \"2014-04-01T00:00:00.000Z\", \"2014-07-01T00:00:00.000Z\", \"2014-10-01T00:00:00.000Z\", \"2015-01-01T00:00:00.000Z\", \"2015-04-01T00:00:00.000Z\", \"2015-07-01T00:00:00.000Z\", \"2015-10-01T00:00:00.000Z\", \"2016-01-01T00:00:00.000Z\", \"2016-04-01T00:00:00.000Z\", \"2016-07-01T00:00:00.000Z\", \"2016-10-01T00:00:00.000Z\", \"2017-01-01T00:00:00.000Z\", \"2017-04-01T00:00:00.000Z\", \"2017-07-01T00:00:00.000Z\"], \"name\": \"male\", \"type\": \"scatter\", \"y\": [3106, 3068, 2790, 2852, 2385, 2746, 2825, 2644, 2571, 2455, 2778, 2065, 1706, 2152, 1861, 1532]}, {\"x\": [\"2013-10-01T00:00:00.000Z\", \"2014-01-01T00:00:00.000Z\", \"2014-04-01T00:00:00.000Z\", \"2014-07-01T00:00:00.000Z\", \"2014-10-01T00:00:00.000Z\", \"2015-01-01T00:00:00.000Z\", \"2015-04-01T00:00:00.000Z\", \"2015-07-01T00:00:00.000Z\", \"2015-10-01T00:00:00.000Z\", \"2016-01-01T00:00:00.000Z\", \"2016-04-01T00:00:00.000Z\", \"2016-07-01T00:00:00.000Z\", \"2016-10-01T00:00:00.000Z\", \"2017-01-01T00:00:00.000Z\", \"2017-04-01T00:00:00.000Z\", \"2017-07-01T00:00:00.000Z\"], \"name\": \"unknown\", \"type\": \"scatter\", \"y\": [1443, 975, 1026, 953, 714, 805, 806, 864, 787, 673, 926, 988, 657, 536, 403, 291]}], {}, {\"showLink\": true, \"linkText\": \"Export to plot.ly\"})});</script>"
      ],
      "text/vnd.plotly.v1+html": [
       "<div id=\"41bd9a1a-56b9-478c-8395-abf8bfbabfc2\" style=\"height: 525px; width: 100%;\" class=\"plotly-graph-div\"></div><script type=\"text/javascript\">require([\"plotly\"], function(Plotly) { window.PLOTLYENV=window.PLOTLYENV || {};window.PLOTLYENV.BASE_URL=\"https://plot.ly\";Plotly.newPlot(\"41bd9a1a-56b9-478c-8395-abf8bfbabfc2\", [{\"x\": [\"2013-10-01T00:00:00.000Z\", \"2014-01-01T00:00:00.000Z\", \"2014-04-01T00:00:00.000Z\", \"2014-07-01T00:00:00.000Z\", \"2014-10-01T00:00:00.000Z\", \"2015-01-01T00:00:00.000Z\", \"2015-04-01T00:00:00.000Z\", \"2015-07-01T00:00:00.000Z\", \"2015-10-01T00:00:00.000Z\", \"2016-01-01T00:00:00.000Z\", \"2016-04-01T00:00:00.000Z\", \"2016-07-01T00:00:00.000Z\", \"2016-10-01T00:00:00.000Z\", \"2017-01-01T00:00:00.000Z\", \"2017-04-01T00:00:00.000Z\", \"2017-07-01T00:00:00.000Z\"], \"name\": \"female\", \"type\": \"scatter\", \"y\": [581, 804, 470, 675, 381, 417, 655, 530, 522, 442, 502, 512, 436, 525, 254, 254]}, {\"x\": [\"2013-10-01T00:00:00.000Z\", \"2014-01-01T00:00:00.000Z\", \"2014-04-01T00:00:00.000Z\", \"2014-07-01T00:00:00.000Z\", \"2014-10-01T00:00:00.000Z\", \"2015-01-01T00:00:00.000Z\", \"2015-04-01T00:00:00.000Z\", \"2015-07-01T00:00:00.000Z\", \"2015-10-01T00:00:00.000Z\", \"2016-01-01T00:00:00.000Z\", \"2016-04-01T00:00:00.000Z\", \"2016-07-01T00:00:00.000Z\", \"2016-10-01T00:00:00.000Z\", \"2017-01-01T00:00:00.000Z\", \"2017-04-01T00:00:00.000Z\", \"2017-07-01T00:00:00.000Z\"], \"name\": \"male\", \"type\": \"scatter\", \"y\": [3106, 3068, 2790, 2852, 2385, 2746, 2825, 2644, 2571, 2455, 2778, 2065, 1706, 2152, 1861, 1532]}, {\"x\": [\"2013-10-01T00:00:00.000Z\", \"2014-01-01T00:00:00.000Z\", \"2014-04-01T00:00:00.000Z\", \"2014-07-01T00:00:00.000Z\", \"2014-10-01T00:00:00.000Z\", \"2015-01-01T00:00:00.000Z\", \"2015-04-01T00:00:00.000Z\", \"2015-07-01T00:00:00.000Z\", \"2015-10-01T00:00:00.000Z\", \"2016-01-01T00:00:00.000Z\", \"2016-04-01T00:00:00.000Z\", \"2016-07-01T00:00:00.000Z\", \"2016-10-01T00:00:00.000Z\", \"2017-01-01T00:00:00.000Z\", \"2017-04-01T00:00:00.000Z\", \"2017-07-01T00:00:00.000Z\"], \"name\": \"unknown\", \"type\": \"scatter\", \"y\": [1443, 975, 1026, 953, 714, 805, 806, 864, 787, 673, 926, 988, 657, 536, 403, 291]}], {}, {\"showLink\": true, \"linkText\": \"Export to plot.ly\"})});</script>"
      ]
     },
     "metadata": {},
     "output_type": "display_data"
    }
   ],
   "source": [
    "df = query_metric_over_time(INDEX, METRIC_NAME, METRIC_FIELD, [filter_date_4y, filter_mls_others])\n",
    "draw_evolutionary_chart(\"key_as_string\", METRIC_NAME)"
   ]
  },
  {
   "cell_type": "code",
   "execution_count": 55,
   "metadata": {},
   "outputs": [
    {
     "data": {
      "application/vnd.plotly.v1+json": {
       "data": [
        {
         "labels": [
          "male",
          "NotKnown",
          "female",
          "Unknown"
         ],
         "type": "pie",
         "values": [
          39533,
          12845,
          7961,
          13
         ]
        }
       ],
       "layout": {
        "title": "Other MLS Emails by Gender (last 4 years)"
       }
      },
      "text/html": [
       "<div id=\"e472e665-8437-44ac-a7c2-25cd16393b6f\" style=\"height: 525px; width: 100%;\" class=\"plotly-graph-div\"></div><script type=\"text/javascript\">require([\"plotly\"], function(Plotly) { window.PLOTLYENV=window.PLOTLYENV || {};window.PLOTLYENV.BASE_URL=\"https://plot.ly\";Plotly.newPlot(\"e472e665-8437-44ac-a7c2-25cd16393b6f\", [{\"values\": [39533, 12845, 7961, 13], \"labels\": [\"male\", \"NotKnown\", \"female\", \"Unknown\"], \"type\": \"pie\"}], {\"title\": \"Other MLS Emails by Gender (last 4 years)\"}, {\"showLink\": true, \"linkText\": \"Export to plot.ly\"})});</script>"
      ],
      "text/vnd.plotly.v1+html": [
       "<div id=\"e472e665-8437-44ac-a7c2-25cd16393b6f\" style=\"height: 525px; width: 100%;\" class=\"plotly-graph-div\"></div><script type=\"text/javascript\">require([\"plotly\"], function(Plotly) { window.PLOTLYENV=window.PLOTLYENV || {};window.PLOTLYENV.BASE_URL=\"https://plot.ly\";Plotly.newPlot(\"e472e665-8437-44ac-a7c2-25cd16393b6f\", [{\"values\": [39533, 12845, 7961, 13], \"labels\": [\"male\", \"NotKnown\", \"female\", \"Unknown\"], \"type\": \"pie\"}], {\"title\": \"Other MLS Emails by Gender (last 4 years)\"}, {\"showLink\": true, \"linkText\": \"Export to plot.ly\"})});</script>"
      ]
     },
     "metadata": {},
     "output_type": "display_data"
    }
   ],
   "source": [
    "pie_chart_labels, pie_chart_values, pie_chart_count = query_total_piechart(INDEX, METRIC_NAME, METRIC_FIELD, \n",
    "                                                            [filter_date_4y, filter_mls_others])\n",
    "\n",
    "draw_piechart(pie_chart_labels, pie_chart_values, 'Other MLS Emails by Gender (last 4 years)')"
   ]
  },
  {
   "cell_type": "code",
   "execution_count": 56,
   "metadata": {},
   "outputs": [
    {
     "data": {
      "application/vnd.plotly.v1+json": {
       "data": [
        {
         "labels": [
          "male",
          "NotKnown",
          "female"
         ],
         "type": "pie",
         "values": [
          7252,
          1887,
          1469
         ]
        }
       ],
       "layout": {
        "title": "Other MLS Emails by Gender (last year)"
       }
      },
      "text/html": [
       "<div id=\"91722c85-4b96-418f-b575-0a024e0f0df7\" style=\"height: 525px; width: 100%;\" class=\"plotly-graph-div\"></div><script type=\"text/javascript\">require([\"plotly\"], function(Plotly) { window.PLOTLYENV=window.PLOTLYENV || {};window.PLOTLYENV.BASE_URL=\"https://plot.ly\";Plotly.newPlot(\"91722c85-4b96-418f-b575-0a024e0f0df7\", [{\"values\": [7252, 1887, 1469], \"labels\": [\"male\", \"NotKnown\", \"female\"], \"type\": \"pie\"}], {\"title\": \"Other MLS Emails by Gender (last year)\"}, {\"showLink\": true, \"linkText\": \"Export to plot.ly\"})});</script>"
      ],
      "text/vnd.plotly.v1+html": [
       "<div id=\"91722c85-4b96-418f-b575-0a024e0f0df7\" style=\"height: 525px; width: 100%;\" class=\"plotly-graph-div\"></div><script type=\"text/javascript\">require([\"plotly\"], function(Plotly) { window.PLOTLYENV=window.PLOTLYENV || {};window.PLOTLYENV.BASE_URL=\"https://plot.ly\";Plotly.newPlot(\"91722c85-4b96-418f-b575-0a024e0f0df7\", [{\"values\": [7252, 1887, 1469], \"labels\": [\"male\", \"NotKnown\", \"female\"], \"type\": \"pie\"}], {\"title\": \"Other MLS Emails by Gender (last year)\"}, {\"showLink\": true, \"linkText\": \"Export to plot.ly\"})});</script>"
      ]
     },
     "metadata": {},
     "output_type": "display_data"
    }
   ],
   "source": [
    "pie_chart_labels, pie_chart_values, pie_chart_count = query_total_piechart(INDEX, METRIC_NAME, METRIC_FIELD, \n",
    "                                                            [filter_date_1y, filter_mls_others])\n",
    "\n",
    "draw_piechart(pie_chart_labels, pie_chart_values, 'Other MLS Emails by Gender (last year)')"
   ]
  },
  {
   "cell_type": "code",
   "execution_count": null,
   "metadata": {
    "collapsed": true
   },
   "outputs": [],
   "source": []
  }
 ],
 "metadata": {
  "kernelspec": {
   "display_name": "Python 3",
   "language": "python",
   "name": "python3"
  },
  "language_info": {
   "codemirror_mode": {
    "name": "ipython",
    "version": 3
   },
   "file_extension": ".py",
   "mimetype": "text/x-python",
   "name": "python",
   "nbconvert_exporter": "python",
   "pygments_lexer": "ipython3",
   "version": "3.5.2"
  }
 },
 "nbformat": 4,
 "nbformat_minor": 2
}
