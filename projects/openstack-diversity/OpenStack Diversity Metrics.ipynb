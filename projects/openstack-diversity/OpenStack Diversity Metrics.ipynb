{
 "metadata": {
  "kernelspec": {
   "display_name": "Python 3",
   "language": "python",
   "name": "python3"
  },
  "language_info": {
   "codemirror_mode": {
    "name": "ipython",
    "version": 3
   },
   "file_extension": ".py",
   "mimetype": "text/x-python",
   "name": "python",
   "nbconvert_exporter": "python",
   "pygments_lexer": "ipython3",
   "version": "3.5.2+"
  },
  "name": "",
  "signature": "sha256:179d20d072152ed7b4478df9bdc3836f3c5d31894c2f646bdf3d1e6ce534dc57"
 },
 "nbformat": 3,
 "nbformat_minor": 0,
 "worksheets": [
  {
   "cells": [
    {
     "cell_type": "code",
     "collapsed": false,
     "input": [
      "import plotly\n",
      "import plotly.plotly as py\n",
      "from plotly.offline import download_plotlyjs, init_notebook_mode, plot, iplot\n",
      "\n",
      "import pandas\n",
      "\n",
      "from util import ESConnection\n",
      "from elasticsearch_dsl import Search, Q\n",
      "\n",
      "es_conn = ESConnection()\n",
      "\n",
      "init_notebook_mode(connected=True)\n",
      "\n",
      "INIT_DATE_4Y = '2013-01-01'\n",
      "INIT_DATE_1Y = '2016-04-01'\n",
      "END_DATE = '2017-04-01'"
     ],
     "language": "python",
     "metadata": {},
     "outputs": [
      {
       "html": [
        "<script>requirejs.config({paths: { 'plotly': ['https://cdn.plot.ly/plotly-latest.min']},});if(!window.Plotly) {{require(['plotly'],function(plotly) {window.Plotly=plotly;});}}</script>"
       ],
       "metadata": {},
       "output_type": "display_data",
       "text/vnd.plotly.v1+html": "<script>requirejs.config({paths: { 'plotly': ['https://cdn.plot.ly/plotly-latest.min']},});if(!window.Plotly) {{require(['plotly'],function(plotly) {window.Plotly=plotly;});}}</script>"
      }
     ],
     "prompt_number": 1
    },
    {
     "cell_type": "markdown",
     "metadata": {},
     "source": [
      "## Basic metrics to be in the report:\n",
      "\n",
      "**Git**\n",
      "* Evolution and trends over time [per quarter] of commits by gender\n",
      "  * Commits by gender (columns: hash, gender)\n",
      "* Evolution and trends [per quarter] of developers over time by gender\n",
      "  * Developers by gender (columns: name, uuid, gender)\n",
      "* Evolution and trends of type of contributions (code or others) by gender over time\n",
      "  * Type of file touched by developers (columns: filetype, gender)\n",
      "\n",
      "**Gerrit**\n",
      "* Evolution of code reviews over time by gender\n",
      "  * Count votes by gender (vote, gender)\n",
      "* Evolution of code reviews developers over time by gender\n",
      "  * Count people voting (name, uuid, vote)\n",
      "* Evolution of core reviews over time by gender\n",
      "  * Votes +2 or -2 (vote +2/-2 and gender)\n",
      "* Evolution of core review developers over time by gender\n",
      "  * People voting +2 or -2 (name, uuid, vote +2/-2, gender)\n",
      "\n",
      "**Others**\n",
      "* Evolution of attracted developers over time by gender\n",
      "  * First commit by gender\n",
      "* Time working in the community by gender\n",
      "  * Time difference between the first and last contribution by all developers (so how long developers remain in OpenStack?)."
     ]
    },
    {
     "cell_type": "heading",
     "level": 1,
     "metadata": {},
     "source": [
      "SOME FUNCTIONS"
     ]
    },
    {
     "cell_type": "code",
     "collapsed": false,
     "input": [
      "def query_metric_over_time(index, metric_name, metric_field, filters = []):\n",
      "    \n",
      "    s = Search(using=es_conn, index=index)  # Index selection\n",
      "    for filtering in filters:\n",
      "        s = s.filter(filtering)\n",
      "    s.aggs.bucket('gender', 'terms', field='gender')\\\n",
      "          .bucket('time', 'date_histogram', field='date', interval='quarter')\\\n",
      "          .metric(metric_name, 'cardinality', field=metric_field, precision_threshold=10000)\n",
      "    result = s.execute()\n",
      "\n",
      "    value = result.to_dict()[\"aggregations\"]['gender']['buckets']\n",
      "    \n",
      "    df = pandas.DataFrame()\n",
      "    for i in value:\n",
      "        df2 = (pandas.DataFrame.from_dict(i[\"time\"][\"buckets\"]))\n",
      "        df2[\"gender\"] = i[\"key\"]\n",
      "        df2[metric_name] = df2[metric_name].apply(lambda row:row[\"value\"])\n",
      "        df = pandas.concat([df, df2])\n",
      "        \n",
      "    return df"
     ],
     "language": "python",
     "metadata": {},
     "outputs": [],
     "prompt_number": 2
    },
    {
     "cell_type": "code",
     "collapsed": false,
     "input": [
      "def query_total_piechart(index, metric_name, metric_field, filters = []):\n",
      "    s = Search(using=es_conn, index=index)  # Index selection\n",
      "    for filtering in filters:\n",
      "        s = s.filter(filtering)\n",
      "    #s = s.filter('range', date={'gt': start_date, 'lt':'now/M'}) # filter date\n",
      "    s.aggs.bucket('gender', 'terms', field='gender')\\\n",
      "          .metric(metric_name, 'cardinality', field=metric_field, precision_threshold=1000000)\n",
      "    result = s.execute()\n",
      "    \n",
      "    buckets = result.to_dict()[\"aggregations\"][\"gender\"][\"buckets\"]\n",
      "    pie_chart_labels = []\n",
      "    pie_chart_values = []\n",
      "    pie_chart_count = []\n",
      "    for bucket in buckets:\n",
      "        pie_chart_labels.append(bucket[\"key\"])\n",
      "        pie_chart_values.append(bucket[metric_name][\"value\"])\n",
      "        pie_chart_count.append(bucket[\"doc_count\"])\n",
      "        \n",
      "    return pie_chart_labels, pie_chart_values, pie_chart_count"
     ],
     "language": "python",
     "metadata": {},
     "outputs": [],
     "prompt_number": 3
    },
    {
     "cell_type": "code",
     "collapsed": false,
     "input": [
      "def draw_evolutionary_chart(label, values):\n",
      "    female_changesets = plotly.graph_objs.Scatter(\n",
      "    x = df[df[\"gender\"]==\"female\"][label],\n",
      "    y = df[df[\"gender\"]==\"female\"][values],\n",
      "    name = 'female'\n",
      "    )\n",
      "\n",
      "    male_changesets = plotly.graph_objs.Scatter(\n",
      "        x = df[df[\"gender\"]==\"male\"][label],\n",
      "        y = df[df[\"gender\"]==\"male\"][values],\n",
      "        name = 'male'\n",
      "    )\n",
      "\n",
      "    unknown_changesets = plotly.graph_objs.Scatter(\n",
      "        x = df[df[\"gender\"]==\"NotKnown\"][label],\n",
      "        y = df[df[\"gender\"]==\"NotKnown\"][values],\n",
      "        name = 'unknown'\n",
      "    )\n",
      "\n",
      "    iplot([female_changesets, male_changesets, unknown_changesets])\n",
      "    # Using only plot and not iplot creates and HTML page with JS to play with the chart"
     ],
     "language": "python",
     "metadata": {},
     "outputs": [],
     "prompt_number": 4
    },
    {
     "cell_type": "code",
     "collapsed": false,
     "input": [
      "def draw_piechart(pie_chart_labels, pie_chart_values, title):\n",
      "            \n",
      "    fig = {\n",
      "    'data': [{'labels': pie_chart_labels,\n",
      "              'values': pie_chart_values,\n",
      "              'type': 'pie'}],\n",
      "    'layout': {'title': title}\n",
      "     }\n",
      "    iplot(fig)"
     ],
     "language": "python",
     "metadata": {},
     "outputs": [],
     "prompt_number": 5
    },
    {
     "cell_type": "heading",
     "level": 1,
     "metadata": {},
     "source": [
      "GERRIT"
     ]
    },
    {
     "cell_type": "code",
     "collapsed": false,
     "input": [
      "INDEX = \"gerrit_eventized\"\n",
      "filter_date_4y = Q('range', date={'gte': INIT_DATE_4Y, 'lt': END_DATE})\n",
      "filter_date_1y = Q('range', date={'gt': INIT_DATE_1Y, 'lt': END_DATE})"
     ],
     "language": "python",
     "metadata": {},
     "outputs": [],
     "prompt_number": 6
    },
    {
     "cell_type": "markdown",
     "metadata": {},
     "source": [
      "## Changeset Submissions by Gender\n",
      "\n",
      "### Evolution of submissions sent over time by gender\n"
     ]
    },
    {
     "cell_type": "code",
     "collapsed": false,
     "input": [
      "METRIC_NAME = \"changesets\"\n",
      "METRIC_FIELD = \"id\"\n",
      "filter_changeset_submission = Q('term', eventtype='CHANGESET_SENT') # filter by event: vote a code review\n",
      "df = query_metric_over_time(INDEX, METRIC_NAME, METRIC_FIELD, [filter_date_4y, filter_changeset_submission])"
     ],
     "language": "python",
     "metadata": {},
     "outputs": [],
     "prompt_number": 7
    },
    {
     "cell_type": "code",
     "collapsed": false,
     "input": [
      "draw_evolutionary_chart(\"key_as_string\", METRIC_NAME)"
     ],
     "language": "python",
     "metadata": {},
     "outputs": [
      {
       "application/vnd.plotly.v1+json": {
        "data": [
         {
          "name": "female",
          "type": "scatter",
          "x": [
           "2013-01-01T00:00:00.000Z",
           "2013-04-01T00:00:00.000Z",
           "2013-07-01T00:00:00.000Z",
           "2013-10-01T00:00:00.000Z",
           "2014-01-01T00:00:00.000Z",
           "2014-04-01T00:00:00.000Z",
           "2014-07-01T00:00:00.000Z",
           "2014-10-01T00:00:00.000Z",
           "2015-01-01T00:00:00.000Z",
           "2015-04-01T00:00:00.000Z",
           "2015-07-01T00:00:00.000Z",
           "2015-10-01T00:00:00.000Z",
           "2016-01-01T00:00:00.000Z",
           "2016-04-01T00:00:00.000Z",
           "2016-07-01T00:00:00.000Z",
           "2016-10-01T00:00:00.000Z",
           "2017-01-01T00:00:00.000Z"
          ],
          "y": [
           414,
           809,
           1640,
           1702,
           1943,
           1586,
           1893,
           1603,
           2158,
           2652,
           3171,
           2903,
           3207,
           2998,
           3571,
           2422,
           2833
          ]
         },
         {
          "name": "male",
          "type": "scatter",
          "x": [
           "2013-01-01T00:00:00.000Z",
           "2013-04-01T00:00:00.000Z",
           "2013-07-01T00:00:00.000Z",
           "2013-10-01T00:00:00.000Z",
           "2014-01-01T00:00:00.000Z",
           "2014-04-01T00:00:00.000Z",
           "2014-07-01T00:00:00.000Z",
           "2014-10-01T00:00:00.000Z",
           "2015-01-01T00:00:00.000Z",
           "2015-04-01T00:00:00.000Z",
           "2015-07-01T00:00:00.000Z",
           "2015-10-01T00:00:00.000Z",
           "2016-01-01T00:00:00.000Z",
           "2016-04-01T00:00:00.000Z",
           "2016-07-01T00:00:00.000Z",
           "2016-10-01T00:00:00.000Z",
           "2017-01-01T00:00:00.000Z"
          ],
          "y": [
           4199,
           6243,
           12124,
           11646,
           14878,
           15121,
           16318,
           14421,
           18582,
           20717,
           23271,
           23414,
           27086,
           25623,
           31439,
           24024,
           23474
          ]
         },
         {
          "name": "unknown",
          "type": "scatter",
          "x": [
           "2013-01-01T00:00:00.000Z",
           "2013-04-01T00:00:00.000Z",
           "2013-07-01T00:00:00.000Z",
           "2013-10-01T00:00:00.000Z",
           "2014-01-01T00:00:00.000Z",
           "2014-04-01T00:00:00.000Z",
           "2014-07-01T00:00:00.000Z",
           "2014-10-01T00:00:00.000Z",
           "2015-01-01T00:00:00.000Z",
           "2015-04-01T00:00:00.000Z",
           "2015-07-01T00:00:00.000Z",
           "2015-10-01T00:00:00.000Z",
           "2016-01-01T00:00:00.000Z",
           "2016-04-01T00:00:00.000Z",
           "2016-07-01T00:00:00.000Z",
           "2016-10-01T00:00:00.000Z",
           "2017-01-01T00:00:00.000Z"
          ],
          "y": [
           876,
           1189,
           2681,
           2020,
           2650,
           2685,
           3086,
           3252,
           3912,
           4285,
           5659,
           6648,
           6707,
           7058,
           8971,
           8499,
           8779
          ]
         }
        ],
        "layout": {}
       },
       "html": [
        "<div id=\"d5f5e750-dd43-48ab-adda-776b645bf392\" style=\"height: 525px; width: 100%;\" class=\"plotly-graph-div\"></div><script type=\"text/javascript\">require([\"plotly\"], function(Plotly) { window.PLOTLYENV=window.PLOTLYENV || {};window.PLOTLYENV.BASE_URL=\"https://plot.ly\";Plotly.newPlot(\"d5f5e750-dd43-48ab-adda-776b645bf392\", [{\"x\": [\"2013-01-01T00:00:00.000Z\", \"2013-04-01T00:00:00.000Z\", \"2013-07-01T00:00:00.000Z\", \"2013-10-01T00:00:00.000Z\", \"2014-01-01T00:00:00.000Z\", \"2014-04-01T00:00:00.000Z\", \"2014-07-01T00:00:00.000Z\", \"2014-10-01T00:00:00.000Z\", \"2015-01-01T00:00:00.000Z\", \"2015-04-01T00:00:00.000Z\", \"2015-07-01T00:00:00.000Z\", \"2015-10-01T00:00:00.000Z\", \"2016-01-01T00:00:00.000Z\", \"2016-04-01T00:00:00.000Z\", \"2016-07-01T00:00:00.000Z\", \"2016-10-01T00:00:00.000Z\", \"2017-01-01T00:00:00.000Z\"], \"type\": \"scatter\", \"name\": \"female\", \"y\": [414, 809, 1640, 1702, 1943, 1586, 1893, 1603, 2158, 2652, 3171, 2903, 3207, 2998, 3571, 2422, 2833]}, {\"x\": [\"2013-01-01T00:00:00.000Z\", \"2013-04-01T00:00:00.000Z\", \"2013-07-01T00:00:00.000Z\", \"2013-10-01T00:00:00.000Z\", \"2014-01-01T00:00:00.000Z\", \"2014-04-01T00:00:00.000Z\", \"2014-07-01T00:00:00.000Z\", \"2014-10-01T00:00:00.000Z\", \"2015-01-01T00:00:00.000Z\", \"2015-04-01T00:00:00.000Z\", \"2015-07-01T00:00:00.000Z\", \"2015-10-01T00:00:00.000Z\", \"2016-01-01T00:00:00.000Z\", \"2016-04-01T00:00:00.000Z\", \"2016-07-01T00:00:00.000Z\", \"2016-10-01T00:00:00.000Z\", \"2017-01-01T00:00:00.000Z\"], \"type\": \"scatter\", \"name\": \"male\", \"y\": [4199, 6243, 12124, 11646, 14878, 15121, 16318, 14421, 18582, 20717, 23271, 23414, 27086, 25623, 31439, 24024, 23474]}, {\"x\": [\"2013-01-01T00:00:00.000Z\", \"2013-04-01T00:00:00.000Z\", \"2013-07-01T00:00:00.000Z\", \"2013-10-01T00:00:00.000Z\", \"2014-01-01T00:00:00.000Z\", \"2014-04-01T00:00:00.000Z\", \"2014-07-01T00:00:00.000Z\", \"2014-10-01T00:00:00.000Z\", \"2015-01-01T00:00:00.000Z\", \"2015-04-01T00:00:00.000Z\", \"2015-07-01T00:00:00.000Z\", \"2015-10-01T00:00:00.000Z\", \"2016-01-01T00:00:00.000Z\", \"2016-04-01T00:00:00.000Z\", \"2016-07-01T00:00:00.000Z\", \"2016-10-01T00:00:00.000Z\", \"2017-01-01T00:00:00.000Z\"], \"type\": \"scatter\", \"name\": \"unknown\", \"y\": [876, 1189, 2681, 2020, 2650, 2685, 3086, 3252, 3912, 4285, 5659, 6648, 6707, 7058, 8971, 8499, 8779]}], {}, {\"linkText\": \"Export to plot.ly\", \"showLink\": true})});</script>"
       ],
       "metadata": {},
       "output_type": "display_data",
       "text/vnd.plotly.v1+html": "<div id=\"d5f5e750-dd43-48ab-adda-776b645bf392\" style=\"height: 525px; width: 100%;\" class=\"plotly-graph-div\"></div><script type=\"text/javascript\">require([\"plotly\"], function(Plotly) { window.PLOTLYENV=window.PLOTLYENV || {};window.PLOTLYENV.BASE_URL=\"https://plot.ly\";Plotly.newPlot(\"d5f5e750-dd43-48ab-adda-776b645bf392\", [{\"x\": [\"2013-01-01T00:00:00.000Z\", \"2013-04-01T00:00:00.000Z\", \"2013-07-01T00:00:00.000Z\", \"2013-10-01T00:00:00.000Z\", \"2014-01-01T00:00:00.000Z\", \"2014-04-01T00:00:00.000Z\", \"2014-07-01T00:00:00.000Z\", \"2014-10-01T00:00:00.000Z\", \"2015-01-01T00:00:00.000Z\", \"2015-04-01T00:00:00.000Z\", \"2015-07-01T00:00:00.000Z\", \"2015-10-01T00:00:00.000Z\", \"2016-01-01T00:00:00.000Z\", \"2016-04-01T00:00:00.000Z\", \"2016-07-01T00:00:00.000Z\", \"2016-10-01T00:00:00.000Z\", \"2017-01-01T00:00:00.000Z\"], \"type\": \"scatter\", \"name\": \"female\", \"y\": [414, 809, 1640, 1702, 1943, 1586, 1893, 1603, 2158, 2652, 3171, 2903, 3207, 2998, 3571, 2422, 2833]}, {\"x\": [\"2013-01-01T00:00:00.000Z\", \"2013-04-01T00:00:00.000Z\", \"2013-07-01T00:00:00.000Z\", \"2013-10-01T00:00:00.000Z\", \"2014-01-01T00:00:00.000Z\", \"2014-04-01T00:00:00.000Z\", \"2014-07-01T00:00:00.000Z\", \"2014-10-01T00:00:00.000Z\", \"2015-01-01T00:00:00.000Z\", \"2015-04-01T00:00:00.000Z\", \"2015-07-01T00:00:00.000Z\", \"2015-10-01T00:00:00.000Z\", \"2016-01-01T00:00:00.000Z\", \"2016-04-01T00:00:00.000Z\", \"2016-07-01T00:00:00.000Z\", \"2016-10-01T00:00:00.000Z\", \"2017-01-01T00:00:00.000Z\"], \"type\": \"scatter\", \"name\": \"male\", \"y\": [4199, 6243, 12124, 11646, 14878, 15121, 16318, 14421, 18582, 20717, 23271, 23414, 27086, 25623, 31439, 24024, 23474]}, {\"x\": [\"2013-01-01T00:00:00.000Z\", \"2013-04-01T00:00:00.000Z\", \"2013-07-01T00:00:00.000Z\", \"2013-10-01T00:00:00.000Z\", \"2014-01-01T00:00:00.000Z\", \"2014-04-01T00:00:00.000Z\", \"2014-07-01T00:00:00.000Z\", \"2014-10-01T00:00:00.000Z\", \"2015-01-01T00:00:00.000Z\", \"2015-04-01T00:00:00.000Z\", \"2015-07-01T00:00:00.000Z\", \"2015-10-01T00:00:00.000Z\", \"2016-01-01T00:00:00.000Z\", \"2016-04-01T00:00:00.000Z\", \"2016-07-01T00:00:00.000Z\", \"2016-10-01T00:00:00.000Z\", \"2017-01-01T00:00:00.000Z\"], \"type\": \"scatter\", \"name\": \"unknown\", \"y\": [876, 1189, 2681, 2020, 2650, 2685, 3086, 3252, 3912, 4285, 5659, 6648, 6707, 7058, 8971, 8499, 8779]}], {}, {\"linkText\": \"Export to plot.ly\", \"showLink\": true})});</script>"
      }
     ],
     "prompt_number": 8
    },
    {
     "cell_type": "heading",
     "level": 3,
     "metadata": {},
     "source": [
      "Aggregated changeset submissions by gender"
     ]
    },
    {
     "cell_type": "code",
     "collapsed": false,
     "input": [
      "pie_chart_labels, pie_chart_values, pie_chart_count = query_total_piechart(INDEX, METRIC_NAME, METRIC_FIELD, [filter_date_4y,\n",
      "                                                                                             filter_changeset_submission])"
     ],
     "language": "python",
     "metadata": {},
     "outputs": [],
     "prompt_number": 9
    },
    {
     "cell_type": "code",
     "collapsed": false,
     "input": [
      "draw_piechart(pie_chart_labels, pie_chart_values, 'Changeset Submissions by Gender (last 4 years)')"
     ],
     "language": "python",
     "metadata": {},
     "outputs": [
      {
       "application/vnd.plotly.v1+json": {
        "data": [
         {
          "labels": [
           "male",
           "NotKnown",
           "female",
           "Unknown"
          ],
          "type": "pie",
          "values": [
           312309,
           78969,
           37512,
           1
          ]
         }
        ],
        "layout": {
         "title": "Changeset Submissions by Gender (last 4 years)"
        }
       },
       "html": [
        "<div id=\"444d06d8-d439-4983-be9d-572d567c1668\" style=\"height: 525px; width: 100%;\" class=\"plotly-graph-div\"></div><script type=\"text/javascript\">require([\"plotly\"], function(Plotly) { window.PLOTLYENV=window.PLOTLYENV || {};window.PLOTLYENV.BASE_URL=\"https://plot.ly\";Plotly.newPlot(\"444d06d8-d439-4983-be9d-572d567c1668\", [{\"values\": [312309, 78969, 37512, 1], \"type\": \"pie\", \"labels\": [\"male\", \"NotKnown\", \"female\", \"Unknown\"]}], {\"title\": \"Changeset Submissions by Gender (last 4 years)\"}, {\"linkText\": \"Export to plot.ly\", \"showLink\": true})});</script>"
       ],
       "metadata": {},
       "output_type": "display_data",
       "text/vnd.plotly.v1+html": "<div id=\"444d06d8-d439-4983-be9d-572d567c1668\" style=\"height: 525px; width: 100%;\" class=\"plotly-graph-div\"></div><script type=\"text/javascript\">require([\"plotly\"], function(Plotly) { window.PLOTLYENV=window.PLOTLYENV || {};window.PLOTLYENV.BASE_URL=\"https://plot.ly\";Plotly.newPlot(\"444d06d8-d439-4983-be9d-572d567c1668\", [{\"values\": [312309, 78969, 37512, 1], \"type\": \"pie\", \"labels\": [\"male\", \"NotKnown\", \"female\", \"Unknown\"]}], {\"title\": \"Changeset Submissions by Gender (last 4 years)\"}, {\"linkText\": \"Export to plot.ly\", \"showLink\": true})});</script>"
      }
     ],
     "prompt_number": 10
    },
    {
     "cell_type": "code",
     "collapsed": false,
     "input": [
      "pie_chart_labels, pie_chart_values, pie_chart_count = query_total_piechart(INDEX, METRIC_NAME, METRIC_FIELD, [filter_date_1y,\n",
      "                                                                                             filter_changeset_submission])\n"
     ],
     "language": "python",
     "metadata": {},
     "outputs": [],
     "prompt_number": 11
    },
    {
     "cell_type": "code",
     "collapsed": false,
     "input": [
      "draw_piechart(pie_chart_labels, pie_chart_values, 'Changeset Submissions by Gender (last year)')"
     ],
     "language": "python",
     "metadata": {},
     "outputs": [
      {
       "application/vnd.plotly.v1+json": {
        "data": [
         {
          "labels": [
           "male",
           "NotKnown",
           "female",
           "Unknown"
          ],
          "type": "pie",
          "values": [
           103981,
           33244,
           11778,
           1
          ]
         }
        ],
        "layout": {
         "title": "Changeset Submissions by Gender (last year)"
        }
       },
       "html": [
        "<div id=\"2295c775-70bb-4ee6-b675-259d278e7593\" style=\"height: 525px; width: 100%;\" class=\"plotly-graph-div\"></div><script type=\"text/javascript\">require([\"plotly\"], function(Plotly) { window.PLOTLYENV=window.PLOTLYENV || {};window.PLOTLYENV.BASE_URL=\"https://plot.ly\";Plotly.newPlot(\"2295c775-70bb-4ee6-b675-259d278e7593\", [{\"values\": [103981, 33244, 11778, 1], \"type\": \"pie\", \"labels\": [\"male\", \"NotKnown\", \"female\", \"Unknown\"]}], {\"title\": \"Changeset Submissions by Gender (last year)\"}, {\"linkText\": \"Export to plot.ly\", \"showLink\": true})});</script>"
       ],
       "metadata": {},
       "output_type": "display_data",
       "text/vnd.plotly.v1+html": "<div id=\"2295c775-70bb-4ee6-b675-259d278e7593\" style=\"height: 525px; width: 100%;\" class=\"plotly-graph-div\"></div><script type=\"text/javascript\">require([\"plotly\"], function(Plotly) { window.PLOTLYENV=window.PLOTLYENV || {};window.PLOTLYENV.BASE_URL=\"https://plot.ly\";Plotly.newPlot(\"2295c775-70bb-4ee6-b675-259d278e7593\", [{\"values\": [103981, 33244, 11778, 1], \"type\": \"pie\", \"labels\": [\"male\", \"NotKnown\", \"female\", \"Unknown\"]}], {\"title\": \"Changeset Submissions by Gender (last year)\"}, {\"linkText\": \"Export to plot.ly\", \"showLink\": true})});</script>"
      }
     ],
     "prompt_number": 12
    },
    {
     "cell_type": "markdown",
     "metadata": {},
     "source": [
      "## Population of people submitting changesets\n",
      "### Evolution of submitters over time by gender\n",
      "  * Count people submitting (id, uuid)"
     ]
    },
    {
     "cell_type": "code",
     "collapsed": false,
     "input": [
      "METRIC_NAME = \"submitters\"\n",
      "METRIC_FIELD = \"uuid\"\n",
      "df = query_metric_over_time(INDEX, METRIC_NAME, METRIC_FIELD, [filter_date_4y, filter_changeset_submission])\n",
      "draw_evolutionary_chart(\"key_as_string\", METRIC_NAME)"
     ],
     "language": "python",
     "metadata": {},
     "outputs": [
      {
       "application/vnd.plotly.v1+json": {
        "data": [
         {
          "name": "female",
          "type": "scatter",
          "x": [
           "2013-01-01T00:00:00.000Z",
           "2013-04-01T00:00:00.000Z",
           "2013-07-01T00:00:00.000Z",
           "2013-10-01T00:00:00.000Z",
           "2014-01-01T00:00:00.000Z",
           "2014-04-01T00:00:00.000Z",
           "2014-07-01T00:00:00.000Z",
           "2014-10-01T00:00:00.000Z",
           "2015-01-01T00:00:00.000Z",
           "2015-04-01T00:00:00.000Z",
           "2015-07-01T00:00:00.000Z",
           "2015-10-01T00:00:00.000Z",
           "2016-01-01T00:00:00.000Z",
           "2016-04-01T00:00:00.000Z",
           "2016-07-01T00:00:00.000Z",
           "2016-10-01T00:00:00.000Z",
           "2017-01-01T00:00:00.000Z"
          ],
          "y": [
           42,
           82,
           103,
           117,
           154,
           171,
           201,
           174,
           244,
           229,
           284,
           284,
           334,
           307,
           288,
           249,
           231
          ]
         },
         {
          "name": "male",
          "type": "scatter",
          "x": [
           "2013-01-01T00:00:00.000Z",
           "2013-04-01T00:00:00.000Z",
           "2013-07-01T00:00:00.000Z",
           "2013-10-01T00:00:00.000Z",
           "2014-01-01T00:00:00.000Z",
           "2014-04-01T00:00:00.000Z",
           "2014-07-01T00:00:00.000Z",
           "2014-10-01T00:00:00.000Z",
           "2015-01-01T00:00:00.000Z",
           "2015-04-01T00:00:00.000Z",
           "2015-07-01T00:00:00.000Z",
           "2015-10-01T00:00:00.000Z",
           "2016-01-01T00:00:00.000Z",
           "2016-04-01T00:00:00.000Z",
           "2016-07-01T00:00:00.000Z",
           "2016-10-01T00:00:00.000Z",
           "2017-01-01T00:00:00.000Z"
          ],
          "y": [
           333,
           522,
           788,
           808,
           1026,
           1121,
           1254,
           1211,
           1406,
           1481,
           1643,
           1584,
           1744,
           1741,
           1791,
           1504,
           1400
          ]
         },
         {
          "name": "unknown",
          "type": "scatter",
          "x": [
           "2013-01-01T00:00:00.000Z",
           "2013-04-01T00:00:00.000Z",
           "2013-07-01T00:00:00.000Z",
           "2013-10-01T00:00:00.000Z",
           "2014-01-01T00:00:00.000Z",
           "2014-04-01T00:00:00.000Z",
           "2014-07-01T00:00:00.000Z",
           "2014-10-01T00:00:00.000Z",
           "2015-01-01T00:00:00.000Z",
           "2015-04-01T00:00:00.000Z",
           "2015-07-01T00:00:00.000Z",
           "2015-10-01T00:00:00.000Z",
           "2016-01-01T00:00:00.000Z",
           "2016-04-01T00:00:00.000Z",
           "2016-07-01T00:00:00.000Z",
           "2016-10-01T00:00:00.000Z",
           "2017-01-01T00:00:00.000Z"
          ],
          "y": [
           99,
           117,
           165,
           161,
           180,
           210,
           214,
           208,
           254,
           258,
           346,
           347,
           425,
           426,
           455,
           443,
           460
          ]
         }
        ],
        "layout": {}
       },
       "html": [
        "<div id=\"ed999e77-f83f-4e97-8ac4-0b62f076f90a\" style=\"height: 525px; width: 100%;\" class=\"plotly-graph-div\"></div><script type=\"text/javascript\">require([\"plotly\"], function(Plotly) { window.PLOTLYENV=window.PLOTLYENV || {};window.PLOTLYENV.BASE_URL=\"https://plot.ly\";Plotly.newPlot(\"ed999e77-f83f-4e97-8ac4-0b62f076f90a\", [{\"x\": [\"2013-01-01T00:00:00.000Z\", \"2013-04-01T00:00:00.000Z\", \"2013-07-01T00:00:00.000Z\", \"2013-10-01T00:00:00.000Z\", \"2014-01-01T00:00:00.000Z\", \"2014-04-01T00:00:00.000Z\", \"2014-07-01T00:00:00.000Z\", \"2014-10-01T00:00:00.000Z\", \"2015-01-01T00:00:00.000Z\", \"2015-04-01T00:00:00.000Z\", \"2015-07-01T00:00:00.000Z\", \"2015-10-01T00:00:00.000Z\", \"2016-01-01T00:00:00.000Z\", \"2016-04-01T00:00:00.000Z\", \"2016-07-01T00:00:00.000Z\", \"2016-10-01T00:00:00.000Z\", \"2017-01-01T00:00:00.000Z\"], \"type\": \"scatter\", \"name\": \"female\", \"y\": [42, 82, 103, 117, 154, 171, 201, 174, 244, 229, 284, 284, 334, 307, 288, 249, 231]}, {\"x\": [\"2013-01-01T00:00:00.000Z\", \"2013-04-01T00:00:00.000Z\", \"2013-07-01T00:00:00.000Z\", \"2013-10-01T00:00:00.000Z\", \"2014-01-01T00:00:00.000Z\", \"2014-04-01T00:00:00.000Z\", \"2014-07-01T00:00:00.000Z\", \"2014-10-01T00:00:00.000Z\", \"2015-01-01T00:00:00.000Z\", \"2015-04-01T00:00:00.000Z\", \"2015-07-01T00:00:00.000Z\", \"2015-10-01T00:00:00.000Z\", \"2016-01-01T00:00:00.000Z\", \"2016-04-01T00:00:00.000Z\", \"2016-07-01T00:00:00.000Z\", \"2016-10-01T00:00:00.000Z\", \"2017-01-01T00:00:00.000Z\"], \"type\": \"scatter\", \"name\": \"male\", \"y\": [333, 522, 788, 808, 1026, 1121, 1254, 1211, 1406, 1481, 1643, 1584, 1744, 1741, 1791, 1504, 1400]}, {\"x\": [\"2013-01-01T00:00:00.000Z\", \"2013-04-01T00:00:00.000Z\", \"2013-07-01T00:00:00.000Z\", \"2013-10-01T00:00:00.000Z\", \"2014-01-01T00:00:00.000Z\", \"2014-04-01T00:00:00.000Z\", \"2014-07-01T00:00:00.000Z\", \"2014-10-01T00:00:00.000Z\", \"2015-01-01T00:00:00.000Z\", \"2015-04-01T00:00:00.000Z\", \"2015-07-01T00:00:00.000Z\", \"2015-10-01T00:00:00.000Z\", \"2016-01-01T00:00:00.000Z\", \"2016-04-01T00:00:00.000Z\", \"2016-07-01T00:00:00.000Z\", \"2016-10-01T00:00:00.000Z\", \"2017-01-01T00:00:00.000Z\"], \"type\": \"scatter\", \"name\": \"unknown\", \"y\": [99, 117, 165, 161, 180, 210, 214, 208, 254, 258, 346, 347, 425, 426, 455, 443, 460]}], {}, {\"linkText\": \"Export to plot.ly\", \"showLink\": true})});</script>"
       ],
       "metadata": {},
       "output_type": "display_data",
       "text/vnd.plotly.v1+html": "<div id=\"ed999e77-f83f-4e97-8ac4-0b62f076f90a\" style=\"height: 525px; width: 100%;\" class=\"plotly-graph-div\"></div><script type=\"text/javascript\">require([\"plotly\"], function(Plotly) { window.PLOTLYENV=window.PLOTLYENV || {};window.PLOTLYENV.BASE_URL=\"https://plot.ly\";Plotly.newPlot(\"ed999e77-f83f-4e97-8ac4-0b62f076f90a\", [{\"x\": [\"2013-01-01T00:00:00.000Z\", \"2013-04-01T00:00:00.000Z\", \"2013-07-01T00:00:00.000Z\", \"2013-10-01T00:00:00.000Z\", \"2014-01-01T00:00:00.000Z\", \"2014-04-01T00:00:00.000Z\", \"2014-07-01T00:00:00.000Z\", \"2014-10-01T00:00:00.000Z\", \"2015-01-01T00:00:00.000Z\", \"2015-04-01T00:00:00.000Z\", \"2015-07-01T00:00:00.000Z\", \"2015-10-01T00:00:00.000Z\", \"2016-01-01T00:00:00.000Z\", \"2016-04-01T00:00:00.000Z\", \"2016-07-01T00:00:00.000Z\", \"2016-10-01T00:00:00.000Z\", \"2017-01-01T00:00:00.000Z\"], \"type\": \"scatter\", \"name\": \"female\", \"y\": [42, 82, 103, 117, 154, 171, 201, 174, 244, 229, 284, 284, 334, 307, 288, 249, 231]}, {\"x\": [\"2013-01-01T00:00:00.000Z\", \"2013-04-01T00:00:00.000Z\", \"2013-07-01T00:00:00.000Z\", \"2013-10-01T00:00:00.000Z\", \"2014-01-01T00:00:00.000Z\", \"2014-04-01T00:00:00.000Z\", \"2014-07-01T00:00:00.000Z\", \"2014-10-01T00:00:00.000Z\", \"2015-01-01T00:00:00.000Z\", \"2015-04-01T00:00:00.000Z\", \"2015-07-01T00:00:00.000Z\", \"2015-10-01T00:00:00.000Z\", \"2016-01-01T00:00:00.000Z\", \"2016-04-01T00:00:00.000Z\", \"2016-07-01T00:00:00.000Z\", \"2016-10-01T00:00:00.000Z\", \"2017-01-01T00:00:00.000Z\"], \"type\": \"scatter\", \"name\": \"male\", \"y\": [333, 522, 788, 808, 1026, 1121, 1254, 1211, 1406, 1481, 1643, 1584, 1744, 1741, 1791, 1504, 1400]}, {\"x\": [\"2013-01-01T00:00:00.000Z\", \"2013-04-01T00:00:00.000Z\", \"2013-07-01T00:00:00.000Z\", \"2013-10-01T00:00:00.000Z\", \"2014-01-01T00:00:00.000Z\", \"2014-04-01T00:00:00.000Z\", \"2014-07-01T00:00:00.000Z\", \"2014-10-01T00:00:00.000Z\", \"2015-01-01T00:00:00.000Z\", \"2015-04-01T00:00:00.000Z\", \"2015-07-01T00:00:00.000Z\", \"2015-10-01T00:00:00.000Z\", \"2016-01-01T00:00:00.000Z\", \"2016-04-01T00:00:00.000Z\", \"2016-07-01T00:00:00.000Z\", \"2016-10-01T00:00:00.000Z\", \"2017-01-01T00:00:00.000Z\"], \"type\": \"scatter\", \"name\": \"unknown\", \"y\": [99, 117, 165, 161, 180, 210, 214, 208, 254, 258, 346, 347, 425, 426, 455, 443, 460]}], {}, {\"linkText\": \"Export to plot.ly\", \"showLink\": true})});</script>"
      }
     ],
     "prompt_number": 13
    },
    {
     "cell_type": "markdown",
     "metadata": {},
     "source": [
      "### Aggregated number of submitters\n"
     ]
    },
    {
     "cell_type": "code",
     "collapsed": false,
     "input": [
      "pie_chart_labels, pie_chart_values, pie_chart_count = query_total_piechart(INDEX, METRIC_NAME, METRIC_FIELD, [filter_date_4y,\n",
      "                                                                                             filter_changeset_submission])\n",
      "draw_piechart(pie_chart_labels, pie_chart_values, 'Changeset Submitters by Gender (last 4 years)')"
     ],
     "language": "python",
     "metadata": {},
     "outputs": [
      {
       "application/vnd.plotly.v1+json": {
        "data": [
         {
          "labels": [
           "male",
           "NotKnown",
           "female",
           "Unknown"
          ],
          "type": "pie",
          "values": [
           5673,
           1636,
           1030,
           1
          ]
         }
        ],
        "layout": {
         "title": "Changeset Submitters by Gender (last 4 years)"
        }
       },
       "html": [
        "<div id=\"2f84eb8e-abf3-43ba-95ef-abe04cd7c536\" style=\"height: 525px; width: 100%;\" class=\"plotly-graph-div\"></div><script type=\"text/javascript\">require([\"plotly\"], function(Plotly) { window.PLOTLYENV=window.PLOTLYENV || {};window.PLOTLYENV.BASE_URL=\"https://plot.ly\";Plotly.newPlot(\"2f84eb8e-abf3-43ba-95ef-abe04cd7c536\", [{\"values\": [5673, 1636, 1030, 1], \"type\": \"pie\", \"labels\": [\"male\", \"NotKnown\", \"female\", \"Unknown\"]}], {\"title\": \"Changeset Submitters by Gender (last 4 years)\"}, {\"linkText\": \"Export to plot.ly\", \"showLink\": true})});</script>"
       ],
       "metadata": {},
       "output_type": "display_data",
       "text/vnd.plotly.v1+html": "<div id=\"2f84eb8e-abf3-43ba-95ef-abe04cd7c536\" style=\"height: 525px; width: 100%;\" class=\"plotly-graph-div\"></div><script type=\"text/javascript\">require([\"plotly\"], function(Plotly) { window.PLOTLYENV=window.PLOTLYENV || {};window.PLOTLYENV.BASE_URL=\"https://plot.ly\";Plotly.newPlot(\"2f84eb8e-abf3-43ba-95ef-abe04cd7c536\", [{\"values\": [5673, 1636, 1030, 1], \"type\": \"pie\", \"labels\": [\"male\", \"NotKnown\", \"female\", \"Unknown\"]}], {\"title\": \"Changeset Submitters by Gender (last 4 years)\"}, {\"linkText\": \"Export to plot.ly\", \"showLink\": true})});</script>"
      }
     ],
     "prompt_number": 14
    },
    {
     "cell_type": "code",
     "collapsed": false,
     "input": [
      "pie_chart_labels, pie_chart_values, pie_chart_count = query_total_piechart(INDEX, METRIC_NAME, METRIC_FIELD,  [filter_date_1y,\n",
      "                                                                                              filter_changeset_submission])\n",
      "draw_piechart(pie_chart_labels, pie_chart_values, 'Changeset Submitters by Gender (last year)')"
     ],
     "language": "python",
     "metadata": {},
     "outputs": [
      {
       "application/vnd.plotly.v1+json": {
        "data": [
         {
          "labels": [
           "male",
           "NotKnown",
           "female",
           "Unknown"
          ],
          "type": "pie",
          "values": [
           2947,
           933,
           522,
           1
          ]
         }
        ],
        "layout": {
         "title": "Changeset Submitters by Gender (last year)"
        }
       },
       "html": [
        "<div id=\"b5d66844-e7ba-4013-bc40-be398d411c47\" style=\"height: 525px; width: 100%;\" class=\"plotly-graph-div\"></div><script type=\"text/javascript\">require([\"plotly\"], function(Plotly) { window.PLOTLYENV=window.PLOTLYENV || {};window.PLOTLYENV.BASE_URL=\"https://plot.ly\";Plotly.newPlot(\"b5d66844-e7ba-4013-bc40-be398d411c47\", [{\"values\": [2947, 933, 522, 1], \"type\": \"pie\", \"labels\": [\"male\", \"NotKnown\", \"female\", \"Unknown\"]}], {\"title\": \"Changeset Submitters by Gender (last year)\"}, {\"linkText\": \"Export to plot.ly\", \"showLink\": true})});</script>"
       ],
       "metadata": {},
       "output_type": "display_data",
       "text/vnd.plotly.v1+html": "<div id=\"b5d66844-e7ba-4013-bc40-be398d411c47\" style=\"height: 525px; width: 100%;\" class=\"plotly-graph-div\"></div><script type=\"text/javascript\">require([\"plotly\"], function(Plotly) { window.PLOTLYENV=window.PLOTLYENV || {};window.PLOTLYENV.BASE_URL=\"https://plot.ly\";Plotly.newPlot(\"b5d66844-e7ba-4013-bc40-be398d411c47\", [{\"values\": [2947, 933, 522, 1], \"type\": \"pie\", \"labels\": [\"male\", \"NotKnown\", \"female\", \"Unknown\"]}], {\"title\": \"Changeset Submitters by Gender (last year)\"}, {\"linkText\": \"Export to plot.ly\", \"showLink\": true})});</script>"
      }
     ],
     "prompt_number": 15
    },
    {
     "cell_type": "markdown",
     "metadata": {},
     "source": [
      "* Evolution of code reviews developers over time by gender\n",
      "  * Count people voting (name, uuid, vote)\n"
     ]
    },
    {
     "cell_type": "markdown",
     "metadata": {},
     "source": [
      "\n"
     ]
    },
    {
     "cell_type": "heading",
     "level": 2,
     "metadata": {},
     "source": [
      "Number of votes by gender"
     ]
    },
    {
     "cell_type": "code",
     "collapsed": false,
     "input": [
      "METRIC_NAME = \"reviewer\"\n",
      "METRIC_FIELD = \"uuid\"\n",
      "filter_vote = Q('term', eventtype='CHANGESET_PATCHSET_APPROVAL_Code-Review') # filter by event: vote a code review\n",
      "\n",
      "df = query_metric_over_time(INDEX, METRIC_NAME, METRIC_FIELD, [filter_date_4y, filter_vote])\n",
      "draw_evolutionary_chart(\"key_as_string\", \"doc_count\")"
     ],
     "language": "python",
     "metadata": {},
     "outputs": [
      {
       "application/vnd.plotly.v1+json": {
        "data": [
         {
          "name": "female",
          "type": "scatter",
          "x": [
           "2013-01-01T00:00:00.000Z",
           "2013-04-01T00:00:00.000Z",
           "2013-07-01T00:00:00.000Z",
           "2013-10-01T00:00:00.000Z",
           "2014-01-01T00:00:00.000Z",
           "2014-04-01T00:00:00.000Z",
           "2014-07-01T00:00:00.000Z",
           "2014-10-01T00:00:00.000Z",
           "2015-01-01T00:00:00.000Z",
           "2015-04-01T00:00:00.000Z",
           "2015-07-01T00:00:00.000Z",
           "2015-10-01T00:00:00.000Z",
           "2016-01-01T00:00:00.000Z",
           "2016-04-01T00:00:00.000Z",
           "2016-07-01T00:00:00.000Z",
           "2016-10-01T00:00:00.000Z",
           "2017-01-01T00:00:00.000Z"
          ],
          "y": [
           942,
           1499,
           3106,
           3993,
           6029,
           6798,
           9838,
           8809,
           11290,
           10822,
           14498,
           13692,
           13244,
           11330,
           12959,
           9873,
           11585
          ]
         },
         {
          "name": "male",
          "type": "scatter",
          "x": [
           "2013-01-01T00:00:00.000Z",
           "2013-04-01T00:00:00.000Z",
           "2013-07-01T00:00:00.000Z",
           "2013-10-01T00:00:00.000Z",
           "2014-01-01T00:00:00.000Z",
           "2014-04-01T00:00:00.000Z",
           "2014-07-01T00:00:00.000Z",
           "2014-10-01T00:00:00.000Z",
           "2015-01-01T00:00:00.000Z",
           "2015-04-01T00:00:00.000Z",
           "2015-07-01T00:00:00.000Z",
           "2015-10-01T00:00:00.000Z",
           "2016-01-01T00:00:00.000Z",
           "2016-04-01T00:00:00.000Z",
           "2016-07-01T00:00:00.000Z",
           "2016-10-01T00:00:00.000Z",
           "2017-01-01T00:00:00.000Z"
          ],
          "y": [
           16995,
           21679,
           41379,
           45817,
           69704,
           71188,
           83858,
           71488,
           96139,
           92477,
           114730,
           109154,
           124263,
           107075,
           118588,
           87964,
           97829
          ]
         },
         {
          "name": "unknown",
          "type": "scatter",
          "x": [
           "2013-01-01T00:00:00.000Z",
           "2013-04-01T00:00:00.000Z",
           "2013-07-01T00:00:00.000Z",
           "2013-10-01T00:00:00.000Z",
           "2014-01-01T00:00:00.000Z",
           "2014-04-01T00:00:00.000Z",
           "2014-07-01T00:00:00.000Z",
           "2014-10-01T00:00:00.000Z",
           "2015-01-01T00:00:00.000Z",
           "2015-04-01T00:00:00.000Z",
           "2015-07-01T00:00:00.000Z",
           "2015-10-01T00:00:00.000Z",
           "2016-01-01T00:00:00.000Z",
           "2016-04-01T00:00:00.000Z",
           "2016-07-01T00:00:00.000Z",
           "2016-10-01T00:00:00.000Z",
           "2017-01-01T00:00:00.000Z"
          ],
          "y": [
           3951,
           4211,
           6264,
           9184,
           11650,
           10535,
           12141,
           9932,
           14620,
           15387,
           22022,
           23965,
           21473,
           18841,
           21274,
           18510,
           20493
          ]
         }
        ],
        "layout": {}
       },
       "html": [
        "<div id=\"bd4b52d6-4f90-401e-a05b-681f0f08bccf\" style=\"height: 525px; width: 100%;\" class=\"plotly-graph-div\"></div><script type=\"text/javascript\">require([\"plotly\"], function(Plotly) { window.PLOTLYENV=window.PLOTLYENV || {};window.PLOTLYENV.BASE_URL=\"https://plot.ly\";Plotly.newPlot(\"bd4b52d6-4f90-401e-a05b-681f0f08bccf\", [{\"x\": [\"2013-01-01T00:00:00.000Z\", \"2013-04-01T00:00:00.000Z\", \"2013-07-01T00:00:00.000Z\", \"2013-10-01T00:00:00.000Z\", \"2014-01-01T00:00:00.000Z\", \"2014-04-01T00:00:00.000Z\", \"2014-07-01T00:00:00.000Z\", \"2014-10-01T00:00:00.000Z\", \"2015-01-01T00:00:00.000Z\", \"2015-04-01T00:00:00.000Z\", \"2015-07-01T00:00:00.000Z\", \"2015-10-01T00:00:00.000Z\", \"2016-01-01T00:00:00.000Z\", \"2016-04-01T00:00:00.000Z\", \"2016-07-01T00:00:00.000Z\", \"2016-10-01T00:00:00.000Z\", \"2017-01-01T00:00:00.000Z\"], \"type\": \"scatter\", \"name\": \"female\", \"y\": [942, 1499, 3106, 3993, 6029, 6798, 9838, 8809, 11290, 10822, 14498, 13692, 13244, 11330, 12959, 9873, 11585]}, {\"x\": [\"2013-01-01T00:00:00.000Z\", \"2013-04-01T00:00:00.000Z\", \"2013-07-01T00:00:00.000Z\", \"2013-10-01T00:00:00.000Z\", \"2014-01-01T00:00:00.000Z\", \"2014-04-01T00:00:00.000Z\", \"2014-07-01T00:00:00.000Z\", \"2014-10-01T00:00:00.000Z\", \"2015-01-01T00:00:00.000Z\", \"2015-04-01T00:00:00.000Z\", \"2015-07-01T00:00:00.000Z\", \"2015-10-01T00:00:00.000Z\", \"2016-01-01T00:00:00.000Z\", \"2016-04-01T00:00:00.000Z\", \"2016-07-01T00:00:00.000Z\", \"2016-10-01T00:00:00.000Z\", \"2017-01-01T00:00:00.000Z\"], \"type\": \"scatter\", \"name\": \"male\", \"y\": [16995, 21679, 41379, 45817, 69704, 71188, 83858, 71488, 96139, 92477, 114730, 109154, 124263, 107075, 118588, 87964, 97829]}, {\"x\": [\"2013-01-01T00:00:00.000Z\", \"2013-04-01T00:00:00.000Z\", \"2013-07-01T00:00:00.000Z\", \"2013-10-01T00:00:00.000Z\", \"2014-01-01T00:00:00.000Z\", \"2014-04-01T00:00:00.000Z\", \"2014-07-01T00:00:00.000Z\", \"2014-10-01T00:00:00.000Z\", \"2015-01-01T00:00:00.000Z\", \"2015-04-01T00:00:00.000Z\", \"2015-07-01T00:00:00.000Z\", \"2015-10-01T00:00:00.000Z\", \"2016-01-01T00:00:00.000Z\", \"2016-04-01T00:00:00.000Z\", \"2016-07-01T00:00:00.000Z\", \"2016-10-01T00:00:00.000Z\", \"2017-01-01T00:00:00.000Z\"], \"type\": \"scatter\", \"name\": \"unknown\", \"y\": [3951, 4211, 6264, 9184, 11650, 10535, 12141, 9932, 14620, 15387, 22022, 23965, 21473, 18841, 21274, 18510, 20493]}], {}, {\"linkText\": \"Export to plot.ly\", \"showLink\": true})});</script>"
       ],
       "metadata": {},
       "output_type": "display_data",
       "text/vnd.plotly.v1+html": "<div id=\"bd4b52d6-4f90-401e-a05b-681f0f08bccf\" style=\"height: 525px; width: 100%;\" class=\"plotly-graph-div\"></div><script type=\"text/javascript\">require([\"plotly\"], function(Plotly) { window.PLOTLYENV=window.PLOTLYENV || {};window.PLOTLYENV.BASE_URL=\"https://plot.ly\";Plotly.newPlot(\"bd4b52d6-4f90-401e-a05b-681f0f08bccf\", [{\"x\": [\"2013-01-01T00:00:00.000Z\", \"2013-04-01T00:00:00.000Z\", \"2013-07-01T00:00:00.000Z\", \"2013-10-01T00:00:00.000Z\", \"2014-01-01T00:00:00.000Z\", \"2014-04-01T00:00:00.000Z\", \"2014-07-01T00:00:00.000Z\", \"2014-10-01T00:00:00.000Z\", \"2015-01-01T00:00:00.000Z\", \"2015-04-01T00:00:00.000Z\", \"2015-07-01T00:00:00.000Z\", \"2015-10-01T00:00:00.000Z\", \"2016-01-01T00:00:00.000Z\", \"2016-04-01T00:00:00.000Z\", \"2016-07-01T00:00:00.000Z\", \"2016-10-01T00:00:00.000Z\", \"2017-01-01T00:00:00.000Z\"], \"type\": \"scatter\", \"name\": \"female\", \"y\": [942, 1499, 3106, 3993, 6029, 6798, 9838, 8809, 11290, 10822, 14498, 13692, 13244, 11330, 12959, 9873, 11585]}, {\"x\": [\"2013-01-01T00:00:00.000Z\", \"2013-04-01T00:00:00.000Z\", \"2013-07-01T00:00:00.000Z\", \"2013-10-01T00:00:00.000Z\", \"2014-01-01T00:00:00.000Z\", \"2014-04-01T00:00:00.000Z\", \"2014-07-01T00:00:00.000Z\", \"2014-10-01T00:00:00.000Z\", \"2015-01-01T00:00:00.000Z\", \"2015-04-01T00:00:00.000Z\", \"2015-07-01T00:00:00.000Z\", \"2015-10-01T00:00:00.000Z\", \"2016-01-01T00:00:00.000Z\", \"2016-04-01T00:00:00.000Z\", \"2016-07-01T00:00:00.000Z\", \"2016-10-01T00:00:00.000Z\", \"2017-01-01T00:00:00.000Z\"], \"type\": \"scatter\", \"name\": \"male\", \"y\": [16995, 21679, 41379, 45817, 69704, 71188, 83858, 71488, 96139, 92477, 114730, 109154, 124263, 107075, 118588, 87964, 97829]}, {\"x\": [\"2013-01-01T00:00:00.000Z\", \"2013-04-01T00:00:00.000Z\", \"2013-07-01T00:00:00.000Z\", \"2013-10-01T00:00:00.000Z\", \"2014-01-01T00:00:00.000Z\", \"2014-04-01T00:00:00.000Z\", \"2014-07-01T00:00:00.000Z\", \"2014-10-01T00:00:00.000Z\", \"2015-01-01T00:00:00.000Z\", \"2015-04-01T00:00:00.000Z\", \"2015-07-01T00:00:00.000Z\", \"2015-10-01T00:00:00.000Z\", \"2016-01-01T00:00:00.000Z\", \"2016-04-01T00:00:00.000Z\", \"2016-07-01T00:00:00.000Z\", \"2016-10-01T00:00:00.000Z\", \"2017-01-01T00:00:00.000Z\"], \"type\": \"scatter\", \"name\": \"unknown\", \"y\": [3951, 4211, 6264, 9184, 11650, 10535, 12141, 9932, 14620, 15387, 22022, 23965, 21473, 18841, 21274, 18510, 20493]}], {}, {\"linkText\": \"Export to plot.ly\", \"showLink\": true})});</script>"
      }
     ],
     "prompt_number": 16
    },
    {
     "cell_type": "code",
     "collapsed": false,
     "input": [
      "pie_chart_labels, pie_chart_values, pie_chart_count = query_total_piechart(INDEX, METRIC_NAME, METRIC_FIELD,  [filter_date_4y,\n",
      "                                                                                              filter_vote])\n",
      "draw_piechart(pie_chart_labels, pie_chart_count, 'Changeset votes by Gender (last 4 years)')"
     ],
     "language": "python",
     "metadata": {},
     "outputs": [
      {
       "application/vnd.plotly.v1+json": {
        "data": [
         {
          "labels": [
           "male",
           "NotKnown",
           "female"
          ],
          "type": "pie",
          "values": [
           1370327,
           244453,
           150307
          ]
         }
        ],
        "layout": {
         "title": "Changeset votes by Gender (last 4 years)"
        }
       },
       "html": [
        "<div id=\"0223f1dc-4dce-4b84-bc78-cc173999125a\" style=\"height: 525px; width: 100%;\" class=\"plotly-graph-div\"></div><script type=\"text/javascript\">require([\"plotly\"], function(Plotly) { window.PLOTLYENV=window.PLOTLYENV || {};window.PLOTLYENV.BASE_URL=\"https://plot.ly\";Plotly.newPlot(\"0223f1dc-4dce-4b84-bc78-cc173999125a\", [{\"values\": [1370327, 244453, 150307], \"type\": \"pie\", \"labels\": [\"male\", \"NotKnown\", \"female\"]}], {\"title\": \"Changeset votes by Gender (last 4 years)\"}, {\"linkText\": \"Export to plot.ly\", \"showLink\": true})});</script>"
       ],
       "metadata": {},
       "output_type": "display_data",
       "text/vnd.plotly.v1+html": "<div id=\"0223f1dc-4dce-4b84-bc78-cc173999125a\" style=\"height: 525px; width: 100%;\" class=\"plotly-graph-div\"></div><script type=\"text/javascript\">require([\"plotly\"], function(Plotly) { window.PLOTLYENV=window.PLOTLYENV || {};window.PLOTLYENV.BASE_URL=\"https://plot.ly\";Plotly.newPlot(\"0223f1dc-4dce-4b84-bc78-cc173999125a\", [{\"values\": [1370327, 244453, 150307], \"type\": \"pie\", \"labels\": [\"male\", \"NotKnown\", \"female\"]}], {\"title\": \"Changeset votes by Gender (last 4 years)\"}, {\"linkText\": \"Export to plot.ly\", \"showLink\": true})});</script>"
      }
     ],
     "prompt_number": 17
    },
    {
     "cell_type": "code",
     "collapsed": false,
     "input": [
      "pie_chart_labels, pie_chart_values, pie_chart_count = query_total_piechart(INDEX, METRIC_NAME, METRIC_FIELD,  [filter_date_1y,\n",
      "                                                                                              filter_vote])\n",
      "draw_piechart(pie_chart_labels, pie_chart_count, 'Changeset votes by Gender (last year)')"
     ],
     "language": "python",
     "metadata": {},
     "outputs": [
      {
       "application/vnd.plotly.v1+json": {
        "data": [
         {
          "labels": [
           "male",
           "NotKnown",
           "female"
          ],
          "type": "pie",
          "values": [
           409793,
           78969,
           45582
          ]
         }
        ],
        "layout": {
         "title": "Changeset votes by Gender (last year)"
        }
       },
       "html": [
        "<div id=\"9c5cf1d1-f80a-440b-851e-ead4d57c939a\" style=\"height: 525px; width: 100%;\" class=\"plotly-graph-div\"></div><script type=\"text/javascript\">require([\"plotly\"], function(Plotly) { window.PLOTLYENV=window.PLOTLYENV || {};window.PLOTLYENV.BASE_URL=\"https://plot.ly\";Plotly.newPlot(\"9c5cf1d1-f80a-440b-851e-ead4d57c939a\", [{\"values\": [409793, 78969, 45582], \"type\": \"pie\", \"labels\": [\"male\", \"NotKnown\", \"female\"]}], {\"title\": \"Changeset votes by Gender (last year)\"}, {\"linkText\": \"Export to plot.ly\", \"showLink\": true})});</script>"
       ],
       "metadata": {},
       "output_type": "display_data",
       "text/vnd.plotly.v1+html": "<div id=\"9c5cf1d1-f80a-440b-851e-ead4d57c939a\" style=\"height: 525px; width: 100%;\" class=\"plotly-graph-div\"></div><script type=\"text/javascript\">require([\"plotly\"], function(Plotly) { window.PLOTLYENV=window.PLOTLYENV || {};window.PLOTLYENV.BASE_URL=\"https://plot.ly\";Plotly.newPlot(\"9c5cf1d1-f80a-440b-851e-ead4d57c939a\", [{\"values\": [409793, 78969, 45582], \"type\": \"pie\", \"labels\": [\"male\", \"NotKnown\", \"female\"]}], {\"title\": \"Changeset votes by Gender (last year)\"}, {\"linkText\": \"Export to plot.ly\", \"showLink\": true})});</script>"
      }
     ],
     "prompt_number": 18
    },
    {
     "cell_type": "heading",
     "level": 2,
     "metadata": {},
     "source": [
      "Number of people voting"
     ]
    },
    {
     "cell_type": "code",
     "collapsed": false,
     "input": [
      "draw_evolutionary_chart(\"key_as_string\", METRIC_NAME)"
     ],
     "language": "python",
     "metadata": {},
     "outputs": [
      {
       "application/vnd.plotly.v1+json": {
        "data": [
         {
          "name": "female",
          "type": "scatter",
          "x": [
           "2013-01-01T00:00:00.000Z",
           "2013-04-01T00:00:00.000Z",
           "2013-07-01T00:00:00.000Z",
           "2013-10-01T00:00:00.000Z",
           "2014-01-01T00:00:00.000Z",
           "2014-04-01T00:00:00.000Z",
           "2014-07-01T00:00:00.000Z",
           "2014-10-01T00:00:00.000Z",
           "2015-01-01T00:00:00.000Z",
           "2015-04-01T00:00:00.000Z",
           "2015-07-01T00:00:00.000Z",
           "2015-10-01T00:00:00.000Z",
           "2016-01-01T00:00:00.000Z",
           "2016-04-01T00:00:00.000Z",
           "2016-07-01T00:00:00.000Z",
           "2016-10-01T00:00:00.000Z",
           "2017-01-01T00:00:00.000Z"
          ],
          "y": [
           31,
           55,
           85,
           94,
           117,
           139,
           160,
           158,
           198,
           222,
           246,
           250,
           277,
           262,
           284,
           228,
           221
          ]
         },
         {
          "name": "male",
          "type": "scatter",
          "x": [
           "2013-01-01T00:00:00.000Z",
           "2013-04-01T00:00:00.000Z",
           "2013-07-01T00:00:00.000Z",
           "2013-10-01T00:00:00.000Z",
           "2014-01-01T00:00:00.000Z",
           "2014-04-01T00:00:00.000Z",
           "2014-07-01T00:00:00.000Z",
           "2014-10-01T00:00:00.000Z",
           "2015-01-01T00:00:00.000Z",
           "2015-04-01T00:00:00.000Z",
           "2015-07-01T00:00:00.000Z",
           "2015-10-01T00:00:00.000Z",
           "2016-01-01T00:00:00.000Z",
           "2016-04-01T00:00:00.000Z",
           "2016-07-01T00:00:00.000Z",
           "2016-10-01T00:00:00.000Z",
           "2017-01-01T00:00:00.000Z"
          ],
          "y": [
           295,
           446,
           625,
           736,
           945,
           1038,
           1189,
           1216,
           1353,
           1404,
           1534,
           1572,
           1667,
           1626,
           1643,
           1509,
           1355
          ]
         },
         {
          "name": "unknown",
          "type": "scatter",
          "x": [
           "2013-01-01T00:00:00.000Z",
           "2013-04-01T00:00:00.000Z",
           "2013-07-01T00:00:00.000Z",
           "2013-10-01T00:00:00.000Z",
           "2014-01-01T00:00:00.000Z",
           "2014-04-01T00:00:00.000Z",
           "2014-07-01T00:00:00.000Z",
           "2014-10-01T00:00:00.000Z",
           "2015-01-01T00:00:00.000Z",
           "2015-04-01T00:00:00.000Z",
           "2015-07-01T00:00:00.000Z",
           "2015-10-01T00:00:00.000Z",
           "2016-01-01T00:00:00.000Z",
           "2016-04-01T00:00:00.000Z",
           "2016-07-01T00:00:00.000Z",
           "2016-10-01T00:00:00.000Z",
           "2017-01-01T00:00:00.000Z"
          ],
          "y": [
           68,
           89,
           119,
           131,
           172,
           176,
           172,
           197,
           221,
           240,
           326,
           313,
           355,
           391,
           419,
           421,
           389
          ]
         }
        ],
        "layout": {}
       },
       "html": [
        "<div id=\"4f0968ba-75f9-4c50-b602-c9fe9f9c9922\" style=\"height: 525px; width: 100%;\" class=\"plotly-graph-div\"></div><script type=\"text/javascript\">require([\"plotly\"], function(Plotly) { window.PLOTLYENV=window.PLOTLYENV || {};window.PLOTLYENV.BASE_URL=\"https://plot.ly\";Plotly.newPlot(\"4f0968ba-75f9-4c50-b602-c9fe9f9c9922\", [{\"x\": [\"2013-01-01T00:00:00.000Z\", \"2013-04-01T00:00:00.000Z\", \"2013-07-01T00:00:00.000Z\", \"2013-10-01T00:00:00.000Z\", \"2014-01-01T00:00:00.000Z\", \"2014-04-01T00:00:00.000Z\", \"2014-07-01T00:00:00.000Z\", \"2014-10-01T00:00:00.000Z\", \"2015-01-01T00:00:00.000Z\", \"2015-04-01T00:00:00.000Z\", \"2015-07-01T00:00:00.000Z\", \"2015-10-01T00:00:00.000Z\", \"2016-01-01T00:00:00.000Z\", \"2016-04-01T00:00:00.000Z\", \"2016-07-01T00:00:00.000Z\", \"2016-10-01T00:00:00.000Z\", \"2017-01-01T00:00:00.000Z\"], \"type\": \"scatter\", \"name\": \"female\", \"y\": [31, 55, 85, 94, 117, 139, 160, 158, 198, 222, 246, 250, 277, 262, 284, 228, 221]}, {\"x\": [\"2013-01-01T00:00:00.000Z\", \"2013-04-01T00:00:00.000Z\", \"2013-07-01T00:00:00.000Z\", \"2013-10-01T00:00:00.000Z\", \"2014-01-01T00:00:00.000Z\", \"2014-04-01T00:00:00.000Z\", \"2014-07-01T00:00:00.000Z\", \"2014-10-01T00:00:00.000Z\", \"2015-01-01T00:00:00.000Z\", \"2015-04-01T00:00:00.000Z\", \"2015-07-01T00:00:00.000Z\", \"2015-10-01T00:00:00.000Z\", \"2016-01-01T00:00:00.000Z\", \"2016-04-01T00:00:00.000Z\", \"2016-07-01T00:00:00.000Z\", \"2016-10-01T00:00:00.000Z\", \"2017-01-01T00:00:00.000Z\"], \"type\": \"scatter\", \"name\": \"male\", \"y\": [295, 446, 625, 736, 945, 1038, 1189, 1216, 1353, 1404, 1534, 1572, 1667, 1626, 1643, 1509, 1355]}, {\"x\": [\"2013-01-01T00:00:00.000Z\", \"2013-04-01T00:00:00.000Z\", \"2013-07-01T00:00:00.000Z\", \"2013-10-01T00:00:00.000Z\", \"2014-01-01T00:00:00.000Z\", \"2014-04-01T00:00:00.000Z\", \"2014-07-01T00:00:00.000Z\", \"2014-10-01T00:00:00.000Z\", \"2015-01-01T00:00:00.000Z\", \"2015-04-01T00:00:00.000Z\", \"2015-07-01T00:00:00.000Z\", \"2015-10-01T00:00:00.000Z\", \"2016-01-01T00:00:00.000Z\", \"2016-04-01T00:00:00.000Z\", \"2016-07-01T00:00:00.000Z\", \"2016-10-01T00:00:00.000Z\", \"2017-01-01T00:00:00.000Z\"], \"type\": \"scatter\", \"name\": \"unknown\", \"y\": [68, 89, 119, 131, 172, 176, 172, 197, 221, 240, 326, 313, 355, 391, 419, 421, 389]}], {}, {\"linkText\": \"Export to plot.ly\", \"showLink\": true})});</script>"
       ],
       "metadata": {},
       "output_type": "display_data",
       "text/vnd.plotly.v1+html": "<div id=\"4f0968ba-75f9-4c50-b602-c9fe9f9c9922\" style=\"height: 525px; width: 100%;\" class=\"plotly-graph-div\"></div><script type=\"text/javascript\">require([\"plotly\"], function(Plotly) { window.PLOTLYENV=window.PLOTLYENV || {};window.PLOTLYENV.BASE_URL=\"https://plot.ly\";Plotly.newPlot(\"4f0968ba-75f9-4c50-b602-c9fe9f9c9922\", [{\"x\": [\"2013-01-01T00:00:00.000Z\", \"2013-04-01T00:00:00.000Z\", \"2013-07-01T00:00:00.000Z\", \"2013-10-01T00:00:00.000Z\", \"2014-01-01T00:00:00.000Z\", \"2014-04-01T00:00:00.000Z\", \"2014-07-01T00:00:00.000Z\", \"2014-10-01T00:00:00.000Z\", \"2015-01-01T00:00:00.000Z\", \"2015-04-01T00:00:00.000Z\", \"2015-07-01T00:00:00.000Z\", \"2015-10-01T00:00:00.000Z\", \"2016-01-01T00:00:00.000Z\", \"2016-04-01T00:00:00.000Z\", \"2016-07-01T00:00:00.000Z\", \"2016-10-01T00:00:00.000Z\", \"2017-01-01T00:00:00.000Z\"], \"type\": \"scatter\", \"name\": \"female\", \"y\": [31, 55, 85, 94, 117, 139, 160, 158, 198, 222, 246, 250, 277, 262, 284, 228, 221]}, {\"x\": [\"2013-01-01T00:00:00.000Z\", \"2013-04-01T00:00:00.000Z\", \"2013-07-01T00:00:00.000Z\", \"2013-10-01T00:00:00.000Z\", \"2014-01-01T00:00:00.000Z\", \"2014-04-01T00:00:00.000Z\", \"2014-07-01T00:00:00.000Z\", \"2014-10-01T00:00:00.000Z\", \"2015-01-01T00:00:00.000Z\", \"2015-04-01T00:00:00.000Z\", \"2015-07-01T00:00:00.000Z\", \"2015-10-01T00:00:00.000Z\", \"2016-01-01T00:00:00.000Z\", \"2016-04-01T00:00:00.000Z\", \"2016-07-01T00:00:00.000Z\", \"2016-10-01T00:00:00.000Z\", \"2017-01-01T00:00:00.000Z\"], \"type\": \"scatter\", \"name\": \"male\", \"y\": [295, 446, 625, 736, 945, 1038, 1189, 1216, 1353, 1404, 1534, 1572, 1667, 1626, 1643, 1509, 1355]}, {\"x\": [\"2013-01-01T00:00:00.000Z\", \"2013-04-01T00:00:00.000Z\", \"2013-07-01T00:00:00.000Z\", \"2013-10-01T00:00:00.000Z\", \"2014-01-01T00:00:00.000Z\", \"2014-04-01T00:00:00.000Z\", \"2014-07-01T00:00:00.000Z\", \"2014-10-01T00:00:00.000Z\", \"2015-01-01T00:00:00.000Z\", \"2015-04-01T00:00:00.000Z\", \"2015-07-01T00:00:00.000Z\", \"2015-10-01T00:00:00.000Z\", \"2016-01-01T00:00:00.000Z\", \"2016-04-01T00:00:00.000Z\", \"2016-07-01T00:00:00.000Z\", \"2016-10-01T00:00:00.000Z\", \"2017-01-01T00:00:00.000Z\"], \"type\": \"scatter\", \"name\": \"unknown\", \"y\": [68, 89, 119, 131, 172, 176, 172, 197, 221, 240, 326, 313, 355, 391, 419, 421, 389]}], {}, {\"linkText\": \"Export to plot.ly\", \"showLink\": true})});</script>"
      }
     ],
     "prompt_number": 19
    },
    {
     "cell_type": "code",
     "collapsed": false,
     "input": [
      "pie_chart_labels, pie_chart_values, pie_chart_count = query_total_piechart(INDEX, METRIC_NAME, METRIC_FIELD,  [filter_date_4y,\n",
      "                                                                                              filter_vote])\n",
      "draw_piechart(pie_chart_labels, pie_chart_values, 'People voting by Gender (last 4 years)')"
     ],
     "language": "python",
     "metadata": {},
     "outputs": [
      {
       "application/vnd.plotly.v1+json": {
        "data": [
         {
          "labels": [
           "male",
           "NotKnown",
           "female"
          ],
          "type": "pie",
          "values": [
           4401,
           1256,
           735
          ]
         }
        ],
        "layout": {
         "title": "People voting by Gender (last 4 years)"
        }
       },
       "html": [
        "<div id=\"fea7103f-778d-446b-bcce-20a5930861a4\" style=\"height: 525px; width: 100%;\" class=\"plotly-graph-div\"></div><script type=\"text/javascript\">require([\"plotly\"], function(Plotly) { window.PLOTLYENV=window.PLOTLYENV || {};window.PLOTLYENV.BASE_URL=\"https://plot.ly\";Plotly.newPlot(\"fea7103f-778d-446b-bcce-20a5930861a4\", [{\"values\": [4401, 1256, 735], \"type\": \"pie\", \"labels\": [\"male\", \"NotKnown\", \"female\"]}], {\"title\": \"People voting by Gender (last 4 years)\"}, {\"linkText\": \"Export to plot.ly\", \"showLink\": true})});</script>"
       ],
       "metadata": {},
       "output_type": "display_data",
       "text/vnd.plotly.v1+html": "<div id=\"fea7103f-778d-446b-bcce-20a5930861a4\" style=\"height: 525px; width: 100%;\" class=\"plotly-graph-div\"></div><script type=\"text/javascript\">require([\"plotly\"], function(Plotly) { window.PLOTLYENV=window.PLOTLYENV || {};window.PLOTLYENV.BASE_URL=\"https://plot.ly\";Plotly.newPlot(\"fea7103f-778d-446b-bcce-20a5930861a4\", [{\"values\": [4401, 1256, 735], \"type\": \"pie\", \"labels\": [\"male\", \"NotKnown\", \"female\"]}], {\"title\": \"People voting by Gender (last 4 years)\"}, {\"linkText\": \"Export to plot.ly\", \"showLink\": true})});</script>"
      }
     ],
     "prompt_number": 20
    },
    {
     "cell_type": "code",
     "collapsed": false,
     "input": [
      "pie_chart_labels, pie_chart_values, pie_chart_count = query_total_piechart(INDEX, METRIC_NAME, METRIC_FIELD,  [filter_date_1y,\n",
      "                                                                                              filter_vote])\n",
      "draw_piechart(pie_chart_labels, pie_chart_values, 'People voting by Gender (last year)')"
     ],
     "language": "python",
     "metadata": {},
     "outputs": [
      {
       "application/vnd.plotly.v1+json": {
        "data": [
         {
          "labels": [
           "male",
           "NotKnown",
           "female"
          ],
          "type": "pie",
          "values": [
           2491,
           774,
           424
          ]
         }
        ],
        "layout": {
         "title": "People voting by Gender (last year)"
        }
       },
       "html": [
        "<div id=\"9921efac-caa9-4b72-ba71-ba3320210235\" style=\"height: 525px; width: 100%;\" class=\"plotly-graph-div\"></div><script type=\"text/javascript\">require([\"plotly\"], function(Plotly) { window.PLOTLYENV=window.PLOTLYENV || {};window.PLOTLYENV.BASE_URL=\"https://plot.ly\";Plotly.newPlot(\"9921efac-caa9-4b72-ba71-ba3320210235\", [{\"values\": [2491, 774, 424], \"type\": \"pie\", \"labels\": [\"male\", \"NotKnown\", \"female\"]}], {\"title\": \"People voting by Gender (last year)\"}, {\"linkText\": \"Export to plot.ly\", \"showLink\": true})});</script>"
       ],
       "metadata": {},
       "output_type": "display_data",
       "text/vnd.plotly.v1+html": "<div id=\"9921efac-caa9-4b72-ba71-ba3320210235\" style=\"height: 525px; width: 100%;\" class=\"plotly-graph-div\"></div><script type=\"text/javascript\">require([\"plotly\"], function(Plotly) { window.PLOTLYENV=window.PLOTLYENV || {};window.PLOTLYENV.BASE_URL=\"https://plot.ly\";Plotly.newPlot(\"9921efac-caa9-4b72-ba71-ba3320210235\", [{\"values\": [2491, 774, 424], \"type\": \"pie\", \"labels\": [\"male\", \"NotKnown\", \"female\"]}], {\"title\": \"People voting by Gender (last year)\"}, {\"linkText\": \"Export to plot.ly\", \"showLink\": true})});</script>"
      }
     ],
     "prompt_number": 21
    },
    {
     "cell_type": "heading",
     "level": 2,
     "metadata": {},
     "source": [
      "Number of core reviews (-2 OR +2) by gender"
     ]
    },
    {
     "cell_type": "code",
     "collapsed": false,
     "input": [
      "METRIC_NAME = \"core_reviewers\"\n",
      "METRIC_FIELD = \"uuid\"\n",
      "\n",
      "filter_core_vote = Q('terms', value=[\"2\", \"-2\"])\n",
      "filter_vote = Q('term', eventtype='CHANGESET_PATCHSET_APPROVAL_Code-Review') # filter by event: vote a code review\n",
      "df = query_metric_over_time(INDEX, METRIC_NAME, METRIC_FIELD, [filter_core_vote, filter_date_4y, filter_vote])\n",
      "draw_evolutionary_chart(\"key_as_string\", \"doc_count\")"
     ],
     "language": "python",
     "metadata": {},
     "outputs": [
      {
       "application/vnd.plotly.v1+json": {
        "data": [
         {
          "name": "female",
          "type": "scatter",
          "x": [
           "2013-01-01T00:00:00.000Z",
           "2013-04-01T00:00:00.000Z",
           "2013-07-01T00:00:00.000Z",
           "2013-10-01T00:00:00.000Z",
           "2014-01-01T00:00:00.000Z",
           "2014-04-01T00:00:00.000Z",
           "2014-07-01T00:00:00.000Z",
           "2014-10-01T00:00:00.000Z",
           "2015-01-01T00:00:00.000Z",
           "2015-04-01T00:00:00.000Z",
           "2015-07-01T00:00:00.000Z",
           "2015-10-01T00:00:00.000Z",
           "2016-01-01T00:00:00.000Z",
           "2016-04-01T00:00:00.000Z",
           "2016-07-01T00:00:00.000Z",
           "2016-10-01T00:00:00.000Z",
           "2017-01-01T00:00:00.000Z"
          ],
          "y": [
           450,
           649,
           1238,
           1310,
           1881,
           1958,
           2707,
           2397,
           3640,
           4258,
           5621,
           5860,
           5406,
           5053,
           5486,
           4678,
           5606
          ]
         },
         {
          "name": "male",
          "type": "scatter",
          "x": [
           "2013-01-01T00:00:00.000Z",
           "2013-04-01T00:00:00.000Z",
           "2013-07-01T00:00:00.000Z",
           "2013-10-01T00:00:00.000Z",
           "2014-01-01T00:00:00.000Z",
           "2014-04-01T00:00:00.000Z",
           "2014-07-01T00:00:00.000Z",
           "2014-10-01T00:00:00.000Z",
           "2015-01-01T00:00:00.000Z",
           "2015-04-01T00:00:00.000Z",
           "2015-07-01T00:00:00.000Z",
           "2015-10-01T00:00:00.000Z",
           "2016-01-01T00:00:00.000Z",
           "2016-04-01T00:00:00.000Z",
           "2016-07-01T00:00:00.000Z",
           "2016-10-01T00:00:00.000Z",
           "2017-01-01T00:00:00.000Z"
          ],
          "y": [
           9990,
           11416,
           21682,
           21709,
           32824,
           29865,
           35296,
           29119,
           39406,
           40612,
           48532,
           45188,
           55850,
           49389,
           62901,
           47408,
           56887
          ]
         },
         {
          "name": "unknown",
          "type": "scatter",
          "x": [
           "2013-01-01T00:00:00.000Z",
           "2013-04-01T00:00:00.000Z",
           "2013-07-01T00:00:00.000Z",
           "2013-10-01T00:00:00.000Z",
           "2014-01-01T00:00:00.000Z",
           "2014-04-01T00:00:00.000Z",
           "2014-07-01T00:00:00.000Z",
           "2014-10-01T00:00:00.000Z",
           "2015-01-01T00:00:00.000Z",
           "2015-04-01T00:00:00.000Z",
           "2015-07-01T00:00:00.000Z",
           "2015-10-01T00:00:00.000Z",
           "2016-01-01T00:00:00.000Z",
           "2016-04-01T00:00:00.000Z",
           "2016-07-01T00:00:00.000Z",
           "2016-10-01T00:00:00.000Z",
           "2017-01-01T00:00:00.000Z"
          ],
          "y": [
           1990,
           2173,
           2385,
           2697,
           3821,
           2959,
           4121,
           2865,
           4615,
           4538,
           6472,
           7283,
           7858,
           6616,
           6938,
           6070,
           8455
          ]
         }
        ],
        "layout": {}
       },
       "html": [
        "<div id=\"c0010f51-27d7-4e16-a88c-23a4b3d2f7a7\" style=\"height: 525px; width: 100%;\" class=\"plotly-graph-div\"></div><script type=\"text/javascript\">require([\"plotly\"], function(Plotly) { window.PLOTLYENV=window.PLOTLYENV || {};window.PLOTLYENV.BASE_URL=\"https://plot.ly\";Plotly.newPlot(\"c0010f51-27d7-4e16-a88c-23a4b3d2f7a7\", [{\"x\": [\"2013-01-01T00:00:00.000Z\", \"2013-04-01T00:00:00.000Z\", \"2013-07-01T00:00:00.000Z\", \"2013-10-01T00:00:00.000Z\", \"2014-01-01T00:00:00.000Z\", \"2014-04-01T00:00:00.000Z\", \"2014-07-01T00:00:00.000Z\", \"2014-10-01T00:00:00.000Z\", \"2015-01-01T00:00:00.000Z\", \"2015-04-01T00:00:00.000Z\", \"2015-07-01T00:00:00.000Z\", \"2015-10-01T00:00:00.000Z\", \"2016-01-01T00:00:00.000Z\", \"2016-04-01T00:00:00.000Z\", \"2016-07-01T00:00:00.000Z\", \"2016-10-01T00:00:00.000Z\", \"2017-01-01T00:00:00.000Z\"], \"type\": \"scatter\", \"name\": \"female\", \"y\": [450, 649, 1238, 1310, 1881, 1958, 2707, 2397, 3640, 4258, 5621, 5860, 5406, 5053, 5486, 4678, 5606]}, {\"x\": [\"2013-01-01T00:00:00.000Z\", \"2013-04-01T00:00:00.000Z\", \"2013-07-01T00:00:00.000Z\", \"2013-10-01T00:00:00.000Z\", \"2014-01-01T00:00:00.000Z\", \"2014-04-01T00:00:00.000Z\", \"2014-07-01T00:00:00.000Z\", \"2014-10-01T00:00:00.000Z\", \"2015-01-01T00:00:00.000Z\", \"2015-04-01T00:00:00.000Z\", \"2015-07-01T00:00:00.000Z\", \"2015-10-01T00:00:00.000Z\", \"2016-01-01T00:00:00.000Z\", \"2016-04-01T00:00:00.000Z\", \"2016-07-01T00:00:00.000Z\", \"2016-10-01T00:00:00.000Z\", \"2017-01-01T00:00:00.000Z\"], \"type\": \"scatter\", \"name\": \"male\", \"y\": [9990, 11416, 21682, 21709, 32824, 29865, 35296, 29119, 39406, 40612, 48532, 45188, 55850, 49389, 62901, 47408, 56887]}, {\"x\": [\"2013-01-01T00:00:00.000Z\", \"2013-04-01T00:00:00.000Z\", \"2013-07-01T00:00:00.000Z\", \"2013-10-01T00:00:00.000Z\", \"2014-01-01T00:00:00.000Z\", \"2014-04-01T00:00:00.000Z\", \"2014-07-01T00:00:00.000Z\", \"2014-10-01T00:00:00.000Z\", \"2015-01-01T00:00:00.000Z\", \"2015-04-01T00:00:00.000Z\", \"2015-07-01T00:00:00.000Z\", \"2015-10-01T00:00:00.000Z\", \"2016-01-01T00:00:00.000Z\", \"2016-04-01T00:00:00.000Z\", \"2016-07-01T00:00:00.000Z\", \"2016-10-01T00:00:00.000Z\", \"2017-01-01T00:00:00.000Z\"], \"type\": \"scatter\", \"name\": \"unknown\", \"y\": [1990, 2173, 2385, 2697, 3821, 2959, 4121, 2865, 4615, 4538, 6472, 7283, 7858, 6616, 6938, 6070, 8455]}], {}, {\"linkText\": \"Export to plot.ly\", \"showLink\": true})});</script>"
       ],
       "metadata": {},
       "output_type": "display_data",
       "text/vnd.plotly.v1+html": "<div id=\"c0010f51-27d7-4e16-a88c-23a4b3d2f7a7\" style=\"height: 525px; width: 100%;\" class=\"plotly-graph-div\"></div><script type=\"text/javascript\">require([\"plotly\"], function(Plotly) { window.PLOTLYENV=window.PLOTLYENV || {};window.PLOTLYENV.BASE_URL=\"https://plot.ly\";Plotly.newPlot(\"c0010f51-27d7-4e16-a88c-23a4b3d2f7a7\", [{\"x\": [\"2013-01-01T00:00:00.000Z\", \"2013-04-01T00:00:00.000Z\", \"2013-07-01T00:00:00.000Z\", \"2013-10-01T00:00:00.000Z\", \"2014-01-01T00:00:00.000Z\", \"2014-04-01T00:00:00.000Z\", \"2014-07-01T00:00:00.000Z\", \"2014-10-01T00:00:00.000Z\", \"2015-01-01T00:00:00.000Z\", \"2015-04-01T00:00:00.000Z\", \"2015-07-01T00:00:00.000Z\", \"2015-10-01T00:00:00.000Z\", \"2016-01-01T00:00:00.000Z\", \"2016-04-01T00:00:00.000Z\", \"2016-07-01T00:00:00.000Z\", \"2016-10-01T00:00:00.000Z\", \"2017-01-01T00:00:00.000Z\"], \"type\": \"scatter\", \"name\": \"female\", \"y\": [450, 649, 1238, 1310, 1881, 1958, 2707, 2397, 3640, 4258, 5621, 5860, 5406, 5053, 5486, 4678, 5606]}, {\"x\": [\"2013-01-01T00:00:00.000Z\", \"2013-04-01T00:00:00.000Z\", \"2013-07-01T00:00:00.000Z\", \"2013-10-01T00:00:00.000Z\", \"2014-01-01T00:00:00.000Z\", \"2014-04-01T00:00:00.000Z\", \"2014-07-01T00:00:00.000Z\", \"2014-10-01T00:00:00.000Z\", \"2015-01-01T00:00:00.000Z\", \"2015-04-01T00:00:00.000Z\", \"2015-07-01T00:00:00.000Z\", \"2015-10-01T00:00:00.000Z\", \"2016-01-01T00:00:00.000Z\", \"2016-04-01T00:00:00.000Z\", \"2016-07-01T00:00:00.000Z\", \"2016-10-01T00:00:00.000Z\", \"2017-01-01T00:00:00.000Z\"], \"type\": \"scatter\", \"name\": \"male\", \"y\": [9990, 11416, 21682, 21709, 32824, 29865, 35296, 29119, 39406, 40612, 48532, 45188, 55850, 49389, 62901, 47408, 56887]}, {\"x\": [\"2013-01-01T00:00:00.000Z\", \"2013-04-01T00:00:00.000Z\", \"2013-07-01T00:00:00.000Z\", \"2013-10-01T00:00:00.000Z\", \"2014-01-01T00:00:00.000Z\", \"2014-04-01T00:00:00.000Z\", \"2014-07-01T00:00:00.000Z\", \"2014-10-01T00:00:00.000Z\", \"2015-01-01T00:00:00.000Z\", \"2015-04-01T00:00:00.000Z\", \"2015-07-01T00:00:00.000Z\", \"2015-10-01T00:00:00.000Z\", \"2016-01-01T00:00:00.000Z\", \"2016-04-01T00:00:00.000Z\", \"2016-07-01T00:00:00.000Z\", \"2016-10-01T00:00:00.000Z\", \"2017-01-01T00:00:00.000Z\"], \"type\": \"scatter\", \"name\": \"unknown\", \"y\": [1990, 2173, 2385, 2697, 3821, 2959, 4121, 2865, 4615, 4538, 6472, 7283, 7858, 6616, 6938, 6070, 8455]}], {}, {\"linkText\": \"Export to plot.ly\", \"showLink\": true})});</script>"
      }
     ],
     "prompt_number": 22
    },
    {
     "cell_type": "code",
     "collapsed": false,
     "input": [
      "pie_chart_labels, pie_chart_values, pie_chart_count = query_total_piechart(INDEX, METRIC_NAME, METRIC_FIELD,  [filter_date_4y,\n",
      "                                                                                              filter_vote, filter_core_vote])\n",
      "draw_piechart(pie_chart_labels, pie_chart_count, 'Core Reviews by Gender (last 4 years)')"
     ],
     "language": "python",
     "metadata": {},
     "outputs": [
      {
       "application/vnd.plotly.v1+json": {
        "data": [
         {
          "labels": [
           "male",
           "NotKnown",
           "female"
          ],
          "type": "pie",
          "values": [
           638074,
           81856,
           58198
          ]
         }
        ],
        "layout": {
         "title": "Core Reviews by Gender (last 4 years)"
        }
       },
       "html": [
        "<div id=\"fc9bb346-6bc1-4de5-bcb4-762df2818ed7\" style=\"height: 525px; width: 100%;\" class=\"plotly-graph-div\"></div><script type=\"text/javascript\">require([\"plotly\"], function(Plotly) { window.PLOTLYENV=window.PLOTLYENV || {};window.PLOTLYENV.BASE_URL=\"https://plot.ly\";Plotly.newPlot(\"fc9bb346-6bc1-4de5-bcb4-762df2818ed7\", [{\"values\": [638074, 81856, 58198], \"type\": \"pie\", \"labels\": [\"male\", \"NotKnown\", \"female\"]}], {\"title\": \"Core Reviews by Gender (last 4 years)\"}, {\"linkText\": \"Export to plot.ly\", \"showLink\": true})});</script>"
       ],
       "metadata": {},
       "output_type": "display_data",
       "text/vnd.plotly.v1+html": "<div id=\"fc9bb346-6bc1-4de5-bcb4-762df2818ed7\" style=\"height: 525px; width: 100%;\" class=\"plotly-graph-div\"></div><script type=\"text/javascript\">require([\"plotly\"], function(Plotly) { window.PLOTLYENV=window.PLOTLYENV || {};window.PLOTLYENV.BASE_URL=\"https://plot.ly\";Plotly.newPlot(\"fc9bb346-6bc1-4de5-bcb4-762df2818ed7\", [{\"values\": [638074, 81856, 58198], \"type\": \"pie\", \"labels\": [\"male\", \"NotKnown\", \"female\"]}], {\"title\": \"Core Reviews by Gender (last 4 years)\"}, {\"linkText\": \"Export to plot.ly\", \"showLink\": true})});</script>"
      }
     ],
     "prompt_number": 23
    },
    {
     "cell_type": "code",
     "collapsed": false,
     "input": [
      "pie_chart_labels, pie_chart_values, pie_chart_count = query_total_piechart(INDEX, METRIC_NAME, METRIC_FIELD,  [filter_date_1y,\n",
      "                                                                                              filter_vote, filter_core_vote])\n",
      "draw_piechart(pie_chart_labels, pie_chart_count, 'Core Reviews by Gender (last year)')"
     ],
     "language": "python",
     "metadata": {},
     "outputs": [
      {
       "application/vnd.plotly.v1+json": {
        "data": [
         {
          "labels": [
           "male",
           "NotKnown",
           "female"
          ],
          "type": "pie",
          "values": [
           215857,
           28044,
           20743
          ]
         }
        ],
        "layout": {
         "title": "Core Reviews by Gender (last year)"
        }
       },
       "html": [
        "<div id=\"d8549305-81eb-4794-9237-90fb76c3d9f0\" style=\"height: 525px; width: 100%;\" class=\"plotly-graph-div\"></div><script type=\"text/javascript\">require([\"plotly\"], function(Plotly) { window.PLOTLYENV=window.PLOTLYENV || {};window.PLOTLYENV.BASE_URL=\"https://plot.ly\";Plotly.newPlot(\"d8549305-81eb-4794-9237-90fb76c3d9f0\", [{\"values\": [215857, 28044, 20743], \"type\": \"pie\", \"labels\": [\"male\", \"NotKnown\", \"female\"]}], {\"title\": \"Core Reviews by Gender (last year)\"}, {\"linkText\": \"Export to plot.ly\", \"showLink\": true})});</script>"
       ],
       "metadata": {},
       "output_type": "display_data",
       "text/vnd.plotly.v1+html": "<div id=\"d8549305-81eb-4794-9237-90fb76c3d9f0\" style=\"height: 525px; width: 100%;\" class=\"plotly-graph-div\"></div><script type=\"text/javascript\">require([\"plotly\"], function(Plotly) { window.PLOTLYENV=window.PLOTLYENV || {};window.PLOTLYENV.BASE_URL=\"https://plot.ly\";Plotly.newPlot(\"d8549305-81eb-4794-9237-90fb76c3d9f0\", [{\"values\": [215857, 28044, 20743], \"type\": \"pie\", \"labels\": [\"male\", \"NotKnown\", \"female\"]}], {\"title\": \"Core Reviews by Gender (last year)\"}, {\"linkText\": \"Export to plot.ly\", \"showLink\": true})});</script>"
      }
     ],
     "prompt_number": 24
    },
    {
     "cell_type": "heading",
     "level": 2,
     "metadata": {},
     "source": [
      "Number of people acting as core reviews (-2 OR +2) by gender"
     ]
    },
    {
     "cell_type": "code",
     "collapsed": false,
     "input": [
      "draw_evolutionary_chart(\"key_as_string\", METRIC_NAME)"
     ],
     "language": "python",
     "metadata": {},
     "outputs": [
      {
       "application/vnd.plotly.v1+json": {
        "data": [
         {
          "name": "female",
          "type": "scatter",
          "x": [
           "2013-01-01T00:00:00.000Z",
           "2013-04-01T00:00:00.000Z",
           "2013-07-01T00:00:00.000Z",
           "2013-10-01T00:00:00.000Z",
           "2014-01-01T00:00:00.000Z",
           "2014-04-01T00:00:00.000Z",
           "2014-07-01T00:00:00.000Z",
           "2014-10-01T00:00:00.000Z",
           "2015-01-01T00:00:00.000Z",
           "2015-04-01T00:00:00.000Z",
           "2015-07-01T00:00:00.000Z",
           "2015-10-01T00:00:00.000Z",
           "2016-01-01T00:00:00.000Z",
           "2016-04-01T00:00:00.000Z",
           "2016-07-01T00:00:00.000Z",
           "2016-10-01T00:00:00.000Z",
           "2017-01-01T00:00:00.000Z"
          ],
          "y": [
           9,
           14,
           18,
           20,
           28,
           33,
           40,
           41,
           60,
           63,
           83,
           97,
           102,
           104,
           101,
           92,
           89
          ]
         },
         {
          "name": "male",
          "type": "scatter",
          "x": [
           "2013-01-01T00:00:00.000Z",
           "2013-04-01T00:00:00.000Z",
           "2013-07-01T00:00:00.000Z",
           "2013-10-01T00:00:00.000Z",
           "2014-01-01T00:00:00.000Z",
           "2014-04-01T00:00:00.000Z",
           "2014-07-01T00:00:00.000Z",
           "2014-10-01T00:00:00.000Z",
           "2015-01-01T00:00:00.000Z",
           "2015-04-01T00:00:00.000Z",
           "2015-07-01T00:00:00.000Z",
           "2015-10-01T00:00:00.000Z",
           "2016-01-01T00:00:00.000Z",
           "2016-04-01T00:00:00.000Z",
           "2016-07-01T00:00:00.000Z",
           "2016-10-01T00:00:00.000Z",
           "2017-01-01T00:00:00.000Z"
          ],
          "y": [
           102,
           132,
           190,
           219,
           281,
           296,
           344,
           360,
           419,
           492,
           543,
           582,
           601,
           651,
           686,
           676,
           623
          ]
         },
         {
          "name": "unknown",
          "type": "scatter",
          "x": [
           "2013-01-01T00:00:00.000Z",
           "2013-04-01T00:00:00.000Z",
           "2013-07-01T00:00:00.000Z",
           "2013-10-01T00:00:00.000Z",
           "2014-01-01T00:00:00.000Z",
           "2014-04-01T00:00:00.000Z",
           "2014-07-01T00:00:00.000Z",
           "2014-10-01T00:00:00.000Z",
           "2015-01-01T00:00:00.000Z",
           "2015-04-01T00:00:00.000Z",
           "2015-07-01T00:00:00.000Z",
           "2015-10-01T00:00:00.000Z",
           "2016-01-01T00:00:00.000Z",
           "2016-04-01T00:00:00.000Z",
           "2016-07-01T00:00:00.000Z",
           "2016-10-01T00:00:00.000Z",
           "2017-01-01T00:00:00.000Z"
          ],
          "y": [
           22,
           25,
           28,
           28,
           34,
           38,
           39,
           41,
           47,
           56,
           79,
           95,
           102,
           109,
           118,
           109,
           119
          ]
         }
        ],
        "layout": {}
       },
       "html": [
        "<div id=\"349a2b56-45e3-4522-855f-10e805351cc1\" style=\"height: 525px; width: 100%;\" class=\"plotly-graph-div\"></div><script type=\"text/javascript\">require([\"plotly\"], function(Plotly) { window.PLOTLYENV=window.PLOTLYENV || {};window.PLOTLYENV.BASE_URL=\"https://plot.ly\";Plotly.newPlot(\"349a2b56-45e3-4522-855f-10e805351cc1\", [{\"x\": [\"2013-01-01T00:00:00.000Z\", \"2013-04-01T00:00:00.000Z\", \"2013-07-01T00:00:00.000Z\", \"2013-10-01T00:00:00.000Z\", \"2014-01-01T00:00:00.000Z\", \"2014-04-01T00:00:00.000Z\", \"2014-07-01T00:00:00.000Z\", \"2014-10-01T00:00:00.000Z\", \"2015-01-01T00:00:00.000Z\", \"2015-04-01T00:00:00.000Z\", \"2015-07-01T00:00:00.000Z\", \"2015-10-01T00:00:00.000Z\", \"2016-01-01T00:00:00.000Z\", \"2016-04-01T00:00:00.000Z\", \"2016-07-01T00:00:00.000Z\", \"2016-10-01T00:00:00.000Z\", \"2017-01-01T00:00:00.000Z\"], \"type\": \"scatter\", \"name\": \"female\", \"y\": [9, 14, 18, 20, 28, 33, 40, 41, 60, 63, 83, 97, 102, 104, 101, 92, 89]}, {\"x\": [\"2013-01-01T00:00:00.000Z\", \"2013-04-01T00:00:00.000Z\", \"2013-07-01T00:00:00.000Z\", \"2013-10-01T00:00:00.000Z\", \"2014-01-01T00:00:00.000Z\", \"2014-04-01T00:00:00.000Z\", \"2014-07-01T00:00:00.000Z\", \"2014-10-01T00:00:00.000Z\", \"2015-01-01T00:00:00.000Z\", \"2015-04-01T00:00:00.000Z\", \"2015-07-01T00:00:00.000Z\", \"2015-10-01T00:00:00.000Z\", \"2016-01-01T00:00:00.000Z\", \"2016-04-01T00:00:00.000Z\", \"2016-07-01T00:00:00.000Z\", \"2016-10-01T00:00:00.000Z\", \"2017-01-01T00:00:00.000Z\"], \"type\": \"scatter\", \"name\": \"male\", \"y\": [102, 132, 190, 219, 281, 296, 344, 360, 419, 492, 543, 582, 601, 651, 686, 676, 623]}, {\"x\": [\"2013-01-01T00:00:00.000Z\", \"2013-04-01T00:00:00.000Z\", \"2013-07-01T00:00:00.000Z\", \"2013-10-01T00:00:00.000Z\", \"2014-01-01T00:00:00.000Z\", \"2014-04-01T00:00:00.000Z\", \"2014-07-01T00:00:00.000Z\", \"2014-10-01T00:00:00.000Z\", \"2015-01-01T00:00:00.000Z\", \"2015-04-01T00:00:00.000Z\", \"2015-07-01T00:00:00.000Z\", \"2015-10-01T00:00:00.000Z\", \"2016-01-01T00:00:00.000Z\", \"2016-04-01T00:00:00.000Z\", \"2016-07-01T00:00:00.000Z\", \"2016-10-01T00:00:00.000Z\", \"2017-01-01T00:00:00.000Z\"], \"type\": \"scatter\", \"name\": \"unknown\", \"y\": [22, 25, 28, 28, 34, 38, 39, 41, 47, 56, 79, 95, 102, 109, 118, 109, 119]}], {}, {\"linkText\": \"Export to plot.ly\", \"showLink\": true})});</script>"
       ],
       "metadata": {},
       "output_type": "display_data",
       "text/vnd.plotly.v1+html": "<div id=\"349a2b56-45e3-4522-855f-10e805351cc1\" style=\"height: 525px; width: 100%;\" class=\"plotly-graph-div\"></div><script type=\"text/javascript\">require([\"plotly\"], function(Plotly) { window.PLOTLYENV=window.PLOTLYENV || {};window.PLOTLYENV.BASE_URL=\"https://plot.ly\";Plotly.newPlot(\"349a2b56-45e3-4522-855f-10e805351cc1\", [{\"x\": [\"2013-01-01T00:00:00.000Z\", \"2013-04-01T00:00:00.000Z\", \"2013-07-01T00:00:00.000Z\", \"2013-10-01T00:00:00.000Z\", \"2014-01-01T00:00:00.000Z\", \"2014-04-01T00:00:00.000Z\", \"2014-07-01T00:00:00.000Z\", \"2014-10-01T00:00:00.000Z\", \"2015-01-01T00:00:00.000Z\", \"2015-04-01T00:00:00.000Z\", \"2015-07-01T00:00:00.000Z\", \"2015-10-01T00:00:00.000Z\", \"2016-01-01T00:00:00.000Z\", \"2016-04-01T00:00:00.000Z\", \"2016-07-01T00:00:00.000Z\", \"2016-10-01T00:00:00.000Z\", \"2017-01-01T00:00:00.000Z\"], \"type\": \"scatter\", \"name\": \"female\", \"y\": [9, 14, 18, 20, 28, 33, 40, 41, 60, 63, 83, 97, 102, 104, 101, 92, 89]}, {\"x\": [\"2013-01-01T00:00:00.000Z\", \"2013-04-01T00:00:00.000Z\", \"2013-07-01T00:00:00.000Z\", \"2013-10-01T00:00:00.000Z\", \"2014-01-01T00:00:00.000Z\", \"2014-04-01T00:00:00.000Z\", \"2014-07-01T00:00:00.000Z\", \"2014-10-01T00:00:00.000Z\", \"2015-01-01T00:00:00.000Z\", \"2015-04-01T00:00:00.000Z\", \"2015-07-01T00:00:00.000Z\", \"2015-10-01T00:00:00.000Z\", \"2016-01-01T00:00:00.000Z\", \"2016-04-01T00:00:00.000Z\", \"2016-07-01T00:00:00.000Z\", \"2016-10-01T00:00:00.000Z\", \"2017-01-01T00:00:00.000Z\"], \"type\": \"scatter\", \"name\": \"male\", \"y\": [102, 132, 190, 219, 281, 296, 344, 360, 419, 492, 543, 582, 601, 651, 686, 676, 623]}, {\"x\": [\"2013-01-01T00:00:00.000Z\", \"2013-04-01T00:00:00.000Z\", \"2013-07-01T00:00:00.000Z\", \"2013-10-01T00:00:00.000Z\", \"2014-01-01T00:00:00.000Z\", \"2014-04-01T00:00:00.000Z\", \"2014-07-01T00:00:00.000Z\", \"2014-10-01T00:00:00.000Z\", \"2015-01-01T00:00:00.000Z\", \"2015-04-01T00:00:00.000Z\", \"2015-07-01T00:00:00.000Z\", \"2015-10-01T00:00:00.000Z\", \"2016-01-01T00:00:00.000Z\", \"2016-04-01T00:00:00.000Z\", \"2016-07-01T00:00:00.000Z\", \"2016-10-01T00:00:00.000Z\", \"2017-01-01T00:00:00.000Z\"], \"type\": \"scatter\", \"name\": \"unknown\", \"y\": [22, 25, 28, 28, 34, 38, 39, 41, 47, 56, 79, 95, 102, 109, 118, 109, 119]}], {}, {\"linkText\": \"Export to plot.ly\", \"showLink\": true})});</script>"
      }
     ],
     "prompt_number": 25
    },
    {
     "cell_type": "code",
     "collapsed": false,
     "input": [
      "pie_chart_labels, pie_chart_values, pie_chart_count = query_total_piechart(INDEX, METRIC_NAME, METRIC_FIELD,  [filter_date_4y,\n",
      "                                                                                              filter_vote, filter_core_vote])\n",
      "draw_piechart(pie_chart_labels, pie_chart_values, 'Core Reviews by Gender (last 4 years)')"
     ],
     "language": "python",
     "metadata": {},
     "outputs": [
      {
       "application/vnd.plotly.v1+json": {
        "data": [
         {
          "labels": [
           "male",
           "NotKnown",
           "female"
          ],
          "type": "pie",
          "values": [
           1313,
           258,
           212
          ]
         }
        ],
        "layout": {
         "title": "Core Reviews by Gender (last 4 years)"
        }
       },
       "html": [
        "<div id=\"8725866c-1b44-4b83-b08c-195ae202d0c4\" style=\"height: 525px; width: 100%;\" class=\"plotly-graph-div\"></div><script type=\"text/javascript\">require([\"plotly\"], function(Plotly) { window.PLOTLYENV=window.PLOTLYENV || {};window.PLOTLYENV.BASE_URL=\"https://plot.ly\";Plotly.newPlot(\"8725866c-1b44-4b83-b08c-195ae202d0c4\", [{\"values\": [1313, 258, 212], \"type\": \"pie\", \"labels\": [\"male\", \"NotKnown\", \"female\"]}], {\"title\": \"Core Reviews by Gender (last 4 years)\"}, {\"linkText\": \"Export to plot.ly\", \"showLink\": true})});</script>"
       ],
       "metadata": {},
       "output_type": "display_data",
       "text/vnd.plotly.v1+html": "<div id=\"8725866c-1b44-4b83-b08c-195ae202d0c4\" style=\"height: 525px; width: 100%;\" class=\"plotly-graph-div\"></div><script type=\"text/javascript\">require([\"plotly\"], function(Plotly) { window.PLOTLYENV=window.PLOTLYENV || {};window.PLOTLYENV.BASE_URL=\"https://plot.ly\";Plotly.newPlot(\"8725866c-1b44-4b83-b08c-195ae202d0c4\", [{\"values\": [1313, 258, 212], \"type\": \"pie\", \"labels\": [\"male\", \"NotKnown\", \"female\"]}], {\"title\": \"Core Reviews by Gender (last 4 years)\"}, {\"linkText\": \"Export to plot.ly\", \"showLink\": true})});</script>"
      }
     ],
     "prompt_number": 26
    },
    {
     "cell_type": "code",
     "collapsed": false,
     "input": [
      "pie_chart_labels, pie_chart_values, pie_chart_count = query_total_piechart(INDEX, METRIC_NAME, METRIC_FIELD,  [filter_date_1y,\n",
      "                                                                                              filter_vote, filter_core_vote])\n",
      "draw_piechart(pie_chart_labels, pie_chart_values, 'Core Reviews by Gender (last year)')"
     ],
     "language": "python",
     "metadata": {},
     "outputs": [
      {
       "application/vnd.plotly.v1+json": {
        "data": [
         {
          "labels": [
           "male",
           "NotKnown",
           "female"
          ],
          "type": "pie",
          "values": [
           937,
           189,
           141
          ]
         }
        ],
        "layout": {
         "title": "Core Reviews by Gender (last year)"
        }
       },
       "html": [
        "<div id=\"21dd3c1d-8dd9-4fc3-a4ac-2306acbabfc0\" style=\"height: 525px; width: 100%;\" class=\"plotly-graph-div\"></div><script type=\"text/javascript\">require([\"plotly\"], function(Plotly) { window.PLOTLYENV=window.PLOTLYENV || {};window.PLOTLYENV.BASE_URL=\"https://plot.ly\";Plotly.newPlot(\"21dd3c1d-8dd9-4fc3-a4ac-2306acbabfc0\", [{\"values\": [937, 189, 141], \"type\": \"pie\", \"labels\": [\"male\", \"NotKnown\", \"female\"]}], {\"title\": \"Core Reviews by Gender (last year)\"}, {\"linkText\": \"Export to plot.ly\", \"showLink\": true})});</script>"
       ],
       "metadata": {},
       "output_type": "display_data",
       "text/vnd.plotly.v1+html": "<div id=\"21dd3c1d-8dd9-4fc3-a4ac-2306acbabfc0\" style=\"height: 525px; width: 100%;\" class=\"plotly-graph-div\"></div><script type=\"text/javascript\">require([\"plotly\"], function(Plotly) { window.PLOTLYENV=window.PLOTLYENV || {};window.PLOTLYENV.BASE_URL=\"https://plot.ly\";Plotly.newPlot(\"21dd3c1d-8dd9-4fc3-a4ac-2306acbabfc0\", [{\"values\": [937, 189, 141], \"type\": \"pie\", \"labels\": [\"male\", \"NotKnown\", \"female\"]}], {\"title\": \"Core Reviews by Gender (last year)\"}, {\"linkText\": \"Export to plot.ly\", \"showLink\": true})});</script>"
      }
     ],
     "prompt_number": 27
    },
    {
     "cell_type": "heading",
     "level": 1,
     "metadata": {},
     "source": [
      "GIT"
     ]
    },
    {
     "cell_type": "code",
     "collapsed": false,
     "input": [
      "INDEX = \"git_eventized\"\n",
      "filter_merges_addedlines = Q('range', addedlines={'gt': 0})\n",
      "filter_merges_removedlines = Q('range', removedlines={'gt': 0})\n",
      "filter_bots = Q('bool', must_not=[Q('match', gender_analyzed_name='Jenkins')])"
     ],
     "language": "python",
     "metadata": {},
     "outputs": [],
     "prompt_number": 28
    },
    {
     "cell_type": "code",
     "collapsed": true,
     "input": [
      "git_filter = Q('bool',\n",
      "    must_not=[Q('match', gender_analyzed_name='Jenkins')],\n",
      "    should=[filter_merges_addedlines, filter_merges_removedlines]\n",
      ")"
     ],
     "language": "python",
     "metadata": {},
     "outputs": [],
     "prompt_number": 29
    },
    {
     "cell_type": "markdown",
     "metadata": {},
     "source": [
      "* Evolution and trends over time [per quarter] of commits by gender\n",
      "  * Commits by gender (columns: hash, gender)"
     ]
    },
    {
     "cell_type": "code",
     "collapsed": false,
     "input": [
      "METRIC_NAME = \"commits\"\n",
      "METRIC_FIELD = \"id.keyword\"\n",
      "#df = query_metric_over_time(INDEX, METRIC_NAME, METRIC_FIELD, [filter_date_4y, filter_merges_addedlines,\n",
      "#                                                               filter_merges_removedlines, filter_bots])\n",
      "df = query_metric_over_time(INDEX, METRIC_NAME, METRIC_FIELD, [filter_date_4y, git_filter])"
     ],
     "language": "python",
     "metadata": {},
     "outputs": [],
     "prompt_number": 30
    },
    {
     "cell_type": "code",
     "collapsed": false,
     "input": [
      "draw_evolutionary_chart(\"key_as_string\", METRIC_NAME)"
     ],
     "language": "python",
     "metadata": {},
     "outputs": [
      {
       "application/vnd.plotly.v1+json": {
        "data": [
         {
          "name": "female",
          "type": "scatter",
          "x": [
           "2013-01-01T00:00:00.000Z",
           "2013-04-01T00:00:00.000Z",
           "2013-07-01T00:00:00.000Z",
           "2013-10-01T00:00:00.000Z",
           "2014-01-01T00:00:00.000Z",
           "2014-04-01T00:00:00.000Z",
           "2014-07-01T00:00:00.000Z",
           "2014-10-01T00:00:00.000Z",
           "2015-01-01T00:00:00.000Z",
           "2015-04-01T00:00:00.000Z",
           "2015-07-01T00:00:00.000Z",
           "2015-10-01T00:00:00.000Z",
           "2016-01-01T00:00:00.000Z",
           "2016-04-01T00:00:00.000Z",
           "2016-07-01T00:00:00.000Z",
           "2016-10-01T00:00:00.000Z",
           "2017-01-01T00:00:00.000Z"
          ],
          "y": [
           761,
           819,
           1496,
           966,
           1175,
           1347,
           2019,
           1418,
           1923,
           1978,
           2194,
           2301,
           2378,
           2128,
           2583,
           1684,
           1532
          ]
         },
         {
          "name": "male",
          "type": "scatter",
          "x": [
           "2013-01-01T00:00:00.000Z",
           "2013-04-01T00:00:00.000Z",
           "2013-07-01T00:00:00.000Z",
           "2013-10-01T00:00:00.000Z",
           "2014-01-01T00:00:00.000Z",
           "2014-04-01T00:00:00.000Z",
           "2014-07-01T00:00:00.000Z",
           "2014-10-01T00:00:00.000Z",
           "2015-01-01T00:00:00.000Z",
           "2015-04-01T00:00:00.000Z",
           "2015-07-01T00:00:00.000Z",
           "2015-10-01T00:00:00.000Z",
           "2016-01-01T00:00:00.000Z",
           "2016-04-01T00:00:00.000Z",
           "2016-07-01T00:00:00.000Z",
           "2016-10-01T00:00:00.000Z",
           "2017-01-01T00:00:00.000Z"
          ],
          "y": [
           12932,
           13793,
           16887,
           15576,
           19472,
           17960,
           19270,
           17710,
           21889,
           22095,
           23424,
           20817,
           24985,
           21684,
           24589,
           16902,
           13905
          ]
         },
         {
          "name": "unknown",
          "type": "scatter",
          "x": [
           "2013-01-01T00:00:00.000Z",
           "2013-04-01T00:00:00.000Z",
           "2013-07-01T00:00:00.000Z",
           "2013-10-01T00:00:00.000Z",
           "2014-01-01T00:00:00.000Z",
           "2014-04-01T00:00:00.000Z",
           "2014-07-01T00:00:00.000Z",
           "2014-10-01T00:00:00.000Z",
           "2015-01-01T00:00:00.000Z",
           "2015-04-01T00:00:00.000Z",
           "2015-07-01T00:00:00.000Z",
           "2015-10-01T00:00:00.000Z",
           "2016-01-01T00:00:00.000Z",
           "2016-04-01T00:00:00.000Z",
           "2016-07-01T00:00:00.000Z",
           "2016-10-01T00:00:00.000Z",
           "2017-01-01T00:00:00.000Z"
          ],
          "y": [
           2016,
           2491,
           2675,
           3006,
           4061,
           2992,
           3409,
           3316,
           4181,
           4182,
           5949,
           5979,
           5698,
           6130,
           6811,
           6515,
           6265
          ]
         }
        ],
        "layout": {}
       },
       "html": [
        "<div id=\"2b96822c-47b1-4c0b-af7d-e4496f800f15\" style=\"height: 525px; width: 100%;\" class=\"plotly-graph-div\"></div><script type=\"text/javascript\">require([\"plotly\"], function(Plotly) { window.PLOTLYENV=window.PLOTLYENV || {};window.PLOTLYENV.BASE_URL=\"https://plot.ly\";Plotly.newPlot(\"2b96822c-47b1-4c0b-af7d-e4496f800f15\", [{\"x\": [\"2013-01-01T00:00:00.000Z\", \"2013-04-01T00:00:00.000Z\", \"2013-07-01T00:00:00.000Z\", \"2013-10-01T00:00:00.000Z\", \"2014-01-01T00:00:00.000Z\", \"2014-04-01T00:00:00.000Z\", \"2014-07-01T00:00:00.000Z\", \"2014-10-01T00:00:00.000Z\", \"2015-01-01T00:00:00.000Z\", \"2015-04-01T00:00:00.000Z\", \"2015-07-01T00:00:00.000Z\", \"2015-10-01T00:00:00.000Z\", \"2016-01-01T00:00:00.000Z\", \"2016-04-01T00:00:00.000Z\", \"2016-07-01T00:00:00.000Z\", \"2016-10-01T00:00:00.000Z\", \"2017-01-01T00:00:00.000Z\"], \"type\": \"scatter\", \"name\": \"female\", \"y\": [761, 819, 1496, 966, 1175, 1347, 2019, 1418, 1923, 1978, 2194, 2301, 2378, 2128, 2583, 1684, 1532]}, {\"x\": [\"2013-01-01T00:00:00.000Z\", \"2013-04-01T00:00:00.000Z\", \"2013-07-01T00:00:00.000Z\", \"2013-10-01T00:00:00.000Z\", \"2014-01-01T00:00:00.000Z\", \"2014-04-01T00:00:00.000Z\", \"2014-07-01T00:00:00.000Z\", \"2014-10-01T00:00:00.000Z\", \"2015-01-01T00:00:00.000Z\", \"2015-04-01T00:00:00.000Z\", \"2015-07-01T00:00:00.000Z\", \"2015-10-01T00:00:00.000Z\", \"2016-01-01T00:00:00.000Z\", \"2016-04-01T00:00:00.000Z\", \"2016-07-01T00:00:00.000Z\", \"2016-10-01T00:00:00.000Z\", \"2017-01-01T00:00:00.000Z\"], \"type\": \"scatter\", \"name\": \"male\", \"y\": [12932, 13793, 16887, 15576, 19472, 17960, 19270, 17710, 21889, 22095, 23424, 20817, 24985, 21684, 24589, 16902, 13905]}, {\"x\": [\"2013-01-01T00:00:00.000Z\", \"2013-04-01T00:00:00.000Z\", \"2013-07-01T00:00:00.000Z\", \"2013-10-01T00:00:00.000Z\", \"2014-01-01T00:00:00.000Z\", \"2014-04-01T00:00:00.000Z\", \"2014-07-01T00:00:00.000Z\", \"2014-10-01T00:00:00.000Z\", \"2015-01-01T00:00:00.000Z\", \"2015-04-01T00:00:00.000Z\", \"2015-07-01T00:00:00.000Z\", \"2015-10-01T00:00:00.000Z\", \"2016-01-01T00:00:00.000Z\", \"2016-04-01T00:00:00.000Z\", \"2016-07-01T00:00:00.000Z\", \"2016-10-01T00:00:00.000Z\", \"2017-01-01T00:00:00.000Z\"], \"type\": \"scatter\", \"name\": \"unknown\", \"y\": [2016, 2491, 2675, 3006, 4061, 2992, 3409, 3316, 4181, 4182, 5949, 5979, 5698, 6130, 6811, 6515, 6265]}], {}, {\"linkText\": \"Export to plot.ly\", \"showLink\": true})});</script>"
       ],
       "metadata": {},
       "output_type": "display_data",
       "text/vnd.plotly.v1+html": "<div id=\"2b96822c-47b1-4c0b-af7d-e4496f800f15\" style=\"height: 525px; width: 100%;\" class=\"plotly-graph-div\"></div><script type=\"text/javascript\">require([\"plotly\"], function(Plotly) { window.PLOTLYENV=window.PLOTLYENV || {};window.PLOTLYENV.BASE_URL=\"https://plot.ly\";Plotly.newPlot(\"2b96822c-47b1-4c0b-af7d-e4496f800f15\", [{\"x\": [\"2013-01-01T00:00:00.000Z\", \"2013-04-01T00:00:00.000Z\", \"2013-07-01T00:00:00.000Z\", \"2013-10-01T00:00:00.000Z\", \"2014-01-01T00:00:00.000Z\", \"2014-04-01T00:00:00.000Z\", \"2014-07-01T00:00:00.000Z\", \"2014-10-01T00:00:00.000Z\", \"2015-01-01T00:00:00.000Z\", \"2015-04-01T00:00:00.000Z\", \"2015-07-01T00:00:00.000Z\", \"2015-10-01T00:00:00.000Z\", \"2016-01-01T00:00:00.000Z\", \"2016-04-01T00:00:00.000Z\", \"2016-07-01T00:00:00.000Z\", \"2016-10-01T00:00:00.000Z\", \"2017-01-01T00:00:00.000Z\"], \"type\": \"scatter\", \"name\": \"female\", \"y\": [761, 819, 1496, 966, 1175, 1347, 2019, 1418, 1923, 1978, 2194, 2301, 2378, 2128, 2583, 1684, 1532]}, {\"x\": [\"2013-01-01T00:00:00.000Z\", \"2013-04-01T00:00:00.000Z\", \"2013-07-01T00:00:00.000Z\", \"2013-10-01T00:00:00.000Z\", \"2014-01-01T00:00:00.000Z\", \"2014-04-01T00:00:00.000Z\", \"2014-07-01T00:00:00.000Z\", \"2014-10-01T00:00:00.000Z\", \"2015-01-01T00:00:00.000Z\", \"2015-04-01T00:00:00.000Z\", \"2015-07-01T00:00:00.000Z\", \"2015-10-01T00:00:00.000Z\", \"2016-01-01T00:00:00.000Z\", \"2016-04-01T00:00:00.000Z\", \"2016-07-01T00:00:00.000Z\", \"2016-10-01T00:00:00.000Z\", \"2017-01-01T00:00:00.000Z\"], \"type\": \"scatter\", \"name\": \"male\", \"y\": [12932, 13793, 16887, 15576, 19472, 17960, 19270, 17710, 21889, 22095, 23424, 20817, 24985, 21684, 24589, 16902, 13905]}, {\"x\": [\"2013-01-01T00:00:00.000Z\", \"2013-04-01T00:00:00.000Z\", \"2013-07-01T00:00:00.000Z\", \"2013-10-01T00:00:00.000Z\", \"2014-01-01T00:00:00.000Z\", \"2014-04-01T00:00:00.000Z\", \"2014-07-01T00:00:00.000Z\", \"2014-10-01T00:00:00.000Z\", \"2015-01-01T00:00:00.000Z\", \"2015-04-01T00:00:00.000Z\", \"2015-07-01T00:00:00.000Z\", \"2015-10-01T00:00:00.000Z\", \"2016-01-01T00:00:00.000Z\", \"2016-04-01T00:00:00.000Z\", \"2016-07-01T00:00:00.000Z\", \"2016-10-01T00:00:00.000Z\", \"2017-01-01T00:00:00.000Z\"], \"type\": \"scatter\", \"name\": \"unknown\", \"y\": [2016, 2491, 2675, 3006, 4061, 2992, 3409, 3316, 4181, 4182, 5949, 5979, 5698, 6130, 6811, 6515, 6265]}], {}, {\"linkText\": \"Export to plot.ly\", \"showLink\": true})});</script>"
      }
     ],
     "prompt_number": 31
    },
    {
     "cell_type": "code",
     "collapsed": false,
     "input": [
      "#pie_chart_labels, pie_chart_values = query_total_piechart(INDEX, METRIC_NAME, METRIC_FIELD, \n",
      "#                                                            [filter_date_4y, filter_merges_addedlines,\n",
      "#                                                             filter_merges_removedlines, filter_bots])\n",
      "\n",
      "pie_chart_labels, pie_chart_values = query_total_piechart(INDEX, METRIC_NAME, METRIC_FIELD, \n",
      "                                                            [filter_date_4y, git_filter])\n",
      "\n",
      "draw_piechart(pie_chart_labels, pie_chart_values, 'Commits by Gender (last 4 years)')"
     ],
     "language": "python",
     "metadata": {},
     "outputs": [
      {
       "ename": "ValueError",
       "evalue": "too many values to unpack (expected 2)",
       "output_type": "pyerr",
       "traceback": [
        "\u001b[0;31m---------------------------------------------------------------------------\u001b[0m\n\u001b[0;31mValueError\u001b[0m                                Traceback (most recent call last)",
        "\u001b[0;32m<ipython-input-32-a162c7dea365>\u001b[0m in \u001b[0;36m<module>\u001b[0;34m()\u001b[0m\n\u001b[1;32m      4\u001b[0m \u001b[0;34m\u001b[0m\u001b[0m\n\u001b[1;32m      5\u001b[0m pie_chart_labels, pie_chart_values = query_total_piechart(INDEX, METRIC_NAME, METRIC_FIELD, \n\u001b[0;32m----> 6\u001b[0;31m                                                             [filter_date_4y, git_filter])\n\u001b[0m\u001b[1;32m      7\u001b[0m \u001b[0;34m\u001b[0m\u001b[0m\n\u001b[1;32m      8\u001b[0m \u001b[0mdraw_piechart\u001b[0m\u001b[0;34m(\u001b[0m\u001b[0mpie_chart_labels\u001b[0m\u001b[0;34m,\u001b[0m \u001b[0mpie_chart_values\u001b[0m\u001b[0;34m,\u001b[0m \u001b[0;34m'Commits by Gender (last 4 years)'\u001b[0m\u001b[0;34m)\u001b[0m\u001b[0;34m\u001b[0m\u001b[0m\n",
        "\u001b[0;31mValueError\u001b[0m: too many values to unpack (expected 2)"
       ]
      }
     ],
     "prompt_number": 32
    },
    {
     "cell_type": "code",
     "collapsed": false,
     "input": [
      "#pie_chart_labels, pie_chart_values = query_total_piechart(INDEX, METRIC_NAME, METRIC_FIELD, \n",
      "#                                                            [filter_date_1y, filter_merges_addedlines,\n",
      "#                                                             filter_merges_removedlines, filter_bots])\n",
      "\n",
      "pie_chart_labels, pie_chart_values = query_total_piechart(INDEX, METRIC_NAME, METRIC_FIELD, \n",
      "                                                            [filter_date_1y, git_filter])\n",
      "\n",
      "draw_piechart(pie_chart_labels, pie_chart_values, 'Commits by Gender (last year)')"
     ],
     "language": "python",
     "metadata": {},
     "outputs": []
    },
    {
     "cell_type": "markdown",
     "metadata": {},
     "source": [
      "\n",
      "* Evolution and trends [per quarter] of developers over time by gender\n",
      "  * Developers by gender (columns: name, uuid, gender)"
     ]
    },
    {
     "cell_type": "code",
     "collapsed": false,
     "input": [
      "METRIC_NAME = \"authors\"\n",
      "METRIC_FIELD = \"uuid\"\n",
      "filter_merges_addedlines = Q('range', addedlines={'gt': 0})\n",
      "filter_merges_removedlines = Q('range', removedlines={'gt': 0})\n",
      "filter_bots = Q('bool', must_not=[Q('match', gender_analyzed_name='Jenkins')])\n",
      "#df = query_metric_over_time(INDEX, METRIC_NAME, METRIC_FIELD, [filter_date_4y, filter_merges_addedlines, filter_merges_removedlines, filter_bots])\n",
      "df = query_metric_over_time(INDEX, METRIC_NAME, METRIC_FIELD, [filter_date_4y, git_filter])\n",
      "\n",
      "draw_evolutionary_chart(\"key_as_string\", METRIC_NAME)"
     ],
     "language": "python",
     "metadata": {},
     "outputs": []
    },
    {
     "cell_type": "code",
     "collapsed": false,
     "input": [
      "pie_chart_labels, pie_chart_values = query_total_piechart(INDEX, METRIC_NAME, METRIC_FIELD, \n",
      "                                                            [filter_date_4y, git_filter])\n",
      "draw_piechart(pie_chart_labels, pie_chart_values, 'Authors by Gender (last 4 years)')"
     ],
     "language": "python",
     "metadata": {},
     "outputs": []
    },
    {
     "cell_type": "code",
     "collapsed": false,
     "input": [
      "pie_chart_labels, pie_chart_values = query_total_piechart(INDEX, METRIC_NAME, METRIC_FIELD, \n",
      "                                                            [filter_date_1y, git_filter])\n",
      "draw_piechart(pie_chart_labels, pie_chart_values, 'Authors by Gender (last year)')"
     ],
     "language": "python",
     "metadata": {},
     "outputs": []
    },
    {
     "cell_type": "markdown",
     "metadata": {},
     "source": [
      "* Evolution and trends of type of contributions (code or others) by gender over time\n",
      "  * Type of file touched by developers (columns: filetype, gender)"
     ]
    },
    {
     "cell_type": "code",
     "collapsed": false,
     "input": [
      "METRIC_NAME = \"code_files_touched\"\n",
      "METRIC_FIELD = \"id.keyword\"\n",
      "filter_merges_addedlines = Q('range', addedlines={'gt': 0})\n",
      "filter_merges_removedlines = Q('range', removedlines={'gt': 0})\n",
      "filter_bots = Q('bool', must_not=[Q('match', gender_analyzed_name='Jenkins')])\n",
      "filter_filetype = Q('term', filetype='code')\n",
      "df = query_metric_over_time(INDEX, METRIC_NAME, METRIC_FIELD, [filter_date_4y, git_filter,\n",
      "                                                               filter_filetype])\n",
      "\n",
      "draw_evolutionary_chart(\"key_as_string\", \"doc_count\")"
     ],
     "language": "python",
     "metadata": {},
     "outputs": []
    },
    {
     "cell_type": "code",
     "collapsed": false,
     "input": [
      "METRIC_NAME = \"others_files_touched\"\n",
      "METRIC_FIELD = \"id.keyword\"\n",
      "filter_merges_addedlines = Q('range', addedlines={'gt': 0})\n",
      "filter_merges_removedlines = Q('range', removedlines={'gt': 0})\n",
      "filter_bots = Q('bool', must_not=[Q('match', gender_analyzed_name='Jenkins')])\n",
      "filter_filetype = Q('term', filetype='other')\n",
      "df = query_metric_over_time(INDEX, METRIC_NAME, METRIC_FIELD, [filter_date_4y, git_filter,\n",
      "                                                               filter_filetype])\n",
      "draw_evolutionary_chart(\"key_as_string\", \"doc_count\")\n"
     ],
     "language": "python",
     "metadata": {},
     "outputs": []
    },
    {
     "cell_type": "heading",
     "level": 1,
     "metadata": {},
     "source": [
      "Top Projects by women activity and women population"
     ]
    },
    {
     "cell_type": "code",
     "collapsed": false,
     "input": [
      "METRIC_NAME = \"commits\"\n",
      "METRIC_FIELD = \"id.keyword\"\n",
      "\n",
      "filters = [filter_date_4y, git_filter]\n",
      "\n",
      "s = Search(using=es_conn, index=INDEX)  # Index selection\n",
      "for filtering in filters:\n",
      "    s = s.filter(filtering)\n",
      "s.aggs.bucket('project', 'terms', field='projects', size=1000)\\\n",
      "      .bucket('gender', 'terms', field='gender')\\\n",
      "      .metric(METRIC_NAME, 'cardinality', field=METRIC_FIELD, precision_threshold=10000)\\\n",
      "      .metric('authors', 'cardinality', field='uuid')\n",
      "result = s.execute()\n",
      "\n",
      "values = result.to_dict()"
     ],
     "language": "python",
     "metadata": {},
     "outputs": []
    },
    {
     "cell_type": "code",
     "collapsed": false,
     "input": [
      "value = result.to_dict()[\"aggregations\"]['project']['buckets']\n",
      "    \n",
      "df = pandas.DataFrame()\n",
      "df_summary = pandas.DataFrame(columns=[\"ratio_authors\", \"ratio_commits\", \"authors\", \"commits\", \"project\"])\n",
      "for i in value:\n",
      "    df2 = (pandas.DataFrame.from_dict(i[\"gender\"][\"buckets\"]))\n",
      "    df2[\"project\"] = i[\"key\"]\n",
      "    \n",
      "    df2[METRIC_NAME] = df2[METRIC_NAME].apply(lambda row:row[\"value\"])\n",
      "    df2['authors'] = df2['authors'].apply(lambda row:row['value'])\n",
      "    df = pandas.concat([df, df2])\n",
      "    \n",
      "    df_summary2 = pandas.DataFrame(columns=[\"ratio_authors\", \"ratio_commits\", \"authors\", \"commits\", \"project\"])\n",
      "\n",
      "    df_summary2[\"ratio_authors\"] = [float(df2[df2[\"key\"]==\"female\"][\"authors\"]) / float(df2[df2[\"key\"]==\"male\"][\"authors\"])*100]\n",
      "    df_summary2[\"ratio_commits\"] = [float(df2[df2[\"key\"]==\"female\"][\"commits\"]) / float(df2[df2[\"key\"]==\"male\"][\"commits\"])*100]\n",
      "    df_summary2[\"authors\"] = [int(df2[df2[\"key\"]==\"female\"][\"authors\"])]\n",
      "    df_summary2[\"commits\"] = [int(df2[df2[\"key\"]==\"female\"][\"commits\"])]\n",
      "    df_summary2[\"project\"] = [i[\"key\"]]\n",
      "    df_summary = pandas.concat([df_summary, df_summary2])\n",
      "\n",
      "    \n"
     ],
     "language": "python",
     "metadata": {},
     "outputs": []
    },
    {
     "cell_type": "code",
     "collapsed": false,
     "input": [
      "df_summary"
     ],
     "language": "python",
     "metadata": {},
     "outputs": []
    },
    {
     "cell_type": "code",
     "collapsed": false,
     "input": [
      "df_summary.sort_values(\"ratio_commits\", ascending=False)"
     ],
     "language": "python",
     "metadata": {},
     "outputs": []
    },
    {
     "cell_type": "code",
     "collapsed": false,
     "input": [
      "df_summary.sort_values(\"ratio_authors\", ascending=False)\n"
     ],
     "language": "python",
     "metadata": {},
     "outputs": []
    },
    {
     "cell_type": "code",
     "collapsed": false,
     "input": [
      "df_summary.sort_values(\"authors\", ascending=False)\n"
     ],
     "language": "python",
     "metadata": {},
     "outputs": []
    },
    {
     "cell_type": "code",
     "collapsed": false,
     "input": [
      "df_summary.sort_values(\"commits\", ascending=False)\n"
     ],
     "language": "python",
     "metadata": {},
     "outputs": []
    },
    {
     "cell_type": "code",
     "collapsed": false,
     "input": [
      "df_summary.sort_values(\"project\", ascending=True)\n"
     ],
     "language": "python",
     "metadata": {},
     "outputs": []
    },
    {
     "cell_type": "code",
     "collapsed": false,
     "input": [],
     "language": "python",
     "metadata": {},
     "outputs": []
    },
    {
     "cell_type": "code",
     "collapsed": false,
     "input": [],
     "language": "python",
     "metadata": {},
     "outputs": []
    }
   ],
   "metadata": {}
  }
 ]
}